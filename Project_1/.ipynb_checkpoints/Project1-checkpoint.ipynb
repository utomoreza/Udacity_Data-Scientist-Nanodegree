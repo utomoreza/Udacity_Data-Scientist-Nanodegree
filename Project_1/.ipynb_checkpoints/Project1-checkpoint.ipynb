{
 "cells": [
  {
   "cell_type": "markdown",
   "metadata": {},
   "source": [
    "# How Much Do You Know to Enter Data Science Field?"
   ]
  },
  {
   "cell_type": "markdown",
   "metadata": {},
   "source": [
    "## Introduction"
   ]
  },
  {
   "cell_type": "markdown",
   "metadata": {},
   "source": [
    "Since a couple of years ago, Data Science's hype has been increasing. Many are trying to enter the field, no matter men or women. However, as the field is one of technology fields in which usually men dominate the workforce, if you are a female, do you have a chance or similar opportunities in driving into data science field?\n",
    "\n",
    "In addition, as the field has various roles, e.g. Data Scientist, Data Analyst, Data Engineer, Machine Learning (ML) Engineer, etc., don't you think what skills required to become one of them? Or even if you were to master most skills needed for all of the four, will you earn more?\n",
    "\n",
    "Therefore, in this Project, we're interested to answer the following questions:\n",
    "- How promising data field for women compared to men?\n",
    "- What are skills needed to become a data scientist, data engineer, data analyst, or ML engineer?\n",
    "- By becoming a Full Stack Data Professional, do you earn more?"
   ]
  },
  {
   "cell_type": "markdown",
   "metadata": {
    "heading_collapsed": true
   },
   "source": [
    "## Table of Contents"
   ]
  },
  {
   "cell_type": "markdown",
   "metadata": {
    "hidden": true
   },
   "source": [
    "After the chapter above, you will find the rest chapters as listed below.\n",
    "- [Preparing Data](#Preparing-Data)\n",
    "- [Question 1](#Question-1)\n",
    "- [Question 2](#Question-2)\n",
    "- [Question 3](#Question-3)\n",
    "- [Conclusions](#Conclusions)"
   ]
  },
  {
   "cell_type": "markdown",
   "metadata": {},
   "source": [
    "## Preparing Data"
   ]
  },
  {
   "cell_type": "markdown",
   "metadata": {},
   "source": [
    "To answer the questions, we can use the latest survey results released by Kaggle, i.e. [\"2020 Kaggle Machine Learning & Data Science Survey\"](https://www.kaggle.com/c/kaggle-survey-2020/overview). The data is set out to conduct an industry-wide survey that presents a truly comprehensive view of the state of data science and machine learning. You could find the dataset [here](./datasets/kaggle_survey_2020_responses.csv) or download it from its website [here](https://www.kaggle.com/c/kaggle-survey-2020/data).\n",
    "\n",
    "Besides, to understand more the data, it is recommended to read the [supplementary_data folder](./datasets/supplementary_data) as it contains two PDF files explaining the questions asked to the respondents and the methodology used in the survey. From the [methodology file](./datasets/supplementary_data/kaggle_survey_2020_methodology.pdf), we can infer that all empty data do not mean incomplete or corrupt data, by contrast that means the responents indeed could not answer given questions.\n",
    "\n",
    "First, we need to explore the dataset."
   ]
  },
  {
   "cell_type": "code",
   "execution_count": 1,
   "metadata": {},
   "outputs": [],
   "source": [
    "# import all necessary libraries\n",
    "import re\n",
    "import string\n",
    "import pandas as pd\n",
    "import numpy as np\n",
    "from tqdm import tqdm\n",
    "\n",
    "# for plotting\n",
    "from matplotlib import pyplot as plt\n",
    "import seaborn as sns\n",
    "\n",
    "# for plotting radar chart\n",
    "from plotly import express as px \n",
    "import plotly.graph_objects as go"
   ]
  },
  {
   "cell_type": "markdown",
   "metadata": {},
   "source": [
    "If we peek the dataset using Spreadsheet, we can find its structure is something like picture below.\n",
    "\n",
    "![\"Pic1\"](./assets/pic1.png \"Pic1\")\n",
    "\n",
    "The first row is the question's number; whereas the second is the question's description. The real contents begin from the third row. From the first two rows, we can split the dataset into two DataFrames, i.e. the main table and the schema table.\n",
    "\n",
    "The main table consists of all rows excluding the second row, while the schema table consists of the first and the second row."
   ]
  },
  {
   "cell_type": "code",
   "execution_count": 2,
   "metadata": {},
   "outputs": [],
   "source": [
    "# load dataset as the main table\n",
    "df = pd.read_csv('datasets/kaggle_survey_2020_responses.csv', skiprows=[1]) # skip the second row\n",
    "Q0_ori = df.columns[0] # get the original name of first column\n",
    "df.rename(columns={df.columns[0]: \"Q0\" }, inplace = True) # rename the first column"
   ]
  },
  {
   "cell_type": "code",
   "execution_count": 60,
   "metadata": {},
   "outputs": [
    {
     "data": {
      "text/html": [
       "<div>\n",
       "<style scoped>\n",
       "    .dataframe tbody tr th:only-of-type {\n",
       "        vertical-align: middle;\n",
       "    }\n",
       "\n",
       "    .dataframe tbody tr th {\n",
       "        vertical-align: top;\n",
       "    }\n",
       "\n",
       "    .dataframe thead th {\n",
       "        text-align: right;\n",
       "    }\n",
       "</style>\n",
       "<table border=\"1\" class=\"dataframe\">\n",
       "  <thead>\n",
       "    <tr style=\"text-align: right;\">\n",
       "      <th></th>\n",
       "      <th>Q0</th>\n",
       "      <th>Q1</th>\n",
       "      <th>Q2</th>\n",
       "      <th>Q3</th>\n",
       "      <th>Q4</th>\n",
       "      <th>Q5</th>\n",
       "      <th>Q6</th>\n",
       "      <th>Q7_Part_1</th>\n",
       "      <th>Q7_Part_2</th>\n",
       "      <th>Q7_Part_3</th>\n",
       "      <th>...</th>\n",
       "      <th>Q35_B_Part_2</th>\n",
       "      <th>Q35_B_Part_3</th>\n",
       "      <th>Q35_B_Part_4</th>\n",
       "      <th>Q35_B_Part_5</th>\n",
       "      <th>Q35_B_Part_6</th>\n",
       "      <th>Q35_B_Part_7</th>\n",
       "      <th>Q35_B_Part_8</th>\n",
       "      <th>Q35_B_Part_9</th>\n",
       "      <th>Q35_B_Part_10</th>\n",
       "      <th>Q35_B_OTHER</th>\n",
       "    </tr>\n",
       "  </thead>\n",
       "  <tbody>\n",
       "    <tr>\n",
       "      <th>0</th>\n",
       "      <td>1838</td>\n",
       "      <td>35-39</td>\n",
       "      <td>Man</td>\n",
       "      <td>Colombia</td>\n",
       "      <td>Doctoral degree</td>\n",
       "      <td>Student</td>\n",
       "      <td>5-10 years</td>\n",
       "      <td>Python</td>\n",
       "      <td>R</td>\n",
       "      <td>SQL</td>\n",
       "      <td>...</td>\n",
       "      <td>NaN</td>\n",
       "      <td>NaN</td>\n",
       "      <td>NaN</td>\n",
       "      <td>TensorBoard</td>\n",
       "      <td>NaN</td>\n",
       "      <td>NaN</td>\n",
       "      <td>NaN</td>\n",
       "      <td>NaN</td>\n",
       "      <td>NaN</td>\n",
       "      <td>NaN</td>\n",
       "    </tr>\n",
       "    <tr>\n",
       "      <th>1</th>\n",
       "      <td>289287</td>\n",
       "      <td>30-34</td>\n",
       "      <td>Man</td>\n",
       "      <td>United States of America</td>\n",
       "      <td>Master’s degree</td>\n",
       "      <td>Data Engineer</td>\n",
       "      <td>5-10 years</td>\n",
       "      <td>Python</td>\n",
       "      <td>R</td>\n",
       "      <td>SQL</td>\n",
       "      <td>...</td>\n",
       "      <td>NaN</td>\n",
       "      <td>NaN</td>\n",
       "      <td>NaN</td>\n",
       "      <td>NaN</td>\n",
       "      <td>NaN</td>\n",
       "      <td>NaN</td>\n",
       "      <td>NaN</td>\n",
       "      <td>NaN</td>\n",
       "      <td>NaN</td>\n",
       "      <td>NaN</td>\n",
       "    </tr>\n",
       "    <tr>\n",
       "      <th>2</th>\n",
       "      <td>860</td>\n",
       "      <td>35-39</td>\n",
       "      <td>Man</td>\n",
       "      <td>Argentina</td>\n",
       "      <td>Bachelor’s degree</td>\n",
       "      <td>Software Engineer</td>\n",
       "      <td>10-20 years</td>\n",
       "      <td>NaN</td>\n",
       "      <td>NaN</td>\n",
       "      <td>NaN</td>\n",
       "      <td>...</td>\n",
       "      <td>NaN</td>\n",
       "      <td>NaN</td>\n",
       "      <td>NaN</td>\n",
       "      <td>NaN</td>\n",
       "      <td>NaN</td>\n",
       "      <td>NaN</td>\n",
       "      <td>NaN</td>\n",
       "      <td>NaN</td>\n",
       "      <td>None</td>\n",
       "      <td>NaN</td>\n",
       "    </tr>\n",
       "    <tr>\n",
       "      <th>3</th>\n",
       "      <td>507</td>\n",
       "      <td>30-34</td>\n",
       "      <td>Man</td>\n",
       "      <td>United States of America</td>\n",
       "      <td>Master’s degree</td>\n",
       "      <td>Data Scientist</td>\n",
       "      <td>5-10 years</td>\n",
       "      <td>Python</td>\n",
       "      <td>NaN</td>\n",
       "      <td>SQL</td>\n",
       "      <td>...</td>\n",
       "      <td>NaN</td>\n",
       "      <td>NaN</td>\n",
       "      <td>NaN</td>\n",
       "      <td>NaN</td>\n",
       "      <td>NaN</td>\n",
       "      <td>NaN</td>\n",
       "      <td>NaN</td>\n",
       "      <td>NaN</td>\n",
       "      <td>NaN</td>\n",
       "      <td>NaN</td>\n",
       "    </tr>\n",
       "    <tr>\n",
       "      <th>4</th>\n",
       "      <td>78</td>\n",
       "      <td>30-34</td>\n",
       "      <td>Man</td>\n",
       "      <td>Japan</td>\n",
       "      <td>Master’s degree</td>\n",
       "      <td>Software Engineer</td>\n",
       "      <td>3-5 years</td>\n",
       "      <td>Python</td>\n",
       "      <td>NaN</td>\n",
       "      <td>NaN</td>\n",
       "      <td>...</td>\n",
       "      <td>NaN</td>\n",
       "      <td>NaN</td>\n",
       "      <td>NaN</td>\n",
       "      <td>NaN</td>\n",
       "      <td>NaN</td>\n",
       "      <td>NaN</td>\n",
       "      <td>NaN</td>\n",
       "      <td>NaN</td>\n",
       "      <td>NaN</td>\n",
       "      <td>NaN</td>\n",
       "    </tr>\n",
       "  </tbody>\n",
       "</table>\n",
       "<p>5 rows × 355 columns</p>\n",
       "</div>"
      ],
      "text/plain": [
       "       Q0     Q1   Q2                        Q3                 Q4  \\\n",
       "0    1838  35-39  Man                  Colombia    Doctoral degree   \n",
       "1  289287  30-34  Man  United States of America    Master’s degree   \n",
       "2     860  35-39  Man                 Argentina  Bachelor’s degree   \n",
       "3     507  30-34  Man  United States of America    Master’s degree   \n",
       "4      78  30-34  Man                     Japan    Master’s degree   \n",
       "\n",
       "                  Q5           Q6 Q7_Part_1 Q7_Part_2 Q7_Part_3  ...  \\\n",
       "0            Student   5-10 years    Python         R       SQL  ...   \n",
       "1      Data Engineer   5-10 years    Python         R       SQL  ...   \n",
       "2  Software Engineer  10-20 years       NaN       NaN       NaN  ...   \n",
       "3     Data Scientist   5-10 years    Python       NaN       SQL  ...   \n",
       "4  Software Engineer    3-5 years    Python       NaN       NaN  ...   \n",
       "\n",
       "  Q35_B_Part_2 Q35_B_Part_3 Q35_B_Part_4   Q35_B_Part_5 Q35_B_Part_6  \\\n",
       "0          NaN          NaN          NaN   TensorBoard           NaN   \n",
       "1          NaN          NaN          NaN            NaN          NaN   \n",
       "2          NaN          NaN          NaN            NaN          NaN   \n",
       "3          NaN          NaN          NaN            NaN          NaN   \n",
       "4          NaN          NaN          NaN            NaN          NaN   \n",
       "\n",
       "  Q35_B_Part_7 Q35_B_Part_8 Q35_B_Part_9 Q35_B_Part_10 Q35_B_OTHER  \n",
       "0          NaN          NaN          NaN           NaN         NaN  \n",
       "1          NaN          NaN          NaN           NaN         NaN  \n",
       "2          NaN          NaN          NaN          None         NaN  \n",
       "3          NaN          NaN          NaN           NaN         NaN  \n",
       "4          NaN          NaN          NaN           NaN         NaN  \n",
       "\n",
       "[5 rows x 355 columns]"
      ]
     },
     "execution_count": 60,
     "metadata": {},
     "output_type": "execute_result"
    }
   ],
   "source": [
    "# let's see some rows\n",
    "df.head()"
   ]
  },
  {
   "cell_type": "code",
   "execution_count": 3,
   "metadata": {},
   "outputs": [],
   "source": [
    "# load dataset as the schema table\n",
    "schema = pd.read_csv('datasets/kaggle_survey_2020_responses.csv', nrows=1) # only load the first 2 cols\n",
    "\n",
    "# adjust the table\n",
    "schema = schema.transpose().reset_index().rename(columns={'index': 'question_num', 0: 'question'})\n",
    "schema.iloc[0,0] = 'Q0'\n",
    "schema.iloc[0,1] = Q0_ori + ' ' + schema.iloc[0,1]"
   ]
  },
  {
   "cell_type": "code",
   "execution_count": 8,
   "metadata": {},
   "outputs": [
    {
     "data": {
      "text/html": [
       "<div>\n",
       "<style scoped>\n",
       "    .dataframe tbody tr th:only-of-type {\n",
       "        vertical-align: middle;\n",
       "    }\n",
       "\n",
       "    .dataframe tbody tr th {\n",
       "        vertical-align: top;\n",
       "    }\n",
       "\n",
       "    .dataframe thead th {\n",
       "        text-align: right;\n",
       "    }\n",
       "</style>\n",
       "<table border=\"1\" class=\"dataframe\">\n",
       "  <thead>\n",
       "    <tr style=\"text-align: right;\">\n",
       "      <th></th>\n",
       "      <th>question_num</th>\n",
       "      <th>question</th>\n",
       "    </tr>\n",
       "  </thead>\n",
       "  <tbody>\n",
       "    <tr>\n",
       "      <th>0</th>\n",
       "      <td>Q0</td>\n",
       "      <td>Time from Start to Finish (seconds) Duration (...</td>\n",
       "    </tr>\n",
       "    <tr>\n",
       "      <th>1</th>\n",
       "      <td>Q1</td>\n",
       "      <td>What is your age (# years)?</td>\n",
       "    </tr>\n",
       "    <tr>\n",
       "      <th>2</th>\n",
       "      <td>Q2</td>\n",
       "      <td>What is your gender? - Selected Choice</td>\n",
       "    </tr>\n",
       "    <tr>\n",
       "      <th>3</th>\n",
       "      <td>Q3</td>\n",
       "      <td>In which country do you currently reside?</td>\n",
       "    </tr>\n",
       "    <tr>\n",
       "      <th>4</th>\n",
       "      <td>Q4</td>\n",
       "      <td>What is the highest level of formal education ...</td>\n",
       "    </tr>\n",
       "  </tbody>\n",
       "</table>\n",
       "</div>"
      ],
      "text/plain": [
       "  question_num                                           question\n",
       "0           Q0  Time from Start to Finish (seconds) Duration (...\n",
       "1           Q1                        What is your age (# years)?\n",
       "2           Q2             What is your gender? - Selected Choice\n",
       "3           Q3          In which country do you currently reside?\n",
       "4           Q4  What is the highest level of formal education ..."
      ]
     },
     "execution_count": 8,
     "metadata": {},
     "output_type": "execute_result"
    }
   ],
   "source": [
    "# see its head\n",
    "schema.head()"
   ]
  },
  {
   "cell_type": "markdown",
   "metadata": {},
   "source": [
    "We can use the schema table to understand any column in the main table. In order to make this easier, we should define some functions to show the description of a column and to search any column containing a given text."
   ]
  },
  {
   "cell_type": "code",
   "execution_count": 4,
   "metadata": {},
   "outputs": [],
   "source": [
    "def show_desc(question_num, schema=schema):\n",
    "    \"\"\"used to show the description of certain column of question\"\"\"\n",
    "    tmp = schema[schema.question_num.str.find(question_num).apply(lambda row: True if row == 0 else False)].question\n",
    "    return tmp.tolist()[0]"
   ]
  },
  {
   "cell_type": "code",
   "execution_count": 5,
   "metadata": {},
   "outputs": [],
   "source": [
    "def desc_contain(contain, return_first=True):\n",
    "    \"\"\"used to return any column containing given string\n",
    "    \n",
    "    args:\n",
    "    contain - str: given string to look for\n",
    "    return_first - bool (default True): whether the function only returns the first result or all results\n",
    "    \n",
    "    returns: string or list (depending on 'return_first' arg) containing given 'contain' arg\n",
    "    \"\"\"\n",
    "    \n",
    "    # search the string inside the schema table\n",
    "    tmp_q = schema[schema.question.str.contains(contain)].question\n",
    "    tmp_num = schema[schema.question.str.contains(contain)].question_num\n",
    "    \n",
    "    if return_first:\n",
    "        return tmp_q.tolist()[0], tmp_num.tolist()[0]\n",
    "    return tmp_q.tolist(), tmp_num.tolist()"
   ]
  },
  {
   "cell_type": "markdown",
   "metadata": {},
   "source": [
    "Now, let's print all quetion numbers and descriptions. However, if we take a look at any table above, there are many question numbers that are split into several parts, e.g. \"Q7_Part_1\", \"Q7_Part_2\", etc. We don't want to print those redundant columns. Instead, we just want to print the first part of those redundant columns."
   ]
  },
  {
   "cell_type": "code",
   "execution_count": 11,
   "metadata": {
    "scrolled": true
   },
   "outputs": [
    {
     "name": "stdout",
     "output_type": "stream",
     "text": [
      "Q0\tTime from Start to Finish (seconds) Duration (in seconds)\n",
      "\n",
      "Q1\tWhat is your age (# years)?\n",
      "\n",
      "Q2\tWhat is your gender? - Selected Choice\n",
      "\n",
      "Q3\tIn which country do you currently reside?\n",
      "\n",
      "Q4\tWhat is the highest level of formal education that you have attained or plan to attain within the next 2 years?\n",
      "\n",
      "Q5\tSelect the title most similar to your current role (or most recent title if retired): - Selected Choice\n",
      "\n",
      "Q6\tFor how many years have you been writing code and/or programming?\n",
      "\n",
      "Q7_Part_1\tWhat programming languages do you use on a regular basis? (Select all that apply) - Selected Choice - Python\n",
      "\n",
      "Q8\tWhat programming language would you recommend an aspiring data scientist to learn first? - Selected Choice\n",
      "\n",
      "Q9_Part_1\tWhich of the following integrated development environments (IDE's) do you use on a regular basis?  (Select all that apply) - Selected Choice - Jupyter (JupyterLab, Jupyter Notebooks, etc) \n",
      "\n",
      "Q10_Part_1\tWhich of the following hosted notebook products do you use on a regular basis?  (Select all that apply) - Selected Choice -  Kaggle Notebooks\n",
      "\n",
      "Q11\tWhat type of computing platform do you use most often for your data science projects? - Selected Choice\n",
      "\n",
      "Q12_Part_1\tWhich types of specialized hardware do you use on a regular basis?  (Select all that apply) - Selected Choice - GPUs\n",
      "\n",
      "Q13\tApproximately how many times have you used a TPU (tensor processing unit)?\n",
      "\n",
      "Q14_Part_1\tWhat data visualization libraries or tools do you use on a regular basis?  (Select all that apply) - Selected Choice -  Matplotlib \n",
      "\n",
      "Q15\tFor how many years have you used machine learning methods?\n",
      "\n",
      "Q16_Part_1\tWhich of the following machine learning frameworks do you use on a regular basis? (Select all that apply) - Selected Choice -   Scikit-learn \n",
      "\n",
      "Q17_Part_1\tWhich of the following ML algorithms do you use on a regular basis? (Select all that apply): - Selected Choice - Linear or Logistic Regression\n",
      "\n",
      "Q18_Part_1\tWhich categories of computer vision methods do you use on a regular basis?  (Select all that apply) - Selected Choice - General purpose image/video tools (PIL, cv2, skimage, etc)\n",
      "\n",
      "Q19_Part_1\tWhich of the following natural language processing (NLP) methods do you use on a regular basis?  (Select all that apply) - Selected Choice - Word embeddings/vectors (GLoVe, fastText, word2vec)\n",
      "\n",
      "Q20\tWhat is the size of the company where you are employed?\n",
      "\n",
      "Q21\tApproximately how many individuals are responsible for data science workloads at your place of business?\n",
      "\n",
      "Q22\tDoes your current employer incorporate machine learning methods into their business?\n",
      "\n",
      "Q23_Part_1\tSelect any activities that make up an important part of your role at work: (Select all that apply) - Selected Choice - Analyze and understand data to influence product or business decisions\n",
      "\n",
      "Q24\tWhat is your current yearly compensation (approximate $USD)?\n",
      "\n",
      "Q25\tApproximately how much money have you (or your team) spent on machine learning and/or cloud computing services at home (or at work) in the past 5 years (approximate $USD)?\n",
      "\n",
      "Q26_A_Part_1\tWhich of the following cloud computing platforms do you use on a regular basis? (Select all that apply) - Selected Choice -  Amazon Web Services (AWS) \n",
      "\n",
      "Q27_A_Part_1\tDo you use any of the following cloud computing products on a regular basis? (Select all that apply) - Selected Choice -  Amazon EC2 \n",
      "\n",
      "Q28_A_Part_1\tDo you use any of the following machine learning products on a regular basis? (Select all that apply) - Selected Choice -  Amazon SageMaker \n",
      "\n",
      "Q29_A_Part_1\tWhich of the following big data products (relational databases, data warehouses, data lakes, or similar) do you use on a regular basis? (Select all that apply) - Selected Choice - MySQL \n",
      "\n",
      "Q30\tWhich of the following big data products (relational database, data warehouse, data lake, or similar) do you use most often? - Selected Choice\n",
      "\n",
      "Q31_A_Part_1\tWhich of the following business intelligence tools do you use on a regular basis? (Select all that apply) - Selected Choice - Amazon QuickSight\n",
      "\n",
      "Q32\tWhich of the following business intelligence tools do you use most often? - Selected Choice\n",
      "\n",
      "Q33_A_Part_1\tDo you use any automated machine learning tools (or partial AutoML tools) on a regular basis?  (Select all that apply) - Selected Choice - Automated data augmentation (e.g. imgaug, albumentations)\n",
      "\n",
      "Q34_A_Part_1\tWhich of the following automated machine learning tools (or partial AutoML tools) do you use on a regular basis?  (Select all that apply) - Selected Choice -  Google Cloud AutoML \n",
      "\n",
      "Q35_A_Part_1\tDo you use any tools to help manage machine learning experiments? (Select all that apply) - Selected Choice -  Neptune.ai \n",
      "\n",
      "Q36_Part_1\tWhere do you publicly share or deploy your data analysis or machine learning applications? (Select all that apply) - Selected Choice -  Plotly Dash \n",
      "\n",
      "Q37_Part_1\tOn which platforms have you begun or completed data science courses? (Select all that apply) - Selected Choice - Coursera\n",
      "\n",
      "Q38\tWhat is the primary tool that you use at work or school to analyze data? (Include text response) - Selected Choice\n",
      "\n",
      "Q39_Part_1\tWho/what are your favorite media sources that report on data science topics? (Select all that apply) - Selected Choice - Twitter (data science influencers)\n",
      "\n"
     ]
    }
   ],
   "source": [
    "i = 0 # set increment number\n",
    "\n",
    "# loop through each row of the schema table\n",
    "for _, row in schema.iterrows():\n",
    "    # we're just interested in the question number with certain regex\n",
    "    num = re.findall(r\"\\d+(?=_)\", row['question_num'])\n",
    "    \n",
    "    # check if current question number match the increment number\n",
    "    if row['question_num'].replace('Q', '') == str(i):\n",
    "        print(row['question_num'], row['question'], sep='\\t')\n",
    "        print()\n",
    "        i += 1\n",
    "        \n",
    "    # if it doesn't match but num variable catches the regex pattern\n",
    "    elif num:\n",
    "        # check if the catched regex pattern matches the increment number\n",
    "        if num[0] == str(i):\n",
    "            print(row['question_num'], row['question'], sep='\\t')\n",
    "            print()\n",
    "            i += 1"
   ]
  },
  {
   "cell_type": "markdown",
   "metadata": {},
   "source": [
    "That's a lot of question. Even if we do not amputate the redundant questions, in fact, there are 355 columns. So, let's dive in into the three questions we have."
   ]
  },
  {
   "cell_type": "markdown",
   "metadata": {
    "heading_collapsed": true
   },
   "source": [
    "## Questions"
   ]
  },
  {
   "cell_type": "markdown",
   "metadata": {
    "hidden": true
   },
   "source": [
    "We have 3 questions to answer. For each question, we will handle deeper data wrangling in order to answer it.\n",
    "\n",
    "**DISCLAIMERS:**<br>\n",
    "From now on, when I refer to \"question\", it means I refer to the question I stated in [Introduction](#Introduction). For the questions from the Kaggle Survey, I will refer them as columns."
   ]
  },
  {
   "cell_type": "markdown",
   "metadata": {
    "heading_collapsed": true,
    "hidden": true
   },
   "source": [
    "### Question 1\n",
    "How promising data field for women compared to men?"
   ]
  },
  {
   "cell_type": "markdown",
   "metadata": {
    "hidden": true
   },
   "source": [
    "To answer this question, below are the columns of interest I think we need:\n",
    "- Q1 age\n",
    "- Q4 education\n",
    "- Q5 role\n",
    "- Q6 & Q15 experience\n",
    "- Q24 salary\n",
    "\n",
    "We will see the comparison of women and men on the above columns."
   ]
  },
  {
   "cell_type": "markdown",
   "metadata": {
    "hidden": true
   },
   "source": [
    "First, let's create a new dataframe."
   ]
  },
  {
   "cell_type": "code",
   "execution_count": 117,
   "metadata": {
    "hidden": true
   },
   "outputs": [],
   "source": [
    "# create new dataframe consisting only Woman and Man\n",
    "gender = df[(df.Q2 == 'Woman') | (df.Q2 == 'Man')]"
   ]
  },
  {
   "cell_type": "code",
   "execution_count": 118,
   "metadata": {
    "hidden": true
   },
   "outputs": [],
   "source": [
    "# count the number of women and men\n",
    "num_man = (gender.Q2 == 'Man').sum()\n",
    "num_woman = (gender.Q2 == 'Woman').sum()"
   ]
  },
  {
   "cell_type": "code",
   "execution_count": 14,
   "metadata": {
    "hidden": true
   },
   "outputs": [
    {
     "data": {
      "text/html": [
       "<div>\n",
       "<style scoped>\n",
       "    .dataframe tbody tr th:only-of-type {\n",
       "        vertical-align: middle;\n",
       "    }\n",
       "\n",
       "    .dataframe tbody tr th {\n",
       "        vertical-align: top;\n",
       "    }\n",
       "\n",
       "    .dataframe thead th {\n",
       "        text-align: right;\n",
       "    }\n",
       "</style>\n",
       "<table border=\"1\" class=\"dataframe\">\n",
       "  <thead>\n",
       "    <tr style=\"text-align: right;\">\n",
       "      <th></th>\n",
       "      <th>Q0</th>\n",
       "      <th>Q1</th>\n",
       "      <th>Q2</th>\n",
       "      <th>Q3</th>\n",
       "      <th>Q4</th>\n",
       "      <th>Q5</th>\n",
       "      <th>Q6</th>\n",
       "      <th>Q7_Part_1</th>\n",
       "      <th>Q7_Part_2</th>\n",
       "      <th>Q7_Part_3</th>\n",
       "      <th>...</th>\n",
       "      <th>Q35_B_Part_2</th>\n",
       "      <th>Q35_B_Part_3</th>\n",
       "      <th>Q35_B_Part_4</th>\n",
       "      <th>Q35_B_Part_5</th>\n",
       "      <th>Q35_B_Part_6</th>\n",
       "      <th>Q35_B_Part_7</th>\n",
       "      <th>Q35_B_Part_8</th>\n",
       "      <th>Q35_B_Part_9</th>\n",
       "      <th>Q35_B_Part_10</th>\n",
       "      <th>Q35_B_OTHER</th>\n",
       "    </tr>\n",
       "  </thead>\n",
       "  <tbody>\n",
       "    <tr>\n",
       "      <th>0</th>\n",
       "      <td>1838</td>\n",
       "      <td>35-39</td>\n",
       "      <td>Man</td>\n",
       "      <td>Colombia</td>\n",
       "      <td>Doctoral degree</td>\n",
       "      <td>Student</td>\n",
       "      <td>5-10 years</td>\n",
       "      <td>Python</td>\n",
       "      <td>R</td>\n",
       "      <td>SQL</td>\n",
       "      <td>...</td>\n",
       "      <td>NaN</td>\n",
       "      <td>NaN</td>\n",
       "      <td>NaN</td>\n",
       "      <td>TensorBoard</td>\n",
       "      <td>NaN</td>\n",
       "      <td>NaN</td>\n",
       "      <td>NaN</td>\n",
       "      <td>NaN</td>\n",
       "      <td>NaN</td>\n",
       "      <td>NaN</td>\n",
       "    </tr>\n",
       "    <tr>\n",
       "      <th>1</th>\n",
       "      <td>289287</td>\n",
       "      <td>30-34</td>\n",
       "      <td>Man</td>\n",
       "      <td>United States of America</td>\n",
       "      <td>Master’s degree</td>\n",
       "      <td>Data Engineer</td>\n",
       "      <td>5-10 years</td>\n",
       "      <td>Python</td>\n",
       "      <td>R</td>\n",
       "      <td>SQL</td>\n",
       "      <td>...</td>\n",
       "      <td>NaN</td>\n",
       "      <td>NaN</td>\n",
       "      <td>NaN</td>\n",
       "      <td>NaN</td>\n",
       "      <td>NaN</td>\n",
       "      <td>NaN</td>\n",
       "      <td>NaN</td>\n",
       "      <td>NaN</td>\n",
       "      <td>NaN</td>\n",
       "      <td>NaN</td>\n",
       "    </tr>\n",
       "    <tr>\n",
       "      <th>2</th>\n",
       "      <td>860</td>\n",
       "      <td>35-39</td>\n",
       "      <td>Man</td>\n",
       "      <td>Argentina</td>\n",
       "      <td>Bachelor’s degree</td>\n",
       "      <td>Software Engineer</td>\n",
       "      <td>10-20 years</td>\n",
       "      <td>NaN</td>\n",
       "      <td>NaN</td>\n",
       "      <td>NaN</td>\n",
       "      <td>...</td>\n",
       "      <td>NaN</td>\n",
       "      <td>NaN</td>\n",
       "      <td>NaN</td>\n",
       "      <td>NaN</td>\n",
       "      <td>NaN</td>\n",
       "      <td>NaN</td>\n",
       "      <td>NaN</td>\n",
       "      <td>NaN</td>\n",
       "      <td>None</td>\n",
       "      <td>NaN</td>\n",
       "    </tr>\n",
       "    <tr>\n",
       "      <th>3</th>\n",
       "      <td>507</td>\n",
       "      <td>30-34</td>\n",
       "      <td>Man</td>\n",
       "      <td>United States of America</td>\n",
       "      <td>Master’s degree</td>\n",
       "      <td>Data Scientist</td>\n",
       "      <td>5-10 years</td>\n",
       "      <td>Python</td>\n",
       "      <td>NaN</td>\n",
       "      <td>SQL</td>\n",
       "      <td>...</td>\n",
       "      <td>NaN</td>\n",
       "      <td>NaN</td>\n",
       "      <td>NaN</td>\n",
       "      <td>NaN</td>\n",
       "      <td>NaN</td>\n",
       "      <td>NaN</td>\n",
       "      <td>NaN</td>\n",
       "      <td>NaN</td>\n",
       "      <td>NaN</td>\n",
       "      <td>NaN</td>\n",
       "    </tr>\n",
       "    <tr>\n",
       "      <th>4</th>\n",
       "      <td>78</td>\n",
       "      <td>30-34</td>\n",
       "      <td>Man</td>\n",
       "      <td>Japan</td>\n",
       "      <td>Master’s degree</td>\n",
       "      <td>Software Engineer</td>\n",
       "      <td>3-5 years</td>\n",
       "      <td>Python</td>\n",
       "      <td>NaN</td>\n",
       "      <td>NaN</td>\n",
       "      <td>...</td>\n",
       "      <td>NaN</td>\n",
       "      <td>NaN</td>\n",
       "      <td>NaN</td>\n",
       "      <td>NaN</td>\n",
       "      <td>NaN</td>\n",
       "      <td>NaN</td>\n",
       "      <td>NaN</td>\n",
       "      <td>NaN</td>\n",
       "      <td>NaN</td>\n",
       "      <td>NaN</td>\n",
       "    </tr>\n",
       "  </tbody>\n",
       "</table>\n",
       "<p>5 rows × 355 columns</p>\n",
       "</div>"
      ],
      "text/plain": [
       "       Q0     Q1   Q2                        Q3                 Q4  \\\n",
       "0    1838  35-39  Man                  Colombia    Doctoral degree   \n",
       "1  289287  30-34  Man  United States of America    Master’s degree   \n",
       "2     860  35-39  Man                 Argentina  Bachelor’s degree   \n",
       "3     507  30-34  Man  United States of America    Master’s degree   \n",
       "4      78  30-34  Man                     Japan    Master’s degree   \n",
       "\n",
       "                  Q5           Q6 Q7_Part_1 Q7_Part_2 Q7_Part_3  ...  \\\n",
       "0            Student   5-10 years    Python         R       SQL  ...   \n",
       "1      Data Engineer   5-10 years    Python         R       SQL  ...   \n",
       "2  Software Engineer  10-20 years       NaN       NaN       NaN  ...   \n",
       "3     Data Scientist   5-10 years    Python       NaN       SQL  ...   \n",
       "4  Software Engineer    3-5 years    Python       NaN       NaN  ...   \n",
       "\n",
       "  Q35_B_Part_2 Q35_B_Part_3 Q35_B_Part_4   Q35_B_Part_5 Q35_B_Part_6  \\\n",
       "0          NaN          NaN          NaN   TensorBoard           NaN   \n",
       "1          NaN          NaN          NaN            NaN          NaN   \n",
       "2          NaN          NaN          NaN            NaN          NaN   \n",
       "3          NaN          NaN          NaN            NaN          NaN   \n",
       "4          NaN          NaN          NaN            NaN          NaN   \n",
       "\n",
       "  Q35_B_Part_7 Q35_B_Part_8 Q35_B_Part_9 Q35_B_Part_10 Q35_B_OTHER  \n",
       "0          NaN          NaN          NaN           NaN         NaN  \n",
       "1          NaN          NaN          NaN           NaN         NaN  \n",
       "2          NaN          NaN          NaN          None         NaN  \n",
       "3          NaN          NaN          NaN           NaN         NaN  \n",
       "4          NaN          NaN          NaN           NaN         NaN  \n",
       "\n",
       "[5 rows x 355 columns]"
      ]
     },
     "execution_count": 14,
     "metadata": {},
     "output_type": "execute_result"
    }
   ],
   "source": [
    "# let's see its head\n",
    "gender.head()"
   ]
  },
  {
   "cell_type": "code",
   "execution_count": 15,
   "metadata": {
    "hidden": true
   },
   "outputs": [
    {
     "data": {
      "text/plain": [
       "0"
      ]
     },
     "execution_count": 15,
     "metadata": {},
     "output_type": "execute_result"
    }
   ],
   "source": [
    "# check if there's null row in gender_df\n",
    "gender.Q2.isnull().sum()"
   ]
  },
  {
   "cell_type": "markdown",
   "metadata": {
    "heading_collapsed": true,
    "hidden": true
   },
   "source": [
    "#### Age"
   ]
  },
  {
   "cell_type": "markdown",
   "metadata": {
    "hidden": true
   },
   "source": [
    "For the age column, let's see its results. We will also calculate the ratio for each woman and man. This ratio indicates the proportion in each woman and man data."
   ]
  },
  {
   "cell_type": "code",
   "execution_count": 436,
   "metadata": {
    "hidden": true,
    "scrolled": true
   },
   "outputs": [
    {
     "data": {
      "text/html": [
       "<div>\n",
       "<style scoped>\n",
       "    .dataframe tbody tr th:only-of-type {\n",
       "        vertical-align: middle;\n",
       "    }\n",
       "\n",
       "    .dataframe tbody tr th {\n",
       "        vertical-align: top;\n",
       "    }\n",
       "\n",
       "    .dataframe thead th {\n",
       "        text-align: right;\n",
       "    }\n",
       "</style>\n",
       "<table border=\"1\" class=\"dataframe\">\n",
       "  <thead>\n",
       "    <tr style=\"text-align: right;\">\n",
       "      <th></th>\n",
       "      <th>Woman Counts</th>\n",
       "      <th>Man Counts</th>\n",
       "      <th>Woman Ratio</th>\n",
       "      <th>Man Ratio</th>\n",
       "    </tr>\n",
       "    <tr>\n",
       "      <th>Age Group</th>\n",
       "      <th></th>\n",
       "      <th></th>\n",
       "      <th></th>\n",
       "      <th></th>\n",
       "    </tr>\n",
       "  </thead>\n",
       "  <tbody>\n",
       "    <tr>\n",
       "      <th>22-24</th>\n",
       "      <td>886</td>\n",
       "      <td>2838</td>\n",
       "      <td>0.228468</td>\n",
       "      <td>0.179745</td>\n",
       "    </tr>\n",
       "    <tr>\n",
       "      <th>25-29</th>\n",
       "      <td>819</td>\n",
       "      <td>3128</td>\n",
       "      <td>0.211191</td>\n",
       "      <td>0.198113</td>\n",
       "    </tr>\n",
       "    <tr>\n",
       "      <th>18-21</th>\n",
       "      <td>796</td>\n",
       "      <td>2611</td>\n",
       "      <td>0.205260</td>\n",
       "      <td>0.165368</td>\n",
       "    </tr>\n",
       "    <tr>\n",
       "      <th>30-34</th>\n",
       "      <td>504</td>\n",
       "      <td>2246</td>\n",
       "      <td>0.129964</td>\n",
       "      <td>0.142251</td>\n",
       "    </tr>\n",
       "    <tr>\n",
       "      <th>35-39</th>\n",
       "      <td>368</td>\n",
       "      <td>1581</td>\n",
       "      <td>0.094894</td>\n",
       "      <td>0.100133</td>\n",
       "    </tr>\n",
       "    <tr>\n",
       "      <th>40-44</th>\n",
       "      <td>222</td>\n",
       "      <td>1153</td>\n",
       "      <td>0.057246</td>\n",
       "      <td>0.073026</td>\n",
       "    </tr>\n",
       "    <tr>\n",
       "      <th>45-49</th>\n",
       "      <td>126</td>\n",
       "      <td>840</td>\n",
       "      <td>0.032491</td>\n",
       "      <td>0.053202</td>\n",
       "    </tr>\n",
       "    <tr>\n",
       "      <th>50-54</th>\n",
       "      <td>81</td>\n",
       "      <td>605</td>\n",
       "      <td>0.020887</td>\n",
       "      <td>0.038318</td>\n",
       "    </tr>\n",
       "    <tr>\n",
       "      <th>55-59</th>\n",
       "      <td>45</td>\n",
       "      <td>353</td>\n",
       "      <td>0.011604</td>\n",
       "      <td>0.022357</td>\n",
       "    </tr>\n",
       "    <tr>\n",
       "      <th>60-69</th>\n",
       "      <td>29</td>\n",
       "      <td>362</td>\n",
       "      <td>0.007478</td>\n",
       "      <td>0.022927</td>\n",
       "    </tr>\n",
       "    <tr>\n",
       "      <th>70+</th>\n",
       "      <td>2</td>\n",
       "      <td>72</td>\n",
       "      <td>0.000516</td>\n",
       "      <td>0.004560</td>\n",
       "    </tr>\n",
       "  </tbody>\n",
       "</table>\n",
       "</div>"
      ],
      "text/plain": [
       "           Woman Counts  Man Counts  Woman Ratio  Man Ratio\n",
       "Age Group                                                  \n",
       "22-24               886        2838     0.228468   0.179745\n",
       "25-29               819        3128     0.211191   0.198113\n",
       "18-21               796        2611     0.205260   0.165368\n",
       "30-34               504        2246     0.129964   0.142251\n",
       "35-39               368        1581     0.094894   0.100133\n",
       "40-44               222        1153     0.057246   0.073026\n",
       "45-49               126         840     0.032491   0.053202\n",
       "50-54                81         605     0.020887   0.038318\n",
       "55-59                45         353     0.011604   0.022357\n",
       "60-69                29         362     0.007478   0.022927\n",
       "70+                   2          72     0.000516   0.004560"
      ]
     },
     "execution_count": 436,
     "metadata": {},
     "output_type": "execute_result"
    }
   ],
   "source": [
    "# get counts for every age range\n",
    "woman = gender[gender.Q2 == 'Woman'].Q1.value_counts().rename('Woman Counts')\n",
    "man = gender[gender.Q2 == 'Man'].Q1.value_counts().rename('Man Counts')\n",
    "\n",
    "# concatenate data of women and men\n",
    "age = pd.concat([woman, man], axis=1)\n",
    "\n",
    "# calculate ratio for each data of women and men\n",
    "age['Woman Ratio'] = age.apply(lambda col: col['Woman Counts'] / age['Woman Counts'].sum(), axis=1)\n",
    "age['Man Ratio'] = age.apply(lambda col: col['Man Counts'] / age['Man Counts'].sum(), axis=1)\n",
    "\n",
    "age.index.name = 'Age Group' # rename index\n",
    "\n",
    "# sorting by \"Woman Ratio\" column\n",
    "age.sort_values('Woman Ratio', ascending=False)"
   ]
  },
  {
   "cell_type": "markdown",
   "metadata": {
    "hidden": true
   },
   "source": [
    "To make this finding clearer, it will be better if we plot this result in a pyramid plot which compares both woman and man data. But, first, we should define some useful variables and functions."
   ]
  },
  {
   "cell_type": "code",
   "execution_count": 387,
   "metadata": {
    "hidden": true
   },
   "outputs": [],
   "source": [
    "# variable to sort age range in correct order\n",
    "AgeClass = [\"18-21\", \"22-24\", \"25-29\", \"30-34\", \"35-39\", \"40-44\", \"45-49\", \"50-54\", \"55-59\", \"60-69\", \"70+\"]"
   ]
  },
  {
   "cell_type": "code",
   "execution_count": 276,
   "metadata": {
    "hidden": true
   },
   "outputs": [],
   "source": [
    "def pivot_woman_man(df, reset_index_name):\n",
    "    \"\"\"used to pivot given dataframe (which consists of count and ratio) into a table form of woman and man data\n",
    "    \n",
    "    args:\n",
    "    df (pd.DataFrame): dataframe to be pivotted\n",
    "    reset_index_name (str): the name for index reset\n",
    "    \n",
    "    returns: pivotted dataframe\n",
    "    \"\"\"\n",
    "    # reset DF index and rename such reset index\n",
    "    df_tmp = df.reset_index()\n",
    "    df_tmp.rename(columns={df_tmp.columns[0]: reset_index_name}, inplace=True)\n",
    "    \n",
    "    # split DF into 2 parts: woman data & man data\n",
    "    # for each, create new column indicating gender name and rename columns\n",
    "    df_tmp_woman = df_tmp[[reset_index_name, 'Woman', 'Woman Ratio']]\n",
    "    df_tmp_woman['Gender'] = ['Woman' for _ in range(df_tmp_woman.shape[0])]\n",
    "    df_tmp_woman.rename(columns={df_tmp_woman.columns[1]: 'Counts', df_tmp_woman.columns[2]: 'Ratio'}, inplace=True)\n",
    "    df_tmp_man = df_tmp[[reset_index_name, 'Man', 'Man Ratio']]\n",
    "    df_tmp_man['Gender'] = ['Man' for _ in range(df_tmp_man.shape[0])]\n",
    "    df_tmp_man.rename(columns={df_tmp_man.columns[1]: 'Counts', df_tmp_man.columns[2]: 'Ratio'}, inplace=True)\n",
    "    \n",
    "    # join both woman and man data\n",
    "    df_tmp = pd.concat([df_tmp_woman, df_tmp_man], axis=0, ignore_index=True)\n",
    "    \n",
    "    return df_tmp"
   ]
  },
  {
   "cell_type": "code",
   "execution_count": 277,
   "metadata": {
    "hidden": true
   },
   "outputs": [],
   "source": [
    "# lambda function to convert certain pd.Series into negative value\n",
    "# args:\n",
    "# df (pd.DataFrame): dataframe to be processed\n",
    "# column (str): column name to be set to negative value\n",
    "# start_idx (int): starting index of pd.Series to be set to negative value\n",
    "# end_idx (int): end index of pd.Series to be set to negative value\n",
    "\n",
    "convert2negative = lambda df, column, start_idx, end_idx: df[column][start_idx:end_idx]*-1"
   ]
  },
  {
   "cell_type": "code",
   "execution_count": 278,
   "metadata": {
    "hidden": true
   },
   "outputs": [],
   "source": [
    "def set2negative(df, column, start_idx, end_idx):\n",
    "    \"\"\"used to set inplace certain pd.Series to negative value. \n",
    "    These negative values are important when plotting a pyramid plot.\n",
    "    \n",
    "    args:\n",
    "    df (pd.DataFrame): dataframe to be processed\n",
    "    column (str): column name to be set to negative value\n",
    "    start_idx (int): starting index of pd.Series to be set to negative value\n",
    "    end_idx (int): end index of pd.Series to be set to negative value\n",
    "    \n",
    "    returns: not returning anything\n",
    "    \"\"\"\n",
    "    df.loc[start_idx:end_idx-1, column] = convert2negative(df, column, start_idx, end_idx)"
   ]
  },
  {
   "cell_type": "code",
   "execution_count": 259,
   "metadata": {
    "hidden": true
   },
   "outputs": [],
   "source": [
    "def pyramid_plot(data, x, y, hue, legend_loc='best', xticks=[], xticklabel=[], \n",
    "                 order=None, orient='horizontal', dodge=False, figsize=(12,5), title=None):\n",
    "    \"\"\"used to create a pyramid plot using given dataframe\n",
    "    \n",
    "    args:\n",
    "    data, x, y, hue, order, orient, and dodge are used for sns.barplot() method. See its docs for more explanations.\n",
    "    legend_loc (str - default: 'best'): legend location for plt.legend(loc). See its docs for more explanations.\n",
    "    xticks (list-like): x ticks for sns.barplot.set_xticks arg. See its docs for more explanations.\n",
    "    xticklabel (list-like): x tick labels for sns.barplot.set_xticklabels arg. See its docs for more explanations.\n",
    "    title (str): title for the plot\n",
    "    figsize (tuple - default: (12,5)): figure size for plt.figure arg. See its docs for more explanations.\n",
    "    \n",
    "    \n",
    "    returns: plot in type matplotlib.axes._subplots.AxesSubplot\n",
    "    \"\"\"\n",
    "    # set the figure size\n",
    "    plt.figure(figsize=figsize)\n",
    "\n",
    "    # plot the pyramid plot\n",
    "    barplot = sns.barplot(x=x, \n",
    "                          y=y, \n",
    "                          data=data, \n",
    "                          hue=hue, \n",
    "                          order=order, \n",
    "                          orient=orient, \n",
    "                          dodge=dodge);\n",
    "\n",
    "    # set xticks and xticklabel if both args set\n",
    "    if xticks and xticklabel:\n",
    "        barplot.set_xticks(xticks)\n",
    "        barplot.set_xticklabels(xticklabel)\n",
    "\n",
    "    # set the title if it's set\n",
    "    if title:\n",
    "        plt.title(title)\n",
    "        \n",
    "    plt.legend(loc=legend_loc) # set legend location\n",
    "    plt.grid() # show grid\n",
    "    plt.show\n",
    "    \n",
    "    return barplot"
   ]
  },
  {
   "cell_type": "markdown",
   "metadata": {
    "hidden": true
   },
   "source": [
    "We've defined useful variables and functions. Now, let's process the data."
   ]
  },
  {
   "cell_type": "code",
   "execution_count": 279,
   "metadata": {
    "hidden": true,
    "scrolled": true
   },
   "outputs": [
    {
     "name": "stderr",
     "output_type": "stream",
     "text": [
      "<ipython-input-276-450a03458b29>:6: SettingWithCopyWarning:\n",
      "\n",
      "\n",
      "A value is trying to be set on a copy of a slice from a DataFrame.\n",
      "Try using .loc[row_indexer,col_indexer] = value instead\n",
      "\n",
      "See the caveats in the documentation: https://pandas.pydata.org/pandas-docs/stable/user_guide/indexing.html#returning-a-view-versus-a-copy\n",
      "\n",
      "<ipython-input-276-450a03458b29>:10: SettingWithCopyWarning:\n",
      "\n",
      "\n",
      "A value is trying to be set on a copy of a slice from a DataFrame.\n",
      "Try using .loc[row_indexer,col_indexer] = value instead\n",
      "\n",
      "See the caveats in the documentation: https://pandas.pydata.org/pandas-docs/stable/user_guide/indexing.html#returning-a-view-versus-a-copy\n",
      "\n"
     ]
    },
    {
     "data": {
      "text/html": [
       "<div>\n",
       "<style scoped>\n",
       "    .dataframe tbody tr th:only-of-type {\n",
       "        vertical-align: middle;\n",
       "    }\n",
       "\n",
       "    .dataframe tbody tr th {\n",
       "        vertical-align: top;\n",
       "    }\n",
       "\n",
       "    .dataframe thead th {\n",
       "        text-align: right;\n",
       "    }\n",
       "</style>\n",
       "<table border=\"1\" class=\"dataframe\">\n",
       "  <thead>\n",
       "    <tr style=\"text-align: right;\">\n",
       "      <th></th>\n",
       "      <th>Age Group</th>\n",
       "      <th>Counts</th>\n",
       "      <th>Ratio</th>\n",
       "      <th>Gender</th>\n",
       "    </tr>\n",
       "  </thead>\n",
       "  <tbody>\n",
       "    <tr>\n",
       "      <th>0</th>\n",
       "      <td>22-24</td>\n",
       "      <td>886</td>\n",
       "      <td>0.228468</td>\n",
       "      <td>Woman</td>\n",
       "    </tr>\n",
       "    <tr>\n",
       "      <th>1</th>\n",
       "      <td>25-29</td>\n",
       "      <td>819</td>\n",
       "      <td>0.211191</td>\n",
       "      <td>Woman</td>\n",
       "    </tr>\n",
       "    <tr>\n",
       "      <th>2</th>\n",
       "      <td>18-21</td>\n",
       "      <td>796</td>\n",
       "      <td>0.205260</td>\n",
       "      <td>Woman</td>\n",
       "    </tr>\n",
       "    <tr>\n",
       "      <th>3</th>\n",
       "      <td>30-34</td>\n",
       "      <td>504</td>\n",
       "      <td>0.129964</td>\n",
       "      <td>Woman</td>\n",
       "    </tr>\n",
       "    <tr>\n",
       "      <th>4</th>\n",
       "      <td>35-39</td>\n",
       "      <td>368</td>\n",
       "      <td>0.094894</td>\n",
       "      <td>Woman</td>\n",
       "    </tr>\n",
       "    <tr>\n",
       "      <th>5</th>\n",
       "      <td>40-44</td>\n",
       "      <td>222</td>\n",
       "      <td>0.057246</td>\n",
       "      <td>Woman</td>\n",
       "    </tr>\n",
       "    <tr>\n",
       "      <th>6</th>\n",
       "      <td>45-49</td>\n",
       "      <td>126</td>\n",
       "      <td>0.032491</td>\n",
       "      <td>Woman</td>\n",
       "    </tr>\n",
       "    <tr>\n",
       "      <th>7</th>\n",
       "      <td>50-54</td>\n",
       "      <td>81</td>\n",
       "      <td>0.020887</td>\n",
       "      <td>Woman</td>\n",
       "    </tr>\n",
       "    <tr>\n",
       "      <th>8</th>\n",
       "      <td>55-59</td>\n",
       "      <td>45</td>\n",
       "      <td>0.011604</td>\n",
       "      <td>Woman</td>\n",
       "    </tr>\n",
       "    <tr>\n",
       "      <th>9</th>\n",
       "      <td>60-69</td>\n",
       "      <td>29</td>\n",
       "      <td>0.007478</td>\n",
       "      <td>Woman</td>\n",
       "    </tr>\n",
       "    <tr>\n",
       "      <th>10</th>\n",
       "      <td>70+</td>\n",
       "      <td>2</td>\n",
       "      <td>0.000516</td>\n",
       "      <td>Woman</td>\n",
       "    </tr>\n",
       "    <tr>\n",
       "      <th>11</th>\n",
       "      <td>22-24</td>\n",
       "      <td>2838</td>\n",
       "      <td>0.179745</td>\n",
       "      <td>Man</td>\n",
       "    </tr>\n",
       "    <tr>\n",
       "      <th>12</th>\n",
       "      <td>25-29</td>\n",
       "      <td>3128</td>\n",
       "      <td>0.198113</td>\n",
       "      <td>Man</td>\n",
       "    </tr>\n",
       "    <tr>\n",
       "      <th>13</th>\n",
       "      <td>18-21</td>\n",
       "      <td>2611</td>\n",
       "      <td>0.165368</td>\n",
       "      <td>Man</td>\n",
       "    </tr>\n",
       "    <tr>\n",
       "      <th>14</th>\n",
       "      <td>30-34</td>\n",
       "      <td>2246</td>\n",
       "      <td>0.142251</td>\n",
       "      <td>Man</td>\n",
       "    </tr>\n",
       "    <tr>\n",
       "      <th>15</th>\n",
       "      <td>35-39</td>\n",
       "      <td>1581</td>\n",
       "      <td>0.100133</td>\n",
       "      <td>Man</td>\n",
       "    </tr>\n",
       "    <tr>\n",
       "      <th>16</th>\n",
       "      <td>40-44</td>\n",
       "      <td>1153</td>\n",
       "      <td>0.073026</td>\n",
       "      <td>Man</td>\n",
       "    </tr>\n",
       "    <tr>\n",
       "      <th>17</th>\n",
       "      <td>45-49</td>\n",
       "      <td>840</td>\n",
       "      <td>0.053202</td>\n",
       "      <td>Man</td>\n",
       "    </tr>\n",
       "    <tr>\n",
       "      <th>18</th>\n",
       "      <td>50-54</td>\n",
       "      <td>605</td>\n",
       "      <td>0.038318</td>\n",
       "      <td>Man</td>\n",
       "    </tr>\n",
       "    <tr>\n",
       "      <th>19</th>\n",
       "      <td>55-59</td>\n",
       "      <td>353</td>\n",
       "      <td>0.022357</td>\n",
       "      <td>Man</td>\n",
       "    </tr>\n",
       "    <tr>\n",
       "      <th>20</th>\n",
       "      <td>60-69</td>\n",
       "      <td>362</td>\n",
       "      <td>0.022927</td>\n",
       "      <td>Man</td>\n",
       "    </tr>\n",
       "    <tr>\n",
       "      <th>21</th>\n",
       "      <td>70+</td>\n",
       "      <td>72</td>\n",
       "      <td>0.004560</td>\n",
       "      <td>Man</td>\n",
       "    </tr>\n",
       "  </tbody>\n",
       "</table>\n",
       "</div>"
      ],
      "text/plain": [
       "   Age Group  Counts     Ratio Gender\n",
       "0      22-24     886  0.228468  Woman\n",
       "1      25-29     819  0.211191  Woman\n",
       "2      18-21     796  0.205260  Woman\n",
       "3      30-34     504  0.129964  Woman\n",
       "4      35-39     368  0.094894  Woman\n",
       "5      40-44     222  0.057246  Woman\n",
       "6      45-49     126  0.032491  Woman\n",
       "7      50-54      81  0.020887  Woman\n",
       "8      55-59      45  0.011604  Woman\n",
       "9      60-69      29  0.007478  Woman\n",
       "10       70+       2  0.000516  Woman\n",
       "11     22-24    2838  0.179745    Man\n",
       "12     25-29    3128  0.198113    Man\n",
       "13     18-21    2611  0.165368    Man\n",
       "14     30-34    2246  0.142251    Man\n",
       "15     35-39    1581  0.100133    Man\n",
       "16     40-44    1153  0.073026    Man\n",
       "17     45-49     840  0.053202    Man\n",
       "18     50-54     605  0.038318    Man\n",
       "19     55-59     353  0.022357    Man\n",
       "20     60-69     362  0.022927    Man\n",
       "21       70+      72  0.004560    Man"
      ]
     },
     "execution_count": 279,
     "metadata": {},
     "output_type": "execute_result"
    }
   ],
   "source": [
    "# pivot age data\n",
    "age_pivot = pivot_woman_man(age, 'Age Group')\n",
    "age_pivot"
   ]
  },
  {
   "cell_type": "markdown",
   "metadata": {
    "hidden": true
   },
   "source": [
    "From the dataframe above, we can see that woman data starts on index 0 and ends on index 10. So, we get the start and end indices for converting the values to negative values."
   ]
  },
  {
   "cell_type": "code",
   "execution_count": 388,
   "metadata": {
    "hidden": true
   },
   "outputs": [],
   "source": [
    "# set the negative values for pyramid plot\n",
    "set2negative(age_pivot, 'Counts', 0, 11)\n",
    "set2negative(age_pivot, 'Ratio', 0, 11)"
   ]
  },
  {
   "cell_type": "markdown",
   "metadata": {
    "hidden": true
   },
   "source": [
    "Great. Now, let's make a pyramid plot for the two data above. We have data for counts and data for ratios."
   ]
  },
  {
   "cell_type": "code",
   "execution_count": 285,
   "metadata": {
    "hidden": true
   },
   "outputs": [
    {
     "data": {
      "image/png": "[encoded data removed]",
      "text/plain": [
       "<Figure size 864x360 with 1 Axes>"
      ]
     },
     "metadata": {
      "needs_background": "light"
     },
     "output_type": "display_data"
    }
   ],
   "source": [
    "# pyramid plot for counts data\n",
    "pyramid_plot(age_pivot, 'Counts', 'Age Group', 'Gender', legend_loc='lower left', \n",
    "             title='Counts of age between women and men',\n",
    "             order=AgeClass, xticks=[-1000, -500, 0, 500, 1000, 1500, 2000, 2500, 3000,], \n",
    "             xticklabel=['1000', '500', '0', '500', '1000', '1500', '2000', '2500', '3000',]);"
   ]
  },
  {
   "cell_type": "code",
   "execution_count": 290,
   "metadata": {
    "hidden": true,
    "scrolled": false
   },
   "outputs": [
    {
     "data": {
      "image/png": "[encoded data removed]",
      "text/plain": [
       "<Figure size 864x360 with 1 Axes>"
      ]
     },
     "metadata": {
      "needs_background": "light"
     },
     "output_type": "display_data"
    }
   ],
   "source": [
    "# pyramid plot for ratios data\n",
    "pyramid_plot(age_pivot, 'Ratio', 'Age Group', 'Gender', legend_loc='lower left', \n",
    "             title='Ratio of age between women and men',\n",
    "             order=AgeClass, xticks=[-0.2, -0.1, 0.0, 0.1, 0.2], \n",
    "             xticklabel=['0.2', '0.1', '0', '0.1', '0.2']);"
   ]
  },
  {
   "cell_type": "markdown",
   "metadata": {
    "hidden": true
   },
   "source": [
    "From the chart of counts above, we can see that in case of focusing only on the counts, men dominate for all age ranges. This phenomenon is common in any field of information technology, including data science. However, if we look the data from different angle where we calculate the ratio for each age range, we will find something interesting as shown by the second.\n",
    "\n",
    "Those ratios show the proportion of certain age range from total data in given gender. We can see that eventhough the counts of women data are less than those of men, their proportions indicate a different thing. Most higher proportions are dominated by women with age between 18-21, 22-24, and 25-29. Even these three proportions overcome those of men. From this finding, we could infer that **gradually women are more interested in IT field, such as data science, in particular young women.**"
   ]
  },
  {
   "cell_type": "markdown",
   "metadata": {
    "heading_collapsed": true,
    "hidden": true
   },
   "source": [
    "#### Education"
   ]
  },
  {
   "cell_type": "markdown",
   "metadata": {
    "hidden": true
   },
   "source": [
    "We've found that by looking at the age, young women gradually are interested in data science field. But, will this happen on the education aspect as well? Let's see.\n",
    "\n",
    "We're going to do the same as we did earlier on the age dataframe."
   ]
  },
  {
   "cell_type": "code",
   "execution_count": 394,
   "metadata": {
    "hidden": true
   },
   "outputs": [],
   "source": [
    "# create new DF\n",
    "woman_edu = gender[gender.Q2 == 'Woman'].Q4.value_counts().rename('Woman')\n",
    "man_edu = gender[gender.Q2 == 'Man'].Q4.value_counts().rename('Man')\n",
    "edu = pd.concat([woman_edu, man_edu], axis=1)\n",
    "\n",
    "# calculate ratio\n",
    "edu['Woman Ratio'] = edu.apply(lambda col: col['Woman'] / edu.Woman.sum(), axis=1)\n",
    "edu['Man Ratio'] = edu.apply(lambda col: col['Man'] / edu.Man.sum(), axis=1)"
   ]
  },
  {
   "cell_type": "code",
   "execution_count": 288,
   "metadata": {
    "hidden": true,
    "scrolled": true
   },
   "outputs": [
    {
     "name": "stderr",
     "output_type": "stream",
     "text": [
      "<ipython-input-276-450a03458b29>:6: SettingWithCopyWarning:\n",
      "\n",
      "\n",
      "A value is trying to be set on a copy of a slice from a DataFrame.\n",
      "Try using .loc[row_indexer,col_indexer] = value instead\n",
      "\n",
      "See the caveats in the documentation: https://pandas.pydata.org/pandas-docs/stable/user_guide/indexing.html#returning-a-view-versus-a-copy\n",
      "\n",
      "C:\\Users\\utomo\\Anaconda3\\lib\\site-packages\\pandas\\core\\frame.py:4125: SettingWithCopyWarning:\n",
      "\n",
      "\n",
      "A value is trying to be set on a copy of a slice from a DataFrame\n",
      "\n",
      "See the caveats in the documentation: https://pandas.pydata.org/pandas-docs/stable/user_guide/indexing.html#returning-a-view-versus-a-copy\n",
      "\n",
      "<ipython-input-276-450a03458b29>:10: SettingWithCopyWarning:\n",
      "\n",
      "\n",
      "A value is trying to be set on a copy of a slice from a DataFrame.\n",
      "Try using .loc[row_indexer,col_indexer] = value instead\n",
      "\n",
      "See the caveats in the documentation: https://pandas.pydata.org/pandas-docs/stable/user_guide/indexing.html#returning-a-view-versus-a-copy\n",
      "\n"
     ]
    },
    {
     "data": {
      "text/html": [
       "<div>\n",
       "<style scoped>\n",
       "    .dataframe tbody tr th:only-of-type {\n",
       "        vertical-align: middle;\n",
       "    }\n",
       "\n",
       "    .dataframe tbody tr th {\n",
       "        vertical-align: top;\n",
       "    }\n",
       "\n",
       "    .dataframe thead th {\n",
       "        text-align: right;\n",
       "    }\n",
       "</style>\n",
       "<table border=\"1\" class=\"dataframe\">\n",
       "  <thead>\n",
       "    <tr style=\"text-align: right;\">\n",
       "      <th></th>\n",
       "      <th>Degree</th>\n",
       "      <th>Counts</th>\n",
       "      <th>Ratio</th>\n",
       "      <th>Gender</th>\n",
       "    </tr>\n",
       "  </thead>\n",
       "  <tbody>\n",
       "    <tr>\n",
       "      <th>0</th>\n",
       "      <td>Master’s degree</td>\n",
       "      <td>1608</td>\n",
       "      <td>0.427205</td>\n",
       "      <td>Woman</td>\n",
       "    </tr>\n",
       "    <tr>\n",
       "      <th>1</th>\n",
       "      <td>Bachelor’s degree</td>\n",
       "      <td>1282</td>\n",
       "      <td>0.340595</td>\n",
       "      <td>Woman</td>\n",
       "    </tr>\n",
       "    <tr>\n",
       "      <th>2</th>\n",
       "      <td>Doctoral degree</td>\n",
       "      <td>488</td>\n",
       "      <td>0.129649</td>\n",
       "      <td>Woman</td>\n",
       "    </tr>\n",
       "    <tr>\n",
       "      <th>3</th>\n",
       "      <td>Some college/university study without earning ...</td>\n",
       "      <td>171</td>\n",
       "      <td>0.045430</td>\n",
       "      <td>Woman</td>\n",
       "    </tr>\n",
       "    <tr>\n",
       "      <th>4</th>\n",
       "      <td>Professional degree</td>\n",
       "      <td>128</td>\n",
       "      <td>0.034006</td>\n",
       "      <td>Woman</td>\n",
       "    </tr>\n",
       "    <tr>\n",
       "      <th>5</th>\n",
       "      <td>I prefer not to answer</td>\n",
       "      <td>73</td>\n",
       "      <td>0.019394</td>\n",
       "      <td>Woman</td>\n",
       "    </tr>\n",
       "    <tr>\n",
       "      <th>6</th>\n",
       "      <td>No formal education past high school</td>\n",
       "      <td>14</td>\n",
       "      <td>0.003719</td>\n",
       "      <td>Woman</td>\n",
       "    </tr>\n",
       "    <tr>\n",
       "      <th>7</th>\n",
       "      <td>Master’s degree</td>\n",
       "      <td>6125</td>\n",
       "      <td>0.396543</td>\n",
       "      <td>Man</td>\n",
       "    </tr>\n",
       "    <tr>\n",
       "      <th>8</th>\n",
       "      <td>Bachelor’s degree</td>\n",
       "      <td>5596</td>\n",
       "      <td>0.362294</td>\n",
       "      <td>Man</td>\n",
       "    </tr>\n",
       "    <tr>\n",
       "      <th>9</th>\n",
       "      <td>Doctoral degree</td>\n",
       "      <td>1765</td>\n",
       "      <td>0.114269</td>\n",
       "      <td>Man</td>\n",
       "    </tr>\n",
       "    <tr>\n",
       "      <th>10</th>\n",
       "      <td>Some college/university study without earning ...</td>\n",
       "      <td>898</td>\n",
       "      <td>0.058138</td>\n",
       "      <td>Man</td>\n",
       "    </tr>\n",
       "    <tr>\n",
       "      <th>11</th>\n",
       "      <td>Professional degree</td>\n",
       "      <td>563</td>\n",
       "      <td>0.036450</td>\n",
       "      <td>Man</td>\n",
       "    </tr>\n",
       "    <tr>\n",
       "      <th>12</th>\n",
       "      <td>I prefer not to answer</td>\n",
       "      <td>281</td>\n",
       "      <td>0.018192</td>\n",
       "      <td>Man</td>\n",
       "    </tr>\n",
       "    <tr>\n",
       "      <th>13</th>\n",
       "      <td>No formal education past high school</td>\n",
       "      <td>218</td>\n",
       "      <td>0.014114</td>\n",
       "      <td>Man</td>\n",
       "    </tr>\n",
       "  </tbody>\n",
       "</table>\n",
       "</div>"
      ],
      "text/plain": [
       "                                               Degree  Counts     Ratio Gender\n",
       "0                                     Master’s degree    1608  0.427205  Woman\n",
       "1                                   Bachelor’s degree    1282  0.340595  Woman\n",
       "2                                     Doctoral degree     488  0.129649  Woman\n",
       "3   Some college/university study without earning ...     171  0.045430  Woman\n",
       "4                                 Professional degree     128  0.034006  Woman\n",
       "5                              I prefer not to answer      73  0.019394  Woman\n",
       "6                No formal education past high school      14  0.003719  Woman\n",
       "7                                     Master’s degree    6125  0.396543    Man\n",
       "8                                   Bachelor’s degree    5596  0.362294    Man\n",
       "9                                     Doctoral degree    1765  0.114269    Man\n",
       "10  Some college/university study without earning ...     898  0.058138    Man\n",
       "11                                Professional degree     563  0.036450    Man\n",
       "12                             I prefer not to answer     281  0.018192    Man\n",
       "13               No formal education past high school     218  0.014114    Man"
      ]
     },
     "execution_count": 288,
     "metadata": {},
     "output_type": "execute_result"
    }
   ],
   "source": [
    "# pivot DF and see\n",
    "edu_pivot = pivot_woman_man(edu, 'Degree')\n",
    "edu_pivot"
   ]
  },
  {
   "cell_type": "code",
   "execution_count": 289,
   "metadata": {
    "hidden": true
   },
   "outputs": [],
   "source": [
    "# set to negative values\n",
    "set2negative(edu_pivot, 'Counts', 0, 7)\n",
    "set2negative(edu_pivot, 'Ratio', 0, 7)"
   ]
  },
  {
   "cell_type": "code",
   "execution_count": 294,
   "metadata": {
    "hidden": true
   },
   "outputs": [
    {
     "data": {
      "image/png": "[encoded data removed]",
      "text/plain": [
       "<Figure size 864x360 with 1 Axes>"
      ]
     },
     "metadata": {
      "needs_background": "light"
     },
     "output_type": "display_data"
    }
   ],
   "source": [
    "# plot the results for counts\n",
    "pyramid_plot(edu_pivot, 'Counts', 'Degree', 'Gender', legend_loc='lower left', \n",
    "             title='Counts of education between women and men',\n",
    "             xticks=[-1000, 0, 1000, 2000, 3000, 4000, 5000, 6000], \n",
    "             xticklabel=['1000', '0', '1000', '2000', '3000', '4000', '5000', '6000']);"
   ]
  },
  {
   "cell_type": "code",
   "execution_count": 298,
   "metadata": {
    "hidden": true,
    "scrolled": false
   },
   "outputs": [
    {
     "data": {
      "image/png": "[encoded data removed]",
      "text/plain": [
       "<Figure size 864x360 with 1 Axes>"
      ]
     },
     "metadata": {
      "needs_background": "light"
     },
     "output_type": "display_data"
    }
   ],
   "source": [
    "# plot the results for ratios\n",
    "pyramid_plot(edu_pivot, 'Ratio', 'Degree', 'Gender', legend_loc='lower left', \n",
    "             title='Ratio of education between women and men',\n",
    "             xticks=[-0.4, -0.2, 0.0, 0.2, 0.4], \n",
    "             xticklabel=['0.4', '0.2', '0.0', '0.2', '0.4']);"
   ]
  },
  {
   "cell_type": "markdown",
   "metadata": {
    "hidden": true
   },
   "source": [
    "Again, if we only focus on the counts, it's obvious that men win the comparison. But, the ratios tell different thing. Both woman and man with Master's degree as their last education are higher in number than other degrees.\n",
    "\n",
    "To make this more interesting, let's check whether women with Master's degree as their last education comes from youngster."
   ]
  },
  {
   "cell_type": "code",
   "execution_count": 432,
   "metadata": {
    "hidden": true,
    "scrolled": false
   },
   "outputs": [
    {
     "data": {
      "text/html": [
       "<div>\n",
       "<style scoped>\n",
       "    .dataframe tbody tr th:only-of-type {\n",
       "        vertical-align: middle;\n",
       "    }\n",
       "\n",
       "    .dataframe tbody tr th {\n",
       "        vertical-align: top;\n",
       "    }\n",
       "\n",
       "    .dataframe thead th {\n",
       "        text-align: right;\n",
       "    }\n",
       "</style>\n",
       "<table border=\"1\" class=\"dataframe\">\n",
       "  <thead>\n",
       "    <tr style=\"text-align: right;\">\n",
       "      <th></th>\n",
       "      <th>Counts</th>\n",
       "    </tr>\n",
       "    <tr>\n",
       "      <th>Age Group</th>\n",
       "      <th></th>\n",
       "    </tr>\n",
       "  </thead>\n",
       "  <tbody>\n",
       "    <tr>\n",
       "      <th>22-24</th>\n",
       "      <td>431</td>\n",
       "    </tr>\n",
       "    <tr>\n",
       "      <th>25-29</th>\n",
       "      <td>429</td>\n",
       "    </tr>\n",
       "    <tr>\n",
       "      <th>30-34</th>\n",
       "      <td>257</td>\n",
       "    </tr>\n",
       "    <tr>\n",
       "      <th>35-39</th>\n",
       "      <td>171</td>\n",
       "    </tr>\n",
       "    <tr>\n",
       "      <th>18-21</th>\n",
       "      <td>109</td>\n",
       "    </tr>\n",
       "    <tr>\n",
       "      <th>40-44</th>\n",
       "      <td>93</td>\n",
       "    </tr>\n",
       "    <tr>\n",
       "      <th>45-49</th>\n",
       "      <td>57</td>\n",
       "    </tr>\n",
       "    <tr>\n",
       "      <th>50-54</th>\n",
       "      <td>26</td>\n",
       "    </tr>\n",
       "    <tr>\n",
       "      <th>55-59</th>\n",
       "      <td>18</td>\n",
       "    </tr>\n",
       "    <tr>\n",
       "      <th>60-69</th>\n",
       "      <td>16</td>\n",
       "    </tr>\n",
       "    <tr>\n",
       "      <th>70+</th>\n",
       "      <td>1</td>\n",
       "    </tr>\n",
       "  </tbody>\n",
       "</table>\n",
       "</div>"
      ],
      "text/plain": [
       "           Counts\n",
       "Age Group        \n",
       "22-24         431\n",
       "25-29         429\n",
       "30-34         257\n",
       "35-39         171\n",
       "18-21         109\n",
       "40-44          93\n",
       "45-49          57\n",
       "50-54          26\n",
       "55-59          18\n",
       "60-69          16\n",
       "70+             1"
      ]
     },
     "execution_count": 432,
     "metadata": {},
     "output_type": "execute_result"
    }
   ],
   "source": [
    "# processing age group for women with  Master's degree as their last education\n",
    "tmp_age_degree = gender[(gender.Q2 == 'Woman') & (gender.Q4 == \"Master’s degree\")] \\\n",
    "                .groupby('Q1') \\\n",
    "                .count() \\\n",
    "                .Q0.sort_values(ascending=False) \\\n",
    "                .rename('Counts')\n",
    "\n",
    "tmp_age_degree = pd.DataFrame(tmp_age_degree)\n",
    "tmp_age_degree.index.name = 'Age Group'\n",
    "tmp_age_degree"
   ]
  },
  {
   "cell_type": "markdown",
   "metadata": {
    "hidden": true
   },
   "source": [
    "Great. Those women with Master's degree as their last education are the highest in number as shown by dataframe above. This is another evidence to prove that progressively young women are more interested in diving in the field."
   ]
  },
  {
   "cell_type": "markdown",
   "metadata": {
    "heading_collapsed": true,
    "hidden": true
   },
   "source": [
    "#### Role"
   ]
  },
  {
   "cell_type": "markdown",
   "metadata": {
    "hidden": true
   },
   "source": [
    "Let's do the same for data in role aspect."
   ]
  },
  {
   "cell_type": "code",
   "execution_count": 395,
   "metadata": {
    "hidden": true
   },
   "outputs": [],
   "source": [
    "# create new DF\n",
    "woman_role = gender[gender.Q2 == 'Woman'].Q5.value_counts().rename('Woman')\n",
    "man_role = gender[gender.Q2 == 'Man'].Q5.value_counts().rename('Man')\n",
    "role = pd.concat([woman_role, man_role], axis=1)\n",
    "\n",
    "# calculate ratios\n",
    "role['Woman Ratio'] = role.apply(lambda col: col['Woman'] / role.Woman.sum(), axis=1)\n",
    "role['Man Ratio'] = role.apply(lambda col: col['Man'] / role.Man.sum(), axis=1)\n",
    "\n",
    "# pivot the data\n",
    "role_pivot = pivot_woman_man(role, 'Role')\n",
    "\n",
    "# set negative values\n",
    "set2negative(role_pivot, 'Counts', 0, 13)\n",
    "set2negative(role_pivot, 'Ratio', 0, 13)"
   ]
  },
  {
   "cell_type": "code",
   "execution_count": 303,
   "metadata": {
    "hidden": true
   },
   "outputs": [
    {
     "data": {
      "image/png": "[encoded data removed]",
      "text/plain": [
       "<Figure size 864x360 with 1 Axes>"
      ]
     },
     "metadata": {
      "needs_background": "light"
     },
     "output_type": "display_data"
    }
   ],
   "source": [
    "# plot the counts data\n",
    "pyramid_plot(role_pivot, 'Counts', 'Role', 'Gender', legend_loc='lower left', \n",
    "             title='Counts of role between women and men',\n",
    "             xticks=[-1000, 0, 1000, 2000, 3000, 4000], \n",
    "             xticklabel=['1000', '0', '1000', '2000', '3000', '4000']);"
   ]
  },
  {
   "cell_type": "code",
   "execution_count": 305,
   "metadata": {
    "hidden": true,
    "scrolled": true
   },
   "outputs": [
    {
     "data": {
      "image/png": "[encoded data removed]",
      "text/plain": [
       "<Figure size 864x360 with 1 Axes>"
      ]
     },
     "metadata": {
      "needs_background": "light"
     },
     "output_type": "display_data"
    }
   ],
   "source": [
    "# plot the ratios data\n",
    "pyramid_plot(role_pivot, 'Ratio', 'Role', 'Gender', legend_loc='lower left', \n",
    "             title='Ratio of role between women and men',\n",
    "             xticks=[-0.3, -0.2, -0.1, 0.0, 0.1, 0.2], \n",
    "             xticklabel=['0.3', '0.2', '0.1', '0.0', '0.1', '0.2']);"
   ]
  },
  {
   "cell_type": "markdown",
   "metadata": {
    "hidden": true
   },
   "source": [
    "As usual, we've found the same thing for the counts plot. But, for the ratios plot, what we've found really strengthen our hypothesis that young women are gradually interested in data science field. The ratios plot above indicates that **there are a huge number of aspiring data scientists** that are currently still a student which is usually a young woman. To prove that students are usually youngster, let's explore more the data of woman students."
   ]
  },
  {
   "cell_type": "code",
   "execution_count": 424,
   "metadata": {
    "hidden": true,
    "scrolled": false
   },
   "outputs": [
    {
     "data": {
      "text/html": [
       "<div>\n",
       "<style scoped>\n",
       "    .dataframe tbody tr th:only-of-type {\n",
       "        vertical-align: middle;\n",
       "    }\n",
       "\n",
       "    .dataframe tbody tr th {\n",
       "        vertical-align: top;\n",
       "    }\n",
       "\n",
       "    .dataframe thead th {\n",
       "        text-align: right;\n",
       "    }\n",
       "</style>\n",
       "<table border=\"1\" class=\"dataframe\">\n",
       "  <thead>\n",
       "    <tr style=\"text-align: right;\">\n",
       "      <th></th>\n",
       "      <th>Counts</th>\n",
       "    </tr>\n",
       "    <tr>\n",
       "      <th>Age Group</th>\n",
       "      <th></th>\n",
       "    </tr>\n",
       "  </thead>\n",
       "  <tbody>\n",
       "    <tr>\n",
       "      <th>18-21</th>\n",
       "      <td>579</td>\n",
       "    </tr>\n",
       "    <tr>\n",
       "      <th>22-24</th>\n",
       "      <td>371</td>\n",
       "    </tr>\n",
       "    <tr>\n",
       "      <th>25-29</th>\n",
       "      <td>169</td>\n",
       "    </tr>\n",
       "    <tr>\n",
       "      <th>30-34</th>\n",
       "      <td>63</td>\n",
       "    </tr>\n",
       "    <tr>\n",
       "      <th>35-39</th>\n",
       "      <td>34</td>\n",
       "    </tr>\n",
       "    <tr>\n",
       "      <th>40-44</th>\n",
       "      <td>16</td>\n",
       "    </tr>\n",
       "    <tr>\n",
       "      <th>45-49</th>\n",
       "      <td>5</td>\n",
       "    </tr>\n",
       "    <tr>\n",
       "      <th>55-59</th>\n",
       "      <td>4</td>\n",
       "    </tr>\n",
       "    <tr>\n",
       "      <th>50-54</th>\n",
       "      <td>4</td>\n",
       "    </tr>\n",
       "  </tbody>\n",
       "</table>\n",
       "</div>"
      ],
      "text/plain": [
       "           Counts\n",
       "Age Group        \n",
       "18-21         579\n",
       "22-24         371\n",
       "25-29         169\n",
       "30-34          63\n",
       "35-39          34\n",
       "40-44          16\n",
       "45-49           5\n",
       "55-59           4\n",
       "50-54           4"
      ]
     },
     "execution_count": 424,
     "metadata": {},
     "output_type": "execute_result"
    }
   ],
   "source": [
    "# processing age group for woman students\n",
    "tmp_age = gender[(gender.Q2 == 'Woman') & (gender.Q5 == 'Student')] \\\n",
    "                .groupby('Q1') \\\n",
    "                .count() \\\n",
    "                .Q0.sort_values(ascending=False) \\\n",
    "                .rename('Counts')\n",
    "\n",
    "tmp_age = pd.DataFrame(tmp_age)\n",
    "tmp_age.index.name = 'Age Group'\n",
    "tmp_age"
   ]
  },
  {
   "cell_type": "markdown",
   "metadata": {
    "hidden": true
   },
   "source": [
    "Excellent. This is what we expected. The woman students are dominated by young women as shown by dataframe above. This is another evidence to prove that progressively young women are more interested in diving in the field."
   ]
  },
  {
   "cell_type": "markdown",
   "metadata": {
    "heading_collapsed": true,
    "hidden": true
   },
   "source": [
    "#### Experience"
   ]
  },
  {
   "cell_type": "markdown",
   "metadata": {
    "hidden": true
   },
   "source": [
    "Let's do the same for data in experience aspect. Here, we have two kinds of experience: coding experience and machine learning (ML) experience."
   ]
  },
  {
   "cell_type": "code",
   "execution_count": 396,
   "metadata": {
    "hidden": true
   },
   "outputs": [
    {
     "name": "stderr",
     "output_type": "stream",
     "text": [
      "<ipython-input-276-450a03458b29>:6: SettingWithCopyWarning:\n",
      "\n",
      "\n",
      "A value is trying to be set on a copy of a slice from a DataFrame.\n",
      "Try using .loc[row_indexer,col_indexer] = value instead\n",
      "\n",
      "See the caveats in the documentation: https://pandas.pydata.org/pandas-docs/stable/user_guide/indexing.html#returning-a-view-versus-a-copy\n",
      "\n",
      "C:\\Users\\utomo\\Anaconda3\\lib\\site-packages\\pandas\\core\\frame.py:4125: SettingWithCopyWarning:\n",
      "\n",
      "\n",
      "A value is trying to be set on a copy of a slice from a DataFrame\n",
      "\n",
      "See the caveats in the documentation: https://pandas.pydata.org/pandas-docs/stable/user_guide/indexing.html#returning-a-view-versus-a-copy\n",
      "\n",
      "<ipython-input-276-450a03458b29>:10: SettingWithCopyWarning:\n",
      "\n",
      "\n",
      "A value is trying to be set on a copy of a slice from a DataFrame.\n",
      "Try using .loc[row_indexer,col_indexer] = value instead\n",
      "\n",
      "See the caveats in the documentation: https://pandas.pydata.org/pandas-docs/stable/user_guide/indexing.html#returning-a-view-versus-a-copy\n",
      "\n"
     ]
    }
   ],
   "source": [
    "# create new DF for coding exp\n",
    "woman_exp_prog = gender[gender.Q2 == 'Woman'].Q6.value_counts().rename('Woman')\n",
    "man_exp_prog = gender[gender.Q2 == 'Man'].Q6.value_counts().rename('Man')\n",
    "exp_prog = pd.concat([woman_exp_prog, man_exp_prog], axis=1)\n",
    "\n",
    "# calculate ratio\n",
    "exp_prog['Woman Ratio'] = exp_prog.apply(lambda col: col['Woman'] / exp_prog.Woman.sum(), axis=1)\n",
    "exp_prog['Man Ratio'] = exp_prog.apply(lambda col: col['Man'] / exp_prog.Man.sum(), axis=1)\n",
    "\n",
    "# create new DF for ML exp\n",
    "woman_exp_ml = gender[gender.Q2 == 'Woman'].Q15.value_counts().rename('Woman')\n",
    "man_exp_ml = gender[gender.Q2 == 'Man'].Q15.value_counts().rename('Man')\n",
    "exp_ml = pd.concat([woman_exp_ml, man_exp_ml], axis=1)\n",
    "\n",
    "# calculate ratio\n",
    "exp_ml['Woman Ratio'] = exp_ml.apply(lambda col: col['Woman'] / exp_ml.Woman.sum(), axis=1)\n",
    "exp_ml['Man Ratio'] = exp_ml.apply(lambda col: col['Man'] / exp_ml.Man.sum(), axis=1)\n",
    "\n",
    "# pivot both coding exp and ML exp DFs\n",
    "exp_prog_pivot = pivot_woman_man(exp_prog, 'Coding Experience')\n",
    "exp_ml_pivot = pivot_woman_man(exp_ml, 'ML Experience')\n",
    "\n",
    "# set negative values for both DFs\n",
    "set2negative(exp_prog_pivot, 'Counts', 0, 7)\n",
    "set2negative(exp_prog_pivot, 'Ratio', 0, 7)\n",
    "\n",
    "set2negative(exp_ml_pivot, 'Counts', 0, 9)\n",
    "set2negative(exp_ml_pivot, 'Ratio', 0, 9)"
   ]
  },
  {
   "cell_type": "code",
   "execution_count": 397,
   "metadata": {
    "hidden": true,
    "scrolled": true
   },
   "outputs": [
    {
     "data": {
      "image/png": "[encoded data removed]",
      "text/plain": [
       "<Figure size 864x360 with 1 Axes>"
      ]
     },
     "metadata": {
      "needs_background": "light"
     },
     "output_type": "display_data"
    },
    {
     "data": {
      "image/png": "[encoded data removed]",
      "text/plain": [
       "<Figure size 864x360 with 1 Axes>"
      ]
     },
     "metadata": {
      "needs_background": "light"
     },
     "output_type": "display_data"
    }
   ],
   "source": [
    "# pyramid plots of counts & ratios for coding exp\n",
    "pyramid_plot(exp_prog_pivot, 'Counts', 'Coding Experience', 'Gender', legend_loc='lower left', \n",
    "             title='Counts of coding experience between women and men',\n",
    "             xticks=[-1000, 0, 1000, 2000, 3000], \n",
    "             xticklabel=['1000', '0', '1000', '2000', '3000']);\n",
    "\n",
    "pyramid_plot(exp_prog_pivot, 'Ratio', 'Coding Experience', 'Gender', legend_loc='lower left', \n",
    "             title='Ratio of coding experience between women and men',\n",
    "             xticks=[-0.2, -0.1, 0.0, 0.1, 0.2], \n",
    "             xticklabel=['0.2', '0.1', '0.0', '0.1', '0.2']);"
   ]
  },
  {
   "cell_type": "code",
   "execution_count": 398,
   "metadata": {
    "hidden": true,
    "scrolled": false
   },
   "outputs": [
    {
     "data": {
      "image/png": "[encoded data removed]",
      "text/plain": [
       "<Figure size 864x360 with 1 Axes>"
      ]
     },
     "metadata": {
      "needs_background": "light"
     },
     "output_type": "display_data"
    },
    {
     "data": {
      "image/png": "[encoded data removed]",
      "text/plain": [
       "<Figure size 864x360 with 1 Axes>"
      ]
     },
     "metadata": {
      "needs_background": "light"
     },
     "output_type": "display_data"
    }
   ],
   "source": [
    "# pyramid plots of counts & ratios for ML exp\n",
    "pyramid_plot(exp_ml_pivot, 'Counts', 'ML Experience', 'Gender', legend_loc='lower left', \n",
    "             title='Counts of ML experience between women and men',\n",
    "             xticks=[-1000, 0, 1000, 2000, 3000, 4000, 5000], \n",
    "             xticklabel=['1000', '0', '1000', '2000', '3000', '4000', '5000']);\n",
    "\n",
    "pyramid_plot(exp_ml_pivot, 'Ratio', 'ML Experience', 'Gender', legend_loc='lower left', \n",
    "             title='Ratio of ML experience between women and men',\n",
    "             xticks=[-0.4, -0.3, -0.2, -0.1, 0.0, 0.1, 0.2, 0.3, 0.4], \n",
    "             xticklabel=['0.4', '0.3', '0.2', '0.1', '0.0', '0.1', '0.2', '0.3', '0.4']);"
   ]
  },
  {
   "cell_type": "markdown",
   "metadata": {
    "hidden": true
   },
   "source": [
    "For both coding and ML experience data, as usual, men dominate the data for every experience range. However, we've found that aspring female data scientist or women with little coding and ML experience dominate the data. Those with minimum experience should be youngster. But, to prove this hypothesis, let's check the age for this proportion."
   ]
  },
  {
   "cell_type": "code",
   "execution_count": 422,
   "metadata": {
    "hidden": true,
    "scrolled": true
   },
   "outputs": [
    {
     "data": {
      "text/html": [
       "<div>\n",
       "<style scoped>\n",
       "    .dataframe tbody tr th:only-of-type {\n",
       "        vertical-align: middle;\n",
       "    }\n",
       "\n",
       "    .dataframe tbody tr th {\n",
       "        vertical-align: top;\n",
       "    }\n",
       "\n",
       "    .dataframe thead th {\n",
       "        text-align: right;\n",
       "    }\n",
       "</style>\n",
       "<table border=\"1\" class=\"dataframe\">\n",
       "  <thead>\n",
       "    <tr style=\"text-align: right;\">\n",
       "      <th></th>\n",
       "      <th>Counts</th>\n",
       "    </tr>\n",
       "    <tr>\n",
       "      <th>Age Group</th>\n",
       "      <th></th>\n",
       "    </tr>\n",
       "  </thead>\n",
       "  <tbody>\n",
       "    <tr>\n",
       "      <th>18-21</th>\n",
       "      <td>306</td>\n",
       "    </tr>\n",
       "    <tr>\n",
       "      <th>22-24</th>\n",
       "      <td>281</td>\n",
       "    </tr>\n",
       "    <tr>\n",
       "      <th>25-29</th>\n",
       "      <td>215</td>\n",
       "    </tr>\n",
       "    <tr>\n",
       "      <th>30-34</th>\n",
       "      <td>93</td>\n",
       "    </tr>\n",
       "    <tr>\n",
       "      <th>35-39</th>\n",
       "      <td>50</td>\n",
       "    </tr>\n",
       "    <tr>\n",
       "      <th>40-44</th>\n",
       "      <td>31</td>\n",
       "    </tr>\n",
       "    <tr>\n",
       "      <th>45-49</th>\n",
       "      <td>10</td>\n",
       "    </tr>\n",
       "    <tr>\n",
       "      <th>50-54</th>\n",
       "      <td>9</td>\n",
       "    </tr>\n",
       "    <tr>\n",
       "      <th>55-59</th>\n",
       "      <td>5</td>\n",
       "    </tr>\n",
       "    <tr>\n",
       "      <th>60-69</th>\n",
       "      <td>4</td>\n",
       "    </tr>\n",
       "  </tbody>\n",
       "</table>\n",
       "</div>"
      ],
      "text/plain": [
       "           Counts\n",
       "Age Group        \n",
       "18-21         306\n",
       "22-24         281\n",
       "25-29         215\n",
       "30-34          93\n",
       "35-39          50\n",
       "40-44          31\n",
       "45-49          10\n",
       "50-54           9\n",
       "55-59           5\n",
       "60-69           4"
      ]
     },
     "execution_count": 422,
     "metadata": {},
     "output_type": "execute_result"
    }
   ],
   "source": [
    "# processing age group for women with minimum coding experience\n",
    "tmp_age_code = gender[(gender.Q2 == 'Woman') & (gender.Q6 == '1-2 years')] \\\n",
    "                .groupby('Q1') \\\n",
    "                .count() \\\n",
    "                .Q0.sort_values(ascending=False) \\\n",
    "                .rename('Counts')\n",
    "\n",
    "tmp_age_code = pd.DataFrame(tmp_age_code)\n",
    "tmp_age_code.index.name = 'Age Group'\n",
    "tmp_age_code"
   ]
  },
  {
   "cell_type": "code",
   "execution_count": 423,
   "metadata": {
    "hidden": true,
    "scrolled": true
   },
   "outputs": [
    {
     "data": {
      "text/html": [
       "<div>\n",
       "<style scoped>\n",
       "    .dataframe tbody tr th:only-of-type {\n",
       "        vertical-align: middle;\n",
       "    }\n",
       "\n",
       "    .dataframe tbody tr th {\n",
       "        vertical-align: top;\n",
       "    }\n",
       "\n",
       "    .dataframe thead th {\n",
       "        text-align: right;\n",
       "    }\n",
       "</style>\n",
       "<table border=\"1\" class=\"dataframe\">\n",
       "  <thead>\n",
       "    <tr style=\"text-align: right;\">\n",
       "      <th></th>\n",
       "      <th>Counts</th>\n",
       "    </tr>\n",
       "    <tr>\n",
       "      <th>Age Group</th>\n",
       "      <th></th>\n",
       "    </tr>\n",
       "  </thead>\n",
       "  <tbody>\n",
       "    <tr>\n",
       "      <th>22-24</th>\n",
       "      <td>327</td>\n",
       "    </tr>\n",
       "    <tr>\n",
       "      <th>18-21</th>\n",
       "      <td>312</td>\n",
       "    </tr>\n",
       "    <tr>\n",
       "      <th>25-29</th>\n",
       "      <td>268</td>\n",
       "    </tr>\n",
       "    <tr>\n",
       "      <th>30-34</th>\n",
       "      <td>138</td>\n",
       "    </tr>\n",
       "    <tr>\n",
       "      <th>35-39</th>\n",
       "      <td>99</td>\n",
       "    </tr>\n",
       "    <tr>\n",
       "      <th>40-44</th>\n",
       "      <td>61</td>\n",
       "    </tr>\n",
       "    <tr>\n",
       "      <th>45-49</th>\n",
       "      <td>25</td>\n",
       "    </tr>\n",
       "    <tr>\n",
       "      <th>50-54</th>\n",
       "      <td>19</td>\n",
       "    </tr>\n",
       "    <tr>\n",
       "      <th>55-59</th>\n",
       "      <td>11</td>\n",
       "    </tr>\n",
       "    <tr>\n",
       "      <th>60-69</th>\n",
       "      <td>9</td>\n",
       "    </tr>\n",
       "    <tr>\n",
       "      <th>70+</th>\n",
       "      <td>1</td>\n",
       "    </tr>\n",
       "  </tbody>\n",
       "</table>\n",
       "</div>"
      ],
      "text/plain": [
       "           Counts\n",
       "Age Group        \n",
       "22-24         327\n",
       "18-21         312\n",
       "25-29         268\n",
       "30-34         138\n",
       "35-39          99\n",
       "40-44          61\n",
       "45-49          25\n",
       "50-54          19\n",
       "55-59          11\n",
       "60-69           9\n",
       "70+             1"
      ]
     },
     "execution_count": 423,
     "metadata": {},
     "output_type": "execute_result"
    }
   ],
   "source": [
    "# processing age group for women with minimum ML experience\n",
    "tmp_age_ml = gender[(gender.Q2 == 'Woman') & (gender.Q15 == 'Under 1 year')] \\\n",
    "                .groupby('Q1') \\\n",
    "                .count() \\\n",
    "                .Q0.sort_values(ascending=False) \\\n",
    "                .rename('Counts')\n",
    "\n",
    "tmp_age_ml = pd.DataFrame(tmp_age_ml)\n",
    "tmp_age_ml.index.name = 'Age Group'\n",
    "tmp_age_ml"
   ]
  },
  {
   "cell_type": "markdown",
   "metadata": {
    "hidden": true
   },
   "source": [
    "Excellent. This is what we expected. The women with minimum experience both in coding and machine learning are dominated by young women as shown by dataframes above. This is another evidence to prove that progressively young women are more interested in diving in the field."
   ]
  },
  {
   "cell_type": "markdown",
   "metadata": {
    "heading_collapsed": true,
    "hidden": true
   },
   "source": [
    "#### Salary"
   ]
  },
  {
   "cell_type": "markdown",
   "metadata": {
    "hidden": true
   },
   "source": [
    "Let's do the same for data in salary aspect. This aspect is the one we've been waiting for.\n",
    "\n",
    "Before we process the data, we should define some useful functions."
   ]
  },
  {
   "cell_type": "code",
   "execution_count": 67,
   "metadata": {
    "hidden": true
   },
   "outputs": [],
   "source": [
    "def remove_punctuation(string, punctuation=string.punctuation + ' '):\n",
    "    \"\"\"used to remove punctuation in a given string\"\"\"\n",
    "    for char in string:\n",
    "        if char in punctuation:\n",
    "            string = string.replace(char, \"\")\n",
    "            \n",
    "    return string"
   ]
  },
  {
   "cell_type": "code",
   "execution_count": 68,
   "metadata": {
    "hidden": true
   },
   "outputs": [],
   "source": [
    "def split_salary(string):\n",
    "    \"\"\"used to split salary string from the Q24 column\"\"\"\n",
    "    \n",
    "    # find the regex patterns for lower & upper threshold of salary\n",
    "    lower = re.findall(r\".+(?=\\-)\", string)\n",
    "    upper = re.findall(r\"(?<=\\-).+\", string)\n",
    "    \n",
    "    # if both thresholds found, remove the punctuations and return both\n",
    "    if lower and upper:\n",
    "        return pd.Series([int(remove_punctuation(lower[0])), int(remove_punctuation(upper[0]))])\n",
    "    # if not, remove the punctuations and set the given string as lower, then set 700K as the upper\n",
    "    else:\n",
    "        return pd.Series([int(remove_punctuation(string)), 700000])"
   ]
  },
  {
   "cell_type": "markdown",
   "metadata": {
    "hidden": true
   },
   "source": [
    "Good. Let's process the data."
   ]
  },
  {
   "cell_type": "code",
   "execution_count": 399,
   "metadata": {
    "hidden": true,
    "scrolled": false
   },
   "outputs": [
    {
     "name": "stderr",
     "output_type": "stream",
     "text": [
      "<ipython-input-276-450a03458b29>:6: SettingWithCopyWarning:\n",
      "\n",
      "\n",
      "A value is trying to be set on a copy of a slice from a DataFrame.\n",
      "Try using .loc[row_indexer,col_indexer] = value instead\n",
      "\n",
      "See the caveats in the documentation: https://pandas.pydata.org/pandas-docs/stable/user_guide/indexing.html#returning-a-view-versus-a-copy\n",
      "\n",
      "<ipython-input-276-450a03458b29>:10: SettingWithCopyWarning:\n",
      "\n",
      "\n",
      "A value is trying to be set on a copy of a slice from a DataFrame.\n",
      "Try using .loc[row_indexer,col_indexer] = value instead\n",
      "\n",
      "See the caveats in the documentation: https://pandas.pydata.org/pandas-docs/stable/user_guide/indexing.html#returning-a-view-versus-a-copy\n",
      "\n"
     ]
    }
   ],
   "source": [
    "# create new DF\n",
    "woman_salary = gender[gender.Q2 == 'Woman'].Q24.value_counts().rename('Woman')\n",
    "man_salary = gender[gender.Q2 == 'Man'].Q24.value_counts().rename('Man')\n",
    "salary = pd.concat([woman_salary, man_salary], axis=1).reset_index()\n",
    "\n",
    "salary.rename(columns={salary.columns[0]: 'Salary'}, inplace=True) # rename the index reset\n",
    "\n",
    "# add new columns for lower & upper salary boundaries\n",
    "salary[['Lower Boundary', 'Upper Boundary']] = salary.Salary.apply(split_salary)\n",
    "\n",
    "salary = salary.sort_values('Lower Boundary') # sort data\n",
    "\n",
    "# calculate ratio\n",
    "salary['Woman Ratio'] = salary.Woman.apply(lambda row: row/salary.Woman.sum())\n",
    "salary['Man Ratio'] = salary.Man.apply(lambda row: row/salary.Man.sum())\n",
    "\n",
    "# add new column for average\n",
    "salary['Average'] = salary.apply(lambda col: int(round((col['Lower Boundary']+col['Upper Boundary']) / 2)), axis=1)\n",
    "\n",
    "salary = salary.set_index('Salary') # set index\n",
    "salary_pivot = pivot_woman_man(salary, 'Salary') # pivot DF\n",
    "\n",
    "# set the negative values\n",
    "set2negative(salary_pivot, 'Counts', 0, 25)\n",
    "set2negative(salary_pivot, 'Ratio', 0, 25)"
   ]
  },
  {
   "cell_type": "markdown",
   "metadata": {
    "hidden": true
   },
   "source": [
    "Nice. Let's plot the data."
   ]
  },
  {
   "cell_type": "code",
   "execution_count": 400,
   "metadata": {
    "hidden": true,
    "scrolled": false
   },
   "outputs": [
    {
     "data": {
      "image/png": "[encoded data removed]",
      "text/plain": [
       "<Figure size 864x360 with 1 Axes>"
      ]
     },
     "metadata": {
      "needs_background": "light"
     },
     "output_type": "display_data"
    },
    {
     "data": {
      "image/png": "[encoded data removed]",
      "text/plain": [
       "<Figure size 864x360 with 1 Axes>"
      ]
     },
     "metadata": {
      "needs_background": "light"
     },
     "output_type": "display_data"
    }
   ],
   "source": [
    "# plot for counts data\n",
    "pyramid_plot(salary_pivot, 'Counts', 'Salary', 'Gender', legend_loc='lower left', \n",
    "             title='Counts of average salary between women and men',\n",
    "             xticks=[-500, 0, 500, 1000, 1500], \n",
    "             xticklabel=['500', '0', '500', '1000', '1500']);\n",
    "\n",
    "# plot for ratios data\n",
    "pyramid_plot(salary_pivot, 'Ratio', 'Salary', 'Gender', legend_loc='lower left', \n",
    "             title='Ratio of average salary between women and men',\n",
    "             xticks=[-0.3, -0.2, -0.1, 0.0, 0.1, 0.2], \n",
    "             xticklabel=['0.3', '0.2', '0.1', '0.0', '0.1', '0.2']);"
   ]
  },
  {
   "cell_type": "markdown",
   "metadata": {
    "hidden": true,
    "scrolled": false
   },
   "source": [
    "From both charts above, we can see, again, men always dominate in terms of number. But, if focus on the ratios chart, there is a large proportion for the least salary range in women data. This proportion should be for those women with minimum experience since usually less experienced employees earn less than the more experienced ones. However, to prove this hypothesis, let's explore this proportion where the gender is woman and salary range is between 0 and 999 USD."
   ]
  },
  {
   "cell_type": "code",
   "execution_count": 419,
   "metadata": {
    "hidden": true,
    "scrolled": true
   },
   "outputs": [
    {
     "data": {
      "text/html": [
       "<div>\n",
       "<style scoped>\n",
       "    .dataframe tbody tr th:only-of-type {\n",
       "        vertical-align: middle;\n",
       "    }\n",
       "\n",
       "    .dataframe tbody tr th {\n",
       "        vertical-align: top;\n",
       "    }\n",
       "\n",
       "    .dataframe thead th {\n",
       "        text-align: right;\n",
       "    }\n",
       "</style>\n",
       "<table border=\"1\" class=\"dataframe\">\n",
       "  <thead>\n",
       "    <tr style=\"text-align: right;\">\n",
       "      <th></th>\n",
       "      <th>Counts</th>\n",
       "    </tr>\n",
       "    <tr>\n",
       "      <th>Coding Experience</th>\n",
       "      <th></th>\n",
       "    </tr>\n",
       "  </thead>\n",
       "  <tbody>\n",
       "    <tr>\n",
       "      <th>1-2 years</th>\n",
       "      <td>135</td>\n",
       "    </tr>\n",
       "    <tr>\n",
       "      <th>3-5 years</th>\n",
       "      <td>113</td>\n",
       "    </tr>\n",
       "    <tr>\n",
       "      <th>&lt; 1 years</th>\n",
       "      <td>100</td>\n",
       "    </tr>\n",
       "    <tr>\n",
       "      <th>I have never written code</th>\n",
       "      <td>58</td>\n",
       "    </tr>\n",
       "    <tr>\n",
       "      <th>5-10 years</th>\n",
       "      <td>47</td>\n",
       "    </tr>\n",
       "    <tr>\n",
       "      <th>10-20 years</th>\n",
       "      <td>17</td>\n",
       "    </tr>\n",
       "    <tr>\n",
       "      <th>20+ years</th>\n",
       "      <td>15</td>\n",
       "    </tr>\n",
       "  </tbody>\n",
       "</table>\n",
       "</div>"
      ],
      "text/plain": [
       "                           Counts\n",
       "Coding Experience                \n",
       "1-2 years                     135\n",
       "3-5 years                     113\n",
       "< 1 years                     100\n",
       "I have never written code      58\n",
       "5-10 years                     47\n",
       "10-20 years                    17\n",
       "20+ years                      15"
      ]
     },
     "execution_count": 419,
     "metadata": {},
     "output_type": "execute_result"
    }
   ],
   "source": [
    "# for coding experience\n",
    "tmp_code = gender[(gender.Q2 == 'Woman') & (gender.Q24 == '$0-999')] \\\n",
    "            .groupby('Q6') \\\n",
    "            .count() \\\n",
    "            .Q0.sort_values(ascending=False) \\\n",
    "            .rename('Counts')\n",
    "\n",
    "tmp_code = pd.DataFrame(tmp_code)\n",
    "tmp_code.index.name = 'Coding Experience'\n",
    "tmp_code"
   ]
  },
  {
   "cell_type": "code",
   "execution_count": 418,
   "metadata": {
    "hidden": true,
    "scrolled": true
   },
   "outputs": [
    {
     "data": {
      "text/html": [
       "<div>\n",
       "<style scoped>\n",
       "    .dataframe tbody tr th:only-of-type {\n",
       "        vertical-align: middle;\n",
       "    }\n",
       "\n",
       "    .dataframe tbody tr th {\n",
       "        vertical-align: top;\n",
       "    }\n",
       "\n",
       "    .dataframe thead th {\n",
       "        text-align: right;\n",
       "    }\n",
       "</style>\n",
       "<table border=\"1\" class=\"dataframe\">\n",
       "  <thead>\n",
       "    <tr style=\"text-align: right;\">\n",
       "      <th></th>\n",
       "      <th>Counts</th>\n",
       "    </tr>\n",
       "    <tr>\n",
       "      <th>ML Experience</th>\n",
       "      <th></th>\n",
       "    </tr>\n",
       "  </thead>\n",
       "  <tbody>\n",
       "    <tr>\n",
       "      <th>Under 1 year</th>\n",
       "      <td>200</td>\n",
       "    </tr>\n",
       "    <tr>\n",
       "      <th>1-2 years</th>\n",
       "      <td>102</td>\n",
       "    </tr>\n",
       "    <tr>\n",
       "      <th>I do not use machine learning methods</th>\n",
       "      <td>55</td>\n",
       "    </tr>\n",
       "    <tr>\n",
       "      <th>2-3 years</th>\n",
       "      <td>35</td>\n",
       "    </tr>\n",
       "    <tr>\n",
       "      <th>3-4 years</th>\n",
       "      <td>15</td>\n",
       "    </tr>\n",
       "    <tr>\n",
       "      <th>4-5 years</th>\n",
       "      <td>8</td>\n",
       "    </tr>\n",
       "    <tr>\n",
       "      <th>5-10 years</th>\n",
       "      <td>7</td>\n",
       "    </tr>\n",
       "    <tr>\n",
       "      <th>10-20 years</th>\n",
       "      <td>3</td>\n",
       "    </tr>\n",
       "    <tr>\n",
       "      <th>20 or more years</th>\n",
       "      <td>2</td>\n",
       "    </tr>\n",
       "  </tbody>\n",
       "</table>\n",
       "</div>"
      ],
      "text/plain": [
       "                                       Counts\n",
       "ML Experience                                \n",
       "Under 1 year                              200\n",
       "1-2 years                                 102\n",
       "I do not use machine learning methods      55\n",
       "2-3 years                                  35\n",
       "3-4 years                                  15\n",
       "4-5 years                                   8\n",
       "5-10 years                                  7\n",
       "10-20 years                                 3\n",
       "20 or more years                            2"
      ]
     },
     "execution_count": 418,
     "metadata": {},
     "output_type": "execute_result"
    }
   ],
   "source": [
    "# for ML experience\n",
    "tmp_ml = gender[(gender.Q2 == 'Woman') & (gender.Q24 == '$0-999')] \\\n",
    "            .groupby('Q15') \\\n",
    "            .count() \\\n",
    "            .Q0.sort_values(ascending=False) \\\n",
    "            .rename('Counts')\n",
    "\n",
    "tmp_ml = pd.DataFrame(tmp_ml)\n",
    "tmp_ml.index.name = 'ML Experience'\n",
    "tmp_ml"
   ]
  },
  {
   "cell_type": "markdown",
   "metadata": {
    "hidden": true
   },
   "source": [
    "Great! Our hypothesis is proved. the proportion is dominated by women with minimum experience both in coding and machine learning. Their experience ranges from under 1 year to below 3 years."
   ]
  },
  {
   "cell_type": "markdown",
   "metadata": {
    "heading_collapsed": true,
    "hidden": true
   },
   "source": [
    "### Question 2\n",
    "What are skills needed to become a data scientist, data engineer, data analyst, or ML engineer?"
   ]
  },
  {
   "cell_type": "markdown",
   "metadata": {
    "hidden": true
   },
   "source": [
    "To answer this question, below are the columns of interest I think we need:\n",
    "- Q5 role\n",
    "- Q7 programming language (many columns)\n",
    "- Q8 programming language recommended\n",
    "- Q12 specialized hardware (many columns)\n",
    "- Q14 data viz library (many columns)\n",
    "- Q16 ML framework (many columns)\n",
    "- Q17 ML algorithm (many columns)\n",
    "- Q18 CV method (many columns)\n",
    "- Q19 NLP method (many columns)\n",
    "- Q23 important activity (many columns)\n",
    "- Q26 A/B cloud computing platform (many columns)\n",
    "- Q27 A/B cloud computing product (many columns)\n",
    "- Q28 A/B ML product (many columns)\n",
    "- Q29 A/B big data product (many columns)\n",
    "- Q30 big data product used most often\n",
    "- Q31 A/B BI tool (many columns)\n",
    "- Q32 BI tool used most often\n",
    "- Q33 A/B AutoML category (many columns)\n",
    "- Q34 A/B AutoML (many columns)\n",
    "- Q35 A/B ML experiment (many columns)\n",
    "- Q36 deploy (many columns)\n",
    "\n",
    "All columns above, except the Q5 column, are the ones that represent skills needed for becoming a data professional. We store those columns as well its short-version description."
   ]
  },
  {
   "cell_type": "code",
   "execution_count": 6,
   "metadata": {
    "hidden": true
   },
   "outputs": [],
   "source": [
    "cols_interest = ((\"Q7\", \"programming language (many)\"), (\"Q8\", \"programming language recommended\"), (\"Q12\", \"specialized hardware (many)\"), \n",
    "                 (\"Q14\", \"data viz library (many)\"), (\"Q16\", \"ML framework (many)\"), (\"Q17\", \"ML algorithm (many)\"), (\"Q18\", \"CV method (many)\"), (\"Q19\", \"NLP method (many)\"), \n",
    "                 (\"Q23\", \"important activity (many)\"), (\"Q26_A\", \"cloud computing platform used (many)\"), (\"Q26_B\", \"cloud computing platform wanna use (many)\"), \n",
    "                 (\"Q27_A\", \"cloud computing product used (many)\"), (\"Q27_B\", \"cloud computing product wanna use (many)\"), (\"Q28_A\", \"ML product used (many)\"), \n",
    "                 (\"Q28_B\", \"ML product wanna use (many)\"), (\"Q29_A\", \"big data product used (many)\"), (\"Q29_B\", \"big data product wanna use (many)\"), \n",
    "                 (\"Q30\", \"big data product used most often\"), (\"Q31_A\", \"BI tool used (many)\"), (\"Q31_B\", \"BI tool wanna use (many)\"), (\"Q32\", \"BI tool used most often\"), \n",
    "                 (\"Q33_A\", \"AutoML category used (many)\"), (\"Q33_B\", \"AutoML category wanna use (many)\"), (\"Q34_A\", \"AutoML used (many)\"), (\"Q34_B\", \"AutoML wanna use (many)\"), \n",
    "                 (\"Q35_A\", \"ML experiment used (many)\"), (\"Q35_B\", \"ML experiment wanna use (many)\"), (\"Q36\", \"deploy (many)\"))"
   ]
  },
  {
   "cell_type": "markdown",
   "metadata": {
    "hidden": true
   },
   "source": [
    "First, we should define some necessary functions."
   ]
  },
  {
   "cell_type": "code",
   "execution_count": 7,
   "metadata": {
    "hidden": true,
    "scrolled": true
   },
   "outputs": [],
   "source": [
    "def calculate_ratio(tools_freq):\n",
    "    \"\"\"used to calculate ratio of tool frequencies in given skill\"\"\"\n",
    "    \n",
    "    total = sum([j for _,j in tools_freq]) # get total freq\n",
    "    data_yes = sum([j for i,j in tools_freq if 'do not' not in i and 'None' not in i]) # get freq for positive value\n",
    "    data_no = sum([j for i,j in tools_freq if 'do not share' in i or 'None' in i]) # get freq for negative value\n",
    "\n",
    "    return data_yes/total, data_no/total"
   ]
  },
  {
   "cell_type": "code",
   "execution_count": 8,
   "metadata": {
    "hidden": true,
    "scrolled": true
   },
   "outputs": [],
   "source": [
    "def get_key(dict_, input_key, returned='both'):\n",
    "    \"\"\"used to extract any key containing string input_key from a dict\n",
    "    \n",
    "    args:\n",
    "    dict_ (dict): dictionary to extract any key from\n",
    "    input_key (str): string to find any key containing such string\n",
    "    returned (str - default: 'both'): either 'A', 'B', or 'both' to indicate whether only returning A or B key, or both keys\n",
    "    \n",
    "    returns: list of keys (list of strings)\n",
    "    \"\"\"\n",
    "    # get all keys containing the given string\n",
    "    output = [k for k in dict_.keys() if input_key in k]\n",
    "    \n",
    "    if returned == 'both':\n",
    "        return output\n",
    "    elif returned == 'A':\n",
    "        return [o for o in output if 'A']\n",
    "    elif returned == 'B':\n",
    "        return [o for o in output if 'B']"
   ]
  },
  {
   "cell_type": "code",
   "execution_count": 11,
   "metadata": {
    "hidden": true
   },
   "outputs": [],
   "source": [
    "def join2lists(list1, list2):\n",
    "    \"\"\"used to join two lists into a single list\"\"\"\n",
    "    output = []\n",
    "    for l1, l2 in zip(list1, list2):\n",
    "        output.append((l1, l2))\n",
    "        \n",
    "    return output"
   ]
  },
  {
   "cell_type": "code",
   "execution_count": 9,
   "metadata": {
    "hidden": true
   },
   "outputs": [],
   "source": [
    "# create new dataframe consisting the roles we want\n",
    "roles = df[(df.Q5 == 'Data Scientist') | \n",
    "           (df.Q5 == 'Data Analyst') | \n",
    "           (df.Q5 == 'Machine Learning Engineer') | \n",
    "           (df.Q5 == 'Data Engineer')]"
   ]
  },
  {
   "cell_type": "code",
   "execution_count": 10,
   "metadata": {
    "hidden": true
   },
   "outputs": [],
   "source": [
    "# get the list of interested roles\n",
    "roles_interest = roles.Q5.value_counts().index.tolist()"
   ]
  },
  {
   "cell_type": "code",
   "execution_count": 12,
   "metadata": {
    "hidden": true
   },
   "outputs": [],
   "source": [
    "def get_skills(role, cols_interest=cols_interest):\n",
    "    \"\"\"used to get dict of skills belonging to the inputted role\n",
    "    \n",
    "    args:\n",
    "    role (str): the role we'd like to process\n",
    "    cols_interest (tuple of tuples): the tuple of tuples of cols_interest we defined earlier\n",
    "    \n",
    "    returns: a dict containing the skills belonging to given role\n",
    "    \"\"\"\n",
    "    \n",
    "    dict_skills = {} # set dict buffer\n",
    "    df_tmp = roles[roles.Q5 == role] # create new DF containing only the data of given role\n",
    "    \n",
    "    # loop through each column of interest\n",
    "    for col, desc in cols_interest:\n",
    "        dict_tmp = {}\n",
    "        \n",
    "        # in case current col of question only consists of single column\n",
    "        try:\n",
    "            tmp = df_tmp[col].value_counts()\n",
    "            tmp = tmp[tmp.index != 'None']\n",
    "            \n",
    "            freq = tmp.tolist()\n",
    "            tools = tmp.index\n",
    "        \n",
    "        # in case current col of question consists of multiple columnns\n",
    "        except KeyError:\n",
    "            # use describe() method to get count of every column of question\n",
    "            tmp = df_tmp[[c for c in df_tmp.columns if col in c]].describe()\n",
    "\n",
    "            tools, freq = [], []\n",
    "            \n",
    "            # loop through each column to get the the tool name and its appearances\n",
    "            for _, content in tmp.iteritems():\n",
    "                if isinstance(content['top'], str): #and 'None' not in content['top']:\n",
    "                    tools.append(content['top'].strip())\n",
    "                    freq.append(content['freq'])\n",
    "        \n",
    "        # gather all data in dict\n",
    "        dict_tmp['col'] = col\n",
    "        dict_tmp['desc'] = desc\n",
    "        # join 2 lists of lists then sort them properly\n",
    "        dict_tmp['tools_freq'] = sorted(join2lists(tools, freq), reverse=True, key=lambda x: x[1])\n",
    "        dict_skills[col] = dict_tmp\n",
    "        \n",
    "    return dict_skills"
   ]
  },
  {
   "cell_type": "code",
   "execution_count": 13,
   "metadata": {
    "hidden": true
   },
   "outputs": [
    {
     "name": "stderr",
     "output_type": "stream",
     "text": [
      "100%|████████████████████████████████████████████████████████████████████████████████████| 4/4 [00:04<00:00,  1.03s/it]\n"
     ]
    }
   ],
   "source": [
    "# process the roles\n",
    "dict_roles = {}\n",
    "\n",
    "for rl in tqdm(roles_interest):\n",
    "    dict_roles[rl] = get_skills(rl)"
   ]
  },
  {
   "cell_type": "markdown",
   "metadata": {
    "hidden": true
   },
   "source": [
    "Now, we'd like to combine all skill columns into several groups of skill. After looking at those skill columns thoroughly, I've found they can be classified into the following groups:\n",
    "- Main Activity: Q23\n",
    "- ML Deployment: Q36\n",
    "- Database & Big Data: Q29 and Q30\n",
    "- Data Visualization: Q14, Q31, and Q32\n",
    "- AI: Q18, Q19\n",
    "- ML Modeling: Q16, Q17, Q33, Q34\n",
    "- Programming: Q7 and Q8\n",
    "- Cloud: Q26, Q27, Q28\n",
    "\n",
    "Subsequently, all classifications, except the \"Main Activity\" classification, are in numeric type. Therefore, we will use `calculate_ratio()` function to get their ratio. Then, for the \"Main Activity\" classification, we will just use it as it is."
   ]
  },
  {
   "cell_type": "code",
   "execution_count": 29,
   "metadata": {
    "hidden": true
   },
   "outputs": [],
   "source": [
    "# define common skills variable as described above\n",
    "common_skills = ((\"Main Activity\", [\"Q23\"], \"\"),\n",
    "                 (\"ML Deployment\", [\"Q36\"], \"get_ratio\"),\n",
    "                 (\"Database & Big Data\", [\"Q29\", \"Q30\"], \"get_ratio\"),\n",
    "                 (\"Data Visualization\", [\"Q14\", \"Q31\", \"Q32\"], \"get_ratio\"),\n",
    "                 (\"AI\", [\"Q18\", \"Q19\"], \"get_ratio\"),\n",
    "                 (\"ML Modeling\", [\"Q16\", \"Q17\", \"Q33\", \"Q34\"], \"get_ratio\"),\n",
    "                 (\"Programming\", [\"Q7\", \"Q8\"], \"get_ratio\"),\n",
    "                 (\"Cloud\", [\"Q26\", \"Q27\", \"Q28\"], \"get_ratio\")\n",
    "                )"
   ]
  },
  {
   "cell_type": "markdown",
   "metadata": {
    "hidden": true
   },
   "source": [
    "Then, define the function to process the common skills"
   ]
  },
  {
   "cell_type": "code",
   "execution_count": 30,
   "metadata": {
    "hidden": true
   },
   "outputs": [],
   "source": [
    "def get_common_skills(role_skills, common_skills=common_skills):\n",
    "    \"\"\"used to process the classification of common skills of given role_skills\n",
    "    \n",
    "    args:\n",
    "    role_skills (dict): a dict of certain role skills returned from get_skills() function\n",
    "    common_skills (tuple of tuples): the tuple of tuples of common skills defined above\n",
    "    \n",
    "    returns: a dict containing processed common skills of given role\n",
    "    \"\"\"\n",
    "    dict_output = {} # set dict buffer\n",
    "    \n",
    "    # loop through each common skill and split its elements into classification name, list of cols, instruction\n",
    "    for sk,col,way in common_skills:\n",
    "        \n",
    "        # in case the empty instruction found, just collect the values\n",
    "        if way == '':\n",
    "            dict_output[sk] = role_skills[col[0]]['tools_freq']\n",
    "\n",
    "        # in case 'get_ratio' instruction found, process the ratio\n",
    "        else:\n",
    "            data_yes_A, data_no_A, data_yes_B, data_no_B = [], [], [], [] # set temporary buffers\n",
    "            \n",
    "            # loop through each col\n",
    "            for c in col:\n",
    "                keys = get_key(role_skills, c) # get the relevant key(s)\n",
    "            \n",
    "                # loop through each key\n",
    "                for k in keys:               \n",
    "                    # when key is the A part, calculate the ratio (for ) then store the result in A list\n",
    "                    if 'A' in k:\n",
    "                        yes, no = calculate_ratio(role_skills[k]['tools_freq'])\n",
    "                        data_yes_A.append(yes)\n",
    "                        data_no_A.append(no)\n",
    "\n",
    "                    # when key is the B part, calculate the ratio then store the result in B list\n",
    "                    elif 'B' in k:\n",
    "                        yes, no = calculate_ratio(role_skills[k]['tools_freq'])\n",
    "                        data_yes_B.append(yes)\n",
    "                        data_no_B.append(no)\n",
    "        \n",
    "                    # if no 'A' or 'B' part found, just calculate the ratio then store it in A list\n",
    "                    else:\n",
    "                        yes, no = calculate_ratio(role_skills[k]['tools_freq'])\n",
    "                        data_yes_A.append(yes)\n",
    "                        data_no_A.append(no)\n",
    "                \n",
    "            # for all ratios of A part of yes (positive) values, \n",
    "            # we calculate the mean and set it as the positive value.\n",
    "            # we do the same for A part of no (negative) values, then set it as the negative value\n",
    "            dict_output[sk] = {'Positive': sum(data_yes_A)/len(data_yes_A),\n",
    "                               'Negative': sum(data_no_A)/len(data_no_A)}\n",
    "            \n",
    "            # we also do the same for B part for both yes (positive) and no (negative) values,\n",
    "            # but we store them in the dict using 'aspiring' key\n",
    "            try:\n",
    "                dict_output[sk + ' - aspiring'] = {'Positive': sum(data_yes_B)/len(data_yes_B),\n",
    "                                                   'Negative': sum(data_no_B)/len(data_no_B)}\n",
    "            # in case no data found in list B\n",
    "            except ZeroDivisionError:\n",
    "                continue\n",
    "            \n",
    "    return dict_output"
   ]
  },
  {
   "cell_type": "code",
   "execution_count": 35,
   "metadata": {
    "hidden": true
   },
   "outputs": [],
   "source": [
    "# lambda function to exclude classification \"Main Activity\" from given dict\n",
    "excludeMainActivity = lambda dict_: [(k,v['Positive']) for k,v in dict_.items() if k != 'Main Activity']"
   ]
  },
  {
   "cell_type": "markdown",
   "metadata": {
    "hidden": true
   },
   "source": [
    "Now, we are ready to plot the results. We're going to use radar chart in which each radian shows the common classification skill."
   ]
  },
  {
   "cell_type": "code",
   "execution_count": 45,
   "metadata": {
    "hidden": true,
    "scrolled": false
   },
   "outputs": [
    {
     "data": {
      "application/vnd.plotly.v1+json": {
       "config": {
        "plotlyServerURL": "https://plot.ly"
       },
       "data": [
        {
         "hovertemplate": "Role=Data Analyst<br>Normalized Score=%{r}<br>Skill=%{theta}<extra></extra>",
         "legendgroup": "Data Analyst",
         "line": {
          "color": "#636efa",
          "dash": "solid"
         },
         "marker": {
          "symbol": "circle"
         },
         "mode": "lines+markers",
         "name": "Data Analyst",
         "r": [
          82.27353219428967,
          72.18385019107816,
          72.18385019107816,
          93.24316485836675,
          93.24316485836675,
          96.113184079602,
          96.113184079602,
          76.40249332146037,
          77.46965715604857,
          77.46965715604857,
          99.81561155500923,
          82.27353219428967
         ],
         "showlegend": true,
         "subplot": "polar",
         "theta": [
          "AI",
          "Cloud",
          "Cloud - aspiring",
          "Data Visualization",
          "Data Visualization - aspiring",
          "Database & Big Data",
          "Database & Big Data - aspiring",
          "ML Deployment",
          "ML Modeling",
          "ML Modeling - aspiring",
          "Programming",
          "AI"
         ],
         "type": "scatterpolar"
        },
        {
         "hovertemplate": "Role=Data Engineer<br>Normalized Score=%{r}<br>Skill=%{theta}<extra></extra>",
         "legendgroup": "Data Engineer",
         "line": {
          "color": "#EF553B",
          "dash": "solid"
         },
         "marker": {
          "symbol": "circle"
         },
         "mode": "lines+markers",
         "name": "Data Engineer",
         "r": [
          89.57668228367677,
          84.6153780235381,
          84.6153780235381,
          92.3068838136938,
          92.3068838136938,
          98.8943488943489,
          98.8943488943489,
          78.52193995381063,
          79.07473991887048,
          79.07473991887048,
          99.95957962813257,
          89.57668228367677
         ],
         "showlegend": true,
         "subplot": "polar",
         "theta": [
          "AI",
          "Cloud",
          "Cloud - aspiring",
          "Data Visualization",
          "Data Visualization - aspiring",
          "Database & Big Data",
          "Database & Big Data - aspiring",
          "ML Deployment",
          "ML Modeling",
          "ML Modeling - aspiring",
          "Programming",
          "AI"
         ],
         "type": "scatterpolar"
        },
        {
         "hovertemplate": "Role=Data Scientist<br>Normalized Score=%{r}<br>Skill=%{theta}<extra></extra>",
         "legendgroup": "Data Scientist",
         "line": {
          "color": "#00cc96",
          "dash": "solid"
         },
         "marker": {
          "symbol": "circle"
         },
         "mode": "lines+markers",
         "name": "Data Scientist",
         "r": [
          90.80618923682722,
          79.23157000176394,
          79.23157000176394,
          90.14181533168491,
          90.14181533168491,
          96.59348978046934,
          96.59348978046934,
          81.94444444444444,
          83.14695134755021,
          83.14695134755021,
          99.96452894438139,
          90.80618923682722
         ],
         "showlegend": true,
         "subplot": "polar",
         "theta": [
          "AI",
          "Cloud",
          "Cloud - aspiring",
          "Data Visualization",
          "Data Visualization - aspiring",
          "Database & Big Data",
          "Database & Big Data - aspiring",
          "ML Deployment",
          "ML Modeling",
          "ML Modeling - aspiring",
          "Programming",
          "AI"
         ],
         "type": "scatterpolar"
        },
        {
         "hovertemplate": "Role=Machine Learning Engineer<br>Normalized Score=%{r}<br>Skill=%{theta}<extra></extra>",
         "legendgroup": "Machine Learning Engineer",
         "line": {
          "color": "#ab63fa",
          "dash": "solid"
         },
         "marker": {
          "symbol": "circle"
         },
         "mode": "lines+markers",
         "name": "Machine Learning Engineer",
         "r": [
          93.11156115912068,
          84.09046914272945,
          84.09046914272945,
          85.21200092837785,
          85.21200092837785,
          94.59074733096085,
          94.59074733096085,
          85.07734303912648,
          85.36728087903826,
          85.36728087903826,
          99.9815293683044,
          93.11156115912068
         ],
         "showlegend": true,
         "subplot": "polar",
         "theta": [
          "AI",
          "Cloud",
          "Cloud - aspiring",
          "Data Visualization",
          "Data Visualization - aspiring",
          "Database & Big Data",
          "Database & Big Data - aspiring",
          "ML Deployment",
          "ML Modeling",
          "ML Modeling - aspiring",
          "Programming",
          "AI"
         ],
         "type": "scatterpolar"
        }
       ],
       "layout": {
        "legend": {
         "title": {
          "text": "Role"
         },
         "tracegroupgap": 0
        },
        "polar": {
         "angularaxis": {
          "direction": "clockwise",
          "rotation": 90
         },
         "domain": {
          "x": [
           0,
           1
          ],
          "y": [
           0,
           1
          ]
         }
        },
        "template": {
         "data": {
          "bar": [
           {
            "error_x": {
             "color": "#2a3f5f"
            },
            "error_y": {
             "color": "#2a3f5f"
            },
            "marker": {
             "line": {
              "color": "#E5ECF6",
              "width": 0.5
             },
             "pattern": {
              "fillmode": "overlay",
              "size": 10,
              "solidity": 0.2
             }
            },
            "type": "bar"
           }
          ],
          "barpolar": [
           {
            "marker": {
             "line": {
              "color": "#E5ECF6",
              "width": 0.5
             },
             "pattern": {
              "fillmode": "overlay",
              "size": 10,
              "solidity": 0.2
             }
            },
            "type": "barpolar"
           }
          ],
          "carpet": [
           {
            "aaxis": {
             "endlinecolor": "#2a3f5f",
             "gridcolor": "white",
             "linecolor": "white",
             "minorgridcolor": "white",
             "startlinecolor": "#2a3f5f"
            },
            "baxis": {
             "endlinecolor": "#2a3f5f",
             "gridcolor": "white",
             "linecolor": "white",
             "minorgridcolor": "white",
             "startlinecolor": "#2a3f5f"
            },
            "type": "carpet"
           }
          ],
          "choropleth": [
           {
            "colorbar": {
             "outlinewidth": 0,
             "ticks": ""
            },
            "type": "choropleth"
           }
          ],
          "contour": [
           {
            "colorbar": {
             "outlinewidth": 0,
             "ticks": ""
            },
            "colorscale": [
             [
              0,
              "#0d0887"
             ],
             [
              0.1111111111111111,
              "#46039f"
             ],
             [
              0.2222222222222222,
              "#7201a8"
             ],
             [
              0.3333333333333333,
              "#9c179e"
             ],
             [
              0.4444444444444444,
              "#bd3786"
             ],
             [
              0.5555555555555556,
              "#d8576b"
             ],
             [
              0.6666666666666666,
              "#ed7953"
             ],
             [
              0.7777777777777778,
              "#fb9f3a"
             ],
             [
              0.8888888888888888,
              "#fdca26"
             ],
             [
              1,
              "#f0f921"
             ]
            ],
            "type": "contour"
           }
          ],
          "contourcarpet": [
           {
            "colorbar": {
             "outlinewidth": 0,
             "ticks": ""
            },
            "type": "contourcarpet"
           }
          ],
          "heatmap": [
           {
            "colorbar": {
             "outlinewidth": 0,
             "ticks": ""
            },
            "colorscale": [
             [
              0,
              "#0d0887"
             ],
             [
              0.1111111111111111,
              "#46039f"
             ],
             [
              0.2222222222222222,
              "#7201a8"
             ],
             [
              0.3333333333333333,
              "#9c179e"
             ],
             [
              0.4444444444444444,
              "#bd3786"
             ],
             [
              0.5555555555555556,
              "#d8576b"
             ],
             [
              0.6666666666666666,
              "#ed7953"
             ],
             [
              0.7777777777777778,
              "#fb9f3a"
             ],
             [
              0.8888888888888888,
              "#fdca26"
             ],
             [
              1,
              "#f0f921"
             ]
            ],
            "type": "heatmap"
           }
          ],
          "heatmapgl": [
           {
            "colorbar": {
             "outlinewidth": 0,
             "ticks": ""
            },
            "colorscale": [
             [
              0,
              "#0d0887"
             ],
             [
              0.1111111111111111,
              "#46039f"
             ],
             [
              0.2222222222222222,
              "#7201a8"
             ],
             [
              0.3333333333333333,
              "#9c179e"
             ],
             [
              0.4444444444444444,
              "#bd3786"
             ],
             [
              0.5555555555555556,
              "#d8576b"
             ],
             [
              0.6666666666666666,
              "#ed7953"
             ],
             [
              0.7777777777777778,
              "#fb9f3a"
             ],
             [
              0.8888888888888888,
              "#fdca26"
             ],
             [
              1,
              "#f0f921"
             ]
            ],
            "type": "heatmapgl"
           }
          ],
          "histogram": [
           {
            "marker": {
             "pattern": {
              "fillmode": "overlay",
              "size": 10,
              "solidity": 0.2
             }
            },
            "type": "histogram"
           }
          ],
          "histogram2d": [
           {
            "colorbar": {
             "outlinewidth": 0,
             "ticks": ""
            },
            "colorscale": [
             [
              0,
              "#0d0887"
             ],
             [
              0.1111111111111111,
              "#46039f"
             ],
             [
              0.2222222222222222,
              "#7201a8"
             ],
             [
              0.3333333333333333,
              "#9c179e"
             ],
             [
              0.4444444444444444,
              "#bd3786"
             ],
             [
              0.5555555555555556,
              "#d8576b"
             ],
             [
              0.6666666666666666,
              "#ed7953"
             ],
             [
              0.7777777777777778,
              "#fb9f3a"
             ],
             [
              0.8888888888888888,
              "#fdca26"
             ],
             [
              1,
              "#f0f921"
             ]
            ],
            "type": "histogram2d"
           }
          ],
          "histogram2dcontour": [
           {
            "colorbar": {
             "outlinewidth": 0,
             "ticks": ""
            },
            "colorscale": [
             [
              0,
              "#0d0887"
             ],
             [
              0.1111111111111111,
              "#46039f"
             ],
             [
              0.2222222222222222,
              "#7201a8"
             ],
             [
              0.3333333333333333,
              "#9c179e"
             ],
             [
              0.4444444444444444,
              "#bd3786"
             ],
             [
              0.5555555555555556,
              "#d8576b"
             ],
             [
              0.6666666666666666,
              "#ed7953"
             ],
             [
              0.7777777777777778,
              "#fb9f3a"
             ],
             [
              0.8888888888888888,
              "#fdca26"
             ],
             [
              1,
              "#f0f921"
             ]
            ],
            "type": "histogram2dcontour"
           }
          ],
          "mesh3d": [
           {
            "colorbar": {
             "outlinewidth": 0,
             "ticks": ""
            },
            "type": "mesh3d"
           }
          ],
          "parcoords": [
           {
            "line": {
             "colorbar": {
              "outlinewidth": 0,
              "ticks": ""
             }
            },
            "type": "parcoords"
           }
          ],
          "pie": [
           {
            "automargin": true,
            "type": "pie"
           }
          ],
          "scatter": [
           {
            "marker": {
             "colorbar": {
              "outlinewidth": 0,
              "ticks": ""
             }
            },
            "type": "scatter"
           }
          ],
          "scatter3d": [
           {
            "line": {
             "colorbar": {
              "outlinewidth": 0,
              "ticks": ""
             }
            },
            "marker": {
             "colorbar": {
              "outlinewidth": 0,
              "ticks": ""
             }
            },
            "type": "scatter3d"
           }
          ],
          "scattercarpet": [
           {
            "marker": {
             "colorbar": {
              "outlinewidth": 0,
              "ticks": ""
             }
            },
            "type": "scattercarpet"
           }
          ],
          "scattergeo": [
           {
            "marker": {
             "colorbar": {
              "outlinewidth": 0,
              "ticks": ""
             }
            },
            "type": "scattergeo"
           }
          ],
          "scattergl": [
           {
            "marker": {
             "colorbar": {
              "outlinewidth": 0,
              "ticks": ""
             }
            },
            "type": "scattergl"
           }
          ],
          "scattermapbox": [
           {
            "marker": {
             "colorbar": {
              "outlinewidth": 0,
              "ticks": ""
             }
            },
            "type": "scattermapbox"
           }
          ],
          "scatterpolar": [
           {
            "marker": {
             "colorbar": {
              "outlinewidth": 0,
              "ticks": ""
             }
            },
            "type": "scatterpolar"
           }
          ],
          "scatterpolargl": [
           {
            "marker": {
             "colorbar": {
              "outlinewidth": 0,
              "ticks": ""
             }
            },
            "type": "scatterpolargl"
           }
          ],
          "scatterternary": [
           {
            "marker": {
             "colorbar": {
              "outlinewidth": 0,
              "ticks": ""
             }
            },
            "type": "scatterternary"
           }
          ],
          "surface": [
           {
            "colorbar": {
             "outlinewidth": 0,
             "ticks": ""
            },
            "colorscale": [
             [
              0,
              "#0d0887"
             ],
             [
              0.1111111111111111,
              "#46039f"
             ],
             [
              0.2222222222222222,
              "#7201a8"
             ],
             [
              0.3333333333333333,
              "#9c179e"
             ],
             [
              0.4444444444444444,
              "#bd3786"
             ],
             [
              0.5555555555555556,
              "#d8576b"
             ],
             [
              0.6666666666666666,
              "#ed7953"
             ],
             [
              0.7777777777777778,
              "#fb9f3a"
             ],
             [
              0.8888888888888888,
              "#fdca26"
             ],
             [
              1,
              "#f0f921"
             ]
            ],
            "type": "surface"
           }
          ],
          "table": [
           {
            "cells": {
             "fill": {
              "color": "#EBF0F8"
             },
             "line": {
              "color": "white"
             }
            },
            "header": {
             "fill": {
              "color": "#C8D4E3"
             },
             "line": {
              "color": "white"
             }
            },
            "type": "table"
           }
          ]
         },
         "layout": {
          "annotationdefaults": {
           "arrowcolor": "#2a3f5f",
           "arrowhead": 0,
           "arrowwidth": 1
          },
          "autotypenumbers": "strict",
          "coloraxis": {
           "colorbar": {
            "outlinewidth": 0,
            "ticks": ""
           }
          },
          "colorscale": {
           "diverging": [
            [
             0,
             "#8e0152"
            ],
            [
             0.1,
             "#c51b7d"
            ],
            [
             0.2,
             "#de77ae"
            ],
            [
             0.3,
             "#f1b6da"
            ],
            [
             0.4,
             "#fde0ef"
            ],
            [
             0.5,
             "#f7f7f7"
            ],
            [
             0.6,
             "#e6f5d0"
            ],
            [
             0.7,
             "#b8e186"
            ],
            [
             0.8,
             "#7fbc41"
            ],
            [
             0.9,
             "#4d9221"
            ],
            [
             1,
             "#276419"
            ]
           ],
           "sequential": [
            [
             0,
             "#0d0887"
            ],
            [
             0.1111111111111111,
             "#46039f"
            ],
            [
             0.2222222222222222,
             "#7201a8"
            ],
            [
             0.3333333333333333,
             "#9c179e"
            ],
            [
             0.4444444444444444,
             "#bd3786"
            ],
            [
             0.5555555555555556,
             "#d8576b"
            ],
            [
             0.6666666666666666,
             "#ed7953"
            ],
            [
             0.7777777777777778,
             "#fb9f3a"
            ],
            [
             0.8888888888888888,
             "#fdca26"
            ],
            [
             1,
             "#f0f921"
            ]
           ],
           "sequentialminus": [
            [
             0,
             "#0d0887"
            ],
            [
             0.1111111111111111,
             "#46039f"
            ],
            [
             0.2222222222222222,
             "#7201a8"
            ],
            [
             0.3333333333333333,
             "#9c179e"
            ],
            [
             0.4444444444444444,
             "#bd3786"
            ],
            [
             0.5555555555555556,
             "#d8576b"
            ],
            [
             0.6666666666666666,
             "#ed7953"
            ],
            [
             0.7777777777777778,
             "#fb9f3a"
            ],
            [
             0.8888888888888888,
             "#fdca26"
            ],
            [
             1,
             "#f0f921"
            ]
           ]
          },
          "colorway": [
           "#636efa",
           "#EF553B",
           "#00cc96",
           "#ab63fa",
           "#FFA15A",
           "#19d3f3",
           "#FF6692",
           "#B6E880",
           "#FF97FF",
           "#FECB52"
          ],
          "font": {
           "color": "#2a3f5f"
          },
          "geo": {
           "bgcolor": "white",
           "lakecolor": "white",
           "landcolor": "#E5ECF6",
           "showlakes": true,
           "showland": true,
           "subunitcolor": "white"
          },
          "hoverlabel": {
           "align": "left"
          },
          "hovermode": "closest",
          "mapbox": {
           "style": "light"
          },
          "paper_bgcolor": "white",
          "plot_bgcolor": "#E5ECF6",
          "polar": {
           "angularaxis": {
            "gridcolor": "white",
            "linecolor": "white",
            "ticks": ""
           },
           "bgcolor": "#E5ECF6",
           "radialaxis": {
            "gridcolor": "white",
            "linecolor": "white",
            "ticks": ""
           }
          },
          "scene": {
           "xaxis": {
            "backgroundcolor": "#E5ECF6",
            "gridcolor": "white",
            "gridwidth": 2,
            "linecolor": "white",
            "showbackground": true,
            "ticks": "",
            "zerolinecolor": "white"
           },
           "yaxis": {
            "backgroundcolor": "#E5ECF6",
            "gridcolor": "white",
            "gridwidth": 2,
            "linecolor": "white",
            "showbackground": true,
            "ticks": "",
            "zerolinecolor": "white"
           },
           "zaxis": {
            "backgroundcolor": "#E5ECF6",
            "gridcolor": "white",
            "gridwidth": 2,
            "linecolor": "white",
            "showbackground": true,
            "ticks": "",
            "zerolinecolor": "white"
           }
          },
          "shapedefaults": {
           "line": {
            "color": "#2a3f5f"
           }
          },
          "ternary": {
           "aaxis": {
            "gridcolor": "white",
            "linecolor": "white",
            "ticks": ""
           },
           "baxis": {
            "gridcolor": "white",
            "linecolor": "white",
            "ticks": ""
           },
           "bgcolor": "#E5ECF6",
           "caxis": {
            "gridcolor": "white",
            "linecolor": "white",
            "ticks": ""
           }
          },
          "title": {
           "x": 0.05
          },
          "xaxis": {
           "automargin": true,
           "gridcolor": "white",
           "linecolor": "white",
           "ticks": "",
           "title": {
            "standoff": 15
           },
           "zerolinecolor": "white",
           "zerolinewidth": 2
          },
          "yaxis": {
           "automargin": true,
           "gridcolor": "white",
           "linecolor": "white",
           "ticks": "",
           "title": {
            "standoff": 15
           },
           "zerolinecolor": "white",
           "zerolinewidth": 2
          }
         }
        },
        "title": {
         "text": "Common Skills of Data Professionals"
        }
       }
      },
      "text/html": [
       "<div>                            <div id=\"7b6889f5-25cd-4ed2-934e-999f3f969551\" class=\"plotly-graph-div\" style=\"height:525px; width:100%;\"></div>            <script type=\"text/javascript\">                require([\"plotly\"], function(Plotly) {                    window.PLOTLYENV=window.PLOTLYENV || {};                                    if (document.getElementById(\"7b6889f5-25cd-4ed2-934e-999f3f969551\")) {                    Plotly.newPlot(                        \"7b6889f5-25cd-4ed2-934e-999f3f969551\",                        [{\"hovertemplate\":\"Role=Data Analyst<br>Normalized Score=%{r}<br>Skill=%{theta}<extra></extra>\",\"legendgroup\":\"Data Analyst\",\"line\":{\"color\":\"#636efa\",\"dash\":\"solid\"},\"marker\":{\"symbol\":\"circle\"},\"mode\":\"lines+markers\",\"name\":\"Data Analyst\",\"r\":[82.27353219428967,72.18385019107816,72.18385019107816,93.24316485836675,93.24316485836675,96.113184079602,96.113184079602,76.40249332146037,77.46965715604857,77.46965715604857,99.81561155500923,82.27353219428967],\"showlegend\":true,\"subplot\":\"polar\",\"theta\":[\"AI\",\"Cloud\",\"Cloud - aspiring\",\"Data Visualization\",\"Data Visualization - aspiring\",\"Database & Big Data\",\"Database & Big Data - aspiring\",\"ML Deployment\",\"ML Modeling\",\"ML Modeling - aspiring\",\"Programming\",\"AI\"],\"type\":\"scatterpolar\"},{\"hovertemplate\":\"Role=Data Engineer<br>Normalized Score=%{r}<br>Skill=%{theta}<extra></extra>\",\"legendgroup\":\"Data Engineer\",\"line\":{\"color\":\"#EF553B\",\"dash\":\"solid\"},\"marker\":{\"symbol\":\"circle\"},\"mode\":\"lines+markers\",\"name\":\"Data Engineer\",\"r\":[89.57668228367677,84.6153780235381,84.6153780235381,92.3068838136938,92.3068838136938,98.8943488943489,98.8943488943489,78.52193995381063,79.07473991887048,79.07473991887048,99.95957962813257,89.57668228367677],\"showlegend\":true,\"subplot\":\"polar\",\"theta\":[\"AI\",\"Cloud\",\"Cloud - aspiring\",\"Data Visualization\",\"Data Visualization - aspiring\",\"Database & Big Data\",\"Database & Big Data - aspiring\",\"ML Deployment\",\"ML Modeling\",\"ML Modeling - aspiring\",\"Programming\",\"AI\"],\"type\":\"scatterpolar\"},{\"hovertemplate\":\"Role=Data Scientist<br>Normalized Score=%{r}<br>Skill=%{theta}<extra></extra>\",\"legendgroup\":\"Data Scientist\",\"line\":{\"color\":\"#00cc96\",\"dash\":\"solid\"},\"marker\":{\"symbol\":\"circle\"},\"mode\":\"lines+markers\",\"name\":\"Data Scientist\",\"r\":[90.80618923682722,79.23157000176394,79.23157000176394,90.14181533168491,90.14181533168491,96.59348978046934,96.59348978046934,81.94444444444444,83.14695134755021,83.14695134755021,99.96452894438139,90.80618923682722],\"showlegend\":true,\"subplot\":\"polar\",\"theta\":[\"AI\",\"Cloud\",\"Cloud - aspiring\",\"Data Visualization\",\"Data Visualization - aspiring\",\"Database & Big Data\",\"Database & Big Data - aspiring\",\"ML Deployment\",\"ML Modeling\",\"ML Modeling - aspiring\",\"Programming\",\"AI\"],\"type\":\"scatterpolar\"},{\"hovertemplate\":\"Role=Machine Learning Engineer<br>Normalized Score=%{r}<br>Skill=%{theta}<extra></extra>\",\"legendgroup\":\"Machine Learning Engineer\",\"line\":{\"color\":\"#ab63fa\",\"dash\":\"solid\"},\"marker\":{\"symbol\":\"circle\"},\"mode\":\"lines+markers\",\"name\":\"Machine Learning Engineer\",\"r\":[93.11156115912068,84.09046914272945,84.09046914272945,85.21200092837785,85.21200092837785,94.59074733096085,94.59074733096085,85.07734303912648,85.36728087903826,85.36728087903826,99.9815293683044,93.11156115912068],\"showlegend\":true,\"subplot\":\"polar\",\"theta\":[\"AI\",\"Cloud\",\"Cloud - aspiring\",\"Data Visualization\",\"Data Visualization - aspiring\",\"Database & Big Data\",\"Database & Big Data - aspiring\",\"ML Deployment\",\"ML Modeling\",\"ML Modeling - aspiring\",\"Programming\",\"AI\"],\"type\":\"scatterpolar\"}],                        {\"legend\":{\"title\":{\"text\":\"Role\"},\"tracegroupgap\":0},\"polar\":{\"angularaxis\":{\"direction\":\"clockwise\",\"rotation\":90},\"domain\":{\"x\":[0.0,1.0],\"y\":[0.0,1.0]}},\"template\":{\"data\":{\"bar\":[{\"error_x\":{\"color\":\"#2a3f5f\"},\"error_y\":{\"color\":\"#2a3f5f\"},\"marker\":{\"line\":{\"color\":\"#E5ECF6\",\"width\":0.5},\"pattern\":{\"fillmode\":\"overlay\",\"size\":10,\"solidity\":0.2}},\"type\":\"bar\"}],\"barpolar\":[{\"marker\":{\"line\":{\"color\":\"#E5ECF6\",\"width\":0.5},\"pattern\":{\"fillmode\":\"overlay\",\"size\":10,\"solidity\":0.2}},\"type\":\"barpolar\"}],\"carpet\":[{\"aaxis\":{\"endlinecolor\":\"#2a3f5f\",\"gridcolor\":\"white\",\"linecolor\":\"white\",\"minorgridcolor\":\"white\",\"startlinecolor\":\"#2a3f5f\"},\"baxis\":{\"endlinecolor\":\"#2a3f5f\",\"gridcolor\":\"white\",\"linecolor\":\"white\",\"minorgridcolor\":\"white\",\"startlinecolor\":\"#2a3f5f\"},\"type\":\"carpet\"}],\"choropleth\":[{\"colorbar\":{\"outlinewidth\":0,\"ticks\":\"\"},\"type\":\"choropleth\"}],\"contour\":[{\"colorbar\":{\"outlinewidth\":0,\"ticks\":\"\"},\"colorscale\":[[0.0,\"#0d0887\"],[0.1111111111111111,\"#46039f\"],[0.2222222222222222,\"#7201a8\"],[0.3333333333333333,\"#9c179e\"],[0.4444444444444444,\"#bd3786\"],[0.5555555555555556,\"#d8576b\"],[0.6666666666666666,\"#ed7953\"],[0.7777777777777778,\"#fb9f3a\"],[0.8888888888888888,\"#fdca26\"],[1.0,\"#f0f921\"]],\"type\":\"contour\"}],\"contourcarpet\":[{\"colorbar\":{\"outlinewidth\":0,\"ticks\":\"\"},\"type\":\"contourcarpet\"}],\"heatmap\":[{\"colorbar\":{\"outlinewidth\":0,\"ticks\":\"\"},\"colorscale\":[[0.0,\"#0d0887\"],[0.1111111111111111,\"#46039f\"],[0.2222222222222222,\"#7201a8\"],[0.3333333333333333,\"#9c179e\"],[0.4444444444444444,\"#bd3786\"],[0.5555555555555556,\"#d8576b\"],[0.6666666666666666,\"#ed7953\"],[0.7777777777777778,\"#fb9f3a\"],[0.8888888888888888,\"#fdca26\"],[1.0,\"#f0f921\"]],\"type\":\"heatmap\"}],\"heatmapgl\":[{\"colorbar\":{\"outlinewidth\":0,\"ticks\":\"\"},\"colorscale\":[[0.0,\"#0d0887\"],[0.1111111111111111,\"#46039f\"],[0.2222222222222222,\"#7201a8\"],[0.3333333333333333,\"#9c179e\"],[0.4444444444444444,\"#bd3786\"],[0.5555555555555556,\"#d8576b\"],[0.6666666666666666,\"#ed7953\"],[0.7777777777777778,\"#fb9f3a\"],[0.8888888888888888,\"#fdca26\"],[1.0,\"#f0f921\"]],\"type\":\"heatmapgl\"}],\"histogram\":[{\"marker\":{\"pattern\":{\"fillmode\":\"overlay\",\"size\":10,\"solidity\":0.2}},\"type\":\"histogram\"}],\"histogram2d\":[{\"colorbar\":{\"outlinewidth\":0,\"ticks\":\"\"},\"colorscale\":[[0.0,\"#0d0887\"],[0.1111111111111111,\"#46039f\"],[0.2222222222222222,\"#7201a8\"],[0.3333333333333333,\"#9c179e\"],[0.4444444444444444,\"#bd3786\"],[0.5555555555555556,\"#d8576b\"],[0.6666666666666666,\"#ed7953\"],[0.7777777777777778,\"#fb9f3a\"],[0.8888888888888888,\"#fdca26\"],[1.0,\"#f0f921\"]],\"type\":\"histogram2d\"}],\"histogram2dcontour\":[{\"colorbar\":{\"outlinewidth\":0,\"ticks\":\"\"},\"colorscale\":[[0.0,\"#0d0887\"],[0.1111111111111111,\"#46039f\"],[0.2222222222222222,\"#7201a8\"],[0.3333333333333333,\"#9c179e\"],[0.4444444444444444,\"#bd3786\"],[0.5555555555555556,\"#d8576b\"],[0.6666666666666666,\"#ed7953\"],[0.7777777777777778,\"#fb9f3a\"],[0.8888888888888888,\"#fdca26\"],[1.0,\"#f0f921\"]],\"type\":\"histogram2dcontour\"}],\"mesh3d\":[{\"colorbar\":{\"outlinewidth\":0,\"ticks\":\"\"},\"type\":\"mesh3d\"}],\"parcoords\":[{\"line\":{\"colorbar\":{\"outlinewidth\":0,\"ticks\":\"\"}},\"type\":\"parcoords\"}],\"pie\":[{\"automargin\":true,\"type\":\"pie\"}],\"scatter\":[{\"marker\":{\"colorbar\":{\"outlinewidth\":0,\"ticks\":\"\"}},\"type\":\"scatter\"}],\"scatter3d\":[{\"line\":{\"colorbar\":{\"outlinewidth\":0,\"ticks\":\"\"}},\"marker\":{\"colorbar\":{\"outlinewidth\":0,\"ticks\":\"\"}},\"type\":\"scatter3d\"}],\"scattercarpet\":[{\"marker\":{\"colorbar\":{\"outlinewidth\":0,\"ticks\":\"\"}},\"type\":\"scattercarpet\"}],\"scattergeo\":[{\"marker\":{\"colorbar\":{\"outlinewidth\":0,\"ticks\":\"\"}},\"type\":\"scattergeo\"}],\"scattergl\":[{\"marker\":{\"colorbar\":{\"outlinewidth\":0,\"ticks\":\"\"}},\"type\":\"scattergl\"}],\"scattermapbox\":[{\"marker\":{\"colorbar\":{\"outlinewidth\":0,\"ticks\":\"\"}},\"type\":\"scattermapbox\"}],\"scatterpolar\":[{\"marker\":{\"colorbar\":{\"outlinewidth\":0,\"ticks\":\"\"}},\"type\":\"scatterpolar\"}],\"scatterpolargl\":[{\"marker\":{\"colorbar\":{\"outlinewidth\":0,\"ticks\":\"\"}},\"type\":\"scatterpolargl\"}],\"scatterternary\":[{\"marker\":{\"colorbar\":{\"outlinewidth\":0,\"ticks\":\"\"}},\"type\":\"scatterternary\"}],\"surface\":[{\"colorbar\":{\"outlinewidth\":0,\"ticks\":\"\"},\"colorscale\":[[0.0,\"#0d0887\"],[0.1111111111111111,\"#46039f\"],[0.2222222222222222,\"#7201a8\"],[0.3333333333333333,\"#9c179e\"],[0.4444444444444444,\"#bd3786\"],[0.5555555555555556,\"#d8576b\"],[0.6666666666666666,\"#ed7953\"],[0.7777777777777778,\"#fb9f3a\"],[0.8888888888888888,\"#fdca26\"],[1.0,\"#f0f921\"]],\"type\":\"surface\"}],\"table\":[{\"cells\":{\"fill\":{\"color\":\"#EBF0F8\"},\"line\":{\"color\":\"white\"}},\"header\":{\"fill\":{\"color\":\"#C8D4E3\"},\"line\":{\"color\":\"white\"}},\"type\":\"table\"}]},\"layout\":{\"annotationdefaults\":{\"arrowcolor\":\"#2a3f5f\",\"arrowhead\":0,\"arrowwidth\":1},\"autotypenumbers\":\"strict\",\"coloraxis\":{\"colorbar\":{\"outlinewidth\":0,\"ticks\":\"\"}},\"colorscale\":{\"diverging\":[[0,\"#8e0152\"],[0.1,\"#c51b7d\"],[0.2,\"#de77ae\"],[0.3,\"#f1b6da\"],[0.4,\"#fde0ef\"],[0.5,\"#f7f7f7\"],[0.6,\"#e6f5d0\"],[0.7,\"#b8e186\"],[0.8,\"#7fbc41\"],[0.9,\"#4d9221\"],[1,\"#276419\"]],\"sequential\":[[0.0,\"#0d0887\"],[0.1111111111111111,\"#46039f\"],[0.2222222222222222,\"#7201a8\"],[0.3333333333333333,\"#9c179e\"],[0.4444444444444444,\"#bd3786\"],[0.5555555555555556,\"#d8576b\"],[0.6666666666666666,\"#ed7953\"],[0.7777777777777778,\"#fb9f3a\"],[0.8888888888888888,\"#fdca26\"],[1.0,\"#f0f921\"]],\"sequentialminus\":[[0.0,\"#0d0887\"],[0.1111111111111111,\"#46039f\"],[0.2222222222222222,\"#7201a8\"],[0.3333333333333333,\"#9c179e\"],[0.4444444444444444,\"#bd3786\"],[0.5555555555555556,\"#d8576b\"],[0.6666666666666666,\"#ed7953\"],[0.7777777777777778,\"#fb9f3a\"],[0.8888888888888888,\"#fdca26\"],[1.0,\"#f0f921\"]]},\"colorway\":[\"#636efa\",\"#EF553B\",\"#00cc96\",\"#ab63fa\",\"#FFA15A\",\"#19d3f3\",\"#FF6692\",\"#B6E880\",\"#FF97FF\",\"#FECB52\"],\"font\":{\"color\":\"#2a3f5f\"},\"geo\":{\"bgcolor\":\"white\",\"lakecolor\":\"white\",\"landcolor\":\"#E5ECF6\",\"showlakes\":true,\"showland\":true,\"subunitcolor\":\"white\"},\"hoverlabel\":{\"align\":\"left\"},\"hovermode\":\"closest\",\"mapbox\":{\"style\":\"light\"},\"paper_bgcolor\":\"white\",\"plot_bgcolor\":\"#E5ECF6\",\"polar\":{\"angularaxis\":{\"gridcolor\":\"white\",\"linecolor\":\"white\",\"ticks\":\"\"},\"bgcolor\":\"#E5ECF6\",\"radialaxis\":{\"gridcolor\":\"white\",\"linecolor\":\"white\",\"ticks\":\"\"}},\"scene\":{\"xaxis\":{\"backgroundcolor\":\"#E5ECF6\",\"gridcolor\":\"white\",\"gridwidth\":2,\"linecolor\":\"white\",\"showbackground\":true,\"ticks\":\"\",\"zerolinecolor\":\"white\"},\"yaxis\":{\"backgroundcolor\":\"#E5ECF6\",\"gridcolor\":\"white\",\"gridwidth\":2,\"linecolor\":\"white\",\"showbackground\":true,\"ticks\":\"\",\"zerolinecolor\":\"white\"},\"zaxis\":{\"backgroundcolor\":\"#E5ECF6\",\"gridcolor\":\"white\",\"gridwidth\":2,\"linecolor\":\"white\",\"showbackground\":true,\"ticks\":\"\",\"zerolinecolor\":\"white\"}},\"shapedefaults\":{\"line\":{\"color\":\"#2a3f5f\"}},\"ternary\":{\"aaxis\":{\"gridcolor\":\"white\",\"linecolor\":\"white\",\"ticks\":\"\"},\"baxis\":{\"gridcolor\":\"white\",\"linecolor\":\"white\",\"ticks\":\"\"},\"bgcolor\":\"#E5ECF6\",\"caxis\":{\"gridcolor\":\"white\",\"linecolor\":\"white\",\"ticks\":\"\"}},\"title\":{\"x\":0.05},\"xaxis\":{\"automargin\":true,\"gridcolor\":\"white\",\"linecolor\":\"white\",\"ticks\":\"\",\"title\":{\"standoff\":15},\"zerolinecolor\":\"white\",\"zerolinewidth\":2},\"yaxis\":{\"automargin\":true,\"gridcolor\":\"white\",\"linecolor\":\"white\",\"ticks\":\"\",\"title\":{\"standoff\":15},\"zerolinecolor\":\"white\",\"zerolinewidth\":2}}},\"title\":{\"text\":\"Common Skills of Data Professionals\"}},                        {\"responsive\": true}                    ).then(function(){\n",
       "                            \n",
       "var gd = document.getElementById('7b6889f5-25cd-4ed2-934e-999f3f969551');\n",
       "var x = new MutationObserver(function (mutations, observer) {{\n",
       "        var display = window.getComputedStyle(gd).display;\n",
       "        if (!display || display === 'none') {{\n",
       "            console.log([gd, 'removed!']);\n",
       "            Plotly.purge(gd);\n",
       "            observer.disconnect();\n",
       "        }}\n",
       "}});\n",
       "\n",
       "// Listen for the removal of the full notebook cells\n",
       "var notebookContainer = gd.closest('#notebook-container');\n",
       "if (notebookContainer) {{\n",
       "    x.observe(notebookContainer, {childList: true});\n",
       "}}\n",
       "\n",
       "// Listen for the clearing of the current output cell\n",
       "var outputEl = gd.closest('.output');\n",
       "if (outputEl) {{\n",
       "    x.observe(outputEl, {childList: true});\n",
       "}}\n",
       "\n",
       "                        })                };                });            </script>        </div>"
      ]
     },
     "metadata": {},
     "output_type": "display_data"
    }
   ],
   "source": [
    "for_df_concat = [] # buffer for collecting temporary DF\n",
    "dict_roles_radar_plot = {} # dict buffer for storing the results\n",
    "\n",
    "# loop through dict of skills of roles\n",
    "for i, (k,v) in enumerate(dict_roles.items()):\n",
    "    tmp = get_common_skills(v) # process its common skills\n",
    "    tmp = excludeMainActivity(tmp) # exclude \"Main Activity\" classification\n",
    "    tmp = [(k,t[0],t[1]*100) for t in tmp] # multiply the ratio by 100\n",
    "    \n",
    "    dict_roles_radar_plot[k] = tmp # store\n",
    "    \n",
    "    # set the results as a DF then store it\n",
    "    df_tmp = pd.DataFrame(tmp, columns=['Role', 'Skill', 'Normalized Score'])\n",
    "    for_df_concat.append(df_tmp)\n",
    "\n",
    "# concat all DFs then plot the chart\n",
    "df_concat = pd.concat(for_df_concat, axis=0)\n",
    "df_concat.sort_values(['Role', 'Skill'], inplace=True) # sort with relevant order\n",
    "fig = px.line_polar(df_concat, \n",
    "                    r=\"Normalized Score\", \n",
    "                    theta=\"Skill\", \n",
    "                    color=\"Role\",\n",
    "                    line_close=True, \n",
    "                    markers=True, \n",
    "                    title='Common Skills of Data Professionals')\n",
    "fig.show()"
   ]
  },
  {
   "cell_type": "markdown",
   "metadata": {
    "hidden": true
   },
   "source": [
    "From the radar chart above, we can see that each role has different strength of skills. For example, ML Engineer is the one with the most skilled in ML Deployment, AI, and ML Modeling; Data Engineer is strong in Cloud skill; and Data Analyst is the one with Data Visualization skill the most.\n",
    "\n",
    "The unique one I think is Data Scientist role. It does not have the strongest skill in any common skills. Instead, it shares almost the same power for every aspect. Perhaps, this can support the theory where a Data Scientist role is a multidisciplinary job. \n",
    "\n",
    "In addition, another interesting finding is that it can be seen that all roles have the same share for Programming skill. This can infer that no matter what role you're interested in data science field, programming skill is a must."
   ]
  },
  {
   "cell_type": "markdown",
   "metadata": {
    "hidden": true
   },
   "source": [
    "We have done with common skills in data science roles. Now, let's see what we will find with the \"Main Activity\" classification. First, let's define a necessary function to normalize the main activities values."
   ]
  },
  {
   "cell_type": "code",
   "execution_count": 24,
   "metadata": {
    "hidden": true
   },
   "outputs": [],
   "source": [
    "def normalize_main_activities(main_activities):\n",
    "    \"\"\"used to normalize the value contained in Main Activity classification\"\"\"\n",
    "    \n",
    "    total = sum([freq for act,freq in main_activities])\n",
    "    return [(act, freq/total) for act,freq in main_activities]"
   ]
  },
  {
   "cell_type": "code",
   "execution_count": 37,
   "metadata": {
    "hidden": true
   },
   "outputs": [],
   "source": [
    "# as each main activity consists of a long text, we have to shorten it in for cleaner plotting\n",
    "code_activities = {\n",
    "    'Analyze and understand data to influence product or business decisions': 'Analyze & understand data for decisions',\n",
    "    'Build and/or run the data infrastructure that my business uses for storing, analyzing, and operationalizing data': 'Build and/or run data infra',\n",
    "    'Build prototypes to explore applying machine learning to new areas': 'Build ML prototypes',\n",
    "    'Build and/or run a machine learning service that operationally improves my product or workflows': 'Build and/or run ML service',\n",
    "    'Experimentation and iteration to improve existing ML models': 'Experiment & iterate on ML models',\n",
    "    'Do research that advances the state of the art of machine learning': 'Research on ML SOTA',\n",
    "    'None of these activities are an important part of my role at work': 'None',\n",
    "    'Other': 'Other'}"
   ]
  },
  {
   "cell_type": "markdown",
   "metadata": {
    "hidden": true
   },
   "source": [
    "Let's plot the Main Activity classification."
   ]
  },
  {
   "cell_type": "code",
   "execution_count": 44,
   "metadata": {
    "hidden": true,
    "scrolled": false
   },
   "outputs": [
    {
     "data": {
      "application/vnd.plotly.v1+json": {
       "config": {
        "plotlyServerURL": "https://plot.ly"
       },
       "data": [
        {
         "hovertemplate": "Role=Data Analyst<br>Normalized Score=%{r}<br>Main Activity=%{theta}<extra></extra>",
         "legendgroup": "Data Analyst",
         "line": {
          "color": "#636efa",
          "dash": "solid"
         },
         "marker": {
          "symbol": "circle"
         },
         "mode": "lines+markers",
         "name": "Data Analyst",
         "r": [
          43.06748466257669,
          10.67484662576687,
          8.01635991820041,
          18.3640081799591,
          8.05725971370143,
          3.3946830265848673,
          2.61758691206544,
          5.807770961145194,
          43.06748466257669
         ],
         "showlegend": true,
         "subplot": "polar",
         "theta": [
          "Analyze & understand data for decisions",
          "Build ML prototypes",
          "Build and/or run ML service",
          "Build and/or run data infra",
          "Experiment & iterate on ML models",
          "None",
          "Other",
          "Research on ML SOTA",
          "Analyze & understand data for decisions"
         ],
         "type": "scatterpolar"
        },
        {
         "hovertemplate": "Role=Data Engineer<br>Normalized Score=%{r}<br>Main Activity=%{theta}<extra></extra>",
         "legendgroup": "Data Engineer",
         "line": {
          "color": "#EF553B",
          "dash": "solid"
         },
         "marker": {
          "symbol": "circle"
         },
         "mode": "lines+markers",
         "name": "Data Engineer",
         "r": [
          28.045977011494255,
          14.942528735632186,
          10.804597701149426,
          26.551724137931032,
          10.229885057471265,
          1.9540229885057472,
          2.0689655172413794,
          5.402298850574713,
          28.045977011494255
         ],
         "showlegend": true,
         "subplot": "polar",
         "theta": [
          "Analyze & understand data for decisions",
          "Build ML prototypes",
          "Build and/or run ML service",
          "Build and/or run data infra",
          "Experiment & iterate on ML models",
          "None",
          "Other",
          "Research on ML SOTA",
          "Analyze & understand data for decisions"
         ],
         "type": "scatterpolar"
        },
        {
         "hovertemplate": "Role=Data Scientist<br>Normalized Score=%{r}<br>Main Activity=%{theta}<extra></extra>",
         "legendgroup": "Data Scientist",
         "line": {
          "color": "#00cc96",
          "dash": "solid"
         },
         "marker": {
          "symbol": "circle"
         },
         "mode": "lines+markers",
         "name": "Data Scientist",
         "r": [
          25.584255842558424,
          19.84419844198442,
          14.445811124777913,
          12.928795954626212,
          16.318163181631817,
          1.011343446767801,
          1.2026786934536011,
          8.664753314199809,
          25.584255842558424
         ],
         "showlegend": true,
         "subplot": "polar",
         "theta": [
          "Analyze & understand data for decisions",
          "Build ML prototypes",
          "Build and/or run ML service",
          "Build and/or run data infra",
          "Experiment & iterate on ML models",
          "None",
          "Other",
          "Research on ML SOTA",
          "Analyze & understand data for decisions"
         ],
         "type": "scatterpolar"
        },
        {
         "hovertemplate": "Role=Machine Learning Engineer<br>Normalized Score=%{r}<br>Main Activity=%{theta}<extra></extra>",
         "legendgroup": "Machine Learning Engineer",
         "line": {
          "color": "#ab63fa",
          "dash": "solid"
         },
         "marker": {
          "symbol": "circle"
         },
         "mode": "lines+markers",
         "name": "Machine Learning Engineer",
         "r": [
          17.007575757575758,
          19.015151515151516,
          16.78030303030303,
          13.143939393939394,
          17.575757575757574,
          1.893939393939394,
          1.9318181818181817,
          12.651515151515152,
          17.007575757575758
         ],
         "showlegend": true,
         "subplot": "polar",
         "theta": [
          "Analyze & understand data for decisions",
          "Build ML prototypes",
          "Build and/or run ML service",
          "Build and/or run data infra",
          "Experiment & iterate on ML models",
          "None",
          "Other",
          "Research on ML SOTA",
          "Analyze & understand data for decisions"
         ],
         "type": "scatterpolar"
        }
       ],
       "layout": {
        "legend": {
         "title": {
          "text": "Role"
         },
         "tracegroupgap": 0
        },
        "polar": {
         "angularaxis": {
          "direction": "clockwise",
          "rotation": 90
         },
         "domain": {
          "x": [
           0,
           1
          ],
          "y": [
           0,
           1
          ]
         }
        },
        "template": {
         "data": {
          "bar": [
           {
            "error_x": {
             "color": "#2a3f5f"
            },
            "error_y": {
             "color": "#2a3f5f"
            },
            "marker": {
             "line": {
              "color": "#E5ECF6",
              "width": 0.5
             },
             "pattern": {
              "fillmode": "overlay",
              "size": 10,
              "solidity": 0.2
             }
            },
            "type": "bar"
           }
          ],
          "barpolar": [
           {
            "marker": {
             "line": {
              "color": "#E5ECF6",
              "width": 0.5
             },
             "pattern": {
              "fillmode": "overlay",
              "size": 10,
              "solidity": 0.2
             }
            },
            "type": "barpolar"
           }
          ],
          "carpet": [
           {
            "aaxis": {
             "endlinecolor": "#2a3f5f",
             "gridcolor": "white",
             "linecolor": "white",
             "minorgridcolor": "white",
             "startlinecolor": "#2a3f5f"
            },
            "baxis": {
             "endlinecolor": "#2a3f5f",
             "gridcolor": "white",
             "linecolor": "white",
             "minorgridcolor": "white",
             "startlinecolor": "#2a3f5f"
            },
            "type": "carpet"
           }
          ],
          "choropleth": [
           {
            "colorbar": {
             "outlinewidth": 0,
             "ticks": ""
            },
            "type": "choropleth"
           }
          ],
          "contour": [
           {
            "colorbar": {
             "outlinewidth": 0,
             "ticks": ""
            },
            "colorscale": [
             [
              0,
              "#0d0887"
             ],
             [
              0.1111111111111111,
              "#46039f"
             ],
             [
              0.2222222222222222,
              "#7201a8"
             ],
             [
              0.3333333333333333,
              "#9c179e"
             ],
             [
              0.4444444444444444,
              "#bd3786"
             ],
             [
              0.5555555555555556,
              "#d8576b"
             ],
             [
              0.6666666666666666,
              "#ed7953"
             ],
             [
              0.7777777777777778,
              "#fb9f3a"
             ],
             [
              0.8888888888888888,
              "#fdca26"
             ],
             [
              1,
              "#f0f921"
             ]
            ],
            "type": "contour"
           }
          ],
          "contourcarpet": [
           {
            "colorbar": {
             "outlinewidth": 0,
             "ticks": ""
            },
            "type": "contourcarpet"
           }
          ],
          "heatmap": [
           {
            "colorbar": {
             "outlinewidth": 0,
             "ticks": ""
            },
            "colorscale": [
             [
              0,
              "#0d0887"
             ],
             [
              0.1111111111111111,
              "#46039f"
             ],
             [
              0.2222222222222222,
              "#7201a8"
             ],
             [
              0.3333333333333333,
              "#9c179e"
             ],
             [
              0.4444444444444444,
              "#bd3786"
             ],
             [
              0.5555555555555556,
              "#d8576b"
             ],
             [
              0.6666666666666666,
              "#ed7953"
             ],
             [
              0.7777777777777778,
              "#fb9f3a"
             ],
             [
              0.8888888888888888,
              "#fdca26"
             ],
             [
              1,
              "#f0f921"
             ]
            ],
            "type": "heatmap"
           }
          ],
          "heatmapgl": [
           {
            "colorbar": {
             "outlinewidth": 0,
             "ticks": ""
            },
            "colorscale": [
             [
              0,
              "#0d0887"
             ],
             [
              0.1111111111111111,
              "#46039f"
             ],
             [
              0.2222222222222222,
              "#7201a8"
             ],
             [
              0.3333333333333333,
              "#9c179e"
             ],
             [
              0.4444444444444444,
              "#bd3786"
             ],
             [
              0.5555555555555556,
              "#d8576b"
             ],
             [
              0.6666666666666666,
              "#ed7953"
             ],
             [
              0.7777777777777778,
              "#fb9f3a"
             ],
             [
              0.8888888888888888,
              "#fdca26"
             ],
             [
              1,
              "#f0f921"
             ]
            ],
            "type": "heatmapgl"
           }
          ],
          "histogram": [
           {
            "marker": {
             "pattern": {
              "fillmode": "overlay",
              "size": 10,
              "solidity": 0.2
             }
            },
            "type": "histogram"
           }
          ],
          "histogram2d": [
           {
            "colorbar": {
             "outlinewidth": 0,
             "ticks": ""
            },
            "colorscale": [
             [
              0,
              "#0d0887"
             ],
             [
              0.1111111111111111,
              "#46039f"
             ],
             [
              0.2222222222222222,
              "#7201a8"
             ],
             [
              0.3333333333333333,
              "#9c179e"
             ],
             [
              0.4444444444444444,
              "#bd3786"
             ],
             [
              0.5555555555555556,
              "#d8576b"
             ],
             [
              0.6666666666666666,
              "#ed7953"
             ],
             [
              0.7777777777777778,
              "#fb9f3a"
             ],
             [
              0.8888888888888888,
              "#fdca26"
             ],
             [
              1,
              "#f0f921"
             ]
            ],
            "type": "histogram2d"
           }
          ],
          "histogram2dcontour": [
           {
            "colorbar": {
             "outlinewidth": 0,
             "ticks": ""
            },
            "colorscale": [
             [
              0,
              "#0d0887"
             ],
             [
              0.1111111111111111,
              "#46039f"
             ],
             [
              0.2222222222222222,
              "#7201a8"
             ],
             [
              0.3333333333333333,
              "#9c179e"
             ],
             [
              0.4444444444444444,
              "#bd3786"
             ],
             [
              0.5555555555555556,
              "#d8576b"
             ],
             [
              0.6666666666666666,
              "#ed7953"
             ],
             [
              0.7777777777777778,
              "#fb9f3a"
             ],
             [
              0.8888888888888888,
              "#fdca26"
             ],
             [
              1,
              "#f0f921"
             ]
            ],
            "type": "histogram2dcontour"
           }
          ],
          "mesh3d": [
           {
            "colorbar": {
             "outlinewidth": 0,
             "ticks": ""
            },
            "type": "mesh3d"
           }
          ],
          "parcoords": [
           {
            "line": {
             "colorbar": {
              "outlinewidth": 0,
              "ticks": ""
             }
            },
            "type": "parcoords"
           }
          ],
          "pie": [
           {
            "automargin": true,
            "type": "pie"
           }
          ],
          "scatter": [
           {
            "marker": {
             "colorbar": {
              "outlinewidth": 0,
              "ticks": ""
             }
            },
            "type": "scatter"
           }
          ],
          "scatter3d": [
           {
            "line": {
             "colorbar": {
              "outlinewidth": 0,
              "ticks": ""
             }
            },
            "marker": {
             "colorbar": {
              "outlinewidth": 0,
              "ticks": ""
             }
            },
            "type": "scatter3d"
           }
          ],
          "scattercarpet": [
           {
            "marker": {
             "colorbar": {
              "outlinewidth": 0,
              "ticks": ""
             }
            },
            "type": "scattercarpet"
           }
          ],
          "scattergeo": [
           {
            "marker": {
             "colorbar": {
              "outlinewidth": 0,
              "ticks": ""
             }
            },
            "type": "scattergeo"
           }
          ],
          "scattergl": [
           {
            "marker": {
             "colorbar": {
              "outlinewidth": 0,
              "ticks": ""
             }
            },
            "type": "scattergl"
           }
          ],
          "scattermapbox": [
           {
            "marker": {
             "colorbar": {
              "outlinewidth": 0,
              "ticks": ""
             }
            },
            "type": "scattermapbox"
           }
          ],
          "scatterpolar": [
           {
            "marker": {
             "colorbar": {
              "outlinewidth": 0,
              "ticks": ""
             }
            },
            "type": "scatterpolar"
           }
          ],
          "scatterpolargl": [
           {
            "marker": {
             "colorbar": {
              "outlinewidth": 0,
              "ticks": ""
             }
            },
            "type": "scatterpolargl"
           }
          ],
          "scatterternary": [
           {
            "marker": {
             "colorbar": {
              "outlinewidth": 0,
              "ticks": ""
             }
            },
            "type": "scatterternary"
           }
          ],
          "surface": [
           {
            "colorbar": {
             "outlinewidth": 0,
             "ticks": ""
            },
            "colorscale": [
             [
              0,
              "#0d0887"
             ],
             [
              0.1111111111111111,
              "#46039f"
             ],
             [
              0.2222222222222222,
              "#7201a8"
             ],
             [
              0.3333333333333333,
              "#9c179e"
             ],
             [
              0.4444444444444444,
              "#bd3786"
             ],
             [
              0.5555555555555556,
              "#d8576b"
             ],
             [
              0.6666666666666666,
              "#ed7953"
             ],
             [
              0.7777777777777778,
              "#fb9f3a"
             ],
             [
              0.8888888888888888,
              "#fdca26"
             ],
             [
              1,
              "#f0f921"
             ]
            ],
            "type": "surface"
           }
          ],
          "table": [
           {
            "cells": {
             "fill": {
              "color": "#EBF0F8"
             },
             "line": {
              "color": "white"
             }
            },
            "header": {
             "fill": {
              "color": "#C8D4E3"
             },
             "line": {
              "color": "white"
             }
            },
            "type": "table"
           }
          ]
         },
         "layout": {
          "annotationdefaults": {
           "arrowcolor": "#2a3f5f",
           "arrowhead": 0,
           "arrowwidth": 1
          },
          "autotypenumbers": "strict",
          "coloraxis": {
           "colorbar": {
            "outlinewidth": 0,
            "ticks": ""
           }
          },
          "colorscale": {
           "diverging": [
            [
             0,
             "#8e0152"
            ],
            [
             0.1,
             "#c51b7d"
            ],
            [
             0.2,
             "#de77ae"
            ],
            [
             0.3,
             "#f1b6da"
            ],
            [
             0.4,
             "#fde0ef"
            ],
            [
             0.5,
             "#f7f7f7"
            ],
            [
             0.6,
             "#e6f5d0"
            ],
            [
             0.7,
             "#b8e186"
            ],
            [
             0.8,
             "#7fbc41"
            ],
            [
             0.9,
             "#4d9221"
            ],
            [
             1,
             "#276419"
            ]
           ],
           "sequential": [
            [
             0,
             "#0d0887"
            ],
            [
             0.1111111111111111,
             "#46039f"
            ],
            [
             0.2222222222222222,
             "#7201a8"
            ],
            [
             0.3333333333333333,
             "#9c179e"
            ],
            [
             0.4444444444444444,
             "#bd3786"
            ],
            [
             0.5555555555555556,
             "#d8576b"
            ],
            [
             0.6666666666666666,
             "#ed7953"
            ],
            [
             0.7777777777777778,
             "#fb9f3a"
            ],
            [
             0.8888888888888888,
             "#fdca26"
            ],
            [
             1,
             "#f0f921"
            ]
           ],
           "sequentialminus": [
            [
             0,
             "#0d0887"
            ],
            [
             0.1111111111111111,
             "#46039f"
            ],
            [
             0.2222222222222222,
             "#7201a8"
            ],
            [
             0.3333333333333333,
             "#9c179e"
            ],
            [
             0.4444444444444444,
             "#bd3786"
            ],
            [
             0.5555555555555556,
             "#d8576b"
            ],
            [
             0.6666666666666666,
             "#ed7953"
            ],
            [
             0.7777777777777778,
             "#fb9f3a"
            ],
            [
             0.8888888888888888,
             "#fdca26"
            ],
            [
             1,
             "#f0f921"
            ]
           ]
          },
          "colorway": [
           "#636efa",
           "#EF553B",
           "#00cc96",
           "#ab63fa",
           "#FFA15A",
           "#19d3f3",
           "#FF6692",
           "#B6E880",
           "#FF97FF",
           "#FECB52"
          ],
          "font": {
           "color": "#2a3f5f"
          },
          "geo": {
           "bgcolor": "white",
           "lakecolor": "white",
           "landcolor": "#E5ECF6",
           "showlakes": true,
           "showland": true,
           "subunitcolor": "white"
          },
          "hoverlabel": {
           "align": "left"
          },
          "hovermode": "closest",
          "mapbox": {
           "style": "light"
          },
          "paper_bgcolor": "white",
          "plot_bgcolor": "#E5ECF6",
          "polar": {
           "angularaxis": {
            "gridcolor": "white",
            "linecolor": "white",
            "ticks": ""
           },
           "bgcolor": "#E5ECF6",
           "radialaxis": {
            "gridcolor": "white",
            "linecolor": "white",
            "ticks": ""
           }
          },
          "scene": {
           "xaxis": {
            "backgroundcolor": "#E5ECF6",
            "gridcolor": "white",
            "gridwidth": 2,
            "linecolor": "white",
            "showbackground": true,
            "ticks": "",
            "zerolinecolor": "white"
           },
           "yaxis": {
            "backgroundcolor": "#E5ECF6",
            "gridcolor": "white",
            "gridwidth": 2,
            "linecolor": "white",
            "showbackground": true,
            "ticks": "",
            "zerolinecolor": "white"
           },
           "zaxis": {
            "backgroundcolor": "#E5ECF6",
            "gridcolor": "white",
            "gridwidth": 2,
            "linecolor": "white",
            "showbackground": true,
            "ticks": "",
            "zerolinecolor": "white"
           }
          },
          "shapedefaults": {
           "line": {
            "color": "#2a3f5f"
           }
          },
          "ternary": {
           "aaxis": {
            "gridcolor": "white",
            "linecolor": "white",
            "ticks": ""
           },
           "baxis": {
            "gridcolor": "white",
            "linecolor": "white",
            "ticks": ""
           },
           "bgcolor": "#E5ECF6",
           "caxis": {
            "gridcolor": "white",
            "linecolor": "white",
            "ticks": ""
           }
          },
          "title": {
           "x": 0.05
          },
          "xaxis": {
           "automargin": true,
           "gridcolor": "white",
           "linecolor": "white",
           "ticks": "",
           "title": {
            "standoff": 15
           },
           "zerolinecolor": "white",
           "zerolinewidth": 2
          },
          "yaxis": {
           "automargin": true,
           "gridcolor": "white",
           "linecolor": "white",
           "ticks": "",
           "title": {
            "standoff": 15
           },
           "zerolinecolor": "white",
           "zerolinewidth": 2
          }
         }
        },
        "title": {
         "text": "Common Activities of Data Professionals"
        }
       }
      },
      "text/html": [
       "<div>                            <div id=\"241dd054-c932-411c-9b94-47729debf282\" class=\"plotly-graph-div\" style=\"height:525px; width:100%;\"></div>            <script type=\"text/javascript\">                require([\"plotly\"], function(Plotly) {                    window.PLOTLYENV=window.PLOTLYENV || {};                                    if (document.getElementById(\"241dd054-c932-411c-9b94-47729debf282\")) {                    Plotly.newPlot(                        \"241dd054-c932-411c-9b94-47729debf282\",                        [{\"hovertemplate\":\"Role=Data Analyst<br>Normalized Score=%{r}<br>Main Activity=%{theta}<extra></extra>\",\"legendgroup\":\"Data Analyst\",\"line\":{\"color\":\"#636efa\",\"dash\":\"solid\"},\"marker\":{\"symbol\":\"circle\"},\"mode\":\"lines+markers\",\"name\":\"Data Analyst\",\"r\":[43.06748466257669,10.67484662576687,8.01635991820041,18.3640081799591,8.05725971370143,3.3946830265848673,2.61758691206544,5.807770961145194,43.06748466257669],\"showlegend\":true,\"subplot\":\"polar\",\"theta\":[\"Analyze & understand data for decisions\",\"Build ML prototypes\",\"Build and/or run ML service\",\"Build and/or run data infra\",\"Experiment & iterate on ML models\",\"None\",\"Other\",\"Research on ML SOTA\",\"Analyze & understand data for decisions\"],\"type\":\"scatterpolar\"},{\"hovertemplate\":\"Role=Data Engineer<br>Normalized Score=%{r}<br>Main Activity=%{theta}<extra></extra>\",\"legendgroup\":\"Data Engineer\",\"line\":{\"color\":\"#EF553B\",\"dash\":\"solid\"},\"marker\":{\"symbol\":\"circle\"},\"mode\":\"lines+markers\",\"name\":\"Data Engineer\",\"r\":[28.045977011494255,14.942528735632186,10.804597701149426,26.551724137931032,10.229885057471265,1.9540229885057472,2.0689655172413794,5.402298850574713,28.045977011494255],\"showlegend\":true,\"subplot\":\"polar\",\"theta\":[\"Analyze & understand data for decisions\",\"Build ML prototypes\",\"Build and/or run ML service\",\"Build and/or run data infra\",\"Experiment & iterate on ML models\",\"None\",\"Other\",\"Research on ML SOTA\",\"Analyze & understand data for decisions\"],\"type\":\"scatterpolar\"},{\"hovertemplate\":\"Role=Data Scientist<br>Normalized Score=%{r}<br>Main Activity=%{theta}<extra></extra>\",\"legendgroup\":\"Data Scientist\",\"line\":{\"color\":\"#00cc96\",\"dash\":\"solid\"},\"marker\":{\"symbol\":\"circle\"},\"mode\":\"lines+markers\",\"name\":\"Data Scientist\",\"r\":[25.584255842558424,19.84419844198442,14.445811124777913,12.928795954626212,16.318163181631817,1.011343446767801,1.2026786934536011,8.664753314199809,25.584255842558424],\"showlegend\":true,\"subplot\":\"polar\",\"theta\":[\"Analyze & understand data for decisions\",\"Build ML prototypes\",\"Build and/or run ML service\",\"Build and/or run data infra\",\"Experiment & iterate on ML models\",\"None\",\"Other\",\"Research on ML SOTA\",\"Analyze & understand data for decisions\"],\"type\":\"scatterpolar\"},{\"hovertemplate\":\"Role=Machine Learning Engineer<br>Normalized Score=%{r}<br>Main Activity=%{theta}<extra></extra>\",\"legendgroup\":\"Machine Learning Engineer\",\"line\":{\"color\":\"#ab63fa\",\"dash\":\"solid\"},\"marker\":{\"symbol\":\"circle\"},\"mode\":\"lines+markers\",\"name\":\"Machine Learning Engineer\",\"r\":[17.007575757575758,19.015151515151516,16.78030303030303,13.143939393939394,17.575757575757574,1.893939393939394,1.9318181818181817,12.651515151515152,17.007575757575758],\"showlegend\":true,\"subplot\":\"polar\",\"theta\":[\"Analyze & understand data for decisions\",\"Build ML prototypes\",\"Build and/or run ML service\",\"Build and/or run data infra\",\"Experiment & iterate on ML models\",\"None\",\"Other\",\"Research on ML SOTA\",\"Analyze & understand data for decisions\"],\"type\":\"scatterpolar\"}],                        {\"legend\":{\"title\":{\"text\":\"Role\"},\"tracegroupgap\":0},\"polar\":{\"angularaxis\":{\"direction\":\"clockwise\",\"rotation\":90},\"domain\":{\"x\":[0.0,1.0],\"y\":[0.0,1.0]}},\"template\":{\"data\":{\"bar\":[{\"error_x\":{\"color\":\"#2a3f5f\"},\"error_y\":{\"color\":\"#2a3f5f\"},\"marker\":{\"line\":{\"color\":\"#E5ECF6\",\"width\":0.5},\"pattern\":{\"fillmode\":\"overlay\",\"size\":10,\"solidity\":0.2}},\"type\":\"bar\"}],\"barpolar\":[{\"marker\":{\"line\":{\"color\":\"#E5ECF6\",\"width\":0.5},\"pattern\":{\"fillmode\":\"overlay\",\"size\":10,\"solidity\":0.2}},\"type\":\"barpolar\"}],\"carpet\":[{\"aaxis\":{\"endlinecolor\":\"#2a3f5f\",\"gridcolor\":\"white\",\"linecolor\":\"white\",\"minorgridcolor\":\"white\",\"startlinecolor\":\"#2a3f5f\"},\"baxis\":{\"endlinecolor\":\"#2a3f5f\",\"gridcolor\":\"white\",\"linecolor\":\"white\",\"minorgridcolor\":\"white\",\"startlinecolor\":\"#2a3f5f\"},\"type\":\"carpet\"}],\"choropleth\":[{\"colorbar\":{\"outlinewidth\":0,\"ticks\":\"\"},\"type\":\"choropleth\"}],\"contour\":[{\"colorbar\":{\"outlinewidth\":0,\"ticks\":\"\"},\"colorscale\":[[0.0,\"#0d0887\"],[0.1111111111111111,\"#46039f\"],[0.2222222222222222,\"#7201a8\"],[0.3333333333333333,\"#9c179e\"],[0.4444444444444444,\"#bd3786\"],[0.5555555555555556,\"#d8576b\"],[0.6666666666666666,\"#ed7953\"],[0.7777777777777778,\"#fb9f3a\"],[0.8888888888888888,\"#fdca26\"],[1.0,\"#f0f921\"]],\"type\":\"contour\"}],\"contourcarpet\":[{\"colorbar\":{\"outlinewidth\":0,\"ticks\":\"\"},\"type\":\"contourcarpet\"}],\"heatmap\":[{\"colorbar\":{\"outlinewidth\":0,\"ticks\":\"\"},\"colorscale\":[[0.0,\"#0d0887\"],[0.1111111111111111,\"#46039f\"],[0.2222222222222222,\"#7201a8\"],[0.3333333333333333,\"#9c179e\"],[0.4444444444444444,\"#bd3786\"],[0.5555555555555556,\"#d8576b\"],[0.6666666666666666,\"#ed7953\"],[0.7777777777777778,\"#fb9f3a\"],[0.8888888888888888,\"#fdca26\"],[1.0,\"#f0f921\"]],\"type\":\"heatmap\"}],\"heatmapgl\":[{\"colorbar\":{\"outlinewidth\":0,\"ticks\":\"\"},\"colorscale\":[[0.0,\"#0d0887\"],[0.1111111111111111,\"#46039f\"],[0.2222222222222222,\"#7201a8\"],[0.3333333333333333,\"#9c179e\"],[0.4444444444444444,\"#bd3786\"],[0.5555555555555556,\"#d8576b\"],[0.6666666666666666,\"#ed7953\"],[0.7777777777777778,\"#fb9f3a\"],[0.8888888888888888,\"#fdca26\"],[1.0,\"#f0f921\"]],\"type\":\"heatmapgl\"}],\"histogram\":[{\"marker\":{\"pattern\":{\"fillmode\":\"overlay\",\"size\":10,\"solidity\":0.2}},\"type\":\"histogram\"}],\"histogram2d\":[{\"colorbar\":{\"outlinewidth\":0,\"ticks\":\"\"},\"colorscale\":[[0.0,\"#0d0887\"],[0.1111111111111111,\"#46039f\"],[0.2222222222222222,\"#7201a8\"],[0.3333333333333333,\"#9c179e\"],[0.4444444444444444,\"#bd3786\"],[0.5555555555555556,\"#d8576b\"],[0.6666666666666666,\"#ed7953\"],[0.7777777777777778,\"#fb9f3a\"],[0.8888888888888888,\"#fdca26\"],[1.0,\"#f0f921\"]],\"type\":\"histogram2d\"}],\"histogram2dcontour\":[{\"colorbar\":{\"outlinewidth\":0,\"ticks\":\"\"},\"colorscale\":[[0.0,\"#0d0887\"],[0.1111111111111111,\"#46039f\"],[0.2222222222222222,\"#7201a8\"],[0.3333333333333333,\"#9c179e\"],[0.4444444444444444,\"#bd3786\"],[0.5555555555555556,\"#d8576b\"],[0.6666666666666666,\"#ed7953\"],[0.7777777777777778,\"#fb9f3a\"],[0.8888888888888888,\"#fdca26\"],[1.0,\"#f0f921\"]],\"type\":\"histogram2dcontour\"}],\"mesh3d\":[{\"colorbar\":{\"outlinewidth\":0,\"ticks\":\"\"},\"type\":\"mesh3d\"}],\"parcoords\":[{\"line\":{\"colorbar\":{\"outlinewidth\":0,\"ticks\":\"\"}},\"type\":\"parcoords\"}],\"pie\":[{\"automargin\":true,\"type\":\"pie\"}],\"scatter\":[{\"marker\":{\"colorbar\":{\"outlinewidth\":0,\"ticks\":\"\"}},\"type\":\"scatter\"}],\"scatter3d\":[{\"line\":{\"colorbar\":{\"outlinewidth\":0,\"ticks\":\"\"}},\"marker\":{\"colorbar\":{\"outlinewidth\":0,\"ticks\":\"\"}},\"type\":\"scatter3d\"}],\"scattercarpet\":[{\"marker\":{\"colorbar\":{\"outlinewidth\":0,\"ticks\":\"\"}},\"type\":\"scattercarpet\"}],\"scattergeo\":[{\"marker\":{\"colorbar\":{\"outlinewidth\":0,\"ticks\":\"\"}},\"type\":\"scattergeo\"}],\"scattergl\":[{\"marker\":{\"colorbar\":{\"outlinewidth\":0,\"ticks\":\"\"}},\"type\":\"scattergl\"}],\"scattermapbox\":[{\"marker\":{\"colorbar\":{\"outlinewidth\":0,\"ticks\":\"\"}},\"type\":\"scattermapbox\"}],\"scatterpolar\":[{\"marker\":{\"colorbar\":{\"outlinewidth\":0,\"ticks\":\"\"}},\"type\":\"scatterpolar\"}],\"scatterpolargl\":[{\"marker\":{\"colorbar\":{\"outlinewidth\":0,\"ticks\":\"\"}},\"type\":\"scatterpolargl\"}],\"scatterternary\":[{\"marker\":{\"colorbar\":{\"outlinewidth\":0,\"ticks\":\"\"}},\"type\":\"scatterternary\"}],\"surface\":[{\"colorbar\":{\"outlinewidth\":0,\"ticks\":\"\"},\"colorscale\":[[0.0,\"#0d0887\"],[0.1111111111111111,\"#46039f\"],[0.2222222222222222,\"#7201a8\"],[0.3333333333333333,\"#9c179e\"],[0.4444444444444444,\"#bd3786\"],[0.5555555555555556,\"#d8576b\"],[0.6666666666666666,\"#ed7953\"],[0.7777777777777778,\"#fb9f3a\"],[0.8888888888888888,\"#fdca26\"],[1.0,\"#f0f921\"]],\"type\":\"surface\"}],\"table\":[{\"cells\":{\"fill\":{\"color\":\"#EBF0F8\"},\"line\":{\"color\":\"white\"}},\"header\":{\"fill\":{\"color\":\"#C8D4E3\"},\"line\":{\"color\":\"white\"}},\"type\":\"table\"}]},\"layout\":{\"annotationdefaults\":{\"arrowcolor\":\"#2a3f5f\",\"arrowhead\":0,\"arrowwidth\":1},\"autotypenumbers\":\"strict\",\"coloraxis\":{\"colorbar\":{\"outlinewidth\":0,\"ticks\":\"\"}},\"colorscale\":{\"diverging\":[[0,\"#8e0152\"],[0.1,\"#c51b7d\"],[0.2,\"#de77ae\"],[0.3,\"#f1b6da\"],[0.4,\"#fde0ef\"],[0.5,\"#f7f7f7\"],[0.6,\"#e6f5d0\"],[0.7,\"#b8e186\"],[0.8,\"#7fbc41\"],[0.9,\"#4d9221\"],[1,\"#276419\"]],\"sequential\":[[0.0,\"#0d0887\"],[0.1111111111111111,\"#46039f\"],[0.2222222222222222,\"#7201a8\"],[0.3333333333333333,\"#9c179e\"],[0.4444444444444444,\"#bd3786\"],[0.5555555555555556,\"#d8576b\"],[0.6666666666666666,\"#ed7953\"],[0.7777777777777778,\"#fb9f3a\"],[0.8888888888888888,\"#fdca26\"],[1.0,\"#f0f921\"]],\"sequentialminus\":[[0.0,\"#0d0887\"],[0.1111111111111111,\"#46039f\"],[0.2222222222222222,\"#7201a8\"],[0.3333333333333333,\"#9c179e\"],[0.4444444444444444,\"#bd3786\"],[0.5555555555555556,\"#d8576b\"],[0.6666666666666666,\"#ed7953\"],[0.7777777777777778,\"#fb9f3a\"],[0.8888888888888888,\"#fdca26\"],[1.0,\"#f0f921\"]]},\"colorway\":[\"#636efa\",\"#EF553B\",\"#00cc96\",\"#ab63fa\",\"#FFA15A\",\"#19d3f3\",\"#FF6692\",\"#B6E880\",\"#FF97FF\",\"#FECB52\"],\"font\":{\"color\":\"#2a3f5f\"},\"geo\":{\"bgcolor\":\"white\",\"lakecolor\":\"white\",\"landcolor\":\"#E5ECF6\",\"showlakes\":true,\"showland\":true,\"subunitcolor\":\"white\"},\"hoverlabel\":{\"align\":\"left\"},\"hovermode\":\"closest\",\"mapbox\":{\"style\":\"light\"},\"paper_bgcolor\":\"white\",\"plot_bgcolor\":\"#E5ECF6\",\"polar\":{\"angularaxis\":{\"gridcolor\":\"white\",\"linecolor\":\"white\",\"ticks\":\"\"},\"bgcolor\":\"#E5ECF6\",\"radialaxis\":{\"gridcolor\":\"white\",\"linecolor\":\"white\",\"ticks\":\"\"}},\"scene\":{\"xaxis\":{\"backgroundcolor\":\"#E5ECF6\",\"gridcolor\":\"white\",\"gridwidth\":2,\"linecolor\":\"white\",\"showbackground\":true,\"ticks\":\"\",\"zerolinecolor\":\"white\"},\"yaxis\":{\"backgroundcolor\":\"#E5ECF6\",\"gridcolor\":\"white\",\"gridwidth\":2,\"linecolor\":\"white\",\"showbackground\":true,\"ticks\":\"\",\"zerolinecolor\":\"white\"},\"zaxis\":{\"backgroundcolor\":\"#E5ECF6\",\"gridcolor\":\"white\",\"gridwidth\":2,\"linecolor\":\"white\",\"showbackground\":true,\"ticks\":\"\",\"zerolinecolor\":\"white\"}},\"shapedefaults\":{\"line\":{\"color\":\"#2a3f5f\"}},\"ternary\":{\"aaxis\":{\"gridcolor\":\"white\",\"linecolor\":\"white\",\"ticks\":\"\"},\"baxis\":{\"gridcolor\":\"white\",\"linecolor\":\"white\",\"ticks\":\"\"},\"bgcolor\":\"#E5ECF6\",\"caxis\":{\"gridcolor\":\"white\",\"linecolor\":\"white\",\"ticks\":\"\"}},\"title\":{\"x\":0.05},\"xaxis\":{\"automargin\":true,\"gridcolor\":\"white\",\"linecolor\":\"white\",\"ticks\":\"\",\"title\":{\"standoff\":15},\"zerolinecolor\":\"white\",\"zerolinewidth\":2},\"yaxis\":{\"automargin\":true,\"gridcolor\":\"white\",\"linecolor\":\"white\",\"ticks\":\"\",\"title\":{\"standoff\":15},\"zerolinecolor\":\"white\",\"zerolinewidth\":2}}},\"title\":{\"text\":\"Common Activities of Data Professionals\"}},                        {\"responsive\": true}                    ).then(function(){\n",
       "                            \n",
       "var gd = document.getElementById('241dd054-c932-411c-9b94-47729debf282');\n",
       "var x = new MutationObserver(function (mutations, observer) {{\n",
       "        var display = window.getComputedStyle(gd).display;\n",
       "        if (!display || display === 'none') {{\n",
       "            console.log([gd, 'removed!']);\n",
       "            Plotly.purge(gd);\n",
       "            observer.disconnect();\n",
       "        }}\n",
       "}});\n",
       "\n",
       "// Listen for the removal of the full notebook cells\n",
       "var notebookContainer = gd.closest('#notebook-container');\n",
       "if (notebookContainer) {{\n",
       "    x.observe(notebookContainer, {childList: true});\n",
       "}}\n",
       "\n",
       "// Listen for the clearing of the current output cell\n",
       "var outputEl = gd.closest('.output');\n",
       "if (outputEl) {{\n",
       "    x.observe(outputEl, {childList: true});\n",
       "}}\n",
       "\n",
       "                        })                };                });            </script>        </div>"
      ]
     },
     "metadata": {},
     "output_type": "display_data"
    }
   ],
   "source": [
    "dict_roles_main_activities = {} # dict buffer for storing the results\n",
    "for_df_concat = [] # buffer for collecting temporary DF\n",
    "\n",
    "fig = go.Figure() # instantiate the plot\n",
    "\n",
    "# loop through each value of dict of skills of roles\n",
    "for k,v in dict_roles.items():\n",
    "    tmp = get_common_skills(v) # process common skills\n",
    "    tmp = normalize_main_activities(tmp['Main Activity']) # get only \"Main Activity\" classification then normalize\n",
    "    tmp = [(k, code_activities[t[0]], t[1]*100) for t in tmp] # shorten each main activity and multiply the value by 100\n",
    "    \n",
    "    dict_roles_main_activities[k] = tmp # store\n",
    "    \n",
    "    # set the results as a DF then store it\n",
    "    df_tmp = pd.DataFrame(tmp, columns=['Role', 'Main Activity', 'Normalized Score'])\n",
    "    for_df_concat.append(df_tmp)\n",
    "    \n",
    "# concat all DFs then plot the chart\n",
    "df_concat = pd.concat(for_df_concat, axis=0)\n",
    "df_concat.sort_values(['Role', 'Main Activity'], inplace=True) # sort with relevant order\n",
    "fig = px.line_polar(df_concat,\n",
    "                    r=\"Normalized Score\", \n",
    "                    theta=\"Main Activity\", \n",
    "                    color=\"Role\",\n",
    "                    line_close=True,\n",
    "                    markers=True, \n",
    "                    title='Common Activities of Data Professionals')\n",
    "fig.show()"
   ]
  },
  {
   "cell_type": "markdown",
   "metadata": {
    "hidden": true
   },
   "source": [
    "Unlike the chart of common skills earlier, the above plot of common activities shows more varied results. We can see that each role indeed has distinguished activities. We can also find that each of them has different emphasis.\n",
    "\n",
    "Data Analyst, for example, as we can expect, is the one who spends his/her time mostly on analyzing and understanding data to influence product or business decisions. Even this activity climbs far enough from other roles. Data Engineer, on the other hand, spends his/her time mostly on building and/or running the data infrastructure that his/her business uses for storing, analyzing, and operationalizing data. This is what we can expect from a data engineer.\n",
    "\n",
    "ML Engineer, as its name, focuses more on ML part activities, such as researching on state-of-the-art of machine learning and building and/or running ML service. For Data Scientist, we can see that this role intersects with most ML Engineer activities. What differentiates Data Scientist activities from ML Engineer activities is on the activity of analyzing and understanding data. The only top activity for Data Scientist is only for building prototypes to explore applying machine learning to new areas. This again supports the theory where data scientist is a multidisciplinary role."
   ]
  },
  {
   "cell_type": "markdown",
   "metadata": {
    "hidden": true
   },
   "source": [
    "### Question 3\n",
    "By becoming a Full Stack Data Professional, do you earn more?"
   ]
  },
  {
   "cell_type": "markdown",
   "metadata": {
    "hidden": true
   },
   "source": [
    "Like Full Stack Developers who can master and perform both front end and back end in web development, we can also refer a data professional who does the upstream and downstream tasks in data field as a Full Stack Data Scientist/Professional. Like a swiss-army knife which serves many tools in a single knife, we expect a Full Stack Data Scientist as a 'one-man army' who can do all things regarding data field.\n",
    "\n",
    "So, by mastering many things, a Full Stack Data Scientist, I think, should earn more money compared to other focused roles. But, is that so? Let's prove it."
   ]
  },
  {
   "cell_type": "markdown",
   "metadata": {
    "hidden": true
   },
   "source": [
    "To answer this question, below are the columns of interest I think we need:\n",
    "- Q5 role\n",
    "- Q7 programming language (many columns)\n",
    "- Q8 programming language recommended\n",
    "- Q10 hosted notebook (many columns)\n",
    "- Q12 specialized hardware (many columns)\n",
    "- Q14 data viz library (many columns)\n",
    "- Q16 ML framework (many columns)\n",
    "- Q17 ML algorithm (many columns)\n",
    "- Q18 CV method (many columns)\n",
    "- Q19 NLP method (many columns)\n",
    "- Q23 important activity (many columns)\n",
    "- Q24 salary\n",
    "- Q26 A/B cloud computing platform (many columns)\n",
    "- Q27 A/B cloud computing product (many columns)\n",
    "- Q28 A/B ML product (many columns)\n",
    "- Q29 A/B big data product (many columns)\n",
    "- Q30 big data product used most often\n",
    "- Q31 A/B BI tool (many columns)\n",
    "- Q32 BI tool used most often\n",
    "- Q33 A/B AutoML category (many columns)\n",
    "- Q34 A/B AutoML (many columns)\n",
    "- Q35 A/B ML experiment (many columns)\n",
    "- Q36 deploy (many columns)"
   ]
  },
  {
   "cell_type": "code",
   "execution_count": 64,
   "metadata": {
    "hidden": true
   },
   "outputs": [],
   "source": [
    "# define tuple containing the cols of interest\n",
    "cols_interest = (\"Q5\", \"Q7\", \"Q8\", \"Q10\", \"Q12\", \"Q14\", \"Q16\", \"Q17\", \"Q18\", \n",
    "                 \"Q19\", \"Q23\", \"Q24\", \"Q26\", \"Q27\", \"Q28\", \"Q29\", \"Q30\", \n",
    "                 \"Q31\", \"Q32\", \"Q33\", \"Q34\", \"Q35\", \"Q36\", \"Q38\")"
   ]
  },
  {
   "cell_type": "markdown",
   "metadata": {
    "hidden": true
   },
   "source": [
    "First, let's define some functions to ease answering this question."
   ]
  },
  {
   "cell_type": "code",
   "execution_count": 65,
   "metadata": {
    "hidden": true
   },
   "outputs": [],
   "source": [
    "# define function to expand the col having many parts, excluding 'B' part\n",
    "expand_col = lambda col: [c for c in df.columns if col in c and 'B' not in c]"
   ]
  },
  {
   "cell_type": "code",
   "execution_count": 66,
   "metadata": {
    "hidden": true
   },
   "outputs": [],
   "source": [
    "def to_list(col):\n",
    "    \"\"\"used to convert given column with many parts into a single list value (if many elements found)\n",
    "    or a string (if only one element found)\"\"\"\n",
    "    \n",
    "    list_tmp = [el for el in col.tolist() if pd.notnull(el)] # get data without NaN\n",
    "    list_tmp = [el for el in list_tmp if 'None' not in el and 'do not' not in el] # get data without text \"None\" and \"do not\"\n",
    "    \n",
    "    if len(list_tmp) > 1:\n",
    "        return list_tmp\n",
    "    elif len(list_tmp) == 1:\n",
    "        return list_tmp[0]\n",
    "    else:\n",
    "        return np.nan"
   ]
  },
  {
   "cell_type": "code",
   "execution_count": 67,
   "metadata": {
    "hidden": true
   },
   "outputs": [],
   "source": [
    "def remove_punctuation(string, punctuation=string.punctuation + ' '):\n",
    "    \"\"\"used to remove punctuation in a given string\"\"\"\n",
    "    for char in string:\n",
    "        if char in punctuation:\n",
    "            string = string.replace(char, \"\")\n",
    "            \n",
    "    return string"
   ]
  },
  {
   "cell_type": "code",
   "execution_count": 68,
   "metadata": {
    "hidden": true
   },
   "outputs": [],
   "source": [
    "def split_salary(string):\n",
    "    \"\"\"used to split salary string from the Q24 column\"\"\"\n",
    "    \n",
    "    # find the regex patterns for lower & upper threshold of salary\n",
    "    lower = re.findall(r\".+(?=\\-)\", string)\n",
    "    upper = re.findall(r\"(?<=\\-).+\", string)\n",
    "    \n",
    "    # if both thresholds found, remove the punctuations and return both\n",
    "    if lower and upper:\n",
    "        return pd.Series([int(remove_punctuation(lower[0])), int(remove_punctuation(upper[0]))])\n",
    "    # if not, remove the punctuations and set the given string as lower, then set 700K as the upper\n",
    "    else:\n",
    "        return pd.Series([int(remove_punctuation(string)), 700000])"
   ]
  },
  {
   "cell_type": "markdown",
   "metadata": {
    "hidden": true
   },
   "source": [
    "Now, let's process the data. We'd like to have a dataframe where no redundant columns (but no value removed) and no NULL value found in each row for every our columns of interest."
   ]
  },
  {
   "cell_type": "code",
   "execution_count": 69,
   "metadata": {
    "hidden": true
   },
   "outputs": [
    {
     "name": "stderr",
     "output_type": "stream",
     "text": [
      "100%|██████████████████████████████████████████████████████████████████████████████████| 24/24 [00:08<00:00,  2.69it/s]\n"
     ]
    }
   ],
   "source": [
    "list_Series = [] # buffer to store temporary DF\n",
    "\n",
    "# loop through each col of interest\n",
    "for col in tqdm(cols_interest):\n",
    "    # combine all redundant columns into a single column\n",
    "    list_Series.append(df[expand_col(col)].apply(to_list, axis=1).rename(col))\n",
    "    \n",
    "df_Quest3 = pd.concat(list_Series, axis=1) # combine all DFs\n",
    "df_Quest3.dropna(inplace=True) # remove NaN values"
   ]
  },
  {
   "cell_type": "code",
   "execution_count": 70,
   "metadata": {
    "hidden": true,
    "scrolled": true
   },
   "outputs": [
    {
     "data": {
      "text/plain": [
       "Q5     0\n",
       "Q7     0\n",
       "Q8     0\n",
       "Q10    0\n",
       "Q12    0\n",
       "Q14    0\n",
       "Q16    0\n",
       "Q17    0\n",
       "Q18    0\n",
       "Q19    0\n",
       "Q23    0\n",
       "Q24    0\n",
       "Q26    0\n",
       "Q27    0\n",
       "Q28    0\n",
       "Q29    0\n",
       "Q30    0\n",
       "Q31    0\n",
       "Q32    0\n",
       "Q33    0\n",
       "Q34    0\n",
       "Q35    0\n",
       "Q36    0\n",
       "Q38    0\n",
       "dtype: int64"
      ]
     },
     "execution_count": 70,
     "metadata": {},
     "output_type": "execute_result"
    }
   ],
   "source": [
    "# check if any nan value still exists\n",
    "df_Quest3.isnull().sum()"
   ]
  },
  {
   "cell_type": "code",
   "execution_count": 71,
   "metadata": {
    "hidden": true,
    "scrolled": true
   },
   "outputs": [
    {
     "data": {
      "text/html": [
       "<div>\n",
       "<style scoped>\n",
       "    .dataframe tbody tr th:only-of-type {\n",
       "        vertical-align: middle;\n",
       "    }\n",
       "\n",
       "    .dataframe tbody tr th {\n",
       "        vertical-align: top;\n",
       "    }\n",
       "\n",
       "    .dataframe thead th {\n",
       "        text-align: right;\n",
       "    }\n",
       "</style>\n",
       "<table border=\"1\" class=\"dataframe\">\n",
       "  <thead>\n",
       "    <tr style=\"text-align: right;\">\n",
       "      <th></th>\n",
       "      <th>Q5</th>\n",
       "      <th>Q7</th>\n",
       "      <th>Q8</th>\n",
       "      <th>Q10</th>\n",
       "      <th>Q12</th>\n",
       "      <th>Q14</th>\n",
       "      <th>Q16</th>\n",
       "      <th>Q17</th>\n",
       "      <th>Q18</th>\n",
       "      <th>Q19</th>\n",
       "      <th>...</th>\n",
       "      <th>Q28</th>\n",
       "      <th>Q29</th>\n",
       "      <th>Q30</th>\n",
       "      <th>Q31</th>\n",
       "      <th>Q32</th>\n",
       "      <th>Q33</th>\n",
       "      <th>Q34</th>\n",
       "      <th>Q35</th>\n",
       "      <th>Q36</th>\n",
       "      <th>Q38</th>\n",
       "    </tr>\n",
       "  </thead>\n",
       "  <tbody>\n",
       "    <tr>\n",
       "      <th>258</th>\n",
       "      <td>Software Engineer</td>\n",
       "      <td>[Python, R, C, Javascript]</td>\n",
       "      <td>R</td>\n",
       "      <td>[ Kaggle Notebooks, Colab Notebooks,  Binder /...</td>\n",
       "      <td>[GPUs, TPUs]</td>\n",
       "      <td>[ Matplotlib ,  Seaborn ,  Ggplot / ggplot2 , ...</td>\n",
       "      <td>[  Scikit-learn ,   TensorFlow ,  Keras ,  PyT...</td>\n",
       "      <td>[Convolutional Neural Networks, Generative Adv...</td>\n",
       "      <td>[General purpose image/video tools (PIL, cv2, ...</td>\n",
       "      <td>Transformer language models (GPT-3, BERT, XLne...</td>\n",
       "      <td>...</td>\n",
       "      <td>[ Amazon SageMaker ,  Amazon Forecast ,  Amazo...</td>\n",
       "      <td>[MySQL , PostgresSQL , MongoDB , Amazon Dynamo...</td>\n",
       "      <td>PostgresSQL</td>\n",
       "      <td>[Microsoft Power BI, Google Data Studio, Table...</td>\n",
       "      <td>Microsoft Power BI</td>\n",
       "      <td>[Automated data augmentation (e.g. imgaug, alb...</td>\n",
       "      <td>[  Auto-Keras ,   Auto-Sklearn ,   Auto_ml ]</td>\n",
       "      <td>TensorBoard</td>\n",
       "      <td>[ GitHub ,  Kaggle ,  Colab ]</td>\n",
       "      <td>Cloud-based data software &amp; APIs (AWS, GCP, Az...</td>\n",
       "    </tr>\n",
       "    <tr>\n",
       "      <th>489</th>\n",
       "      <td>Data Analyst</td>\n",
       "      <td>[Python, R, SQL, C, C++, Java]</td>\n",
       "      <td>Python</td>\n",
       "      <td>[ Kaggle Notebooks, Colab Notebooks,  Binder /...</td>\n",
       "      <td>[GPUs, TPUs]</td>\n",
       "      <td>[ Matplotlib ,  Seaborn ,  Ggplot / ggplot2 , ...</td>\n",
       "      <td>[  Scikit-learn ,   TensorFlow ,  Keras ,  PyT...</td>\n",
       "      <td>[Linear or Logistic Regression, Decision Trees...</td>\n",
       "      <td>[Image segmentation methods (U-Net, Mask R-CNN...</td>\n",
       "      <td>[Word embeddings/vectors (GLoVe, fastText, wor...</td>\n",
       "      <td>...</td>\n",
       "      <td>[ Amazon SageMaker ,  Azure Cognitive Services...</td>\n",
       "      <td>[MySQL , SQLite , Oracle Database , MongoDB , ...</td>\n",
       "      <td>MongoDB</td>\n",
       "      <td>[Microsoft Power BI, Tableau]</td>\n",
       "      <td>Tableau</td>\n",
       "      <td>[Automated hyperparameter tuning (e.g. hyperop...</td>\n",
       "      <td>[ H20 Driverless AI  ,   Auto-Sklearn ]</td>\n",
       "      <td>TensorBoard</td>\n",
       "      <td>[ GitHub ,  Kaggle ,  Colab ]</td>\n",
       "      <td>Advanced statistical software (SPSS, SAS, etc.)</td>\n",
       "    </tr>\n",
       "    <tr>\n",
       "      <th>546</th>\n",
       "      <td>Data Scientist</td>\n",
       "      <td>[Python, R, SQL, Bash]</td>\n",
       "      <td>Python</td>\n",
       "      <td>[ Kaggle Notebooks, Colab Notebooks]</td>\n",
       "      <td>[GPUs, TPUs]</td>\n",
       "      <td>[ Matplotlib ,  Seaborn ,  Plotly / Plotly Exp...</td>\n",
       "      <td>[  Scikit-learn ,   TensorFlow ,  Keras ,  PyT...</td>\n",
       "      <td>[Linear or Logistic Regression, Decision Trees...</td>\n",
       "      <td>[General purpose image/video tools (PIL, cv2, ...</td>\n",
       "      <td>[Word embeddings/vectors (GLoVe, fastText, wor...</td>\n",
       "      <td>...</td>\n",
       "      <td>[ Google Cloud Natural Language ,  Google Clou...</td>\n",
       "      <td>[MySQL , Oracle Database , MongoDB , Google Cl...</td>\n",
       "      <td>MongoDB</td>\n",
       "      <td>[Google Data Studio, Tableau]</td>\n",
       "      <td>Tableau</td>\n",
       "      <td>[Automated data augmentation (e.g. imgaug, alb...</td>\n",
       "      <td>[ Google Cloud AutoML ,  H20 Driverless AI  , ...</td>\n",
       "      <td>[ Neptune.ai ,  TensorBoard ]</td>\n",
       "      <td>[ GitHub ,  Personal blog ,  Kaggle ,  Colab ]</td>\n",
       "      <td>Local development environments (RStudio, Jupyt...</td>\n",
       "    </tr>\n",
       "    <tr>\n",
       "      <th>925</th>\n",
       "      <td>Data Scientist</td>\n",
       "      <td>[Python, R, SQL, Bash]</td>\n",
       "      <td>Python</td>\n",
       "      <td>Google Cloud AI Platform Notebooks</td>\n",
       "      <td>GPUs</td>\n",
       "      <td>[ Seaborn ,  Ggplot / ggplot2 ]</td>\n",
       "      <td>[  Scikit-learn ,   TensorFlow ,  Keras ,  Xgb...</td>\n",
       "      <td>[Linear or Logistic Regression, Decision Trees...</td>\n",
       "      <td>Image classification and other general purpose...</td>\n",
       "      <td>[Word embeddings/vectors (GLoVe, fastText, wor...</td>\n",
       "      <td>...</td>\n",
       "      <td>[ Google Cloud AI Platform / Google Cloud ML E...</td>\n",
       "      <td>[PostgresSQL , Google Cloud BigQuery ]</td>\n",
       "      <td>Google Cloud BigQuery</td>\n",
       "      <td>[Looker, Tableau]</td>\n",
       "      <td>Looker</td>\n",
       "      <td>[Automated hyperparameter tuning (e.g. hyperop...</td>\n",
       "      <td>[ Google Cloud AutoML ,  H20 Driverless AI  ]</td>\n",
       "      <td>[ TensorBoard , Other]</td>\n",
       "      <td>GitHub</td>\n",
       "      <td>Cloud-based data software &amp; APIs (AWS, GCP, Az...</td>\n",
       "    </tr>\n",
       "    <tr>\n",
       "      <th>1006</th>\n",
       "      <td>Data Scientist</td>\n",
       "      <td>[Python, R]</td>\n",
       "      <td>R</td>\n",
       "      <td>[Colab Notebooks, Google Cloud AI Platform Not...</td>\n",
       "      <td>[GPUs, TPUs]</td>\n",
       "      <td>[ Matplotlib ,  Seaborn ,  Plotly / Plotly Exp...</td>\n",
       "      <td>[  Scikit-learn ,   TensorFlow ,  Keras ,  PyT...</td>\n",
       "      <td>[Linear or Logistic Regression, Decision Trees...</td>\n",
       "      <td>[Image segmentation methods (U-Net, Mask R-CNN...</td>\n",
       "      <td>[Word embeddings/vectors (GLoVe, fastText, wor...</td>\n",
       "      <td>...</td>\n",
       "      <td>[ Azure Machine Learning Studio ,  Azure Cogni...</td>\n",
       "      <td>[MySQL , PostgresSQL , SQLite , MongoDB , IBM ...</td>\n",
       "      <td>SQLite</td>\n",
       "      <td>[Microsoft Power BI, Google Data Studio, Table...</td>\n",
       "      <td>Microsoft Power BI</td>\n",
       "      <td>[Automated data augmentation (e.g. imgaug, alb...</td>\n",
       "      <td>[ Google Cloud AutoML ,  Databricks AutoML ,  ...</td>\n",
       "      <td>[ Weights &amp; Biases ,  Sacred + Omniboard ,  Te...</td>\n",
       "      <td>[ GitHub ,  Kaggle ,  Colab ]</td>\n",
       "      <td>Local development environments (RStudio, Jupyt...</td>\n",
       "    </tr>\n",
       "  </tbody>\n",
       "</table>\n",
       "<p>5 rows × 24 columns</p>\n",
       "</div>"
      ],
      "text/plain": [
       "                     Q5                              Q7      Q8  \\\n",
       "258   Software Engineer      [Python, R, C, Javascript]       R   \n",
       "489        Data Analyst  [Python, R, SQL, C, C++, Java]  Python   \n",
       "546      Data Scientist          [Python, R, SQL, Bash]  Python   \n",
       "925      Data Scientist          [Python, R, SQL, Bash]  Python   \n",
       "1006     Data Scientist                     [Python, R]       R   \n",
       "\n",
       "                                                    Q10           Q12  \\\n",
       "258   [ Kaggle Notebooks, Colab Notebooks,  Binder /...  [GPUs, TPUs]   \n",
       "489   [ Kaggle Notebooks, Colab Notebooks,  Binder /...  [GPUs, TPUs]   \n",
       "546                [ Kaggle Notebooks, Colab Notebooks]  [GPUs, TPUs]   \n",
       "925                 Google Cloud AI Platform Notebooks           GPUs   \n",
       "1006  [Colab Notebooks, Google Cloud AI Platform Not...  [GPUs, TPUs]   \n",
       "\n",
       "                                                    Q14  \\\n",
       "258   [ Matplotlib ,  Seaborn ,  Ggplot / ggplot2 , ...   \n",
       "489   [ Matplotlib ,  Seaborn ,  Ggplot / ggplot2 , ...   \n",
       "546   [ Matplotlib ,  Seaborn ,  Plotly / Plotly Exp...   \n",
       "925                     [ Seaborn ,  Ggplot / ggplot2 ]   \n",
       "1006  [ Matplotlib ,  Seaborn ,  Plotly / Plotly Exp...   \n",
       "\n",
       "                                                    Q16  \\\n",
       "258   [  Scikit-learn ,   TensorFlow ,  Keras ,  PyT...   \n",
       "489   [  Scikit-learn ,   TensorFlow ,  Keras ,  PyT...   \n",
       "546   [  Scikit-learn ,   TensorFlow ,  Keras ,  PyT...   \n",
       "925   [  Scikit-learn ,   TensorFlow ,  Keras ,  Xgb...   \n",
       "1006  [  Scikit-learn ,   TensorFlow ,  Keras ,  PyT...   \n",
       "\n",
       "                                                    Q17  \\\n",
       "258   [Convolutional Neural Networks, Generative Adv...   \n",
       "489   [Linear or Logistic Regression, Decision Trees...   \n",
       "546   [Linear or Logistic Regression, Decision Trees...   \n",
       "925   [Linear or Logistic Regression, Decision Trees...   \n",
       "1006  [Linear or Logistic Regression, Decision Trees...   \n",
       "\n",
       "                                                    Q18  \\\n",
       "258   [General purpose image/video tools (PIL, cv2, ...   \n",
       "489   [Image segmentation methods (U-Net, Mask R-CNN...   \n",
       "546   [General purpose image/video tools (PIL, cv2, ...   \n",
       "925   Image classification and other general purpose...   \n",
       "1006  [Image segmentation methods (U-Net, Mask R-CNN...   \n",
       "\n",
       "                                                    Q19  ...  \\\n",
       "258   Transformer language models (GPT-3, BERT, XLne...  ...   \n",
       "489   [Word embeddings/vectors (GLoVe, fastText, wor...  ...   \n",
       "546   [Word embeddings/vectors (GLoVe, fastText, wor...  ...   \n",
       "925   [Word embeddings/vectors (GLoVe, fastText, wor...  ...   \n",
       "1006  [Word embeddings/vectors (GLoVe, fastText, wor...  ...   \n",
       "\n",
       "                                                    Q28  \\\n",
       "258   [ Amazon SageMaker ,  Amazon Forecast ,  Amazo...   \n",
       "489   [ Amazon SageMaker ,  Azure Cognitive Services...   \n",
       "546   [ Google Cloud Natural Language ,  Google Clou...   \n",
       "925   [ Google Cloud AI Platform / Google Cloud ML E...   \n",
       "1006  [ Azure Machine Learning Studio ,  Azure Cogni...   \n",
       "\n",
       "                                                    Q29  \\\n",
       "258   [MySQL , PostgresSQL , MongoDB , Amazon Dynamo...   \n",
       "489   [MySQL , SQLite , Oracle Database , MongoDB , ...   \n",
       "546   [MySQL , Oracle Database , MongoDB , Google Cl...   \n",
       "925              [PostgresSQL , Google Cloud BigQuery ]   \n",
       "1006  [MySQL , PostgresSQL , SQLite , MongoDB , IBM ...   \n",
       "\n",
       "                         Q30  \\\n",
       "258             PostgresSQL    \n",
       "489                 MongoDB    \n",
       "546                 MongoDB    \n",
       "925   Google Cloud BigQuery    \n",
       "1006                 SQLite    \n",
       "\n",
       "                                                    Q31                 Q32  \\\n",
       "258   [Microsoft Power BI, Google Data Studio, Table...  Microsoft Power BI   \n",
       "489                       [Microsoft Power BI, Tableau]             Tableau   \n",
       "546                       [Google Data Studio, Tableau]             Tableau   \n",
       "925                                   [Looker, Tableau]              Looker   \n",
       "1006  [Microsoft Power BI, Google Data Studio, Table...  Microsoft Power BI   \n",
       "\n",
       "                                                    Q33  \\\n",
       "258   [Automated data augmentation (e.g. imgaug, alb...   \n",
       "489   [Automated hyperparameter tuning (e.g. hyperop...   \n",
       "546   [Automated data augmentation (e.g. imgaug, alb...   \n",
       "925   [Automated hyperparameter tuning (e.g. hyperop...   \n",
       "1006  [Automated data augmentation (e.g. imgaug, alb...   \n",
       "\n",
       "                                                    Q34  \\\n",
       "258        [  Auto-Keras ,   Auto-Sklearn ,   Auto_ml ]   \n",
       "489             [ H20 Driverless AI  ,   Auto-Sklearn ]   \n",
       "546   [ Google Cloud AutoML ,  H20 Driverless AI  , ...   \n",
       "925       [ Google Cloud AutoML ,  H20 Driverless AI  ]   \n",
       "1006  [ Google Cloud AutoML ,  Databricks AutoML ,  ...   \n",
       "\n",
       "                                                    Q35  \\\n",
       "258                                        TensorBoard    \n",
       "489                                        TensorBoard    \n",
       "546                       [ Neptune.ai ,  TensorBoard ]   \n",
       "925                              [ TensorBoard , Other]   \n",
       "1006  [ Weights & Biases ,  Sacred + Omniboard ,  Te...   \n",
       "\n",
       "                                                 Q36  \\\n",
       "258                    [ GitHub ,  Kaggle ,  Colab ]   \n",
       "489                    [ GitHub ,  Kaggle ,  Colab ]   \n",
       "546   [ GitHub ,  Personal blog ,  Kaggle ,  Colab ]   \n",
       "925                                          GitHub    \n",
       "1006                   [ GitHub ,  Kaggle ,  Colab ]   \n",
       "\n",
       "                                                    Q38  \n",
       "258   Cloud-based data software & APIs (AWS, GCP, Az...  \n",
       "489     Advanced statistical software (SPSS, SAS, etc.)  \n",
       "546   Local development environments (RStudio, Jupyt...  \n",
       "925   Cloud-based data software & APIs (AWS, GCP, Az...  \n",
       "1006  Local development environments (RStudio, Jupyt...  \n",
       "\n",
       "[5 rows x 24 columns]"
      ]
     },
     "execution_count": 71,
     "metadata": {},
     "output_type": "execute_result"
    }
   ],
   "source": [
    "# see its head\n",
    "df_Quest3.head()"
   ]
  },
  {
   "cell_type": "markdown",
   "metadata": {
    "hidden": true
   },
   "source": [
    "Now, let's see which role has the most skills."
   ]
  },
  {
   "cell_type": "code",
   "execution_count": 439,
   "metadata": {
    "hidden": true,
    "scrolled": true
   },
   "outputs": [
    {
     "data": {
      "text/html": [
       "<div>\n",
       "<style scoped>\n",
       "    .dataframe tbody tr th:only-of-type {\n",
       "        vertical-align: middle;\n",
       "    }\n",
       "\n",
       "    .dataframe tbody tr th {\n",
       "        vertical-align: top;\n",
       "    }\n",
       "\n",
       "    .dataframe thead th {\n",
       "        text-align: right;\n",
       "    }\n",
       "</style>\n",
       "<table border=\"1\" class=\"dataframe\">\n",
       "  <thead>\n",
       "    <tr style=\"text-align: right;\">\n",
       "      <th></th>\n",
       "      <th>Counts</th>\n",
       "    </tr>\n",
       "    <tr>\n",
       "      <th>Role</th>\n",
       "      <th></th>\n",
       "    </tr>\n",
       "  </thead>\n",
       "  <tbody>\n",
       "    <tr>\n",
       "      <th>Data Scientist</th>\n",
       "      <td>39</td>\n",
       "    </tr>\n",
       "    <tr>\n",
       "      <th>Machine Learning Engineer</th>\n",
       "      <td>24</td>\n",
       "    </tr>\n",
       "    <tr>\n",
       "      <th>Software Engineer</th>\n",
       "      <td>13</td>\n",
       "    </tr>\n",
       "    <tr>\n",
       "      <th>Data Analyst</th>\n",
       "      <td>11</td>\n",
       "    </tr>\n",
       "    <tr>\n",
       "      <th>Research Scientist</th>\n",
       "      <td>9</td>\n",
       "    </tr>\n",
       "    <tr>\n",
       "      <th>Other</th>\n",
       "      <td>5</td>\n",
       "    </tr>\n",
       "    <tr>\n",
       "      <th>Data Engineer</th>\n",
       "      <td>5</td>\n",
       "    </tr>\n",
       "    <tr>\n",
       "      <th>Business Analyst</th>\n",
       "      <td>4</td>\n",
       "    </tr>\n",
       "    <tr>\n",
       "      <th>Product/Project Manager</th>\n",
       "      <td>1</td>\n",
       "    </tr>\n",
       "    <tr>\n",
       "      <th>Statistician</th>\n",
       "      <td>1</td>\n",
       "    </tr>\n",
       "  </tbody>\n",
       "</table>\n",
       "</div>"
      ],
      "text/plain": [
       "                           Counts\n",
       "Role                             \n",
       "Data Scientist                 39\n",
       "Machine Learning Engineer      24\n",
       "Software Engineer              13\n",
       "Data Analyst                   11\n",
       "Research Scientist              9\n",
       "Other                           5\n",
       "Data Engineer                   5\n",
       "Business Analyst                4\n",
       "Product/Project Manager         1\n",
       "Statistician                    1"
      ]
     },
     "execution_count": 439,
     "metadata": {},
     "output_type": "execute_result"
    }
   ],
   "source": [
    "tmp = df_Quest3.Q5.value_counts().rename('Counts')\n",
    "tmp = pd.DataFrame(tmp)\n",
    "tmp.index.name = 'Role'\n",
    "tmp"
   ]
  },
  {
   "cell_type": "markdown",
   "metadata": {
    "hidden": true
   },
   "source": [
    "Top 4 roles are Data Scientist, ML Engineer, Software Engineer, and Data Analyst. Let's explore the salary for those four roles."
   ]
  },
  {
   "cell_type": "code",
   "execution_count": 77,
   "metadata": {
    "hidden": true,
    "scrolled": true
   },
   "outputs": [],
   "source": [
    "# save top 4 roles\n",
    "top4_roles = df_Quest3.Q5.value_counts().index[:4]"
   ]
  },
  {
   "cell_type": "markdown",
   "metadata": {
    "hidden": true
   },
   "source": [
    "Nice. We already have the data we want and the top roles we want to explore. Now, we should convert the Q24 column (salary) into numeric type (as it's in string type) then split that salary. Next, we calculate the mean value between lower and upper threshold of salary. Lastly, calculate the final mean for each role.\n",
    "\n",
    "To do all of mentioned above, we can define a function."
   ]
  },
  {
   "cell_type": "code",
   "execution_count": 100,
   "metadata": {
    "hidden": true
   },
   "outputs": [],
   "source": [
    "def process_salary_quest3(df, top_roles):\n",
    "    \"\"\"used to process salary for question 3. It performs the following process:\n",
    "    1. convert the Q24 column (salary) into numeric type\n",
    "    2. split that salary column into lower and upper salary threshold\n",
    "    3. calculate the mean between both lower and upper salary threshold\n",
    "    4. calculate the salary counts for each given top roles\n",
    "    5. calculate the final mean for each given top role\n",
    "    \n",
    "    args:\n",
    "    - df (pd.DataFrame): dataframe to be processed\n",
    "    - top_roles (list like): a list containing the top roles to be processed\n",
    "    \n",
    "    returns: tuple of 2 dataframes (DF result until the fourth step above and DF result until the fifth step above)\n",
    "    \"\"\"\n",
    "    # make a DF copy\n",
    "    df_tmp = df.copy()\n",
    "    \n",
    "    # process the Q24 salary column\n",
    "    df_tmp[['Q24_Lower', 'Q24_Upper']] = df_tmp[['Q24']].apply(lambda row: split_salary(row['Q24']), axis=1)\n",
    "    \n",
    "    # process the mean salary from both thresholds\n",
    "    df_tmp['Q24_Avg'] = df_tmp[['Q24_Lower', 'Q24_Upper']] \\\n",
    "                            .apply(lambda row: row['Q24_Lower'] + row['Q24_Upper'] / 2, axis=1)\n",
    "    \n",
    "    list_tmp = [] # buffer to store temporary DFs\n",
    "\n",
    "    # loop through each of top roles, then calculate the value counts\n",
    "    for rl in top_roles:\n",
    "        list_tmp.append(df_tmp[df_tmp.Q5 == rl].Q24_Avg.value_counts().rename(rl))\n",
    "\n",
    "    df_tmp = pd.concat(list_tmp, axis=1) # join all Series\n",
    "    df_tmp.index.name = 'Average Salary' # rename the index\n",
    "    \n",
    "    ## PROCESS FINAL AVERAGE\n",
    "    top_roles_avg = []\n",
    "\n",
    "    # loop thrugh each role\n",
    "    for rl in top_roles:\n",
    "        tmp1, tmp2 = [], [] # buffers\n",
    "\n",
    "        # loop through each row for current role\n",
    "        for idx, row in df_tmp[rl].iteritems():\n",
    "            # calculate the mean then store it\n",
    "            tmp1.append((idx*row)/row)\n",
    "            tmp2.append(row)\n",
    "\n",
    "        # calculate the final mean for each role then store it\n",
    "        top_roles_avg.append((rl, sum([t for t in tmp1 if pd.notnull(t)]) / sum([t for t in tmp2 if pd.notnull(t)])))\n",
    "        \n",
    "    df_avg = pd.DataFrame(top_roles_avg, columns=['Role', 'Average Salary'])\n",
    "    \n",
    "    return df_tmp, df_avg"
   ]
  },
  {
   "cell_type": "markdown",
   "metadata": {
    "hidden": true
   },
   "source": [
    "Now, let's use the function defined above to process our dataframe"
   ]
  },
  {
   "cell_type": "code",
   "execution_count": 108,
   "metadata": {
    "hidden": true
   },
   "outputs": [],
   "source": [
    "df_Quest3_top, df_Quest3_avg = process_salary_quest3(df_Quest3, top4_roles)"
   ]
  },
  {
   "cell_type": "code",
   "execution_count": 109,
   "metadata": {
    "hidden": true
   },
   "outputs": [
    {
     "data": {
      "text/html": [
       "<div>\n",
       "<style scoped>\n",
       "    .dataframe tbody tr th:only-of-type {\n",
       "        vertical-align: middle;\n",
       "    }\n",
       "\n",
       "    .dataframe tbody tr th {\n",
       "        vertical-align: top;\n",
       "    }\n",
       "\n",
       "    .dataframe thead th {\n",
       "        text-align: right;\n",
       "    }\n",
       "</style>\n",
       "<table border=\"1\" class=\"dataframe\">\n",
       "  <thead>\n",
       "    <tr style=\"text-align: right;\">\n",
       "      <th></th>\n",
       "      <th>Data Scientist</th>\n",
       "      <th>Machine Learning Engineer</th>\n",
       "      <th>Software Engineer</th>\n",
       "      <th>Data Analyst</th>\n",
       "    </tr>\n",
       "    <tr>\n",
       "      <th>Average Salary</th>\n",
       "      <th></th>\n",
       "      <th></th>\n",
       "      <th></th>\n",
       "      <th></th>\n",
       "    </tr>\n",
       "  </thead>\n",
       "  <tbody>\n",
       "    <tr>\n",
       "      <th>6499.5</th>\n",
       "      <td>6.0</td>\n",
       "      <td>NaN</td>\n",
       "      <td>1.0</td>\n",
       "      <td>1.0</td>\n",
       "    </tr>\n",
       "    <tr>\n",
       "      <th>499.5</th>\n",
       "      <td>5.0</td>\n",
       "      <td>4.0</td>\n",
       "      <td>3.0</td>\n",
       "      <td>4.0</td>\n",
       "    </tr>\n",
       "    <tr>\n",
       "      <th>109999.5</th>\n",
       "      <td>5.0</td>\n",
       "      <td>1.0</td>\n",
       "      <td>NaN</td>\n",
       "      <td>1.0</td>\n",
       "    </tr>\n",
       "    <tr>\n",
       "      <th>199999.5</th>\n",
       "      <td>3.0</td>\n",
       "      <td>3.0</td>\n",
       "      <td>NaN</td>\n",
       "      <td>NaN</td>\n",
       "    </tr>\n",
       "    <tr>\n",
       "      <th>64999.5</th>\n",
       "      <td>3.0</td>\n",
       "      <td>1.0</td>\n",
       "      <td>NaN</td>\n",
       "      <td>NaN</td>\n",
       "    </tr>\n",
       "    <tr>\n",
       "      <th>79999.5</th>\n",
       "      <td>2.0</td>\n",
       "      <td>2.0</td>\n",
       "      <td>NaN</td>\n",
       "      <td>NaN</td>\n",
       "    </tr>\n",
       "    <tr>\n",
       "      <th>8749.5</th>\n",
       "      <td>2.0</td>\n",
       "      <td>1.0</td>\n",
       "      <td>2.0</td>\n",
       "      <td>1.0</td>\n",
       "    </tr>\n",
       "    <tr>\n",
       "      <th>139999.5</th>\n",
       "      <td>2.0</td>\n",
       "      <td>NaN</td>\n",
       "      <td>NaN</td>\n",
       "      <td>NaN</td>\n",
       "    </tr>\n",
       "    <tr>\n",
       "      <th>3499.5</th>\n",
       "      <td>2.0</td>\n",
       "      <td>2.0</td>\n",
       "      <td>NaN</td>\n",
       "      <td>NaN</td>\n",
       "    </tr>\n",
       "    <tr>\n",
       "      <th>12499.5</th>\n",
       "      <td>1.0</td>\n",
       "      <td>NaN</td>\n",
       "      <td>NaN</td>\n",
       "      <td>NaN</td>\n",
       "    </tr>\n",
       "    <tr>\n",
       "      <th>17499.5</th>\n",
       "      <td>1.0</td>\n",
       "      <td>2.0</td>\n",
       "      <td>2.0</td>\n",
       "      <td>1.0</td>\n",
       "    </tr>\n",
       "    <tr>\n",
       "      <th>39999.5</th>\n",
       "      <td>1.0</td>\n",
       "      <td>NaN</td>\n",
       "      <td>NaN</td>\n",
       "      <td>NaN</td>\n",
       "    </tr>\n",
       "    <tr>\n",
       "      <th>49999.5</th>\n",
       "      <td>1.0</td>\n",
       "      <td>1.0</td>\n",
       "      <td>NaN</td>\n",
       "      <td>NaN</td>\n",
       "    </tr>\n",
       "    <tr>\n",
       "      <th>1999.5</th>\n",
       "      <td>1.0</td>\n",
       "      <td>2.0</td>\n",
       "      <td>1.0</td>\n",
       "      <td>2.0</td>\n",
       "    </tr>\n",
       "    <tr>\n",
       "      <th>124999.5</th>\n",
       "      <td>1.0</td>\n",
       "      <td>1.0</td>\n",
       "      <td>2.0</td>\n",
       "      <td>NaN</td>\n",
       "    </tr>\n",
       "    <tr>\n",
       "      <th>162499.5</th>\n",
       "      <td>1.0</td>\n",
       "      <td>1.0</td>\n",
       "      <td>NaN</td>\n",
       "      <td>NaN</td>\n",
       "    </tr>\n",
       "    <tr>\n",
       "      <th>249999.5</th>\n",
       "      <td>1.0</td>\n",
       "      <td>1.0</td>\n",
       "      <td>1.0</td>\n",
       "      <td>NaN</td>\n",
       "    </tr>\n",
       "    <tr>\n",
       "      <th>324999.5</th>\n",
       "      <td>1.0</td>\n",
       "      <td>NaN</td>\n",
       "      <td>NaN</td>\n",
       "      <td>1.0</td>\n",
       "    </tr>\n",
       "    <tr>\n",
       "      <th>4999.5</th>\n",
       "      <td>NaN</td>\n",
       "      <td>1.0</td>\n",
       "      <td>1.0</td>\n",
       "      <td>NaN</td>\n",
       "    </tr>\n",
       "    <tr>\n",
       "      <th>32499.5</th>\n",
       "      <td>NaN</td>\n",
       "      <td>1.0</td>\n",
       "      <td>NaN</td>\n",
       "      <td>NaN</td>\n",
       "    </tr>\n",
       "  </tbody>\n",
       "</table>\n",
       "</div>"
      ],
      "text/plain": [
       "                Data Scientist  Machine Learning Engineer  Software Engineer  \\\n",
       "Average Salary                                                                 \n",
       "6499.5                     6.0                        NaN                1.0   \n",
       "499.5                      5.0                        4.0                3.0   \n",
       "109999.5                   5.0                        1.0                NaN   \n",
       "199999.5                   3.0                        3.0                NaN   \n",
       "64999.5                    3.0                        1.0                NaN   \n",
       "79999.5                    2.0                        2.0                NaN   \n",
       "8749.5                     2.0                        1.0                2.0   \n",
       "139999.5                   2.0                        NaN                NaN   \n",
       "3499.5                     2.0                        2.0                NaN   \n",
       "12499.5                    1.0                        NaN                NaN   \n",
       "17499.5                    1.0                        2.0                2.0   \n",
       "39999.5                    1.0                        NaN                NaN   \n",
       "49999.5                    1.0                        1.0                NaN   \n",
       "1999.5                     1.0                        2.0                1.0   \n",
       "124999.5                   1.0                        1.0                2.0   \n",
       "162499.5                   1.0                        1.0                NaN   \n",
       "249999.5                   1.0                        1.0                1.0   \n",
       "324999.5                   1.0                        NaN                NaN   \n",
       "4999.5                     NaN                        1.0                1.0   \n",
       "32499.5                    NaN                        1.0                NaN   \n",
       "\n",
       "                Data Analyst  \n",
       "Average Salary                \n",
       "6499.5                   1.0  \n",
       "499.5                    4.0  \n",
       "109999.5                 1.0  \n",
       "199999.5                 NaN  \n",
       "64999.5                  NaN  \n",
       "79999.5                  NaN  \n",
       "8749.5                   1.0  \n",
       "139999.5                 NaN  \n",
       "3499.5                   NaN  \n",
       "12499.5                  NaN  \n",
       "17499.5                  1.0  \n",
       "39999.5                  NaN  \n",
       "49999.5                  NaN  \n",
       "1999.5                   2.0  \n",
       "124999.5                 NaN  \n",
       "162499.5                 NaN  \n",
       "249999.5                 NaN  \n",
       "324999.5                 1.0  \n",
       "4999.5                   NaN  \n",
       "32499.5                  NaN  "
      ]
     },
     "execution_count": 109,
     "metadata": {},
     "output_type": "execute_result"
    }
   ],
   "source": [
    "# let's see the results by ordering the DF by \"Data Scientist\" column in descending order\n",
    "df_Quest3_top.sort_values('Data Scientist', ascending=False)"
   ]
  },
  {
   "cell_type": "markdown",
   "metadata": {
    "hidden": true
   },
   "source": [
    "From the table above, it is risky to conclude that mastering most data skills could lead you to make more salary. Only extremely little proportion of people is lucky enough to earn more money. To make this clearer, let's see the final mean for each role."
   ]
  },
  {
   "cell_type": "code",
   "execution_count": 111,
   "metadata": {
    "hidden": true,
    "scrolled": false
   },
   "outputs": [
    {
     "data": {
      "text/html": [
       "<div>\n",
       "<style scoped>\n",
       "    .dataframe tbody tr th:only-of-type {\n",
       "        vertical-align: middle;\n",
       "    }\n",
       "\n",
       "    .dataframe tbody tr th {\n",
       "        vertical-align: top;\n",
       "    }\n",
       "\n",
       "    .dataframe thead th {\n",
       "        text-align: right;\n",
       "    }\n",
       "</style>\n",
       "<table border=\"1\" class=\"dataframe\">\n",
       "  <thead>\n",
       "    <tr style=\"text-align: right;\">\n",
       "      <th></th>\n",
       "      <th>Role</th>\n",
       "      <th>Average Salary</th>\n",
       "    </tr>\n",
       "  </thead>\n",
       "  <tbody>\n",
       "    <tr>\n",
       "      <th>0</th>\n",
       "      <td>Data Scientist</td>\n",
       "      <td>40993.358974</td>\n",
       "    </tr>\n",
       "    <tr>\n",
       "      <th>1</th>\n",
       "      <td>Machine Learning Engineer</td>\n",
       "      <td>46343.437500</td>\n",
       "    </tr>\n",
       "    <tr>\n",
       "      <th>2</th>\n",
       "      <td>Software Engineer</td>\n",
       "      <td>31942.000000</td>\n",
       "    </tr>\n",
       "    <tr>\n",
       "      <th>3</th>\n",
       "      <td>Data Analyst</td>\n",
       "      <td>42749.681818</td>\n",
       "    </tr>\n",
       "  </tbody>\n",
       "</table>\n",
       "</div>"
      ],
      "text/plain": [
       "                        Role  Average Salary\n",
       "0             Data Scientist    40993.358974\n",
       "1  Machine Learning Engineer    46343.437500\n",
       "2          Software Engineer    31942.000000\n",
       "3               Data Analyst    42749.681818"
      ]
     },
     "execution_count": 111,
     "metadata": {},
     "output_type": "execute_result"
    }
   ],
   "source": [
    "# then let's see the final averages\n",
    "df_Quest3_avg"
   ]
  },
  {
   "cell_type": "markdown",
   "metadata": {
    "hidden": true
   },
   "source": [
    "Great. We can see the final average for each role. All roles, except Software Engineer, make more than 40K USD a year in average if they master most skills in data science field. For Software Engineer, I think it's self-explanatory that this role earn the least here. This role works as a software engineer, therefore the skills necessary for it to earn more are the skills for software engineerting, not skills for data science.\n",
    "\n",
    "In order to understand whether the averages above worth more money than the general data professionals, it's necessary to compare the results with those from the general data professionals. Okay. Let's create other dataframes."
   ]
  },
  {
   "cell_type": "code",
   "execution_count": 112,
   "metadata": {
    "hidden": true,
    "scrolled": true
   },
   "outputs": [],
   "source": [
    "# new DF to contain general data professionals of top 4 roles\n",
    "df_Quest3_general = df[['Q5', 'Q24']].dropna(subset=['Q24'])\n",
    "df_Quest3_general = df_Quest3_general[df_Quest3_general.Q5.isin(top4_roles)]\n",
    "\n",
    "# process the salary\n",
    "df_Quest3_general[['Q24_Lower', 'Q24_Upper']] = df_Quest3_general.Q24.apply(split_salary)\n",
    "df_Quest3_general['Q24_Avg'] = df_Quest3_general[['Q24_Lower', 'Q24_Upper']] \\\n",
    "                                .apply(lambda row: row['Q24_Lower'] + row['Q24_Upper'] / 2, axis=1)"
   ]
  },
  {
   "cell_type": "code",
   "execution_count": 113,
   "metadata": {
    "hidden": true
   },
   "outputs": [],
   "source": [
    "# let's process the data\n",
    "df_Quest3_general, df_Quest3_general_avg = process_salary_quest3(df_Quest3_general, top4_roles)"
   ]
  },
  {
   "cell_type": "code",
   "execution_count": 114,
   "metadata": {
    "hidden": true
   },
   "outputs": [
    {
     "data": {
      "text/html": [
       "<div>\n",
       "<style scoped>\n",
       "    .dataframe tbody tr th:only-of-type {\n",
       "        vertical-align: middle;\n",
       "    }\n",
       "\n",
       "    .dataframe tbody tr th {\n",
       "        vertical-align: top;\n",
       "    }\n",
       "\n",
       "    .dataframe thead th {\n",
       "        text-align: right;\n",
       "    }\n",
       "</style>\n",
       "<table border=\"1\" class=\"dataframe\">\n",
       "  <thead>\n",
       "    <tr style=\"text-align: right;\">\n",
       "      <th></th>\n",
       "      <th>Data Scientist</th>\n",
       "      <th>Machine Learning Engineer</th>\n",
       "      <th>Software Engineer</th>\n",
       "      <th>Data Analyst</th>\n",
       "    </tr>\n",
       "    <tr>\n",
       "      <th>Average Salary</th>\n",
       "      <th></th>\n",
       "      <th></th>\n",
       "      <th></th>\n",
       "      <th></th>\n",
       "    </tr>\n",
       "  </thead>\n",
       "  <tbody>\n",
       "    <tr>\n",
       "      <th>499.5</th>\n",
       "      <td>447</td>\n",
       "      <td>273</td>\n",
       "      <td>319</td>\n",
       "      <td>301.0</td>\n",
       "    </tr>\n",
       "    <tr>\n",
       "      <th>162499.5</th>\n",
       "      <td>165</td>\n",
       "      <td>38</td>\n",
       "      <td>58</td>\n",
       "      <td>51.0</td>\n",
       "    </tr>\n",
       "    <tr>\n",
       "      <th>17499.5</th>\n",
       "      <td>137</td>\n",
       "      <td>50</td>\n",
       "      <td>107</td>\n",
       "      <td>85.0</td>\n",
       "    </tr>\n",
       "    <tr>\n",
       "      <th>64999.5</th>\n",
       "      <td>133</td>\n",
       "      <td>39</td>\n",
       "      <td>84</td>\n",
       "      <td>60.0</td>\n",
       "    </tr>\n",
       "    <tr>\n",
       "      <th>49999.5</th>\n",
       "      <td>119</td>\n",
       "      <td>47</td>\n",
       "      <td>75</td>\n",
       "      <td>58.0</td>\n",
       "    </tr>\n",
       "    <tr>\n",
       "      <th>249999.5</th>\n",
       "      <td>112</td>\n",
       "      <td>36</td>\n",
       "      <td>40</td>\n",
       "      <td>8.0</td>\n",
       "    </tr>\n",
       "    <tr>\n",
       "      <th>199999.5</th>\n",
       "      <td>109</td>\n",
       "      <td>23</td>\n",
       "      <td>32</td>\n",
       "      <td>16.0</td>\n",
       "    </tr>\n",
       "    <tr>\n",
       "      <th>1999.5</th>\n",
       "      <td>104</td>\n",
       "      <td>66</td>\n",
       "      <td>88</td>\n",
       "      <td>87.0</td>\n",
       "    </tr>\n",
       "    <tr>\n",
       "      <th>79999.5</th>\n",
       "      <td>104</td>\n",
       "      <td>28</td>\n",
       "      <td>79</td>\n",
       "      <td>56.0</td>\n",
       "    </tr>\n",
       "    <tr>\n",
       "      <th>109999.5</th>\n",
       "      <td>100</td>\n",
       "      <td>22</td>\n",
       "      <td>47</td>\n",
       "      <td>42.0</td>\n",
       "    </tr>\n",
       "    <tr>\n",
       "      <th>24999.5</th>\n",
       "      <td>96</td>\n",
       "      <td>25</td>\n",
       "      <td>86</td>\n",
       "      <td>61.0</td>\n",
       "    </tr>\n",
       "    <tr>\n",
       "      <th>94999.5</th>\n",
       "      <td>89</td>\n",
       "      <td>25</td>\n",
       "      <td>55</td>\n",
       "      <td>43.0</td>\n",
       "    </tr>\n",
       "    <tr>\n",
       "      <th>32499.5</th>\n",
       "      <td>86</td>\n",
       "      <td>25</td>\n",
       "      <td>71</td>\n",
       "      <td>43.0</td>\n",
       "    </tr>\n",
       "    <tr>\n",
       "      <th>139999.5</th>\n",
       "      <td>85</td>\n",
       "      <td>15</td>\n",
       "      <td>38</td>\n",
       "      <td>33.0</td>\n",
       "    </tr>\n",
       "    <tr>\n",
       "      <th>39999.5</th>\n",
       "      <td>84</td>\n",
       "      <td>18</td>\n",
       "      <td>41</td>\n",
       "      <td>36.0</td>\n",
       "    </tr>\n",
       "    <tr>\n",
       "      <th>124999.5</th>\n",
       "      <td>76</td>\n",
       "      <td>14</td>\n",
       "      <td>40</td>\n",
       "      <td>28.0</td>\n",
       "    </tr>\n",
       "    <tr>\n",
       "      <th>8749.5</th>\n",
       "      <td>75</td>\n",
       "      <td>39</td>\n",
       "      <td>103</td>\n",
       "      <td>68.0</td>\n",
       "    </tr>\n",
       "    <tr>\n",
       "      <th>12499.5</th>\n",
       "      <td>65</td>\n",
       "      <td>27</td>\n",
       "      <td>61</td>\n",
       "      <td>56.0</td>\n",
       "    </tr>\n",
       "    <tr>\n",
       "      <th>3499.5</th>\n",
       "      <td>47</td>\n",
       "      <td>37</td>\n",
       "      <td>53</td>\n",
       "      <td>39.0</td>\n",
       "    </tr>\n",
       "    <tr>\n",
       "      <th>6499.5</th>\n",
       "      <td>44</td>\n",
       "      <td>27</td>\n",
       "      <td>65</td>\n",
       "      <td>39.0</td>\n",
       "    </tr>\n",
       "    <tr>\n",
       "      <th>4999.5</th>\n",
       "      <td>44</td>\n",
       "      <td>21</td>\n",
       "      <td>43</td>\n",
       "      <td>43.0</td>\n",
       "    </tr>\n",
       "    <tr>\n",
       "      <th>324999.5</th>\n",
       "      <td>39</td>\n",
       "      <td>11</td>\n",
       "      <td>9</td>\n",
       "      <td>5.0</td>\n",
       "    </tr>\n",
       "    <tr>\n",
       "      <th>550000.0</th>\n",
       "      <td>17</td>\n",
       "      <td>5</td>\n",
       "      <td>7</td>\n",
       "      <td>1.0</td>\n",
       "    </tr>\n",
       "    <tr>\n",
       "      <th>850000.0</th>\n",
       "      <td>13</td>\n",
       "      <td>2</td>\n",
       "      <td>9</td>\n",
       "      <td>1.0</td>\n",
       "    </tr>\n",
       "    <tr>\n",
       "      <th>399999.5</th>\n",
       "      <td>8</td>\n",
       "      <td>5</td>\n",
       "      <td>10</td>\n",
       "      <td>NaN</td>\n",
       "    </tr>\n",
       "  </tbody>\n",
       "</table>\n",
       "</div>"
      ],
      "text/plain": [
       "                Data Scientist  Machine Learning Engineer  Software Engineer  \\\n",
       "Average Salary                                                                 \n",
       "499.5                      447                        273                319   \n",
       "162499.5                   165                         38                 58   \n",
       "17499.5                    137                         50                107   \n",
       "64999.5                    133                         39                 84   \n",
       "49999.5                    119                         47                 75   \n",
       "249999.5                   112                         36                 40   \n",
       "199999.5                   109                         23                 32   \n",
       "1999.5                     104                         66                 88   \n",
       "79999.5                    104                         28                 79   \n",
       "109999.5                   100                         22                 47   \n",
       "24999.5                     96                         25                 86   \n",
       "94999.5                     89                         25                 55   \n",
       "32499.5                     86                         25                 71   \n",
       "139999.5                    85                         15                 38   \n",
       "39999.5                     84                         18                 41   \n",
       "124999.5                    76                         14                 40   \n",
       "8749.5                      75                         39                103   \n",
       "12499.5                     65                         27                 61   \n",
       "3499.5                      47                         37                 53   \n",
       "6499.5                      44                         27                 65   \n",
       "4999.5                      44                         21                 43   \n",
       "324999.5                    39                         11                  9   \n",
       "550000.0                    17                          5                  7   \n",
       "850000.0                    13                          2                  9   \n",
       "399999.5                     8                          5                 10   \n",
       "\n",
       "                Data Analyst  \n",
       "Average Salary                \n",
       "499.5                  301.0  \n",
       "162499.5                51.0  \n",
       "17499.5                 85.0  \n",
       "64999.5                 60.0  \n",
       "49999.5                 58.0  \n",
       "249999.5                 8.0  \n",
       "199999.5                16.0  \n",
       "1999.5                  87.0  \n",
       "79999.5                 56.0  \n",
       "109999.5                42.0  \n",
       "24999.5                 61.0  \n",
       "94999.5                 43.0  \n",
       "32499.5                 43.0  \n",
       "139999.5                33.0  \n",
       "39999.5                 36.0  \n",
       "124999.5                28.0  \n",
       "8749.5                  68.0  \n",
       "12499.5                 56.0  \n",
       "3499.5                  39.0  \n",
       "6499.5                  39.0  \n",
       "4999.5                  43.0  \n",
       "324999.5                 5.0  \n",
       "550000.0                 1.0  \n",
       "850000.0                 1.0  \n",
       "399999.5                 NaN  "
      ]
     },
     "execution_count": 114,
     "metadata": {},
     "output_type": "execute_result"
    }
   ],
   "source": [
    "# let's see the results by ordering the DF by \"Data Scientist\" column in descending order\n",
    "df_Quest3_general.sort_values('Data Scientist', ascending=False)"
   ]
  },
  {
   "cell_type": "markdown",
   "metadata": {
    "hidden": true
   },
   "source": [
    "From the table above, we've found something interesting. For all 4 roles, their biggest proportion is fallen on the least salary. For the few next proportions, the salary is quite random. To make this clearer, let's see the final average dataframe."
   ]
  },
  {
   "cell_type": "code",
   "execution_count": 115,
   "metadata": {
    "hidden": true
   },
   "outputs": [
    {
     "data": {
      "text/html": [
       "<div>\n",
       "<style scoped>\n",
       "    .dataframe tbody tr th:only-of-type {\n",
       "        vertical-align: middle;\n",
       "    }\n",
       "\n",
       "    .dataframe tbody tr th {\n",
       "        vertical-align: top;\n",
       "    }\n",
       "\n",
       "    .dataframe thead th {\n",
       "        text-align: right;\n",
       "    }\n",
       "</style>\n",
       "<table border=\"1\" class=\"dataframe\">\n",
       "  <thead>\n",
       "    <tr style=\"text-align: right;\">\n",
       "      <th></th>\n",
       "      <th>Role</th>\n",
       "      <th>Average Salary</th>\n",
       "    </tr>\n",
       "  </thead>\n",
       "  <tbody>\n",
       "    <tr>\n",
       "      <th>0</th>\n",
       "      <td>Data Scientist</td>\n",
       "      <td>1483.001877</td>\n",
       "    </tr>\n",
       "    <tr>\n",
       "      <th>1</th>\n",
       "      <td>Machine Learning Engineer</td>\n",
       "      <td>3873.898148</td>\n",
       "    </tr>\n",
       "    <tr>\n",
       "      <th>2</th>\n",
       "      <td>Software Engineer</td>\n",
       "      <td>2195.208951</td>\n",
       "    </tr>\n",
       "    <tr>\n",
       "      <th>3</th>\n",
       "      <td>Data Analyst</td>\n",
       "      <td>2504.951587</td>\n",
       "    </tr>\n",
       "  </tbody>\n",
       "</table>\n",
       "</div>"
      ],
      "text/plain": [
       "                        Role  Average Salary\n",
       "0             Data Scientist     1483.001877\n",
       "1  Machine Learning Engineer     3873.898148\n",
       "2          Software Engineer     2195.208951\n",
       "3               Data Analyst     2504.951587"
      ]
     },
     "execution_count": 115,
     "metadata": {},
     "output_type": "execute_result"
    }
   ],
   "source": [
    "# then let's see the final averages\n",
    "df_Quest3_general_avg"
   ]
  },
  {
   "cell_type": "markdown",
   "metadata": {
    "hidden": true
   },
   "source": [
    "Unexpectedly! The final averages for every role are much lower than those from roles with most skilled mastered. From this finding, we can conclude that it is valuable and useful if you decide to master most skills in data science field as you will have more chance to earn more money than those who have general knowledge. "
   ]
  },
  {
   "cell_type": "markdown",
   "metadata": {
    "heading_collapsed": true
   },
   "source": [
    "## Conclusions"
   ]
  },
  {
   "cell_type": "markdown",
   "metadata": {
    "hidden": true
   },
   "source": [
    "We have done many interesting things. We're interested in data science field and attemped to explore those who are in the field about who they are, what they do, what they can, what they earn, etc. Kaggle Survey 2020 is the dataset we used for this exploration. You could also explore other Kaggle surveys, i.e. [2019](https://www.kaggle.com/c/kaggle-survey-2019?rvi=1), [2018](https://www.kaggle.com/kaggle/kaggle-survey-2018?rvi=1), and [2017](https://www.kaggle.com/kaggle/kaggle-survey-2017?rvi=1) surveys, if you'd like to find comparisons or trends.\n",
    " \n",
    "We focus our interest on three questions:\n",
    " - Women in data science field\n",
    " - Skills needed\n",
    " - Full stack data scientist\n",
    " \n",
    "We have tried our best to explore the data to answer the questions. Many useful functions, dataframes, and plots are utilized to deliver best data understanding. And finally, we've arrived in this conclusions.\n",
    " \n",
    "So, for the 1st question \"<u>*How promising data field for women compared to men?*</u>\", what we've found are as follows:\n",
    "- Still, as other IT fields, data science field also suffers from women enthusiasts. If you found men in any IT field, it's not suprisingly obvious. But, this does not apply to women.\n",
    "- However, there is a slight breeze. Young women, on the other hand, evidently are gradually interested in data science field more than those older women.\n",
    "- This finding is evidenced when we explored the data in age, education, job role, experience, and salary aspects.\n",
    "\n",
    "For the next question \"<u>*What are skills needed to become a data scientist, data engineer, data analyst, or ML engineer?*</u>\", our findings are the following:\n",
    "- We split the data into two parts: common skills and activities.\n",
    "- We utilized two radar charts to plot common skills and common activities for the roles.\n",
    "- From the first chart, we've found that each role has different strength of skills.\n",
    "- However, unlike other roles, Data Scientist shows a unique result. It does not have the strongest skill in any common skills. Instead, it shares almost the same power for every aspect.\n",
    "- This data scientist phenomenon can be an evidence for the theory where a Data Scientist role is a multidisciplinary job.\n",
    "- Besides, all roles have the same share for Programming skill. This can infer that no matter what role you're interested in data science field, programming skill is a must.\n",
    "- From the second chart, it can be seen that each role has distinguished activities. Also, each of them has different emphasis.\n",
    "- ML Engineer and Data Scientist roles intersect each other on most activities, except for the activity of analyzing and understanding data.\n",
    "\n",
    "For the last question, \"<u>*By becoming a Full Stack Data Professional, do you earn more?*</u>\", below are our conclusions:\n",
    "- We filtered the dataset to only contain respondent with not NULL skills. That means the most skilled respondents.\n",
    "- We've found that top 4 roles with the most skills are Data Scientist, Machine Learning Engineer, Software Engineer, and Data Analyst in ascending order.\n",
    "- All roles, except Software Engineer, make more than 40K USD a year in average if they master most skills in data science field.\n",
    "- When the average salary results of those top roles with most skills mastered compared to the data of common data professionals, unexpectedly, the common data professionals' salary are much lower than those from roles with most skilled mastered.\n",
    "- It can be concluded that it is valuable and useful if you decide to master most skills in data science field as you will have more chance to earn more money than those who have general knowledge. "
   ]
  }
 ],
 "metadata": {
  "kernelspec": {
   "display_name": "Python 3",
   "language": "python",
   "name": "python3"
  },
  "language_info": {
   "codemirror_mode": {
    "name": "ipython",
    "version": 3
   },
   "file_extension": ".py",
   "mimetype": "text/x-python",
   "name": "python",
   "nbconvert_exporter": "python",
   "pygments_lexer": "ipython3",
   "version": "3.8.3"
  }
 },
 "nbformat": 4,
 "nbformat_minor": 4
}
