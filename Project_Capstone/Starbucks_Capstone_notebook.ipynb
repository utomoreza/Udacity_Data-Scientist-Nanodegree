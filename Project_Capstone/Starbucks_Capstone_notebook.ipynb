{
 "cells": [
  {
   "cell_type": "markdown",
   "metadata": {
    "heading_collapsed": true,
    "id": "0PPzrD577vCh"
   },
   "source": [
    "# Starbucks Capstone Challenge"
   ]
  },
  {
   "cell_type": "markdown",
   "metadata": {
    "heading_collapsed": true,
    "hidden": true,
    "id": "Pdh3bprM7vCn"
   },
   "source": [
    "### Project Overview\n",
    "\n",
    "This data set contains simulated data that mimics customer behavior on the Starbucks rewards mobile app. Once every few days, Starbucks sends out an offer to users of the mobile app. An offer can be merely an advertisement for a drink or an actual offer such as a discount or BOGO (buy one get one free). Some users might not receive any offer during certain weeks. \n",
    "\n",
    "Not all users receive the same offer, and that is the challenge to solve with this data set.\n",
    "\n",
    "Your task is to combine transaction, demographic and offer data to determine which demographic groups respond best to which offer type. This data set is a simplified version of the real Starbucks app because the underlying simulator only has one product whereas Starbucks actually sells dozens of products.\n",
    "\n",
    "Every offer has a validity period before the offer expires. As an example, a BOGO offer might be valid for only 5 days. You'll see in the data set that informational offers have a validity period even though these ads are merely providing information about a product; for example, if an informational offer has 7 days of validity, you can assume the customer is feeling the influence of the offer for 7 days after receiving the advertisement.\n",
    "\n",
    "You'll be given transactional data showing user purchases made on the app including the timestamp of purchase and the amount of money spent on a purchase. This transactional data also has a record for each offer that a user receives as well as a record for when a user actually views the offer. There are also records for when a user completes an offer."
   ]
  },
  {
   "cell_type": "markdown",
   "metadata": {
    "hidden": true,
    "id": "DBhpbFW27vCu"
   },
   "source": [
    "## Problem Statement"
   ]
  },
  {
   "cell_type": "markdown",
   "metadata": {
    "hidden": true,
    "id": "PN8ROo8TTq5b"
   },
   "source": [
    "Based on the information given above, we can infer that any transaction made by a customer is something really desired. No matter what offer you'd provide to the customers, still, you will deserve a transaction. Therefore, this project will try **to predict how much money a customer will spend**.\n",
    "\n",
    "To solve the problem, we will use all datasets provided.\n",
    "\n",
    "We will employ several machine learning algorithms. As this will be a regression problem, we will evaluate the algorithms based on several regression metrics, i.e. mean absolute error, mean squared error, root mean squared error, and R2 score."
   ]
  },
  {
   "cell_type": "markdown",
   "metadata": {
    "heading_collapsed": true,
    "id": "iFtM6Kmd7vCs"
   },
   "source": [
    "# Datasets Description"
   ]
  },
  {
   "cell_type": "markdown",
   "metadata": {
    "hidden": true,
    "id": "pUZIOCms7vCt"
   },
   "source": [
    "The data is contained in three files:\n",
    "\n",
    "* portfolio.json - containing offer ids and meta data about each offer (duration, type, etc.)\n",
    "* profile.json - demographic data for each customer\n",
    "* transcript.json - records for transactions, offers received, offers viewed, and offers completed\n",
    "\n",
    "Here is the schema and explanation of each variable in the files:\n",
    "\n",
    "**portfolio.json**\n",
    "* id (string) - offer id\n",
    "* offer_type (string) - type of offer ie BOGO, discount, informational\n",
    "* difficulty (int) - minimum required spend to complete an offer\n",
    "* reward (int) - reward given for completing an offer\n",
    "* duration (int) - time for offer to be open, in days\n",
    "* channels (list of strings)\n",
    "\n",
    "**profile.json**\n",
    "* age (int) - age of the customer \n",
    "* became_member_on (int) - date when customer created an app account\n",
    "* gender (str) - gender of the customer (note some entries contain 'O' for other rather than M or F)\n",
    "* id (str) - customer id\n",
    "* income (float) - customer's income\n",
    "\n",
    "**transcript.json**\n",
    "* event (str) - record description (ie transaction, offer received, offer viewed, etc.)\n",
    "* person (str) - customer id\n",
    "* time (int) - time in hours since start of test. The data begins at time t=0\n",
    "* value - (dict of strings) - either an offer id or transaction amount depending on the record"
   ]
  },
  {
   "cell_type": "markdown",
   "metadata": {
    "heading_collapsed": true,
    "id": "efhoMIkT8Cqq"
   },
   "source": [
    "# Set Google Colab dir"
   ]
  },
  {
   "cell_type": "markdown",
   "metadata": {
    "hidden": true,
    "id": "ijMY0HRBTq5i"
   },
   "source": [
    "In case you run the notebook in Google Colab, run the two cells below"
   ]
  },
  {
   "cell_type": "code",
   "execution_count": 2,
   "metadata": {
    "colab": {
     "base_uri": "https://localhost:8080/"
    },
    "executionInfo": {
     "elapsed": 52947,
     "status": "ok",
     "timestamp": 1638775712256,
     "user": {
      "displayName": "Reza Dwi Utomo",
      "photoUrl": "https://lh3.googleusercontent.com/a-/AOh14GjuLhy_JmgD4iWFIjOE-G6ClGlqtizVTS9lhAZQ=s64",
      "userId": "08330585941225764736"
     },
     "user_tz": -420
    },
    "hidden": true,
    "id": "zmk8jel671Sg",
    "outputId": "94a9196e-6ac9-4cbb-9fdc-bbdb58b001bd"
   },
   "outputs": [
    {
     "name": "stdout",
     "output_type": "stream",
     "text": [
      "Mounted at /content/drive/\n"
     ]
    }
   ],
   "source": [
    "from google.colab import drive\n",
    "drive.mount('/content/drive/')"
   ]
  },
  {
   "cell_type": "code",
   "execution_count": 3,
   "metadata": {
    "colab": {
     "base_uri": "https://localhost:8080/",
     "height": 35
    },
    "executionInfo": {
     "elapsed": 802,
     "status": "ok",
     "timestamp": 1638775717407,
     "user": {
      "displayName": "Reza Dwi Utomo",
      "photoUrl": "https://lh3.googleusercontent.com/a-/AOh14GjuLhy_JmgD4iWFIjOE-G6ClGlqtizVTS9lhAZQ=s64",
      "userId": "08330585941225764736"
     },
     "user_tz": -420
    },
    "hidden": true,
    "id": "CSrGG60_75ay",
    "outputId": "6c127049-71ef-406f-f578-c1e8bd3263e7",
    "scrolled": true
   },
   "outputs": [
    {
     "data": {
      "application/vnd.google.colaboratory.intrinsic+json": {
       "type": "string"
      },
      "text/plain": [
       "'/content/drive/My Drive/Colab Notebooks/Starbucks'"
      ]
     },
     "execution_count": 3,
     "metadata": {},
     "output_type": "execute_result"
    }
   ],
   "source": [
    "import os\n",
    "os.chdir('/content/drive/My Drive/Colab Notebooks/Starbucks')\n",
    "os.getcwd()"
   ]
  },
  {
   "cell_type": "markdown",
   "metadata": {
    "heading_collapsed": true,
    "id": "zzrBbb3V7vCw"
   },
   "source": [
    "# Explore Datasets"
   ]
  },
  {
   "cell_type": "code",
   "execution_count": 3,
   "metadata": {
    "colab": {
     "base_uri": "https://localhost:8080/",
     "height": 1000
    },
    "executionInfo": {
     "elapsed": 32322,
     "status": "ok",
     "timestamp": 1638775628610,
     "user": {
      "displayName": "Reza Dwi Utomo",
      "photoUrl": "https://lh3.googleusercontent.com/a-/AOh14GjuLhy_JmgD4iWFIjOE-G6ClGlqtizVTS9lhAZQ=s64",
      "userId": "08330585941225764736"
     },
     "user_tz": -420
    },
    "hidden": true,
    "id": "nI3zhgQPUD6I",
    "outputId": "9972347b-7fbb-4e11-bd29-3c9b7dc44fd3"
   },
   "outputs": [
    {
     "name": "stdout",
     "output_type": "stream",
     "text": [
      "Collecting auto-sklearn\n",
      "  Downloading auto-sklearn-0.14.2.tar.gz (6.3 MB)\n",
      "\u001b[K     |████████████████████████████████| 6.3 MB 3.7 MB/s \n",
      "\u001b[?25hRequirement already satisfied: setuptools in /usr/local/lib/python3.7/dist-packages (from auto-sklearn) (57.4.0)\n",
      "Requirement already satisfied: typing_extensions in /usr/local/lib/python3.7/dist-packages (from auto-sklearn) (3.10.0.2)\n",
      "Requirement already satisfied: numpy>=1.9.0 in /usr/local/lib/python3.7/dist-packages (from auto-sklearn) (1.19.5)\n",
      "Collecting scipy>=1.7.0\n",
      "  Downloading scipy-1.7.3-cp37-cp37m-manylinux_2_12_x86_64.manylinux2010_x86_64.whl (38.1 MB)\n",
      "\u001b[K     |████████████████████████████████| 38.1 MB 1.2 MB/s \n",
      "\u001b[?25hRequirement already satisfied: joblib in /usr/local/lib/python3.7/dist-packages (from auto-sklearn) (1.1.0)\n",
      "Collecting scikit-learn<0.25.0,>=0.24.0\n",
      "  Downloading scikit_learn-0.24.2-cp37-cp37m-manylinux2010_x86_64.whl (22.3 MB)\n",
      "\u001b[K     |████████████████████████████████| 22.3 MB 59.0 MB/s \n",
      "\u001b[?25hRequirement already satisfied: dask<2021.07 in /usr/local/lib/python3.7/dist-packages (from auto-sklearn) (2.12.0)\n",
      "Collecting distributed<2021.07,>=2.2.0\n",
      "  Downloading distributed-2021.6.2-py3-none-any.whl (722 kB)\n",
      "\u001b[K     |████████████████████████████████| 722 kB 48.3 MB/s \n",
      "\u001b[?25hRequirement already satisfied: pyyaml in /usr/local/lib/python3.7/dist-packages (from auto-sklearn) (3.13)\n",
      "Requirement already satisfied: pandas>=1.0 in /usr/local/lib/python3.7/dist-packages (from auto-sklearn) (1.1.5)\n",
      "Collecting liac-arff\n",
      "  Downloading liac-arff-2.5.0.tar.gz (13 kB)\n",
      "Requirement already satisfied: threadpoolctl in /usr/local/lib/python3.7/dist-packages (from auto-sklearn) (3.0.0)\n",
      "Collecting ConfigSpace<0.5,>=0.4.14\n",
      "  Downloading ConfigSpace-0.4.20-cp37-cp37m-manylinux_2_17_x86_64.manylinux2014_x86_64.whl (4.2 MB)\n",
      "\u001b[K     |████████████████████████████████| 4.2 MB 35.5 MB/s \n",
      "\u001b[?25hCollecting pynisher>=0.6.3\n",
      "  Downloading pynisher-0.6.4.tar.gz (11 kB)\n",
      "Collecting pyrfr<0.9,>=0.8.1\n",
      "  Downloading pyrfr-0.8.2-cp37-cp37m-manylinux2014_x86_64.whl (4.0 MB)\n",
      "\u001b[K     |████████████████████████████████| 4.0 MB 37.1 MB/s \n",
      "\u001b[?25hCollecting smac>=0.14\n",
      "  Downloading smac-1.1.1-py3-none-any.whl (208 kB)\n",
      "\u001b[K     |████████████████████████████████| 208 kB 44.5 MB/s \n",
      "\u001b[?25hRequirement already satisfied: pyparsing in /usr/local/lib/python3.7/dist-packages (from ConfigSpace<0.5,>=0.4.14->auto-sklearn) (3.0.6)\n",
      "Requirement already satisfied: cython in /usr/local/lib/python3.7/dist-packages (from ConfigSpace<0.5,>=0.4.14->auto-sklearn) (0.29.24)\n",
      "Requirement already satisfied: zict>=0.1.3 in /usr/local/lib/python3.7/dist-packages (from distributed<2021.07,>=2.2.0->auto-sklearn) (2.0.0)\n",
      "Collecting dask<2021.07\n",
      "  Downloading dask-2021.6.2-py3-none-any.whl (973 kB)\n",
      "\u001b[K     |████████████████████████████████| 973 kB 42.2 MB/s \n",
      "\u001b[?25hRequirement already satisfied: tblib>=1.6.0 in /usr/local/lib/python3.7/dist-packages (from distributed<2021.07,>=2.2.0->auto-sklearn) (1.7.0)\n",
      "Requirement already satisfied: click>=6.6 in /usr/local/lib/python3.7/dist-packages (from distributed<2021.07,>=2.2.0->auto-sklearn) (7.1.2)\n",
      "Requirement already satisfied: psutil>=5.0 in /usr/local/lib/python3.7/dist-packages (from distributed<2021.07,>=2.2.0->auto-sklearn) (5.4.8)\n",
      "Requirement already satisfied: tornado>=5 in /usr/local/lib/python3.7/dist-packages (from distributed<2021.07,>=2.2.0->auto-sklearn) (5.1.1)\n",
      "Requirement already satisfied: toolz>=0.8.2 in /usr/local/lib/python3.7/dist-packages (from distributed<2021.07,>=2.2.0->auto-sklearn) (0.11.2)\n",
      "Requirement already satisfied: sortedcontainers!=2.0.0,!=2.0.1 in /usr/local/lib/python3.7/dist-packages (from distributed<2021.07,>=2.2.0->auto-sklearn) (2.4.0)\n",
      "Requirement already satisfied: msgpack>=0.6.0 in /usr/local/lib/python3.7/dist-packages (from distributed<2021.07,>=2.2.0->auto-sklearn) (1.0.3)\n",
      "Collecting cloudpickle>=1.5.0\n",
      "  Downloading cloudpickle-2.0.0-py3-none-any.whl (25 kB)\n",
      "Collecting fsspec>=0.6.0\n",
      "  Downloading fsspec-2021.11.1-py3-none-any.whl (132 kB)\n",
      "\u001b[K     |████████████████████████████████| 132 kB 48.9 MB/s \n",
      "\u001b[?25hCollecting partd>=0.3.10\n",
      "  Downloading partd-1.2.0-py3-none-any.whl (19 kB)\n",
      "Requirement already satisfied: python-dateutil>=2.7.3 in /usr/local/lib/python3.7/dist-packages (from pandas>=1.0->auto-sklearn) (2.8.2)\n",
      "Requirement already satisfied: pytz>=2017.2 in /usr/local/lib/python3.7/dist-packages (from pandas>=1.0->auto-sklearn) (2018.9)\n",
      "Collecting locket\n",
      "  Downloading locket-0.2.1-py2.py3-none-any.whl (4.1 kB)\n",
      "Requirement already satisfied: six>=1.5 in /usr/local/lib/python3.7/dist-packages (from python-dateutil>=2.7.3->pandas>=1.0->auto-sklearn) (1.15.0)\n",
      "Collecting emcee>=3.0.0\n",
      "  Downloading emcee-3.1.1-py2.py3-none-any.whl (45 kB)\n",
      "\u001b[K     |████████████████████████████████| 45 kB 3.3 MB/s \n",
      "\u001b[?25hRequirement already satisfied: heapdict in /usr/local/lib/python3.7/dist-packages (from zict>=0.1.3->distributed<2021.07,>=2.2.0->auto-sklearn) (1.0.1)\n",
      "Building wheels for collected packages: auto-sklearn, pynisher, liac-arff\n",
      "  Building wheel for auto-sklearn (setup.py) ... \u001b[?25l\u001b[?25hdone\n",
      "  Created wheel for auto-sklearn: filename=auto_sklearn-0.14.2-py3-none-any.whl size=6586738 sha256=037cd07aa257b965d1daac7a0f03ceff63ab387cc5ce01bd5ad7b75eb0ef5e53\n",
      "  Stored in directory: /root/.cache/pip/wheels/b6/ba/aa/ce7b8deb41019b9c1c6cd0b511d553350b7075ba1d3f0f545c\n",
      "  Building wheel for pynisher (setup.py) ... \u001b[?25l\u001b[?25hdone\n",
      "  Created wheel for pynisher: filename=pynisher-0.6.4-py3-none-any.whl size=7044 sha256=9608a9ce0bca870974dfe17bb956efcc9d69ec138d864c886a02bdba4e768197\n",
      "  Stored in directory: /root/.cache/pip/wheels/42/71/95/7555ec3253e1ba8add72ae5febf1b015d297f3b73ba296d6f6\n",
      "  Building wheel for liac-arff (setup.py) ... \u001b[?25l\u001b[?25hdone\n",
      "  Created wheel for liac-arff: filename=liac_arff-2.5.0-py3-none-any.whl size=11731 sha256=6be6bf28ff40907a025e076c54ca77b5cd60b95dae390137f99fa8da35807438\n",
      "  Stored in directory: /root/.cache/pip/wheels/1f/0f/15/332ca86cbebf25ddf98518caaf887945fbe1712b97a0f2493b\n",
      "Successfully built auto-sklearn pynisher liac-arff\n",
      "Installing collected packages: locket, partd, fsspec, cloudpickle, scipy, dask, scikit-learn, pyrfr, pynisher, emcee, distributed, ConfigSpace, smac, liac-arff, auto-sklearn\n",
      "  Attempting uninstall: cloudpickle\n",
      "    Found existing installation: cloudpickle 1.3.0\n",
      "    Uninstalling cloudpickle-1.3.0:\n",
      "      Successfully uninstalled cloudpickle-1.3.0\n",
      "  Attempting uninstall: scipy\n",
      "    Found existing installation: scipy 1.4.1\n",
      "    Uninstalling scipy-1.4.1:\n",
      "      Successfully uninstalled scipy-1.4.1\n",
      "  Attempting uninstall: dask\n",
      "    Found existing installation: dask 2.12.0\n",
      "    Uninstalling dask-2.12.0:\n",
      "      Successfully uninstalled dask-2.12.0\n",
      "  Attempting uninstall: scikit-learn\n",
      "    Found existing installation: scikit-learn 1.0.1\n",
      "    Uninstalling scikit-learn-1.0.1:\n",
      "      Successfully uninstalled scikit-learn-1.0.1\n",
      "  Attempting uninstall: distributed\n",
      "    Found existing installation: distributed 1.25.3\n",
      "    Uninstalling distributed-1.25.3:\n",
      "      Successfully uninstalled distributed-1.25.3\n",
      "\u001b[31mERROR: pip's dependency resolver does not currently take into account all the packages that are installed. This behaviour is the source of the following dependency conflicts.\n",
      "gym 0.17.3 requires cloudpickle<1.7.0,>=1.2.0, but you have cloudpickle 2.0.0 which is incompatible.\n",
      "albumentations 0.1.12 requires imgaug<0.2.7,>=0.2.5, but you have imgaug 0.2.9 which is incompatible.\u001b[0m\n",
      "Successfully installed ConfigSpace-0.4.20 auto-sklearn-0.14.2 cloudpickle-2.0.0 dask-2021.6.2 distributed-2021.6.2 emcee-3.1.1 fsspec-2021.11.1 liac-arff-2.5.0 locket-0.2.1 partd-1.2.0 pynisher-0.6.4 pyrfr-0.8.2 scikit-learn-0.24.2 scipy-1.7.3 smac-1.1.1\n"
     ]
    },
    {
     "data": {
      "application/vnd.colab-display-data+json": {
       "pip_warning": {
        "packages": [
         "scipy",
         "sklearn"
        ]
       }
      }
     },
     "metadata": {},
     "output_type": "display_data"
    }
   ],
   "source": [
    "!pip install auto-sklearn"
   ]
  },
  {
   "cell_type": "code",
   "execution_count": 5,
   "metadata": {
    "hidden": true
   },
   "outputs": [],
   "source": [
    "from joblib import parallel_backend"
   ]
  },
  {
   "cell_type": "code",
   "execution_count": 1,
   "metadata": {
    "executionInfo": {
     "elapsed": 8065,
     "status": "ok",
     "timestamp": 1638775740951,
     "user": {
      "displayName": "Reza Dwi Utomo",
      "photoUrl": "https://lh3.googleusercontent.com/a-/AOh14GjuLhy_JmgD4iWFIjOE-G6ClGlqtizVTS9lhAZQ=s64",
      "userId": "08330585941225764736"
     },
     "user_tz": -420
    },
    "hidden": true,
    "id": "VpY1gmra7vCw"
   },
   "outputs": [],
   "source": [
    "# import libraries\n",
    "import json\n",
    "import random\n",
    "import pandas as pd\n",
    "import numpy as np\n",
    "import matplotlib.pyplot as plt\n",
    "import seaborn as sns\n",
    "\n",
    "from sklearn.model_selection import train_test_split, GridSearchCV\n",
    "from sklearn.preprocessing import StandardScaler\n",
    "from sklearn.ensemble import RandomForestRegressor, GradientBoostingRegressor\n",
    "from sklearn.metrics import mean_absolute_error, mean_squared_error, r2_score\n",
    "from sklearn.pipeline import Pipeline\n",
    "from sklearn.base import BaseEstimator\n",
    "\n",
    "from autosklearn.regression import AutoSklearnRegressor\n",
    "\n",
    "import torch\n",
    "from torch import nn"
   ]
  },
  {
   "cell_type": "code",
   "execution_count": 5,
   "metadata": {
    "executionInfo": {
     "elapsed": 599,
     "status": "ok",
     "timestamp": 1638775745895,
     "user": {
      "displayName": "Reza Dwi Utomo",
      "photoUrl": "https://lh3.googleusercontent.com/a-/AOh14GjuLhy_JmgD4iWFIjOE-G6ClGlqtizVTS9lhAZQ=s64",
      "userId": "08330585941225764736"
     },
     "user_tz": -420
    },
    "hidden": true,
    "id": "1L_S9-sc7vCy"
   },
   "outputs": [],
   "source": [
    "def display_all(df, what='row'):\n",
    "    \"\"\"used to display all rows/columns of given df\"\"\"\n",
    "    with pd.option_context('display.max_' + what, None):\n",
    "        display(df)"
   ]
  },
  {
   "cell_type": "code",
   "execution_count": null,
   "metadata": {
    "hidden": true,
    "id": "9LnKcEaE7vCy"
   },
   "outputs": [],
   "source": [
    "# read in the json files\n",
    "portfolio = pd.read_json('data/portfolio.json', orient='records', lines=True)\n",
    "profile = pd.read_json('data/profile.json', orient='records', lines=True)\n",
    "transcript = pd.read_json('data/transcript.json', orient='records', lines=True)"
   ]
  },
  {
   "cell_type": "markdown",
   "metadata": {
    "hidden": true,
    "id": "ydX8nmay7vCz"
   },
   "source": [
    "## Explore `portfolio` dataset"
   ]
  },
  {
   "cell_type": "code",
   "execution_count": null,
   "metadata": {
    "hidden": true,
    "id": "oiWAFtxl7vCz",
    "outputId": "379deea0-b749-4e00-bce7-9b68d46890fa",
    "scrolled": true
   },
   "outputs": [
    {
     "name": "stdout",
     "output_type": "stream",
     "text": [
      "<class 'pandas.core.frame.DataFrame'>\n",
      "RangeIndex: 10 entries, 0 to 9\n",
      "Data columns (total 6 columns):\n",
      " #   Column      Non-Null Count  Dtype \n",
      "---  ------      --------------  ----- \n",
      " 0   reward      10 non-null     int64 \n",
      " 1   channels    10 non-null     object\n",
      " 2   difficulty  10 non-null     int64 \n",
      " 3   duration    10 non-null     int64 \n",
      " 4   offer_type  10 non-null     object\n",
      " 5   id          10 non-null     object\n",
      "dtypes: int64(3), object(3)\n",
      "memory usage: 608.0+ bytes\n"
     ]
    },
    {
     "data": {
      "text/html": [
       "<div>\n",
       "<style scoped>\n",
       "    .dataframe tbody tr th:only-of-type {\n",
       "        vertical-align: middle;\n",
       "    }\n",
       "\n",
       "    .dataframe tbody tr th {\n",
       "        vertical-align: top;\n",
       "    }\n",
       "\n",
       "    .dataframe thead th {\n",
       "        text-align: right;\n",
       "    }\n",
       "</style>\n",
       "<table border=\"1\" class=\"dataframe\">\n",
       "  <thead>\n",
       "    <tr style=\"text-align: right;\">\n",
       "      <th></th>\n",
       "      <th>reward</th>\n",
       "      <th>channels</th>\n",
       "      <th>difficulty</th>\n",
       "      <th>duration</th>\n",
       "      <th>offer_type</th>\n",
       "      <th>id</th>\n",
       "    </tr>\n",
       "  </thead>\n",
       "  <tbody>\n",
       "    <tr>\n",
       "      <th>0</th>\n",
       "      <td>10</td>\n",
       "      <td>[email, mobile, social]</td>\n",
       "      <td>10</td>\n",
       "      <td>7</td>\n",
       "      <td>bogo</td>\n",
       "      <td>ae264e3637204a6fb9bb56bc8210ddfd</td>\n",
       "    </tr>\n",
       "    <tr>\n",
       "      <th>1</th>\n",
       "      <td>10</td>\n",
       "      <td>[web, email, mobile, social]</td>\n",
       "      <td>10</td>\n",
       "      <td>5</td>\n",
       "      <td>bogo</td>\n",
       "      <td>4d5c57ea9a6940dd891ad53e9dbe8da0</td>\n",
       "    </tr>\n",
       "    <tr>\n",
       "      <th>2</th>\n",
       "      <td>0</td>\n",
       "      <td>[web, email, mobile]</td>\n",
       "      <td>0</td>\n",
       "      <td>4</td>\n",
       "      <td>informational</td>\n",
       "      <td>3f207df678b143eea3cee63160fa8bed</td>\n",
       "    </tr>\n",
       "    <tr>\n",
       "      <th>3</th>\n",
       "      <td>5</td>\n",
       "      <td>[web, email, mobile]</td>\n",
       "      <td>5</td>\n",
       "      <td>7</td>\n",
       "      <td>bogo</td>\n",
       "      <td>9b98b8c7a33c4b65b9aebfe6a799e6d9</td>\n",
       "    </tr>\n",
       "    <tr>\n",
       "      <th>4</th>\n",
       "      <td>5</td>\n",
       "      <td>[web, email]</td>\n",
       "      <td>20</td>\n",
       "      <td>10</td>\n",
       "      <td>discount</td>\n",
       "      <td>0b1e1539f2cc45b7b9fa7c272da2e1d7</td>\n",
       "    </tr>\n",
       "    <tr>\n",
       "      <th>5</th>\n",
       "      <td>3</td>\n",
       "      <td>[web, email, mobile, social]</td>\n",
       "      <td>7</td>\n",
       "      <td>7</td>\n",
       "      <td>discount</td>\n",
       "      <td>2298d6c36e964ae4a3e7e9706d1fb8c2</td>\n",
       "    </tr>\n",
       "    <tr>\n",
       "      <th>6</th>\n",
       "      <td>2</td>\n",
       "      <td>[web, email, mobile, social]</td>\n",
       "      <td>10</td>\n",
       "      <td>10</td>\n",
       "      <td>discount</td>\n",
       "      <td>fafdcd668e3743c1bb461111dcafc2a4</td>\n",
       "    </tr>\n",
       "    <tr>\n",
       "      <th>7</th>\n",
       "      <td>0</td>\n",
       "      <td>[email, mobile, social]</td>\n",
       "      <td>0</td>\n",
       "      <td>3</td>\n",
       "      <td>informational</td>\n",
       "      <td>5a8bc65990b245e5a138643cd4eb9837</td>\n",
       "    </tr>\n",
       "    <tr>\n",
       "      <th>8</th>\n",
       "      <td>5</td>\n",
       "      <td>[web, email, mobile, social]</td>\n",
       "      <td>5</td>\n",
       "      <td>5</td>\n",
       "      <td>bogo</td>\n",
       "      <td>f19421c1d4aa40978ebb69ca19b0e20d</td>\n",
       "    </tr>\n",
       "    <tr>\n",
       "      <th>9</th>\n",
       "      <td>2</td>\n",
       "      <td>[web, email, mobile]</td>\n",
       "      <td>10</td>\n",
       "      <td>7</td>\n",
       "      <td>discount</td>\n",
       "      <td>2906b810c7d4411798c6938adc9daaa5</td>\n",
       "    </tr>\n",
       "  </tbody>\n",
       "</table>\n",
       "</div>"
      ],
      "text/plain": [
       "   reward                      channels  difficulty  duration     offer_type  \\\n",
       "0      10       [email, mobile, social]          10         7           bogo   \n",
       "1      10  [web, email, mobile, social]          10         5           bogo   \n",
       "2       0          [web, email, mobile]           0         4  informational   \n",
       "3       5          [web, email, mobile]           5         7           bogo   \n",
       "4       5                  [web, email]          20        10       discount   \n",
       "5       3  [web, email, mobile, social]           7         7       discount   \n",
       "6       2  [web, email, mobile, social]          10        10       discount   \n",
       "7       0       [email, mobile, social]           0         3  informational   \n",
       "8       5  [web, email, mobile, social]           5         5           bogo   \n",
       "9       2          [web, email, mobile]          10         7       discount   \n",
       "\n",
       "                                 id  \n",
       "0  ae264e3637204a6fb9bb56bc8210ddfd  \n",
       "1  4d5c57ea9a6940dd891ad53e9dbe8da0  \n",
       "2  3f207df678b143eea3cee63160fa8bed  \n",
       "3  9b98b8c7a33c4b65b9aebfe6a799e6d9  \n",
       "4  0b1e1539f2cc45b7b9fa7c272da2e1d7  \n",
       "5  2298d6c36e964ae4a3e7e9706d1fb8c2  \n",
       "6  fafdcd668e3743c1bb461111dcafc2a4  \n",
       "7  5a8bc65990b245e5a138643cd4eb9837  \n",
       "8  f19421c1d4aa40978ebb69ca19b0e20d  \n",
       "9  2906b810c7d4411798c6938adc9daaa5  "
      ]
     },
     "execution_count": 5,
     "metadata": {},
     "output_type": "execute_result"
    }
   ],
   "source": [
    "portfolio.info()\n",
    "portfolio"
   ]
  },
  {
   "cell_type": "markdown",
   "metadata": {
    "hidden": true,
    "id": "MFiKjdgqTq5t"
   },
   "source": [
    "We can see above that the `portfolio` dataset consists of 10 rows and 6 columns. No null values found.\n",
    "\n",
    "For each row in the `channels` column, there's a list value. We're going to split each of them and make one-hot encoding for each."
   ]
  },
  {
   "cell_type": "code",
   "execution_count": null,
   "metadata": {
    "hidden": true,
    "id": "GOjabg1D7vC0"
   },
   "outputs": [],
   "source": [
    "def split_channels(row):\n",
    "    \"\"\"used to split value in the channels col\"\"\"\n",
    "\n",
    "    channel_list = ['email', 'mobile', 'social', 'web']\n",
    "    output = []\n",
    "    for channel in channel_list:\n",
    "        if channel in row:\n",
    "            output.append(1)\n",
    "        else:\n",
    "            output.append(0)\n",
    "    return pd.Series(output)"
   ]
  },
  {
   "cell_type": "code",
   "execution_count": null,
   "metadata": {
    "hidden": true,
    "id": "JyDj2BoE7vC0",
    "outputId": "f29f4dd8-697a-4249-db61-a01ead4d3ed0",
    "scrolled": true
   },
   "outputs": [
    {
     "data": {
      "text/html": [
       "<div>\n",
       "<style scoped>\n",
       "    .dataframe tbody tr th:only-of-type {\n",
       "        vertical-align: middle;\n",
       "    }\n",
       "\n",
       "    .dataframe tbody tr th {\n",
       "        vertical-align: top;\n",
       "    }\n",
       "\n",
       "    .dataframe thead th {\n",
       "        text-align: right;\n",
       "    }\n",
       "</style>\n",
       "<table border=\"1\" class=\"dataframe\">\n",
       "  <thead>\n",
       "    <tr style=\"text-align: right;\">\n",
       "      <th></th>\n",
       "      <th>reward</th>\n",
       "      <th>difficulty</th>\n",
       "      <th>duration</th>\n",
       "      <th>offer_type</th>\n",
       "      <th>offer_id</th>\n",
       "      <th>email</th>\n",
       "      <th>mobile</th>\n",
       "      <th>social</th>\n",
       "      <th>web</th>\n",
       "    </tr>\n",
       "  </thead>\n",
       "  <tbody>\n",
       "    <tr>\n",
       "      <th>0</th>\n",
       "      <td>10</td>\n",
       "      <td>10</td>\n",
       "      <td>7</td>\n",
       "      <td>bogo</td>\n",
       "      <td>ae264e3637204a6fb9bb56bc8210ddfd</td>\n",
       "      <td>1</td>\n",
       "      <td>1</td>\n",
       "      <td>1</td>\n",
       "      <td>0</td>\n",
       "    </tr>\n",
       "    <tr>\n",
       "      <th>1</th>\n",
       "      <td>10</td>\n",
       "      <td>10</td>\n",
       "      <td>5</td>\n",
       "      <td>bogo</td>\n",
       "      <td>4d5c57ea9a6940dd891ad53e9dbe8da0</td>\n",
       "      <td>1</td>\n",
       "      <td>1</td>\n",
       "      <td>1</td>\n",
       "      <td>1</td>\n",
       "    </tr>\n",
       "    <tr>\n",
       "      <th>2</th>\n",
       "      <td>0</td>\n",
       "      <td>0</td>\n",
       "      <td>4</td>\n",
       "      <td>informational</td>\n",
       "      <td>3f207df678b143eea3cee63160fa8bed</td>\n",
       "      <td>1</td>\n",
       "      <td>1</td>\n",
       "      <td>0</td>\n",
       "      <td>1</td>\n",
       "    </tr>\n",
       "    <tr>\n",
       "      <th>3</th>\n",
       "      <td>5</td>\n",
       "      <td>5</td>\n",
       "      <td>7</td>\n",
       "      <td>bogo</td>\n",
       "      <td>9b98b8c7a33c4b65b9aebfe6a799e6d9</td>\n",
       "      <td>1</td>\n",
       "      <td>1</td>\n",
       "      <td>0</td>\n",
       "      <td>1</td>\n",
       "    </tr>\n",
       "    <tr>\n",
       "      <th>4</th>\n",
       "      <td>5</td>\n",
       "      <td>20</td>\n",
       "      <td>10</td>\n",
       "      <td>discount</td>\n",
       "      <td>0b1e1539f2cc45b7b9fa7c272da2e1d7</td>\n",
       "      <td>1</td>\n",
       "      <td>0</td>\n",
       "      <td>0</td>\n",
       "      <td>1</td>\n",
       "    </tr>\n",
       "    <tr>\n",
       "      <th>5</th>\n",
       "      <td>3</td>\n",
       "      <td>7</td>\n",
       "      <td>7</td>\n",
       "      <td>discount</td>\n",
       "      <td>2298d6c36e964ae4a3e7e9706d1fb8c2</td>\n",
       "      <td>1</td>\n",
       "      <td>1</td>\n",
       "      <td>1</td>\n",
       "      <td>1</td>\n",
       "    </tr>\n",
       "    <tr>\n",
       "      <th>6</th>\n",
       "      <td>2</td>\n",
       "      <td>10</td>\n",
       "      <td>10</td>\n",
       "      <td>discount</td>\n",
       "      <td>fafdcd668e3743c1bb461111dcafc2a4</td>\n",
       "      <td>1</td>\n",
       "      <td>1</td>\n",
       "      <td>1</td>\n",
       "      <td>1</td>\n",
       "    </tr>\n",
       "    <tr>\n",
       "      <th>7</th>\n",
       "      <td>0</td>\n",
       "      <td>0</td>\n",
       "      <td>3</td>\n",
       "      <td>informational</td>\n",
       "      <td>5a8bc65990b245e5a138643cd4eb9837</td>\n",
       "      <td>1</td>\n",
       "      <td>1</td>\n",
       "      <td>1</td>\n",
       "      <td>0</td>\n",
       "    </tr>\n",
       "    <tr>\n",
       "      <th>8</th>\n",
       "      <td>5</td>\n",
       "      <td>5</td>\n",
       "      <td>5</td>\n",
       "      <td>bogo</td>\n",
       "      <td>f19421c1d4aa40978ebb69ca19b0e20d</td>\n",
       "      <td>1</td>\n",
       "      <td>1</td>\n",
       "      <td>1</td>\n",
       "      <td>1</td>\n",
       "    </tr>\n",
       "    <tr>\n",
       "      <th>9</th>\n",
       "      <td>2</td>\n",
       "      <td>10</td>\n",
       "      <td>7</td>\n",
       "      <td>discount</td>\n",
       "      <td>2906b810c7d4411798c6938adc9daaa5</td>\n",
       "      <td>1</td>\n",
       "      <td>1</td>\n",
       "      <td>0</td>\n",
       "      <td>1</td>\n",
       "    </tr>\n",
       "  </tbody>\n",
       "</table>\n",
       "</div>"
      ],
      "text/plain": [
       "   reward  difficulty  duration     offer_type  \\\n",
       "0      10          10         7           bogo   \n",
       "1      10          10         5           bogo   \n",
       "2       0           0         4  informational   \n",
       "3       5           5         7           bogo   \n",
       "4       5          20        10       discount   \n",
       "5       3           7         7       discount   \n",
       "6       2          10        10       discount   \n",
       "7       0           0         3  informational   \n",
       "8       5           5         5           bogo   \n",
       "9       2          10         7       discount   \n",
       "\n",
       "                           offer_id  email  mobile  social  web  \n",
       "0  ae264e3637204a6fb9bb56bc8210ddfd      1       1       1    0  \n",
       "1  4d5c57ea9a6940dd891ad53e9dbe8da0      1       1       1    1  \n",
       "2  3f207df678b143eea3cee63160fa8bed      1       1       0    1  \n",
       "3  9b98b8c7a33c4b65b9aebfe6a799e6d9      1       1       0    1  \n",
       "4  0b1e1539f2cc45b7b9fa7c272da2e1d7      1       0       0    1  \n",
       "5  2298d6c36e964ae4a3e7e9706d1fb8c2      1       1       1    1  \n",
       "6  fafdcd668e3743c1bb461111dcafc2a4      1       1       1    1  \n",
       "7  5a8bc65990b245e5a138643cd4eb9837      1       1       1    0  \n",
       "8  f19421c1d4aa40978ebb69ca19b0e20d      1       1       1    1  \n",
       "9  2906b810c7d4411798c6938adc9daaa5      1       1       0    1  "
      ]
     },
     "execution_count": 7,
     "metadata": {},
     "output_type": "execute_result"
    }
   ],
   "source": [
    "# split the channels col\n",
    "tmp_channels = portfolio.channels.apply(split_channels) \\\n",
    "                .rename(columns={0: 'email',\n",
    "                                 1: 'mobile',\n",
    "                                 2: 'social',\n",
    "                                 3: 'web'})\n",
    "\n",
    "# concat the split values to the main df then drop the previous one\n",
    "portfolio = pd.concat([portfolio, tmp_channels], axis=1) \\\n",
    "            .drop(columns='channels') \\\n",
    "            .rename(columns={'id': 'offer_id'})\n",
    "portfolio"
   ]
  },
  {
   "cell_type": "markdown",
   "metadata": {
    "hidden": true,
    "id": "Lx-vEznGTq5v"
   },
   "source": [
    "Nice. It's clean for now, at least. Let's move on to the `profile` dataset."
   ]
  },
  {
   "cell_type": "markdown",
   "metadata": {
    "hidden": true,
    "id": "UQ8ukYDd7vC1"
   },
   "source": [
    "## Explore `profile` dataset"
   ]
  },
  {
   "cell_type": "code",
   "execution_count": null,
   "metadata": {
    "hidden": true,
    "id": "UEw6GQla7vC1",
    "outputId": "6817480f-2d20-4cd8-e0e2-86db578df5da",
    "scrolled": true
   },
   "outputs": [
    {
     "name": "stdout",
     "output_type": "stream",
     "text": [
      "<class 'pandas.core.frame.DataFrame'>\n",
      "RangeIndex: 17000 entries, 0 to 16999\n",
      "Data columns (total 5 columns):\n",
      " #   Column            Non-Null Count  Dtype  \n",
      "---  ------            --------------  -----  \n",
      " 0   gender            14825 non-null  object \n",
      " 1   age               17000 non-null  int64  \n",
      " 2   id                17000 non-null  object \n",
      " 3   became_member_on  17000 non-null  int64  \n",
      " 4   income            14825 non-null  float64\n",
      "dtypes: float64(1), int64(2), object(2)\n",
      "memory usage: 664.2+ KB\n"
     ]
    },
    {
     "data": {
      "text/html": [
       "<div>\n",
       "<style scoped>\n",
       "    .dataframe tbody tr th:only-of-type {\n",
       "        vertical-align: middle;\n",
       "    }\n",
       "\n",
       "    .dataframe tbody tr th {\n",
       "        vertical-align: top;\n",
       "    }\n",
       "\n",
       "    .dataframe thead th {\n",
       "        text-align: right;\n",
       "    }\n",
       "</style>\n",
       "<table border=\"1\" class=\"dataframe\">\n",
       "  <thead>\n",
       "    <tr style=\"text-align: right;\">\n",
       "      <th></th>\n",
       "      <th>gender</th>\n",
       "      <th>age</th>\n",
       "      <th>id</th>\n",
       "      <th>became_member_on</th>\n",
       "      <th>income</th>\n",
       "    </tr>\n",
       "  </thead>\n",
       "  <tbody>\n",
       "    <tr>\n",
       "      <th>0</th>\n",
       "      <td>None</td>\n",
       "      <td>118</td>\n",
       "      <td>68be06ca386d4c31939f3a4f0e3dd783</td>\n",
       "      <td>20170212</td>\n",
       "      <td>NaN</td>\n",
       "    </tr>\n",
       "    <tr>\n",
       "      <th>1</th>\n",
       "      <td>F</td>\n",
       "      <td>55</td>\n",
       "      <td>0610b486422d4921ae7d2bf64640c50b</td>\n",
       "      <td>20170715</td>\n",
       "      <td>112000.0</td>\n",
       "    </tr>\n",
       "    <tr>\n",
       "      <th>2</th>\n",
       "      <td>None</td>\n",
       "      <td>118</td>\n",
       "      <td>38fe809add3b4fcf9315a9694bb96ff5</td>\n",
       "      <td>20180712</td>\n",
       "      <td>NaN</td>\n",
       "    </tr>\n",
       "    <tr>\n",
       "      <th>3</th>\n",
       "      <td>F</td>\n",
       "      <td>75</td>\n",
       "      <td>78afa995795e4d85b5d9ceeca43f5fef</td>\n",
       "      <td>20170509</td>\n",
       "      <td>100000.0</td>\n",
       "    </tr>\n",
       "    <tr>\n",
       "      <th>4</th>\n",
       "      <td>None</td>\n",
       "      <td>118</td>\n",
       "      <td>a03223e636434f42ac4c3df47e8bac43</td>\n",
       "      <td>20170804</td>\n",
       "      <td>NaN</td>\n",
       "    </tr>\n",
       "  </tbody>\n",
       "</table>\n",
       "</div>"
      ],
      "text/plain": [
       "  gender  age                                id  became_member_on    income\n",
       "0   None  118  68be06ca386d4c31939f3a4f0e3dd783          20170212       NaN\n",
       "1      F   55  0610b486422d4921ae7d2bf64640c50b          20170715  112000.0\n",
       "2   None  118  38fe809add3b4fcf9315a9694bb96ff5          20180712       NaN\n",
       "3      F   75  78afa995795e4d85b5d9ceeca43f5fef          20170509  100000.0\n",
       "4   None  118  a03223e636434f42ac4c3df47e8bac43          20170804       NaN"
      ]
     },
     "execution_count": 8,
     "metadata": {},
     "output_type": "execute_result"
    }
   ],
   "source": [
    "profile.info()\n",
    "profile.head()"
   ]
  },
  {
   "cell_type": "markdown",
   "metadata": {
    "hidden": true,
    "id": "fRtcyx30Tq5w"
   },
   "source": [
    "The dataset consists much more rows than the `portfolio` dataset. The `profile` dataset also contains many `NaNs`. The `id` column looks inconsistent and could refer to ambiguity. Let's rename it."
   ]
  },
  {
   "cell_type": "code",
   "execution_count": null,
   "metadata": {
    "hidden": true,
    "id": "z5EKI_307vC2"
   },
   "outputs": [],
   "source": [
    "# rename the 'id' col\n",
    "profile.rename(columns={'id': 'customer_id'}, inplace=True)"
   ]
  },
  {
   "cell_type": "markdown",
   "metadata": {
    "hidden": true,
    "id": "0KGYTfNYTq5x"
   },
   "source": [
    "Let's see more detailed in the dataset's null values"
   ]
  },
  {
   "cell_type": "code",
   "execution_count": null,
   "metadata": {
    "hidden": true,
    "id": "JQBXQ2Aa7vC2",
    "outputId": "140e8a4a-c536-45b0-e821-f40a7c0ceabf",
    "scrolled": true
   },
   "outputs": [
    {
     "data": {
      "text/plain": [
       "gender                2175\n",
       "age                      0\n",
       "customer_id              0\n",
       "income                2175\n",
       "registered_year          0\n",
       "registered_month         0\n",
       "registered_day           0\n",
       "registered_weekday       0\n",
       "registered_week          0\n",
       "dtype: int64"
      ]
     },
     "metadata": {},
     "output_type": "display_data"
    },
    {
     "data": {
      "text/plain": [
       "gender                12.794118\n",
       "age                    0.000000\n",
       "customer_id            0.000000\n",
       "income                12.794118\n",
       "registered_year        0.000000\n",
       "registered_month       0.000000\n",
       "registered_day         0.000000\n",
       "registered_weekday     0.000000\n",
       "registered_week        0.000000\n",
       "dtype: float64"
      ]
     },
     "execution_count": 20,
     "metadata": {},
     "output_type": "execute_result"
    }
   ],
   "source": [
    "display(profile.isnull().sum())\n",
    "\n",
    "# show NaNs in percentage\n",
    "profile.isnull().sum().apply(lambda row: row/profile.shape[0]*100)"
   ]
  },
  {
   "cell_type": "markdown",
   "metadata": {
    "hidden": true,
    "id": "9n9b5ZlaTq5y"
   },
   "source": [
    "There's something interesting, that is the percentage of null values in the `gender` column is exactly equal to that of the `income` column. Perhaps, every time gender was null, then the income would be null as well. Let's check it."
   ]
  },
  {
   "cell_type": "code",
   "execution_count": null,
   "metadata": {
    "hidden": true,
    "id": "7DSmSBkh7vC2",
    "outputId": "6fecbecd-897e-4c21-faf6-1bbe37cdf22c"
   },
   "outputs": [
    {
     "name": "stdout",
     "output_type": "stream",
     "text": [
      "Number of NaN rows not occuring simultenously:\n"
     ]
    },
    {
     "data": {
      "text/plain": [
       "0"
      ]
     },
     "execution_count": 11,
     "metadata": {},
     "output_type": "execute_result"
    }
   ],
   "source": [
    "# check if each nan in 'gender' col occurs at the same time as nan in 'income' col\n",
    "print(\"Number of NaN rows not occuring simultenously:\")\n",
    "profile.shape[0] - (profile.gender.isnull() == profile.income.isnull()).sum()"
   ]
  },
  {
   "cell_type": "markdown",
   "metadata": {
    "hidden": true,
    "id": "TeufnaZXTq5z"
   },
   "source": [
    "Correct! The `0` value above means that there is NO single row with gender equal to `NaN` without income equal to `NaN` as well. In other words, BOTH `gender` and `income` columns will be in `NaN` at the same time."
   ]
  },
  {
   "cell_type": "code",
   "execution_count": null,
   "metadata": {
    "hidden": true,
    "id": "FQSicelz7vC3",
    "outputId": "f761d68b-a2fc-493c-cbc4-bcb363ed5720",
    "scrolled": true
   },
   "outputs": [
    {
     "data": {
      "text/plain": [
       "True"
      ]
     },
     "execution_count": 12,
     "metadata": {},
     "output_type": "execute_result"
    }
   ],
   "source": [
    "# check if all unique ids equal to num of rows\n",
    "profile.customer_id.unique().size == profile.shape[0]"
   ]
  },
  {
   "cell_type": "markdown",
   "metadata": {
    "hidden": true,
    "id": "lyzyVUctTq5z"
   },
   "source": [
    "### Check the `gender` column"
   ]
  },
  {
   "cell_type": "code",
   "execution_count": null,
   "metadata": {
    "hidden": true,
    "id": "L1gdmP-l7vC3",
    "outputId": "4a72dc12-eecc-4f64-aaf0-67bf0898d16d",
    "scrolled": true
   },
   "outputs": [
    {
     "data": {
      "text/plain": [
       "M    8484\n",
       "F    6129\n",
       "O     212\n",
       "Name: gender, dtype: int64"
      ]
     },
     "execution_count": 13,
     "metadata": {},
     "output_type": "execute_result"
    }
   ],
   "source": [
    "profile.gender.value_counts()"
   ]
  },
  {
   "cell_type": "markdown",
   "metadata": {
    "hidden": true,
    "id": "3ZWutUtETq50"
   },
   "source": [
    "Males dominate the percentage."
   ]
  },
  {
   "cell_type": "markdown",
   "metadata": {
    "hidden": true,
    "id": "CuBV5nDBTq51"
   },
   "source": [
    "### Check the `became_member_on` column"
   ]
  },
  {
   "cell_type": "code",
   "execution_count": null,
   "metadata": {
    "hidden": true,
    "id": "zxkeIqJD7vC2",
    "outputId": "e1436cc2-ac4c-4709-dd14-4c05fc8080c2"
   },
   "outputs": [
    {
     "data": {
      "text/plain": [
       "gender               object\n",
       "age                   int64\n",
       "customer_id          object\n",
       "became_member_on      int64\n",
       "income              float64\n",
       "dtype: object"
      ]
     },
     "execution_count": 14,
     "metadata": {},
     "output_type": "execute_result"
    }
   ],
   "source": [
    "# check data types\n",
    "profile.dtypes"
   ]
  },
  {
   "cell_type": "markdown",
   "metadata": {
    "hidden": true,
    "id": "vbRT-nyjTq51"
   },
   "source": [
    "When we see the data types, the `became_member_on` column is not in the correct data type. The column should indicate dates, not integer values."
   ]
  },
  {
   "cell_type": "code",
   "execution_count": null,
   "metadata": {
    "hidden": true,
    "id": "xdCsrr5P7vC3"
   },
   "outputs": [],
   "source": [
    "# change data type of 'became_member_on' col\n",
    "profile['became_member_on'] = pd.to_datetime(profile.became_member_on, format=\"%Y%m%d\")"
   ]
  },
  {
   "cell_type": "markdown",
   "metadata": {
    "hidden": true,
    "id": "R3Hh6tE2Tq53"
   },
   "source": [
    "From, the date data type, let's derive other features."
   ]
  },
  {
   "cell_type": "code",
   "execution_count": null,
   "metadata": {
    "hidden": true,
    "id": "LtgWAOn47vC3"
   },
   "outputs": [],
   "source": [
    "profile['registered_year'] = profile.became_member_on.dt.year\n",
    "profile['registered_month'] = profile.became_member_on.dt.month\n",
    "profile['registered_day'] = profile.became_member_on.dt.day\n",
    "profile['registered_weekday'] = profile.became_member_on.dt.weekday\n",
    "profile['registered_week'] = profile.became_member_on.dt.week\n",
    "\n",
    "# then drop the original one\n",
    "profile.drop(columns='became_member_on', inplace=True)"
   ]
  },
  {
   "cell_type": "code",
   "execution_count": null,
   "metadata": {
    "hidden": true,
    "id": "TqGvBg-Z7vC3",
    "outputId": "7ae4a123-56e0-4877-95f4-4c89a7ad6417"
   },
   "outputs": [
    {
     "data": {
      "text/html": [
       "<div>\n",
       "<style scoped>\n",
       "    .dataframe tbody tr th:only-of-type {\n",
       "        vertical-align: middle;\n",
       "    }\n",
       "\n",
       "    .dataframe tbody tr th {\n",
       "        vertical-align: top;\n",
       "    }\n",
       "\n",
       "    .dataframe thead th {\n",
       "        text-align: right;\n",
       "    }\n",
       "</style>\n",
       "<table border=\"1\" class=\"dataframe\">\n",
       "  <thead>\n",
       "    <tr style=\"text-align: right;\">\n",
       "      <th></th>\n",
       "      <th>gender</th>\n",
       "      <th>age</th>\n",
       "      <th>customer_id</th>\n",
       "      <th>income</th>\n",
       "      <th>registered_year</th>\n",
       "      <th>registered_month</th>\n",
       "      <th>registered_day</th>\n",
       "      <th>registered_weekday</th>\n",
       "      <th>registered_week</th>\n",
       "    </tr>\n",
       "  </thead>\n",
       "  <tbody>\n",
       "    <tr>\n",
       "      <th>0</th>\n",
       "      <td>None</td>\n",
       "      <td>118</td>\n",
       "      <td>68be06ca386d4c31939f3a4f0e3dd783</td>\n",
       "      <td>NaN</td>\n",
       "      <td>2017</td>\n",
       "      <td>2</td>\n",
       "      <td>12</td>\n",
       "      <td>6</td>\n",
       "      <td>6</td>\n",
       "    </tr>\n",
       "    <tr>\n",
       "      <th>1</th>\n",
       "      <td>F</td>\n",
       "      <td>55</td>\n",
       "      <td>0610b486422d4921ae7d2bf64640c50b</td>\n",
       "      <td>112000.0</td>\n",
       "      <td>2017</td>\n",
       "      <td>7</td>\n",
       "      <td>15</td>\n",
       "      <td>5</td>\n",
       "      <td>28</td>\n",
       "    </tr>\n",
       "    <tr>\n",
       "      <th>2</th>\n",
       "      <td>None</td>\n",
       "      <td>118</td>\n",
       "      <td>38fe809add3b4fcf9315a9694bb96ff5</td>\n",
       "      <td>NaN</td>\n",
       "      <td>2018</td>\n",
       "      <td>7</td>\n",
       "      <td>12</td>\n",
       "      <td>3</td>\n",
       "      <td>28</td>\n",
       "    </tr>\n",
       "    <tr>\n",
       "      <th>3</th>\n",
       "      <td>F</td>\n",
       "      <td>75</td>\n",
       "      <td>78afa995795e4d85b5d9ceeca43f5fef</td>\n",
       "      <td>100000.0</td>\n",
       "      <td>2017</td>\n",
       "      <td>5</td>\n",
       "      <td>9</td>\n",
       "      <td>1</td>\n",
       "      <td>19</td>\n",
       "    </tr>\n",
       "    <tr>\n",
       "      <th>4</th>\n",
       "      <td>None</td>\n",
       "      <td>118</td>\n",
       "      <td>a03223e636434f42ac4c3df47e8bac43</td>\n",
       "      <td>NaN</td>\n",
       "      <td>2017</td>\n",
       "      <td>8</td>\n",
       "      <td>4</td>\n",
       "      <td>4</td>\n",
       "      <td>31</td>\n",
       "    </tr>\n",
       "  </tbody>\n",
       "</table>\n",
       "</div>"
      ],
      "text/plain": [
       "  gender  age                       customer_id    income  registered_year  \\\n",
       "0   None  118  68be06ca386d4c31939f3a4f0e3dd783       NaN             2017   \n",
       "1      F   55  0610b486422d4921ae7d2bf64640c50b  112000.0             2017   \n",
       "2   None  118  38fe809add3b4fcf9315a9694bb96ff5       NaN             2018   \n",
       "3      F   75  78afa995795e4d85b5d9ceeca43f5fef  100000.0             2017   \n",
       "4   None  118  a03223e636434f42ac4c3df47e8bac43       NaN             2017   \n",
       "\n",
       "   registered_month  registered_day  registered_weekday  registered_week  \n",
       "0                 2              12                   6                6  \n",
       "1                 7              15                   5               28  \n",
       "2                 7              12                   3               28  \n",
       "3                 5               9                   1               19  \n",
       "4                 8               4                   4               31  "
      ]
     },
     "execution_count": 17,
     "metadata": {},
     "output_type": "execute_result"
    }
   ],
   "source": [
    "profile.head()"
   ]
  },
  {
   "cell_type": "markdown",
   "metadata": {
    "hidden": true,
    "id": "VzXPdEwuTq54"
   },
   "source": [
    "### Check the `age` column"
   ]
  },
  {
   "cell_type": "code",
   "execution_count": null,
   "metadata": {
    "hidden": true,
    "id": "_B50EhsQ7vC4",
    "outputId": "77428ae7-d9b7-4ea9-eeb1-a31f4af2d78c",
    "scrolled": true
   },
   "outputs": [
    {
     "data": {
      "text/plain": [
       "array([118,  55,  75,  68,  65,  58,  61,  26,  62,  49,  57,  40,  64,\n",
       "        78,  42,  56,  33,  46,  59,  67,  53,  22,  96,  69,  20,  45,\n",
       "        54,  39,  41,  79,  66,  29,  44,  63,  36,  76,  77,  30,  51,\n",
       "        27,  73,  74,  70,  89,  50,  90,  60,  19,  72,  52,  18,  71,\n",
       "        83,  43,  47,  32,  38,  34,  85,  48,  35,  82,  21,  24,  81,\n",
       "        25,  37,  23, 100,  28,  84,  80,  87,  86,  94,  31,  88,  95,\n",
       "        93,  91,  92,  98, 101,  97,  99], dtype=int64)"
      ]
     },
     "execution_count": 18,
     "metadata": {},
     "output_type": "execute_result"
    }
   ],
   "source": [
    "profile.age.unique()"
   ]
  },
  {
   "cell_type": "code",
   "execution_count": null,
   "metadata": {
    "hidden": true,
    "id": "JGhmBwoF7vC4",
    "outputId": "7655bf54-f8d2-4ce6-ba79-f432898aa68c"
   },
   "outputs": [
    {
     "data": {
      "image/png": "[encoded data removed]",
      "text/plain": [
       "<Figure size 432x288 with 1 Axes>"
      ]
     },
     "metadata": {
      "needs_background": "light"
     },
     "output_type": "display_data"
    }
   ],
   "source": [
    "profile.age.plot(kind='hist', bins=20)\n",
    "plt.grid()"
   ]
  },
  {
   "cell_type": "markdown",
   "metadata": {
    "hidden": true,
    "id": "fTM_Y3eTTq55"
   },
   "source": [
    "There's a huge outliers for the age approaching 120."
   ]
  },
  {
   "cell_type": "code",
   "execution_count": null,
   "metadata": {
    "hidden": true,
    "id": "9nR0Lu4u7vC4",
    "outputId": "0d9622ca-362c-4ad2-8395-b12a90a41092",
    "scrolled": false
   },
   "outputs": [
    {
     "data": {
      "text/plain": [
       "118    2175\n",
       "101       5\n",
       "Name: age, dtype: int64"
      ]
     },
     "execution_count": 60,
     "metadata": {},
     "output_type": "execute_result"
    }
   ],
   "source": [
    "# check the vounts for age greater than 100\n",
    "profile[profile.age > 100].age.value_counts()"
   ]
  },
  {
   "cell_type": "markdown",
   "metadata": {
    "hidden": true,
    "id": "--Q6nZq2Tq55"
   },
   "source": [
    "There's something fishy here. The number of agaes equal to 118 is 2175. Earlier, we found that the number of `NaNs` for each `gender` and `income` column is also 2175. Maybe, they have relationship each other. Let's check it."
   ]
  },
  {
   "cell_type": "code",
   "execution_count": null,
   "metadata": {
    "hidden": true,
    "id": "_0zLOWqe7vC5",
    "outputId": "05707491-8107-4730-96fc-1b2b247752b2"
   },
   "outputs": [
    {
     "name": "stdout",
     "output_type": "stream",
     "text": [
      "Number of NaN-118-age rows not occuring simultenously:\n"
     ]
    },
    {
     "data": {
      "text/plain": [
       "0"
      ]
     },
     "execution_count": 73,
     "metadata": {},
     "output_type": "execute_result"
    }
   ],
   "source": [
    "# check if each two-nan in 'gender' & 'income' cols occurs indicate \"118\" in 'age' col\n",
    "print(\"Number of NaN-118-age rows not occuring simultenously:\")\n",
    "profile.shape[0] - (profile.gender.isnull() == (profile.age > 101)).sum()"
   ]
  },
  {
   "cell_type": "code",
   "execution_count": null,
   "metadata": {
    "hidden": true,
    "id": "UQ2AbxT67vC5",
    "outputId": "e2f0ac7a-b310-4df3-88ea-9419b53324bd",
    "scrolled": true
   },
   "outputs": [
    {
     "data": {
      "text/html": [
       "<div>\n",
       "<style scoped>\n",
       "    .dataframe tbody tr th:only-of-type {\n",
       "        vertical-align: middle;\n",
       "    }\n",
       "\n",
       "    .dataframe tbody tr th {\n",
       "        vertical-align: top;\n",
       "    }\n",
       "\n",
       "    .dataframe thead th {\n",
       "        text-align: right;\n",
       "    }\n",
       "</style>\n",
       "<table border=\"1\" class=\"dataframe\">\n",
       "  <thead>\n",
       "    <tr style=\"text-align: right;\">\n",
       "      <th></th>\n",
       "      <th>gender</th>\n",
       "      <th>age</th>\n",
       "      <th>customer_id</th>\n",
       "      <th>became_member_on</th>\n",
       "      <th>income</th>\n",
       "    </tr>\n",
       "  </thead>\n",
       "  <tbody>\n",
       "    <tr>\n",
       "      <th>0</th>\n",
       "      <td>None</td>\n",
       "      <td>118</td>\n",
       "      <td>68be06ca386d4c31939f3a4f0e3dd783</td>\n",
       "      <td>2017-02-12</td>\n",
       "      <td>NaN</td>\n",
       "    </tr>\n",
       "    <tr>\n",
       "      <th>2</th>\n",
       "      <td>None</td>\n",
       "      <td>118</td>\n",
       "      <td>38fe809add3b4fcf9315a9694bb96ff5</td>\n",
       "      <td>2018-07-12</td>\n",
       "      <td>NaN</td>\n",
       "    </tr>\n",
       "    <tr>\n",
       "      <th>4</th>\n",
       "      <td>None</td>\n",
       "      <td>118</td>\n",
       "      <td>a03223e636434f42ac4c3df47e8bac43</td>\n",
       "      <td>2017-08-04</td>\n",
       "      <td>NaN</td>\n",
       "    </tr>\n",
       "    <tr>\n",
       "      <th>6</th>\n",
       "      <td>None</td>\n",
       "      <td>118</td>\n",
       "      <td>8ec6ce2a7e7949b1bf142def7d0e0586</td>\n",
       "      <td>2017-09-25</td>\n",
       "      <td>NaN</td>\n",
       "    </tr>\n",
       "    <tr>\n",
       "      <th>7</th>\n",
       "      <td>None</td>\n",
       "      <td>118</td>\n",
       "      <td>68617ca6246f4fbc85e91a2a49552598</td>\n",
       "      <td>2017-10-02</td>\n",
       "      <td>NaN</td>\n",
       "    </tr>\n",
       "    <tr>\n",
       "      <th>...</th>\n",
       "      <td>...</td>\n",
       "      <td>...</td>\n",
       "      <td>...</td>\n",
       "      <td>...</td>\n",
       "      <td>...</td>\n",
       "    </tr>\n",
       "    <tr>\n",
       "      <th>16980</th>\n",
       "      <td>None</td>\n",
       "      <td>118</td>\n",
       "      <td>5c686d09ca4d475a8f750f2ba07e0440</td>\n",
       "      <td>2016-09-01</td>\n",
       "      <td>NaN</td>\n",
       "    </tr>\n",
       "    <tr>\n",
       "      <th>16982</th>\n",
       "      <td>None</td>\n",
       "      <td>118</td>\n",
       "      <td>d9ca82f550ac4ee58b6299cf1e5c824a</td>\n",
       "      <td>2016-04-15</td>\n",
       "      <td>NaN</td>\n",
       "    </tr>\n",
       "    <tr>\n",
       "      <th>16989</th>\n",
       "      <td>None</td>\n",
       "      <td>118</td>\n",
       "      <td>ca45ee1883624304bac1e4c8a114f045</td>\n",
       "      <td>2018-03-05</td>\n",
       "      <td>NaN</td>\n",
       "    </tr>\n",
       "    <tr>\n",
       "      <th>16991</th>\n",
       "      <td>None</td>\n",
       "      <td>118</td>\n",
       "      <td>a9a20fa8b5504360beb4e7c8712f8306</td>\n",
       "      <td>2016-01-16</td>\n",
       "      <td>NaN</td>\n",
       "    </tr>\n",
       "    <tr>\n",
       "      <th>16994</th>\n",
       "      <td>None</td>\n",
       "      <td>118</td>\n",
       "      <td>c02b10e8752c4d8e9b73f918558531f7</td>\n",
       "      <td>2015-12-11</td>\n",
       "      <td>NaN</td>\n",
       "    </tr>\n",
       "  </tbody>\n",
       "</table>\n",
       "<p>2175 rows × 5 columns</p>\n",
       "</div>"
      ],
      "text/plain": [
       "      gender  age                       customer_id became_member_on  income\n",
       "0       None  118  68be06ca386d4c31939f3a4f0e3dd783       2017-02-12     NaN\n",
       "2       None  118  38fe809add3b4fcf9315a9694bb96ff5       2018-07-12     NaN\n",
       "4       None  118  a03223e636434f42ac4c3df47e8bac43       2017-08-04     NaN\n",
       "6       None  118  8ec6ce2a7e7949b1bf142def7d0e0586       2017-09-25     NaN\n",
       "7       None  118  68617ca6246f4fbc85e91a2a49552598       2017-10-02     NaN\n",
       "...      ...  ...                               ...              ...     ...\n",
       "16980   None  118  5c686d09ca4d475a8f750f2ba07e0440       2016-09-01     NaN\n",
       "16982   None  118  d9ca82f550ac4ee58b6299cf1e5c824a       2016-04-15     NaN\n",
       "16989   None  118  ca45ee1883624304bac1e4c8a114f045       2018-03-05     NaN\n",
       "16991   None  118  a9a20fa8b5504360beb4e7c8712f8306       2016-01-16     NaN\n",
       "16994   None  118  c02b10e8752c4d8e9b73f918558531f7       2015-12-11     NaN\n",
       "\n",
       "[2175 rows x 5 columns]"
      ]
     },
     "execution_count": 110,
     "metadata": {},
     "output_type": "execute_result"
    }
   ],
   "source": [
    "profile[profile.gender.isnull()]"
   ]
  },
  {
   "cell_type": "markdown",
   "metadata": {
    "hidden": true,
    "id": "XrJBNP217vC5"
   },
   "source": [
    "Every time a value in `gender` col is `None`, the corresponding values in both `age` and `income` cols must be `118` and `NaN` respectively. This pattern might not be a coincidence. This might indicate to those users who registered to the Starbucks app without providing gender, age, and income info. In other words, those values are default values for users with unavailable data.\n",
    "\n",
    "Therefore, we should get rid of those `NaNs`."
   ]
  },
  {
   "cell_type": "code",
   "execution_count": null,
   "metadata": {
    "hidden": true,
    "id": "VxC0mK4W7vC6",
    "outputId": "c55087c6-6f22-449b-995e-3eaea3ba82a2",
    "scrolled": true
   },
   "outputs": [
    {
     "data": {
      "text/html": [
       "<div>\n",
       "<style scoped>\n",
       "    .dataframe tbody tr th:only-of-type {\n",
       "        vertical-align: middle;\n",
       "    }\n",
       "\n",
       "    .dataframe tbody tr th {\n",
       "        vertical-align: top;\n",
       "    }\n",
       "\n",
       "    .dataframe thead th {\n",
       "        text-align: right;\n",
       "    }\n",
       "</style>\n",
       "<table border=\"1\" class=\"dataframe\">\n",
       "  <thead>\n",
       "    <tr style=\"text-align: right;\">\n",
       "      <th></th>\n",
       "      <th>gender</th>\n",
       "      <th>age</th>\n",
       "      <th>id</th>\n",
       "      <th>became_member_on</th>\n",
       "      <th>income</th>\n",
       "    </tr>\n",
       "  </thead>\n",
       "  <tbody>\n",
       "    <tr>\n",
       "      <th>count</th>\n",
       "      <td>14825</td>\n",
       "      <td>17000.000000</td>\n",
       "      <td>17000</td>\n",
       "      <td>17000</td>\n",
       "      <td>14825.000000</td>\n",
       "    </tr>\n",
       "    <tr>\n",
       "      <th>unique</th>\n",
       "      <td>3</td>\n",
       "      <td>NaN</td>\n",
       "      <td>17000</td>\n",
       "      <td>1716</td>\n",
       "      <td>NaN</td>\n",
       "    </tr>\n",
       "    <tr>\n",
       "      <th>top</th>\n",
       "      <td>M</td>\n",
       "      <td>NaN</td>\n",
       "      <td>6a8bb00f18204adb8a7c73d60f503853</td>\n",
       "      <td>2017-12-07 00:00:00</td>\n",
       "      <td>NaN</td>\n",
       "    </tr>\n",
       "    <tr>\n",
       "      <th>freq</th>\n",
       "      <td>8484</td>\n",
       "      <td>NaN</td>\n",
       "      <td>1</td>\n",
       "      <td>43</td>\n",
       "      <td>NaN</td>\n",
       "    </tr>\n",
       "    <tr>\n",
       "      <th>first</th>\n",
       "      <td>NaN</td>\n",
       "      <td>NaN</td>\n",
       "      <td>NaN</td>\n",
       "      <td>2013-07-29 00:00:00</td>\n",
       "      <td>NaN</td>\n",
       "    </tr>\n",
       "    <tr>\n",
       "      <th>last</th>\n",
       "      <td>NaN</td>\n",
       "      <td>NaN</td>\n",
       "      <td>NaN</td>\n",
       "      <td>2018-07-26 00:00:00</td>\n",
       "      <td>NaN</td>\n",
       "    </tr>\n",
       "    <tr>\n",
       "      <th>mean</th>\n",
       "      <td>NaN</td>\n",
       "      <td>62.531412</td>\n",
       "      <td>NaN</td>\n",
       "      <td>NaN</td>\n",
       "      <td>65404.991568</td>\n",
       "    </tr>\n",
       "    <tr>\n",
       "      <th>std</th>\n",
       "      <td>NaN</td>\n",
       "      <td>26.738580</td>\n",
       "      <td>NaN</td>\n",
       "      <td>NaN</td>\n",
       "      <td>21598.299410</td>\n",
       "    </tr>\n",
       "    <tr>\n",
       "      <th>min</th>\n",
       "      <td>NaN</td>\n",
       "      <td>18.000000</td>\n",
       "      <td>NaN</td>\n",
       "      <td>NaN</td>\n",
       "      <td>30000.000000</td>\n",
       "    </tr>\n",
       "    <tr>\n",
       "      <th>25%</th>\n",
       "      <td>NaN</td>\n",
       "      <td>45.000000</td>\n",
       "      <td>NaN</td>\n",
       "      <td>NaN</td>\n",
       "      <td>49000.000000</td>\n",
       "    </tr>\n",
       "    <tr>\n",
       "      <th>50%</th>\n",
       "      <td>NaN</td>\n",
       "      <td>58.000000</td>\n",
       "      <td>NaN</td>\n",
       "      <td>NaN</td>\n",
       "      <td>64000.000000</td>\n",
       "    </tr>\n",
       "    <tr>\n",
       "      <th>75%</th>\n",
       "      <td>NaN</td>\n",
       "      <td>73.000000</td>\n",
       "      <td>NaN</td>\n",
       "      <td>NaN</td>\n",
       "      <td>80000.000000</td>\n",
       "    </tr>\n",
       "    <tr>\n",
       "      <th>max</th>\n",
       "      <td>NaN</td>\n",
       "      <td>118.000000</td>\n",
       "      <td>NaN</td>\n",
       "      <td>NaN</td>\n",
       "      <td>120000.000000</td>\n",
       "    </tr>\n",
       "  </tbody>\n",
       "</table>\n",
       "</div>"
      ],
      "text/plain": [
       "       gender           age                                id  \\\n",
       "count   14825  17000.000000                             17000   \n",
       "unique      3           NaN                             17000   \n",
       "top         M           NaN  6a8bb00f18204adb8a7c73d60f503853   \n",
       "freq     8484           NaN                                 1   \n",
       "first     NaN           NaN                               NaN   \n",
       "last      NaN           NaN                               NaN   \n",
       "mean      NaN     62.531412                               NaN   \n",
       "std       NaN     26.738580                               NaN   \n",
       "min       NaN     18.000000                               NaN   \n",
       "25%       NaN     45.000000                               NaN   \n",
       "50%       NaN     58.000000                               NaN   \n",
       "75%       NaN     73.000000                               NaN   \n",
       "max       NaN    118.000000                               NaN   \n",
       "\n",
       "           became_member_on         income  \n",
       "count                 17000   14825.000000  \n",
       "unique                 1716            NaN  \n",
       "top     2017-12-07 00:00:00            NaN  \n",
       "freq                     43            NaN  \n",
       "first   2013-07-29 00:00:00            NaN  \n",
       "last    2018-07-26 00:00:00            NaN  \n",
       "mean                    NaN   65404.991568  \n",
       "std                     NaN   21598.299410  \n",
       "min                     NaN   30000.000000  \n",
       "25%                     NaN   49000.000000  \n",
       "50%                     NaN   64000.000000  \n",
       "75%                     NaN   80000.000000  \n",
       "max                     NaN  120000.000000  "
      ]
     },
     "execution_count": 59,
     "metadata": {},
     "output_type": "execute_result"
    }
   ],
   "source": [
    "# check the descriptve statistics\n",
    "profile.describe(include='all')"
   ]
  },
  {
   "cell_type": "markdown",
   "metadata": {
    "hidden": true,
    "id": "U2PHxeqb7vC6"
   },
   "source": [
    "## Explore `transcript` dataset"
   ]
  },
  {
   "cell_type": "code",
   "execution_count": null,
   "metadata": {
    "hidden": true,
    "id": "AnEK2iA97vC6",
    "outputId": "0e2bf8ee-1c0d-4f47-bc93-a82853b460bc",
    "scrolled": true
   },
   "outputs": [
    {
     "name": "stdout",
     "output_type": "stream",
     "text": [
      "<class 'pandas.core.frame.DataFrame'>\n",
      "RangeIndex: 306534 entries, 0 to 306533\n",
      "Data columns (total 4 columns):\n",
      " #   Column  Non-Null Count   Dtype \n",
      "---  ------  --------------   ----- \n",
      " 0   person  306534 non-null  object\n",
      " 1   event   306534 non-null  object\n",
      " 2   value   306534 non-null  object\n",
      " 3   time    306534 non-null  int64 \n",
      "dtypes: int64(1), object(3)\n",
      "memory usage: 9.4+ MB\n"
     ]
    },
    {
     "data": {
      "text/html": [
       "<div>\n",
       "<style scoped>\n",
       "    .dataframe tbody tr th:only-of-type {\n",
       "        vertical-align: middle;\n",
       "    }\n",
       "\n",
       "    .dataframe tbody tr th {\n",
       "        vertical-align: top;\n",
       "    }\n",
       "\n",
       "    .dataframe thead th {\n",
       "        text-align: right;\n",
       "    }\n",
       "</style>\n",
       "<table border=\"1\" class=\"dataframe\">\n",
       "  <thead>\n",
       "    <tr style=\"text-align: right;\">\n",
       "      <th></th>\n",
       "      <th>person</th>\n",
       "      <th>event</th>\n",
       "      <th>value</th>\n",
       "      <th>time</th>\n",
       "    </tr>\n",
       "  </thead>\n",
       "  <tbody>\n",
       "    <tr>\n",
       "      <th>0</th>\n",
       "      <td>78afa995795e4d85b5d9ceeca43f5fef</td>\n",
       "      <td>offer received</td>\n",
       "      <td>{'offer id': '9b98b8c7a33c4b65b9aebfe6a799e6d9'}</td>\n",
       "      <td>0</td>\n",
       "    </tr>\n",
       "    <tr>\n",
       "      <th>1</th>\n",
       "      <td>a03223e636434f42ac4c3df47e8bac43</td>\n",
       "      <td>offer received</td>\n",
       "      <td>{'offer id': '0b1e1539f2cc45b7b9fa7c272da2e1d7'}</td>\n",
       "      <td>0</td>\n",
       "    </tr>\n",
       "    <tr>\n",
       "      <th>2</th>\n",
       "      <td>e2127556f4f64592b11af22de27a7932</td>\n",
       "      <td>offer received</td>\n",
       "      <td>{'offer id': '2906b810c7d4411798c6938adc9daaa5'}</td>\n",
       "      <td>0</td>\n",
       "    </tr>\n",
       "    <tr>\n",
       "      <th>3</th>\n",
       "      <td>8ec6ce2a7e7949b1bf142def7d0e0586</td>\n",
       "      <td>offer received</td>\n",
       "      <td>{'offer id': 'fafdcd668e3743c1bb461111dcafc2a4'}</td>\n",
       "      <td>0</td>\n",
       "    </tr>\n",
       "    <tr>\n",
       "      <th>4</th>\n",
       "      <td>68617ca6246f4fbc85e91a2a49552598</td>\n",
       "      <td>offer received</td>\n",
       "      <td>{'offer id': '4d5c57ea9a6940dd891ad53e9dbe8da0'}</td>\n",
       "      <td>0</td>\n",
       "    </tr>\n",
       "  </tbody>\n",
       "</table>\n",
       "</div>"
      ],
      "text/plain": [
       "                             person           event  \\\n",
       "0  78afa995795e4d85b5d9ceeca43f5fef  offer received   \n",
       "1  a03223e636434f42ac4c3df47e8bac43  offer received   \n",
       "2  e2127556f4f64592b11af22de27a7932  offer received   \n",
       "3  8ec6ce2a7e7949b1bf142def7d0e0586  offer received   \n",
       "4  68617ca6246f4fbc85e91a2a49552598  offer received   \n",
       "\n",
       "                                              value  time  \n",
       "0  {'offer id': '9b98b8c7a33c4b65b9aebfe6a799e6d9'}     0  \n",
       "1  {'offer id': '0b1e1539f2cc45b7b9fa7c272da2e1d7'}     0  \n",
       "2  {'offer id': '2906b810c7d4411798c6938adc9daaa5'}     0  \n",
       "3  {'offer id': 'fafdcd668e3743c1bb461111dcafc2a4'}     0  \n",
       "4  {'offer id': '4d5c57ea9a6940dd891ad53e9dbe8da0'}     0  "
      ]
     },
     "execution_count": 21,
     "metadata": {},
     "output_type": "execute_result"
    }
   ],
   "source": [
    "transcript.info()\n",
    "transcript.head()"
   ]
  },
  {
   "cell_type": "code",
   "execution_count": null,
   "metadata": {
    "hidden": true,
    "id": "QYUGFUuK7vC7",
    "outputId": "2be5e615-23d4-49be-d26e-166b3ca78fdf",
    "scrolled": true
   },
   "outputs": [
    {
     "data": {
      "text/plain": [
       "person    0\n",
       "event     0\n",
       "value     0\n",
       "time      0\n",
       "dtype: int64"
      ]
     },
     "execution_count": 22,
     "metadata": {},
     "output_type": "execute_result"
    }
   ],
   "source": [
    "transcript.isnull().sum()"
   ]
  },
  {
   "cell_type": "markdown",
   "metadata": {
    "hidden": true,
    "id": "aA4UdIvFTq59"
   },
   "source": [
    "The `transcript` dataset doesn't have any missing value. The `value` column has dict-like values. We will break it down little bit later. For the `person` column, to make it more consistent, we're going to rename it to `customer_id`."
   ]
  },
  {
   "cell_type": "code",
   "execution_count": null,
   "metadata": {
    "hidden": true,
    "id": "C7uxZ2a37vC6"
   },
   "outputs": [],
   "source": [
    "transcript.rename(columns={'person': 'customer_id'}, inplace=True)"
   ]
  },
  {
   "cell_type": "code",
   "execution_count": null,
   "metadata": {
    "hidden": true,
    "id": "vKyAS-DD7vC7",
    "outputId": "69bf04de-b0fc-4f96-83a4-679e67b39484",
    "scrolled": true
   },
   "outputs": [
    {
     "data": {
      "text/plain": [
       "{'offer id': '2298d6c36e964ae4a3e7e9706d1fb8c2'}    14983\n",
       "{'offer id': 'fafdcd668e3743c1bb461111dcafc2a4'}    14924\n",
       "{'offer id': '4d5c57ea9a6940dd891ad53e9dbe8da0'}    14891\n",
       "{'offer id': 'f19421c1d4aa40978ebb69ca19b0e20d'}    14835\n",
       "{'offer id': 'ae264e3637204a6fb9bb56bc8210ddfd'}    14374\n",
       "                                                    ...  \n",
       "{'amount': 439.14}                                      1\n",
       "{'amount': 42.75}                                       1\n",
       "{'amount': 650.75}                                      1\n",
       "{'amount': 943.4}                                       1\n",
       "{'amount': 44.21}                                       1\n",
       "Name: value, Length: 5121, dtype: int64"
      ]
     },
     "execution_count": 127,
     "metadata": {},
     "output_type": "execute_result"
    }
   ],
   "source": [
    "# check 'value' col\n",
    "transcript.value.value_counts()"
   ]
  },
  {
   "cell_type": "code",
   "execution_count": null,
   "metadata": {
    "hidden": true,
    "id": "ubUHy9a67vC7",
    "outputId": "70707fde-3791-4b97-a061-d1305567a50a"
   },
   "outputs": [
    {
     "data": {
      "text/plain": [
       "array(['offer id', 'amount', 'offer_id, reward'], dtype=object)"
      ]
     },
     "execution_count": 63,
     "metadata": {},
     "output_type": "execute_result"
    }
   ],
   "source": [
    "# check unique keys in 'value' col\n",
    "tmp_value = transcript.value.apply(lambda row: list(row.keys())) \\\n",
    "            .apply(lambda row: row[0] if len(row) == 1 else ', '.join(row))\n",
    "tmp_value.unique()"
   ]
  },
  {
   "cell_type": "markdown",
   "metadata": {
    "hidden": true,
    "id": "9QZfZZn1Tq5_"
   },
   "source": [
    "There are 4 unique keys in the `value` column. But that should be just three keys as the `offer id` and `offer_id` must refer to the same thing."
   ]
  },
  {
   "cell_type": "code",
   "execution_count": null,
   "metadata": {
    "hidden": true,
    "id": "T5bW55M97vC7"
   },
   "outputs": [],
   "source": [
    "def split_value_col(dict_row):\n",
    "    \"\"\"used to split the 'value' col\"\"\"\n",
    "\n",
    "    # get the dict and replace the ' ' in the 'offer id'\n",
    "    dict_row = {k.replace(' ', '_'): v for k, v in dict_row.items()}\n",
    "\n",
    "    available_keys = ['offer_id', 'amount', 'reward'] # set the keys we want\n",
    "\n",
    "    # loop through each key to check what key available\n",
    "    output = []\n",
    "    for key in available_keys:\n",
    "        if key in dict_row.keys():\n",
    "            output.append(dict_row[key])\n",
    "        else:\n",
    "            output.append(np.nan)\n",
    "\n",
    "    return pd.Series(output)"
   ]
  },
  {
   "cell_type": "code",
   "execution_count": null,
   "metadata": {
    "hidden": true,
    "id": "qmHKobC07vC7",
    "scrolled": true
   },
   "outputs": [],
   "source": [
    "# split the 'value' col\n",
    "tmp_value = transcript.value.apply(split_value_col) \\\n",
    "            .rename(columns={0: 'offer_id',\n",
    "                             1: 'amount',\n",
    "                             2: 'reward'})\n",
    "\n",
    "# and concat it\n",
    "transcript = pd.concat([transcript, tmp_value], axis=1) \\\n",
    "                .drop(columns='value')"
   ]
  },
  {
   "cell_type": "code",
   "execution_count": null,
   "metadata": {
    "hidden": true,
    "id": "ZHBd5KUH7vC7",
    "outputId": "6f40556e-62dc-4756-cb19-3b170d676d49",
    "scrolled": true
   },
   "outputs": [
    {
     "data": {
      "text/html": [
       "<div>\n",
       "<style scoped>\n",
       "    .dataframe tbody tr th:only-of-type {\n",
       "        vertical-align: middle;\n",
       "    }\n",
       "\n",
       "    .dataframe tbody tr th {\n",
       "        vertical-align: top;\n",
       "    }\n",
       "\n",
       "    .dataframe thead th {\n",
       "        text-align: right;\n",
       "    }\n",
       "</style>\n",
       "<table border=\"1\" class=\"dataframe\">\n",
       "  <thead>\n",
       "    <tr style=\"text-align: right;\">\n",
       "      <th></th>\n",
       "      <th>customer_id</th>\n",
       "      <th>event</th>\n",
       "      <th>time</th>\n",
       "      <th>offer_id</th>\n",
       "      <th>amount</th>\n",
       "      <th>reward</th>\n",
       "    </tr>\n",
       "  </thead>\n",
       "  <tbody>\n",
       "    <tr>\n",
       "      <th>0</th>\n",
       "      <td>78afa995795e4d85b5d9ceeca43f5fef</td>\n",
       "      <td>offer received</td>\n",
       "      <td>0</td>\n",
       "      <td>9b98b8c7a33c4b65b9aebfe6a799e6d9</td>\n",
       "      <td>NaN</td>\n",
       "      <td>NaN</td>\n",
       "    </tr>\n",
       "    <tr>\n",
       "      <th>1</th>\n",
       "      <td>a03223e636434f42ac4c3df47e8bac43</td>\n",
       "      <td>offer received</td>\n",
       "      <td>0</td>\n",
       "      <td>0b1e1539f2cc45b7b9fa7c272da2e1d7</td>\n",
       "      <td>NaN</td>\n",
       "      <td>NaN</td>\n",
       "    </tr>\n",
       "    <tr>\n",
       "      <th>2</th>\n",
       "      <td>e2127556f4f64592b11af22de27a7932</td>\n",
       "      <td>offer received</td>\n",
       "      <td>0</td>\n",
       "      <td>2906b810c7d4411798c6938adc9daaa5</td>\n",
       "      <td>NaN</td>\n",
       "      <td>NaN</td>\n",
       "    </tr>\n",
       "    <tr>\n",
       "      <th>3</th>\n",
       "      <td>8ec6ce2a7e7949b1bf142def7d0e0586</td>\n",
       "      <td>offer received</td>\n",
       "      <td>0</td>\n",
       "      <td>fafdcd668e3743c1bb461111dcafc2a4</td>\n",
       "      <td>NaN</td>\n",
       "      <td>NaN</td>\n",
       "    </tr>\n",
       "    <tr>\n",
       "      <th>4</th>\n",
       "      <td>68617ca6246f4fbc85e91a2a49552598</td>\n",
       "      <td>offer received</td>\n",
       "      <td>0</td>\n",
       "      <td>4d5c57ea9a6940dd891ad53e9dbe8da0</td>\n",
       "      <td>NaN</td>\n",
       "      <td>NaN</td>\n",
       "    </tr>\n",
       "  </tbody>\n",
       "</table>\n",
       "</div>"
      ],
      "text/plain": [
       "                        customer_id           event  time  \\\n",
       "0  78afa995795e4d85b5d9ceeca43f5fef  offer received     0   \n",
       "1  a03223e636434f42ac4c3df47e8bac43  offer received     0   \n",
       "2  e2127556f4f64592b11af22de27a7932  offer received     0   \n",
       "3  8ec6ce2a7e7949b1bf142def7d0e0586  offer received     0   \n",
       "4  68617ca6246f4fbc85e91a2a49552598  offer received     0   \n",
       "\n",
       "                           offer_id  amount  reward  \n",
       "0  9b98b8c7a33c4b65b9aebfe6a799e6d9     NaN     NaN  \n",
       "1  0b1e1539f2cc45b7b9fa7c272da2e1d7     NaN     NaN  \n",
       "2  2906b810c7d4411798c6938adc9daaa5     NaN     NaN  \n",
       "3  fafdcd668e3743c1bb461111dcafc2a4     NaN     NaN  \n",
       "4  4d5c57ea9a6940dd891ad53e9dbe8da0     NaN     NaN  "
      ]
     },
     "execution_count": 26,
     "metadata": {},
     "output_type": "execute_result"
    }
   ],
   "source": [
    "transcript.head()"
   ]
  },
  {
   "cell_type": "code",
   "execution_count": null,
   "metadata": {
    "hidden": true,
    "id": "3ajsafTz7vC8",
    "outputId": "3f9b7eda-a72c-4848-de04-517e32a129bd"
   },
   "outputs": [
    {
     "name": "stdout",
     "output_type": "stream",
     "text": [
      "['9b98b8c7a33c4b65b9aebfe6a799e6d9' '0b1e1539f2cc45b7b9fa7c272da2e1d7'\n",
      " '2906b810c7d4411798c6938adc9daaa5' 'fafdcd668e3743c1bb461111dcafc2a4'\n",
      " '4d5c57ea9a6940dd891ad53e9dbe8da0' 'f19421c1d4aa40978ebb69ca19b0e20d'\n",
      " '2298d6c36e964ae4a3e7e9706d1fb8c2' '3f207df678b143eea3cee63160fa8bed'\n",
      " 'ae264e3637204a6fb9bb56bc8210ddfd' '5a8bc65990b245e5a138643cd4eb9837' nan]\n",
      "10\n"
     ]
    }
   ],
   "source": [
    "# check the unique counts for 'offer_id'\n",
    "print(transcript.offer_id.unique())\n",
    "print(transcript.offer_id.nunique())"
   ]
  },
  {
   "cell_type": "markdown",
   "metadata": {
    "hidden": true,
    "id": "HQ2BEoi5Tq6C"
   },
   "source": [
    "There are 10 unique `offer_id` while there exist `NaNs`."
   ]
  },
  {
   "cell_type": "code",
   "execution_count": null,
   "metadata": {
    "hidden": true,
    "id": "nzTXVA9r7vC9",
    "outputId": "ec0555c3-e6ab-4e22-8cd5-952fe42719fb",
    "scrolled": false
   },
   "outputs": [
    {
     "data": {
      "text/html": [
       "<div>\n",
       "<style scoped>\n",
       "    .dataframe tbody tr th:only-of-type {\n",
       "        vertical-align: middle;\n",
       "    }\n",
       "\n",
       "    .dataframe tbody tr th {\n",
       "        vertical-align: top;\n",
       "    }\n",
       "\n",
       "    .dataframe thead th {\n",
       "        text-align: right;\n",
       "    }\n",
       "</style>\n",
       "<table border=\"1\" class=\"dataframe\">\n",
       "  <thead>\n",
       "    <tr style=\"text-align: right;\">\n",
       "      <th></th>\n",
       "      <th>customer_id</th>\n",
       "      <th>event</th>\n",
       "      <th>time</th>\n",
       "      <th>offer_id</th>\n",
       "      <th>amount</th>\n",
       "      <th>reward</th>\n",
       "    </tr>\n",
       "  </thead>\n",
       "  <tbody>\n",
       "    <tr>\n",
       "      <th>12654</th>\n",
       "      <td>02c083884c7d45b39cc68e1314fec56c</td>\n",
       "      <td>transaction</td>\n",
       "      <td>0</td>\n",
       "      <td>NaN</td>\n",
       "      <td>0.83</td>\n",
       "      <td>NaN</td>\n",
       "    </tr>\n",
       "    <tr>\n",
       "      <th>12657</th>\n",
       "      <td>9fa9ae8f57894cc9a3b8a9bbe0fc1b2f</td>\n",
       "      <td>transaction</td>\n",
       "      <td>0</td>\n",
       "      <td>NaN</td>\n",
       "      <td>34.56</td>\n",
       "      <td>NaN</td>\n",
       "    </tr>\n",
       "    <tr>\n",
       "      <th>12659</th>\n",
       "      <td>54890f68699049c2a04d415abc25e717</td>\n",
       "      <td>transaction</td>\n",
       "      <td>0</td>\n",
       "      <td>NaN</td>\n",
       "      <td>13.23</td>\n",
       "      <td>NaN</td>\n",
       "    </tr>\n",
       "    <tr>\n",
       "      <th>12670</th>\n",
       "      <td>b2f1cd155b864803ad8334cdf13c4bd2</td>\n",
       "      <td>transaction</td>\n",
       "      <td>0</td>\n",
       "      <td>NaN</td>\n",
       "      <td>19.51</td>\n",
       "      <td>NaN</td>\n",
       "    </tr>\n",
       "    <tr>\n",
       "      <th>12671</th>\n",
       "      <td>fe97aa22dd3e48c8b143116a8403dd52</td>\n",
       "      <td>transaction</td>\n",
       "      <td>0</td>\n",
       "      <td>NaN</td>\n",
       "      <td>18.97</td>\n",
       "      <td>NaN</td>\n",
       "    </tr>\n",
       "    <tr>\n",
       "      <th>...</th>\n",
       "      <td>...</td>\n",
       "      <td>...</td>\n",
       "      <td>...</td>\n",
       "      <td>...</td>\n",
       "      <td>...</td>\n",
       "      <td>...</td>\n",
       "    </tr>\n",
       "    <tr>\n",
       "      <th>306529</th>\n",
       "      <td>b3a1272bc9904337b331bf348c3e8c17</td>\n",
       "      <td>transaction</td>\n",
       "      <td>714</td>\n",
       "      <td>NaN</td>\n",
       "      <td>1.59</td>\n",
       "      <td>NaN</td>\n",
       "    </tr>\n",
       "    <tr>\n",
       "      <th>306530</th>\n",
       "      <td>68213b08d99a4ae1b0dcb72aebd9aa35</td>\n",
       "      <td>transaction</td>\n",
       "      <td>714</td>\n",
       "      <td>NaN</td>\n",
       "      <td>9.53</td>\n",
       "      <td>NaN</td>\n",
       "    </tr>\n",
       "    <tr>\n",
       "      <th>306531</th>\n",
       "      <td>a00058cf10334a308c68e7631c529907</td>\n",
       "      <td>transaction</td>\n",
       "      <td>714</td>\n",
       "      <td>NaN</td>\n",
       "      <td>3.61</td>\n",
       "      <td>NaN</td>\n",
       "    </tr>\n",
       "    <tr>\n",
       "      <th>306532</th>\n",
       "      <td>76ddbd6576844afe811f1a3c0fbb5bec</td>\n",
       "      <td>transaction</td>\n",
       "      <td>714</td>\n",
       "      <td>NaN</td>\n",
       "      <td>3.53</td>\n",
       "      <td>NaN</td>\n",
       "    </tr>\n",
       "    <tr>\n",
       "      <th>306533</th>\n",
       "      <td>c02b10e8752c4d8e9b73f918558531f7</td>\n",
       "      <td>transaction</td>\n",
       "      <td>714</td>\n",
       "      <td>NaN</td>\n",
       "      <td>4.05</td>\n",
       "      <td>NaN</td>\n",
       "    </tr>\n",
       "  </tbody>\n",
       "</table>\n",
       "<p>138953 rows × 6 columns</p>\n",
       "</div>"
      ],
      "text/plain": [
       "                             customer_id        event  time offer_id  amount  \\\n",
       "12654   02c083884c7d45b39cc68e1314fec56c  transaction     0      NaN    0.83   \n",
       "12657   9fa9ae8f57894cc9a3b8a9bbe0fc1b2f  transaction     0      NaN   34.56   \n",
       "12659   54890f68699049c2a04d415abc25e717  transaction     0      NaN   13.23   \n",
       "12670   b2f1cd155b864803ad8334cdf13c4bd2  transaction     0      NaN   19.51   \n",
       "12671   fe97aa22dd3e48c8b143116a8403dd52  transaction     0      NaN   18.97   \n",
       "...                                  ...          ...   ...      ...     ...   \n",
       "306529  b3a1272bc9904337b331bf348c3e8c17  transaction   714      NaN    1.59   \n",
       "306530  68213b08d99a4ae1b0dcb72aebd9aa35  transaction   714      NaN    9.53   \n",
       "306531  a00058cf10334a308c68e7631c529907  transaction   714      NaN    3.61   \n",
       "306532  76ddbd6576844afe811f1a3c0fbb5bec  transaction   714      NaN    3.53   \n",
       "306533  c02b10e8752c4d8e9b73f918558531f7  transaction   714      NaN    4.05   \n",
       "\n",
       "        reward  \n",
       "12654      NaN  \n",
       "12657      NaN  \n",
       "12659      NaN  \n",
       "12670      NaN  \n",
       "12671      NaN  \n",
       "...        ...  \n",
       "306529     NaN  \n",
       "306530     NaN  \n",
       "306531     NaN  \n",
       "306532     NaN  \n",
       "306533     NaN  \n",
       "\n",
       "[138953 rows x 6 columns]"
      ]
     },
     "execution_count": 28,
     "metadata": {},
     "output_type": "execute_result"
    }
   ],
   "source": [
    "# check the data where 'offer_id' is null\n",
    "transcript[transcript.offer_id.isnull()]"
   ]
  },
  {
   "cell_type": "markdown",
   "metadata": {
    "hidden": true,
    "id": "KSpDv3jQ7vC9"
   },
   "source": [
    "The `offer_id` which is not listed in the `portfolio` dataset (i.e. indicating by `NaN`) only occurs at the `event` equal to `transaction` and the `amount` has a value. This is understandable since a transaction made by a customer does not mean an offer is provided."
   ]
  },
  {
   "cell_type": "code",
   "execution_count": null,
   "metadata": {
    "hidden": true,
    "id": "rw1NR9t27vC8",
    "outputId": "8c7e758e-702e-4788-95d2-76b2bced1acb",
    "scrolled": false
   },
   "outputs": [
    {
     "data": {
      "text/plain": [
       "array(['offer received', 'offer viewed', 'transaction', 'offer completed'],\n",
       "      dtype=object)"
      ]
     },
     "execution_count": 220,
     "metadata": {},
     "output_type": "execute_result"
    }
   ],
   "source": [
    "# check unique value of 'event' col\n",
    "transcript.event.unique()"
   ]
  },
  {
   "cell_type": "markdown",
   "metadata": {
    "hidden": true,
    "id": "VOGAzBQW7vC-"
   },
   "source": [
    "## Join all datasets"
   ]
  },
  {
   "cell_type": "markdown",
   "metadata": {
    "hidden": true,
    "id": "vvjjsb-JTq6D"
   },
   "source": [
    "Now, let's join all three datasets."
   ]
  },
  {
   "cell_type": "code",
   "execution_count": null,
   "metadata": {
    "hidden": true,
    "id": "vPm8LnOm7vC-",
    "outputId": "c099aac0-785d-4506-9130-2016fa8974a2",
    "scrolled": true
   },
   "outputs": [
    {
     "data": {
      "text/html": [
       "<div>\n",
       "<style scoped>\n",
       "    .dataframe tbody tr th:only-of-type {\n",
       "        vertical-align: middle;\n",
       "    }\n",
       "\n",
       "    .dataframe tbody tr th {\n",
       "        vertical-align: top;\n",
       "    }\n",
       "\n",
       "    .dataframe thead th {\n",
       "        text-align: right;\n",
       "    }\n",
       "</style>\n",
       "<table border=\"1\" class=\"dataframe\">\n",
       "  <thead>\n",
       "    <tr style=\"text-align: right;\">\n",
       "      <th></th>\n",
       "      <th>gender</th>\n",
       "      <th>age</th>\n",
       "      <th>customer_id</th>\n",
       "      <th>income</th>\n",
       "      <th>registered_year</th>\n",
       "      <th>registered_month</th>\n",
       "      <th>registered_day</th>\n",
       "      <th>registered_weekday</th>\n",
       "      <th>registered_week</th>\n",
       "    </tr>\n",
       "  </thead>\n",
       "  <tbody>\n",
       "    <tr>\n",
       "      <th>0</th>\n",
       "      <td>None</td>\n",
       "      <td>118</td>\n",
       "      <td>68be06ca386d4c31939f3a4f0e3dd783</td>\n",
       "      <td>NaN</td>\n",
       "      <td>2017</td>\n",
       "      <td>2</td>\n",
       "      <td>12</td>\n",
       "      <td>6</td>\n",
       "      <td>6</td>\n",
       "    </tr>\n",
       "    <tr>\n",
       "      <th>1</th>\n",
       "      <td>F</td>\n",
       "      <td>55</td>\n",
       "      <td>0610b486422d4921ae7d2bf64640c50b</td>\n",
       "      <td>112000.0</td>\n",
       "      <td>2017</td>\n",
       "      <td>7</td>\n",
       "      <td>15</td>\n",
       "      <td>5</td>\n",
       "      <td>28</td>\n",
       "    </tr>\n",
       "    <tr>\n",
       "      <th>2</th>\n",
       "      <td>None</td>\n",
       "      <td>118</td>\n",
       "      <td>38fe809add3b4fcf9315a9694bb96ff5</td>\n",
       "      <td>NaN</td>\n",
       "      <td>2018</td>\n",
       "      <td>7</td>\n",
       "      <td>12</td>\n",
       "      <td>3</td>\n",
       "      <td>28</td>\n",
       "    </tr>\n",
       "    <tr>\n",
       "      <th>3</th>\n",
       "      <td>F</td>\n",
       "      <td>75</td>\n",
       "      <td>78afa995795e4d85b5d9ceeca43f5fef</td>\n",
       "      <td>100000.0</td>\n",
       "      <td>2017</td>\n",
       "      <td>5</td>\n",
       "      <td>9</td>\n",
       "      <td>1</td>\n",
       "      <td>19</td>\n",
       "    </tr>\n",
       "    <tr>\n",
       "      <th>4</th>\n",
       "      <td>None</td>\n",
       "      <td>118</td>\n",
       "      <td>a03223e636434f42ac4c3df47e8bac43</td>\n",
       "      <td>NaN</td>\n",
       "      <td>2017</td>\n",
       "      <td>8</td>\n",
       "      <td>4</td>\n",
       "      <td>4</td>\n",
       "      <td>31</td>\n",
       "    </tr>\n",
       "  </tbody>\n",
       "</table>\n",
       "</div>"
      ],
      "text/plain": [
       "  gender  age                       customer_id    income  registered_year  \\\n",
       "0   None  118  68be06ca386d4c31939f3a4f0e3dd783       NaN             2017   \n",
       "1      F   55  0610b486422d4921ae7d2bf64640c50b  112000.0             2017   \n",
       "2   None  118  38fe809add3b4fcf9315a9694bb96ff5       NaN             2018   \n",
       "3      F   75  78afa995795e4d85b5d9ceeca43f5fef  100000.0             2017   \n",
       "4   None  118  a03223e636434f42ac4c3df47e8bac43       NaN             2017   \n",
       "\n",
       "   registered_month  registered_day  registered_weekday  registered_week  \n",
       "0                 2              12                   6                6  \n",
       "1                 7              15                   5               28  \n",
       "2                 7              12                   3               28  \n",
       "3                 5               9                   1               19  \n",
       "4                 8               4                   4               31  "
      ]
     },
     "metadata": {},
     "output_type": "display_data"
    },
    {
     "data": {
      "text/html": [
       "<div>\n",
       "<style scoped>\n",
       "    .dataframe tbody tr th:only-of-type {\n",
       "        vertical-align: middle;\n",
       "    }\n",
       "\n",
       "    .dataframe tbody tr th {\n",
       "        vertical-align: top;\n",
       "    }\n",
       "\n",
       "    .dataframe thead th {\n",
       "        text-align: right;\n",
       "    }\n",
       "</style>\n",
       "<table border=\"1\" class=\"dataframe\">\n",
       "  <thead>\n",
       "    <tr style=\"text-align: right;\">\n",
       "      <th></th>\n",
       "      <th>customer_id</th>\n",
       "      <th>event</th>\n",
       "      <th>time</th>\n",
       "      <th>offer_id</th>\n",
       "      <th>amount</th>\n",
       "      <th>reward</th>\n",
       "    </tr>\n",
       "  </thead>\n",
       "  <tbody>\n",
       "    <tr>\n",
       "      <th>0</th>\n",
       "      <td>78afa995795e4d85b5d9ceeca43f5fef</td>\n",
       "      <td>offer received</td>\n",
       "      <td>0</td>\n",
       "      <td>9b98b8c7a33c4b65b9aebfe6a799e6d9</td>\n",
       "      <td>NaN</td>\n",
       "      <td>NaN</td>\n",
       "    </tr>\n",
       "    <tr>\n",
       "      <th>1</th>\n",
       "      <td>a03223e636434f42ac4c3df47e8bac43</td>\n",
       "      <td>offer received</td>\n",
       "      <td>0</td>\n",
       "      <td>0b1e1539f2cc45b7b9fa7c272da2e1d7</td>\n",
       "      <td>NaN</td>\n",
       "      <td>NaN</td>\n",
       "    </tr>\n",
       "    <tr>\n",
       "      <th>2</th>\n",
       "      <td>e2127556f4f64592b11af22de27a7932</td>\n",
       "      <td>offer received</td>\n",
       "      <td>0</td>\n",
       "      <td>2906b810c7d4411798c6938adc9daaa5</td>\n",
       "      <td>NaN</td>\n",
       "      <td>NaN</td>\n",
       "    </tr>\n",
       "    <tr>\n",
       "      <th>3</th>\n",
       "      <td>8ec6ce2a7e7949b1bf142def7d0e0586</td>\n",
       "      <td>offer received</td>\n",
       "      <td>0</td>\n",
       "      <td>fafdcd668e3743c1bb461111dcafc2a4</td>\n",
       "      <td>NaN</td>\n",
       "      <td>NaN</td>\n",
       "    </tr>\n",
       "    <tr>\n",
       "      <th>4</th>\n",
       "      <td>68617ca6246f4fbc85e91a2a49552598</td>\n",
       "      <td>offer received</td>\n",
       "      <td>0</td>\n",
       "      <td>4d5c57ea9a6940dd891ad53e9dbe8da0</td>\n",
       "      <td>NaN</td>\n",
       "      <td>NaN</td>\n",
       "    </tr>\n",
       "  </tbody>\n",
       "</table>\n",
       "</div>"
      ],
      "text/plain": [
       "                        customer_id           event  time  \\\n",
       "0  78afa995795e4d85b5d9ceeca43f5fef  offer received     0   \n",
       "1  a03223e636434f42ac4c3df47e8bac43  offer received     0   \n",
       "2  e2127556f4f64592b11af22de27a7932  offer received     0   \n",
       "3  8ec6ce2a7e7949b1bf142def7d0e0586  offer received     0   \n",
       "4  68617ca6246f4fbc85e91a2a49552598  offer received     0   \n",
       "\n",
       "                           offer_id  amount  reward  \n",
       "0  9b98b8c7a33c4b65b9aebfe6a799e6d9     NaN     NaN  \n",
       "1  0b1e1539f2cc45b7b9fa7c272da2e1d7     NaN     NaN  \n",
       "2  2906b810c7d4411798c6938adc9daaa5     NaN     NaN  \n",
       "3  fafdcd668e3743c1bb461111dcafc2a4     NaN     NaN  \n",
       "4  4d5c57ea9a6940dd891ad53e9dbe8da0     NaN     NaN  "
      ]
     },
     "execution_count": 131,
     "metadata": {},
     "output_type": "execute_result"
    }
   ],
   "source": [
    "display(profile.head())\n",
    "transcript.head()"
   ]
  },
  {
   "cell_type": "code",
   "execution_count": null,
   "metadata": {
    "hidden": true,
    "id": "qqGw5QcQ7vC_",
    "outputId": "ade1b75b-a3e2-403b-ab73-7e715826aafa"
   },
   "outputs": [
    {
     "name": "stdout",
     "output_type": "stream",
     "text": [
      "(17000, 9)\n"
     ]
    },
    {
     "data": {
      "text/plain": [
       "(306534, 7)"
      ]
     },
     "execution_count": 101,
     "metadata": {},
     "output_type": "execute_result"
    }
   ],
   "source": [
    "print(profile.shape)\n",
    "transcript.shape"
   ]
  },
  {
   "cell_type": "markdown",
   "metadata": {
    "hidden": true,
    "id": "nH4KNKjuTq6E"
   },
   "source": [
    "First, let's join both `profile` and `transcript` datasets. The key used here is the `customer_id` column."
   ]
  },
  {
   "cell_type": "code",
   "execution_count": null,
   "metadata": {
    "hidden": true,
    "id": "RB-_4_nA7vC_",
    "outputId": "b26deda3-731c-44f9-acf8-0b817cb3176a"
   },
   "outputs": [
    {
     "data": {
      "text/plain": [
       "0"
      ]
     },
     "execution_count": 132,
     "metadata": {},
     "output_type": "execute_result"
    }
   ],
   "source": [
    "# check if customer_id in both profile & transcript has the same unique counts\n",
    "(profile.customer_id.value_counts().index.sort_values() != \\\n",
    " transcript.customer_id.value_counts().index.sort_values()) \\\n",
    ".sum()"
   ]
  },
  {
   "cell_type": "code",
   "execution_count": null,
   "metadata": {
    "hidden": true,
    "id": "Jf4m3_4F7vC_"
   },
   "outputs": [],
   "source": [
    "# join both datasets\n",
    "tmp_df = pd.merge(transcript, profile, how='left', on='customer_id')"
   ]
  },
  {
   "cell_type": "code",
   "execution_count": null,
   "metadata": {
    "hidden": true,
    "id": "UudEgHmb7vC_",
    "outputId": "85f34cea-4fdd-4d15-fb17-975e8f145b86",
    "scrolled": true
   },
   "outputs": [
    {
     "data": {
      "text/html": [
       "<div>\n",
       "<style scoped>\n",
       "    .dataframe tbody tr th:only-of-type {\n",
       "        vertical-align: middle;\n",
       "    }\n",
       "\n",
       "    .dataframe tbody tr th {\n",
       "        vertical-align: top;\n",
       "    }\n",
       "\n",
       "    .dataframe thead th {\n",
       "        text-align: right;\n",
       "    }\n",
       "</style>\n",
       "<table border=\"1\" class=\"dataframe\">\n",
       "  <thead>\n",
       "    <tr style=\"text-align: right;\">\n",
       "      <th></th>\n",
       "      <th>customer_id</th>\n",
       "      <th>event</th>\n",
       "      <th>time</th>\n",
       "      <th>offer_id</th>\n",
       "      <th>amount</th>\n",
       "      <th>reward</th>\n",
       "      <th>gender</th>\n",
       "      <th>age</th>\n",
       "      <th>income</th>\n",
       "      <th>registered_year</th>\n",
       "      <th>registered_month</th>\n",
       "      <th>registered_day</th>\n",
       "      <th>registered_weekday</th>\n",
       "      <th>registered_week</th>\n",
       "    </tr>\n",
       "  </thead>\n",
       "  <tbody>\n",
       "    <tr>\n",
       "      <th>0</th>\n",
       "      <td>78afa995795e4d85b5d9ceeca43f5fef</td>\n",
       "      <td>offer received</td>\n",
       "      <td>0</td>\n",
       "      <td>9b98b8c7a33c4b65b9aebfe6a799e6d9</td>\n",
       "      <td>NaN</td>\n",
       "      <td>NaN</td>\n",
       "      <td>F</td>\n",
       "      <td>75</td>\n",
       "      <td>100000.0</td>\n",
       "      <td>2017</td>\n",
       "      <td>5</td>\n",
       "      <td>9</td>\n",
       "      <td>1</td>\n",
       "      <td>19</td>\n",
       "    </tr>\n",
       "    <tr>\n",
       "      <th>1</th>\n",
       "      <td>a03223e636434f42ac4c3df47e8bac43</td>\n",
       "      <td>offer received</td>\n",
       "      <td>0</td>\n",
       "      <td>0b1e1539f2cc45b7b9fa7c272da2e1d7</td>\n",
       "      <td>NaN</td>\n",
       "      <td>NaN</td>\n",
       "      <td>None</td>\n",
       "      <td>118</td>\n",
       "      <td>NaN</td>\n",
       "      <td>2017</td>\n",
       "      <td>8</td>\n",
       "      <td>4</td>\n",
       "      <td>4</td>\n",
       "      <td>31</td>\n",
       "    </tr>\n",
       "    <tr>\n",
       "      <th>2</th>\n",
       "      <td>e2127556f4f64592b11af22de27a7932</td>\n",
       "      <td>offer received</td>\n",
       "      <td>0</td>\n",
       "      <td>2906b810c7d4411798c6938adc9daaa5</td>\n",
       "      <td>NaN</td>\n",
       "      <td>NaN</td>\n",
       "      <td>M</td>\n",
       "      <td>68</td>\n",
       "      <td>70000.0</td>\n",
       "      <td>2018</td>\n",
       "      <td>4</td>\n",
       "      <td>26</td>\n",
       "      <td>3</td>\n",
       "      <td>17</td>\n",
       "    </tr>\n",
       "    <tr>\n",
       "      <th>3</th>\n",
       "      <td>8ec6ce2a7e7949b1bf142def7d0e0586</td>\n",
       "      <td>offer received</td>\n",
       "      <td>0</td>\n",
       "      <td>fafdcd668e3743c1bb461111dcafc2a4</td>\n",
       "      <td>NaN</td>\n",
       "      <td>NaN</td>\n",
       "      <td>None</td>\n",
       "      <td>118</td>\n",
       "      <td>NaN</td>\n",
       "      <td>2017</td>\n",
       "      <td>9</td>\n",
       "      <td>25</td>\n",
       "      <td>0</td>\n",
       "      <td>39</td>\n",
       "    </tr>\n",
       "    <tr>\n",
       "      <th>4</th>\n",
       "      <td>68617ca6246f4fbc85e91a2a49552598</td>\n",
       "      <td>offer received</td>\n",
       "      <td>0</td>\n",
       "      <td>4d5c57ea9a6940dd891ad53e9dbe8da0</td>\n",
       "      <td>NaN</td>\n",
       "      <td>NaN</td>\n",
       "      <td>None</td>\n",
       "      <td>118</td>\n",
       "      <td>NaN</td>\n",
       "      <td>2017</td>\n",
       "      <td>10</td>\n",
       "      <td>2</td>\n",
       "      <td>0</td>\n",
       "      <td>40</td>\n",
       "    </tr>\n",
       "  </tbody>\n",
       "</table>\n",
       "</div>"
      ],
      "text/plain": [
       "                        customer_id           event  time  \\\n",
       "0  78afa995795e4d85b5d9ceeca43f5fef  offer received     0   \n",
       "1  a03223e636434f42ac4c3df47e8bac43  offer received     0   \n",
       "2  e2127556f4f64592b11af22de27a7932  offer received     0   \n",
       "3  8ec6ce2a7e7949b1bf142def7d0e0586  offer received     0   \n",
       "4  68617ca6246f4fbc85e91a2a49552598  offer received     0   \n",
       "\n",
       "                           offer_id  amount  reward gender  age    income  \\\n",
       "0  9b98b8c7a33c4b65b9aebfe6a799e6d9     NaN     NaN      F   75  100000.0   \n",
       "1  0b1e1539f2cc45b7b9fa7c272da2e1d7     NaN     NaN   None  118       NaN   \n",
       "2  2906b810c7d4411798c6938adc9daaa5     NaN     NaN      M   68   70000.0   \n",
       "3  fafdcd668e3743c1bb461111dcafc2a4     NaN     NaN   None  118       NaN   \n",
       "4  4d5c57ea9a6940dd891ad53e9dbe8da0     NaN     NaN   None  118       NaN   \n",
       "\n",
       "   registered_year  registered_month  registered_day  registered_weekday  \\\n",
       "0             2017                 5               9                   1   \n",
       "1             2017                 8               4                   4   \n",
       "2             2018                 4              26                   3   \n",
       "3             2017                 9              25                   0   \n",
       "4             2017                10               2                   0   \n",
       "\n",
       "   registered_week  \n",
       "0               19  \n",
       "1               31  \n",
       "2               17  \n",
       "3               39  \n",
       "4               40  "
      ]
     },
     "execution_count": 134,
     "metadata": {},
     "output_type": "execute_result"
    }
   ],
   "source": [
    "tmp_df.head()"
   ]
  },
  {
   "cell_type": "code",
   "execution_count": null,
   "metadata": {
    "hidden": true,
    "id": "cRPdN0hg7vDA",
    "outputId": "567db339-88d1-4fef-a8f7-151b1724f8e8"
   },
   "outputs": [
    {
     "data": {
      "text/plain": [
       "(306534, 14)"
      ]
     },
     "execution_count": 135,
     "metadata": {},
     "output_type": "execute_result"
    }
   ],
   "source": [
    "tmp_df.shape"
   ]
  },
  {
   "cell_type": "markdown",
   "metadata": {
    "hidden": true,
    "id": "GKpLH1P0Tq6F"
   },
   "source": [
    "Next, let's join the previous result with the `portfolio` dataset`."
   ]
  },
  {
   "cell_type": "code",
   "execution_count": null,
   "metadata": {
    "hidden": true,
    "id": "tkLr9Khz7vDA"
   },
   "outputs": [],
   "source": [
    "# change 'reward' col name in order to distinguish it with the 'reward' col in 'transcript' dataset\n",
    "portfolio.rename(columns={'reward': 'reward_std'}, inplace=True)"
   ]
  },
  {
   "cell_type": "code",
   "execution_count": null,
   "metadata": {
    "hidden": true,
    "id": "zyCuAupw7vDA"
   },
   "outputs": [],
   "source": [
    "# join then sort its values\n",
    "df = pd.merge(tmp_df, portfolio, how='left', on='offer_id')\n",
    "df.sort_values(['customer_id', 'time'], inplace=True)\n",
    "\n",
    "del tmp_df"
   ]
  },
  {
   "cell_type": "code",
   "execution_count": null,
   "metadata": {
    "hidden": true,
    "id": "8u6D6cTZ7vDA",
    "outputId": "409cc350-9008-4639-9401-8cf0cd26aba3",
    "scrolled": true
   },
   "outputs": [
    {
     "data": {
      "text/html": [
       "<div>\n",
       "<style scoped>\n",
       "    .dataframe tbody tr th:only-of-type {\n",
       "        vertical-align: middle;\n",
       "    }\n",
       "\n",
       "    .dataframe tbody tr th {\n",
       "        vertical-align: top;\n",
       "    }\n",
       "\n",
       "    .dataframe thead th {\n",
       "        text-align: right;\n",
       "    }\n",
       "</style>\n",
       "<table border=\"1\" class=\"dataframe\">\n",
       "  <thead>\n",
       "    <tr style=\"text-align: right;\">\n",
       "      <th></th>\n",
       "      <th>customer_id</th>\n",
       "      <th>event</th>\n",
       "      <th>time</th>\n",
       "      <th>offer_id</th>\n",
       "      <th>amount</th>\n",
       "      <th>reward</th>\n",
       "      <th>gender</th>\n",
       "      <th>age</th>\n",
       "      <th>income</th>\n",
       "      <th>registered_year</th>\n",
       "      <th>registered_month</th>\n",
       "      <th>registered_day</th>\n",
       "      <th>registered_weekday</th>\n",
       "      <th>registered_week</th>\n",
       "      <th>reward_std</th>\n",
       "      <th>difficulty</th>\n",
       "      <th>duration</th>\n",
       "      <th>offer_type</th>\n",
       "      <th>email</th>\n",
       "      <th>mobile</th>\n",
       "      <th>social</th>\n",
       "      <th>web</th>\n",
       "    </tr>\n",
       "  </thead>\n",
       "  <tbody>\n",
       "    <tr>\n",
       "      <th>55972</th>\n",
       "      <td>0009655768c64bdeb2e877511632db8f</td>\n",
       "      <td>offer received</td>\n",
       "      <td>168</td>\n",
       "      <td>5a8bc65990b245e5a138643cd4eb9837</td>\n",
       "      <td>NaN</td>\n",
       "      <td>NaN</td>\n",
       "      <td>M</td>\n",
       "      <td>33</td>\n",
       "      <td>72000.0</td>\n",
       "      <td>2017</td>\n",
       "      <td>4</td>\n",
       "      <td>21</td>\n",
       "      <td>4</td>\n",
       "      <td>16</td>\n",
       "      <td>0.0</td>\n",
       "      <td>0.0</td>\n",
       "      <td>3.0</td>\n",
       "      <td>informational</td>\n",
       "      <td>1.0</td>\n",
       "      <td>1.0</td>\n",
       "      <td>1.0</td>\n",
       "      <td>0.0</td>\n",
       "    </tr>\n",
       "    <tr>\n",
       "      <th>77705</th>\n",
       "      <td>0009655768c64bdeb2e877511632db8f</td>\n",
       "      <td>offer viewed</td>\n",
       "      <td>192</td>\n",
       "      <td>5a8bc65990b245e5a138643cd4eb9837</td>\n",
       "      <td>NaN</td>\n",
       "      <td>NaN</td>\n",
       "      <td>M</td>\n",
       "      <td>33</td>\n",
       "      <td>72000.0</td>\n",
       "      <td>2017</td>\n",
       "      <td>4</td>\n",
       "      <td>21</td>\n",
       "      <td>4</td>\n",
       "      <td>16</td>\n",
       "      <td>0.0</td>\n",
       "      <td>0.0</td>\n",
       "      <td>3.0</td>\n",
       "      <td>informational</td>\n",
       "      <td>1.0</td>\n",
       "      <td>1.0</td>\n",
       "      <td>1.0</td>\n",
       "      <td>0.0</td>\n",
       "    </tr>\n",
       "    <tr>\n",
       "      <th>89291</th>\n",
       "      <td>0009655768c64bdeb2e877511632db8f</td>\n",
       "      <td>transaction</td>\n",
       "      <td>228</td>\n",
       "      <td>NaN</td>\n",
       "      <td>22.16</td>\n",
       "      <td>NaN</td>\n",
       "      <td>M</td>\n",
       "      <td>33</td>\n",
       "      <td>72000.0</td>\n",
       "      <td>2017</td>\n",
       "      <td>4</td>\n",
       "      <td>21</td>\n",
       "      <td>4</td>\n",
       "      <td>16</td>\n",
       "      <td>NaN</td>\n",
       "      <td>NaN</td>\n",
       "      <td>NaN</td>\n",
       "      <td>NaN</td>\n",
       "      <td>NaN</td>\n",
       "      <td>NaN</td>\n",
       "      <td>NaN</td>\n",
       "      <td>NaN</td>\n",
       "    </tr>\n",
       "    <tr>\n",
       "      <th>113605</th>\n",
       "      <td>0009655768c64bdeb2e877511632db8f</td>\n",
       "      <td>offer received</td>\n",
       "      <td>336</td>\n",
       "      <td>3f207df678b143eea3cee63160fa8bed</td>\n",
       "      <td>NaN</td>\n",
       "      <td>NaN</td>\n",
       "      <td>M</td>\n",
       "      <td>33</td>\n",
       "      <td>72000.0</td>\n",
       "      <td>2017</td>\n",
       "      <td>4</td>\n",
       "      <td>21</td>\n",
       "      <td>4</td>\n",
       "      <td>16</td>\n",
       "      <td>0.0</td>\n",
       "      <td>0.0</td>\n",
       "      <td>4.0</td>\n",
       "      <td>informational</td>\n",
       "      <td>1.0</td>\n",
       "      <td>1.0</td>\n",
       "      <td>0.0</td>\n",
       "      <td>1.0</td>\n",
       "    </tr>\n",
       "    <tr>\n",
       "      <th>139992</th>\n",
       "      <td>0009655768c64bdeb2e877511632db8f</td>\n",
       "      <td>offer viewed</td>\n",
       "      <td>372</td>\n",
       "      <td>3f207df678b143eea3cee63160fa8bed</td>\n",
       "      <td>NaN</td>\n",
       "      <td>NaN</td>\n",
       "      <td>M</td>\n",
       "      <td>33</td>\n",
       "      <td>72000.0</td>\n",
       "      <td>2017</td>\n",
       "      <td>4</td>\n",
       "      <td>21</td>\n",
       "      <td>4</td>\n",
       "      <td>16</td>\n",
       "      <td>0.0</td>\n",
       "      <td>0.0</td>\n",
       "      <td>4.0</td>\n",
       "      <td>informational</td>\n",
       "      <td>1.0</td>\n",
       "      <td>1.0</td>\n",
       "      <td>0.0</td>\n",
       "      <td>1.0</td>\n",
       "    </tr>\n",
       "    <tr>\n",
       "      <th>153401</th>\n",
       "      <td>0009655768c64bdeb2e877511632db8f</td>\n",
       "      <td>offer received</td>\n",
       "      <td>408</td>\n",
       "      <td>f19421c1d4aa40978ebb69ca19b0e20d</td>\n",
       "      <td>NaN</td>\n",
       "      <td>NaN</td>\n",
       "      <td>M</td>\n",
       "      <td>33</td>\n",
       "      <td>72000.0</td>\n",
       "      <td>2017</td>\n",
       "      <td>4</td>\n",
       "      <td>21</td>\n",
       "      <td>4</td>\n",
       "      <td>16</td>\n",
       "      <td>5.0</td>\n",
       "      <td>5.0</td>\n",
       "      <td>5.0</td>\n",
       "      <td>bogo</td>\n",
       "      <td>1.0</td>\n",
       "      <td>1.0</td>\n",
       "      <td>1.0</td>\n",
       "      <td>1.0</td>\n",
       "    </tr>\n",
       "    <tr>\n",
       "      <th>168412</th>\n",
       "      <td>0009655768c64bdeb2e877511632db8f</td>\n",
       "      <td>transaction</td>\n",
       "      <td>414</td>\n",
       "      <td>NaN</td>\n",
       "      <td>8.57</td>\n",
       "      <td>NaN</td>\n",
       "      <td>M</td>\n",
       "      <td>33</td>\n",
       "      <td>72000.0</td>\n",
       "      <td>2017</td>\n",
       "      <td>4</td>\n",
       "      <td>21</td>\n",
       "      <td>4</td>\n",
       "      <td>16</td>\n",
       "      <td>NaN</td>\n",
       "      <td>NaN</td>\n",
       "      <td>NaN</td>\n",
       "      <td>NaN</td>\n",
       "      <td>NaN</td>\n",
       "      <td>NaN</td>\n",
       "      <td>NaN</td>\n",
       "      <td>NaN</td>\n",
       "    </tr>\n",
       "    <tr>\n",
       "      <th>168413</th>\n",
       "      <td>0009655768c64bdeb2e877511632db8f</td>\n",
       "      <td>offer completed</td>\n",
       "      <td>414</td>\n",
       "      <td>f19421c1d4aa40978ebb69ca19b0e20d</td>\n",
       "      <td>NaN</td>\n",
       "      <td>5.0</td>\n",
       "      <td>M</td>\n",
       "      <td>33</td>\n",
       "      <td>72000.0</td>\n",
       "      <td>2017</td>\n",
       "      <td>4</td>\n",
       "      <td>21</td>\n",
       "      <td>4</td>\n",
       "      <td>16</td>\n",
       "      <td>5.0</td>\n",
       "      <td>5.0</td>\n",
       "      <td>5.0</td>\n",
       "      <td>bogo</td>\n",
       "      <td>1.0</td>\n",
       "      <td>1.0</td>\n",
       "      <td>1.0</td>\n",
       "      <td>1.0</td>\n",
       "    </tr>\n",
       "    <tr>\n",
       "      <th>187554</th>\n",
       "      <td>0009655768c64bdeb2e877511632db8f</td>\n",
       "      <td>offer viewed</td>\n",
       "      <td>456</td>\n",
       "      <td>f19421c1d4aa40978ebb69ca19b0e20d</td>\n",
       "      <td>NaN</td>\n",
       "      <td>NaN</td>\n",
       "      <td>M</td>\n",
       "      <td>33</td>\n",
       "      <td>72000.0</td>\n",
       "      <td>2017</td>\n",
       "      <td>4</td>\n",
       "      <td>21</td>\n",
       "      <td>4</td>\n",
       "      <td>16</td>\n",
       "      <td>5.0</td>\n",
       "      <td>5.0</td>\n",
       "      <td>5.0</td>\n",
       "      <td>bogo</td>\n",
       "      <td>1.0</td>\n",
       "      <td>1.0</td>\n",
       "      <td>1.0</td>\n",
       "      <td>1.0</td>\n",
       "    </tr>\n",
       "    <tr>\n",
       "      <th>204340</th>\n",
       "      <td>0009655768c64bdeb2e877511632db8f</td>\n",
       "      <td>offer received</td>\n",
       "      <td>504</td>\n",
       "      <td>fafdcd668e3743c1bb461111dcafc2a4</td>\n",
       "      <td>NaN</td>\n",
       "      <td>NaN</td>\n",
       "      <td>M</td>\n",
       "      <td>33</td>\n",
       "      <td>72000.0</td>\n",
       "      <td>2017</td>\n",
       "      <td>4</td>\n",
       "      <td>21</td>\n",
       "      <td>4</td>\n",
       "      <td>16</td>\n",
       "      <td>2.0</td>\n",
       "      <td>10.0</td>\n",
       "      <td>10.0</td>\n",
       "      <td>discount</td>\n",
       "      <td>1.0</td>\n",
       "      <td>1.0</td>\n",
       "      <td>1.0</td>\n",
       "      <td>1.0</td>\n",
       "    </tr>\n",
       "    <tr>\n",
       "      <th>228422</th>\n",
       "      <td>0009655768c64bdeb2e877511632db8f</td>\n",
       "      <td>transaction</td>\n",
       "      <td>528</td>\n",
       "      <td>NaN</td>\n",
       "      <td>14.11</td>\n",
       "      <td>NaN</td>\n",
       "      <td>M</td>\n",
       "      <td>33</td>\n",
       "      <td>72000.0</td>\n",
       "      <td>2017</td>\n",
       "      <td>4</td>\n",
       "      <td>21</td>\n",
       "      <td>4</td>\n",
       "      <td>16</td>\n",
       "      <td>NaN</td>\n",
       "      <td>NaN</td>\n",
       "      <td>NaN</td>\n",
       "      <td>NaN</td>\n",
       "      <td>NaN</td>\n",
       "      <td>NaN</td>\n",
       "      <td>NaN</td>\n",
       "      <td>NaN</td>\n",
       "    </tr>\n",
       "    <tr>\n",
       "      <th>228423</th>\n",
       "      <td>0009655768c64bdeb2e877511632db8f</td>\n",
       "      <td>offer completed</td>\n",
       "      <td>528</td>\n",
       "      <td>fafdcd668e3743c1bb461111dcafc2a4</td>\n",
       "      <td>NaN</td>\n",
       "      <td>2.0</td>\n",
       "      <td>M</td>\n",
       "      <td>33</td>\n",
       "      <td>72000.0</td>\n",
       "      <td>2017</td>\n",
       "      <td>4</td>\n",
       "      <td>21</td>\n",
       "      <td>4</td>\n",
       "      <td>16</td>\n",
       "      <td>2.0</td>\n",
       "      <td>10.0</td>\n",
       "      <td>10.0</td>\n",
       "      <td>discount</td>\n",
       "      <td>1.0</td>\n",
       "      <td>1.0</td>\n",
       "      <td>1.0</td>\n",
       "      <td>1.0</td>\n",
       "    </tr>\n",
       "    <tr>\n",
       "      <th>233413</th>\n",
       "      <td>0009655768c64bdeb2e877511632db8f</td>\n",
       "      <td>offer viewed</td>\n",
       "      <td>540</td>\n",
       "      <td>fafdcd668e3743c1bb461111dcafc2a4</td>\n",
       "      <td>NaN</td>\n",
       "      <td>NaN</td>\n",
       "      <td>M</td>\n",
       "      <td>33</td>\n",
       "      <td>72000.0</td>\n",
       "      <td>2017</td>\n",
       "      <td>4</td>\n",
       "      <td>21</td>\n",
       "      <td>4</td>\n",
       "      <td>16</td>\n",
       "      <td>2.0</td>\n",
       "      <td>10.0</td>\n",
       "      <td>10.0</td>\n",
       "      <td>discount</td>\n",
       "      <td>1.0</td>\n",
       "      <td>1.0</td>\n",
       "      <td>1.0</td>\n",
       "      <td>1.0</td>\n",
       "    </tr>\n",
       "    <tr>\n",
       "      <th>237784</th>\n",
       "      <td>0009655768c64bdeb2e877511632db8f</td>\n",
       "      <td>transaction</td>\n",
       "      <td>552</td>\n",
       "      <td>NaN</td>\n",
       "      <td>13.56</td>\n",
       "      <td>NaN</td>\n",
       "      <td>M</td>\n",
       "      <td>33</td>\n",
       "      <td>72000.0</td>\n",
       "      <td>2017</td>\n",
       "      <td>4</td>\n",
       "      <td>21</td>\n",
       "      <td>4</td>\n",
       "      <td>16</td>\n",
       "      <td>NaN</td>\n",
       "      <td>NaN</td>\n",
       "      <td>NaN</td>\n",
       "      <td>NaN</td>\n",
       "      <td>NaN</td>\n",
       "      <td>NaN</td>\n",
       "      <td>NaN</td>\n",
       "      <td>NaN</td>\n",
       "    </tr>\n",
       "    <tr>\n",
       "      <th>247879</th>\n",
       "      <td>0009655768c64bdeb2e877511632db8f</td>\n",
       "      <td>offer received</td>\n",
       "      <td>576</td>\n",
       "      <td>2906b810c7d4411798c6938adc9daaa5</td>\n",
       "      <td>NaN</td>\n",
       "      <td>NaN</td>\n",
       "      <td>M</td>\n",
       "      <td>33</td>\n",
       "      <td>72000.0</td>\n",
       "      <td>2017</td>\n",
       "      <td>4</td>\n",
       "      <td>21</td>\n",
       "      <td>4</td>\n",
       "      <td>16</td>\n",
       "      <td>2.0</td>\n",
       "      <td>10.0</td>\n",
       "      <td>7.0</td>\n",
       "      <td>discount</td>\n",
       "      <td>1.0</td>\n",
       "      <td>1.0</td>\n",
       "      <td>0.0</td>\n",
       "      <td>1.0</td>\n",
       "    </tr>\n",
       "    <tr>\n",
       "      <th>258883</th>\n",
       "      <td>0009655768c64bdeb2e877511632db8f</td>\n",
       "      <td>transaction</td>\n",
       "      <td>576</td>\n",
       "      <td>NaN</td>\n",
       "      <td>10.27</td>\n",
       "      <td>NaN</td>\n",
       "      <td>M</td>\n",
       "      <td>33</td>\n",
       "      <td>72000.0</td>\n",
       "      <td>2017</td>\n",
       "      <td>4</td>\n",
       "      <td>21</td>\n",
       "      <td>4</td>\n",
       "      <td>16</td>\n",
       "      <td>NaN</td>\n",
       "      <td>NaN</td>\n",
       "      <td>NaN</td>\n",
       "      <td>NaN</td>\n",
       "      <td>NaN</td>\n",
       "      <td>NaN</td>\n",
       "      <td>NaN</td>\n",
       "      <td>NaN</td>\n",
       "    </tr>\n",
       "    <tr>\n",
       "      <th>258884</th>\n",
       "      <td>0009655768c64bdeb2e877511632db8f</td>\n",
       "      <td>offer completed</td>\n",
       "      <td>576</td>\n",
       "      <td>2906b810c7d4411798c6938adc9daaa5</td>\n",
       "      <td>NaN</td>\n",
       "      <td>2.0</td>\n",
       "      <td>M</td>\n",
       "      <td>33</td>\n",
       "      <td>72000.0</td>\n",
       "      <td>2017</td>\n",
       "      <td>4</td>\n",
       "      <td>21</td>\n",
       "      <td>4</td>\n",
       "      <td>16</td>\n",
       "      <td>2.0</td>\n",
       "      <td>10.0</td>\n",
       "      <td>7.0</td>\n",
       "      <td>discount</td>\n",
       "      <td>1.0</td>\n",
       "      <td>1.0</td>\n",
       "      <td>0.0</td>\n",
       "      <td>1.0</td>\n",
       "    </tr>\n",
       "    <tr>\n",
       "      <th>293497</th>\n",
       "      <td>0009655768c64bdeb2e877511632db8f</td>\n",
       "      <td>transaction</td>\n",
       "      <td>660</td>\n",
       "      <td>NaN</td>\n",
       "      <td>12.36</td>\n",
       "      <td>NaN</td>\n",
       "      <td>M</td>\n",
       "      <td>33</td>\n",
       "      <td>72000.0</td>\n",
       "      <td>2017</td>\n",
       "      <td>4</td>\n",
       "      <td>21</td>\n",
       "      <td>4</td>\n",
       "      <td>16</td>\n",
       "      <td>NaN</td>\n",
       "      <td>NaN</td>\n",
       "      <td>NaN</td>\n",
       "      <td>NaN</td>\n",
       "      <td>NaN</td>\n",
       "      <td>NaN</td>\n",
       "      <td>NaN</td>\n",
       "      <td>NaN</td>\n",
       "    </tr>\n",
       "    <tr>\n",
       "      <th>300930</th>\n",
       "      <td>0009655768c64bdeb2e877511632db8f</td>\n",
       "      <td>transaction</td>\n",
       "      <td>690</td>\n",
       "      <td>NaN</td>\n",
       "      <td>28.16</td>\n",
       "      <td>NaN</td>\n",
       "      <td>M</td>\n",
       "      <td>33</td>\n",
       "      <td>72000.0</td>\n",
       "      <td>2017</td>\n",
       "      <td>4</td>\n",
       "      <td>21</td>\n",
       "      <td>4</td>\n",
       "      <td>16</td>\n",
       "      <td>NaN</td>\n",
       "      <td>NaN</td>\n",
       "      <td>NaN</td>\n",
       "      <td>NaN</td>\n",
       "      <td>NaN</td>\n",
       "      <td>NaN</td>\n",
       "      <td>NaN</td>\n",
       "      <td>NaN</td>\n",
       "    </tr>\n",
       "    <tr>\n",
       "      <th>302205</th>\n",
       "      <td>0009655768c64bdeb2e877511632db8f</td>\n",
       "      <td>transaction</td>\n",
       "      <td>696</td>\n",
       "      <td>NaN</td>\n",
       "      <td>18.41</td>\n",
       "      <td>NaN</td>\n",
       "      <td>M</td>\n",
       "      <td>33</td>\n",
       "      <td>72000.0</td>\n",
       "      <td>2017</td>\n",
       "      <td>4</td>\n",
       "      <td>21</td>\n",
       "      <td>4</td>\n",
       "      <td>16</td>\n",
       "      <td>NaN</td>\n",
       "      <td>NaN</td>\n",
       "      <td>NaN</td>\n",
       "      <td>NaN</td>\n",
       "      <td>NaN</td>\n",
       "      <td>NaN</td>\n",
       "      <td>NaN</td>\n",
       "      <td>NaN</td>\n",
       "    </tr>\n",
       "  </tbody>\n",
       "</table>\n",
       "</div>"
      ],
      "text/plain": [
       "                             customer_id            event  time  \\\n",
       "55972   0009655768c64bdeb2e877511632db8f   offer received   168   \n",
       "77705   0009655768c64bdeb2e877511632db8f     offer viewed   192   \n",
       "89291   0009655768c64bdeb2e877511632db8f      transaction   228   \n",
       "113605  0009655768c64bdeb2e877511632db8f   offer received   336   \n",
       "139992  0009655768c64bdeb2e877511632db8f     offer viewed   372   \n",
       "153401  0009655768c64bdeb2e877511632db8f   offer received   408   \n",
       "168412  0009655768c64bdeb2e877511632db8f      transaction   414   \n",
       "168413  0009655768c64bdeb2e877511632db8f  offer completed   414   \n",
       "187554  0009655768c64bdeb2e877511632db8f     offer viewed   456   \n",
       "204340  0009655768c64bdeb2e877511632db8f   offer received   504   \n",
       "228422  0009655768c64bdeb2e877511632db8f      transaction   528   \n",
       "228423  0009655768c64bdeb2e877511632db8f  offer completed   528   \n",
       "233413  0009655768c64bdeb2e877511632db8f     offer viewed   540   \n",
       "237784  0009655768c64bdeb2e877511632db8f      transaction   552   \n",
       "247879  0009655768c64bdeb2e877511632db8f   offer received   576   \n",
       "258883  0009655768c64bdeb2e877511632db8f      transaction   576   \n",
       "258884  0009655768c64bdeb2e877511632db8f  offer completed   576   \n",
       "293497  0009655768c64bdeb2e877511632db8f      transaction   660   \n",
       "300930  0009655768c64bdeb2e877511632db8f      transaction   690   \n",
       "302205  0009655768c64bdeb2e877511632db8f      transaction   696   \n",
       "\n",
       "                                offer_id  amount  reward gender  age   income  \\\n",
       "55972   5a8bc65990b245e5a138643cd4eb9837     NaN     NaN      M   33  72000.0   \n",
       "77705   5a8bc65990b245e5a138643cd4eb9837     NaN     NaN      M   33  72000.0   \n",
       "89291                                NaN   22.16     NaN      M   33  72000.0   \n",
       "113605  3f207df678b143eea3cee63160fa8bed     NaN     NaN      M   33  72000.0   \n",
       "139992  3f207df678b143eea3cee63160fa8bed     NaN     NaN      M   33  72000.0   \n",
       "153401  f19421c1d4aa40978ebb69ca19b0e20d     NaN     NaN      M   33  72000.0   \n",
       "168412                               NaN    8.57     NaN      M   33  72000.0   \n",
       "168413  f19421c1d4aa40978ebb69ca19b0e20d     NaN     5.0      M   33  72000.0   \n",
       "187554  f19421c1d4aa40978ebb69ca19b0e20d     NaN     NaN      M   33  72000.0   \n",
       "204340  fafdcd668e3743c1bb461111dcafc2a4     NaN     NaN      M   33  72000.0   \n",
       "228422                               NaN   14.11     NaN      M   33  72000.0   \n",
       "228423  fafdcd668e3743c1bb461111dcafc2a4     NaN     2.0      M   33  72000.0   \n",
       "233413  fafdcd668e3743c1bb461111dcafc2a4     NaN     NaN      M   33  72000.0   \n",
       "237784                               NaN   13.56     NaN      M   33  72000.0   \n",
       "247879  2906b810c7d4411798c6938adc9daaa5     NaN     NaN      M   33  72000.0   \n",
       "258883                               NaN   10.27     NaN      M   33  72000.0   \n",
       "258884  2906b810c7d4411798c6938adc9daaa5     NaN     2.0      M   33  72000.0   \n",
       "293497                               NaN   12.36     NaN      M   33  72000.0   \n",
       "300930                               NaN   28.16     NaN      M   33  72000.0   \n",
       "302205                               NaN   18.41     NaN      M   33  72000.0   \n",
       "\n",
       "        registered_year  registered_month  registered_day  registered_weekday  \\\n",
       "55972              2017                 4              21                   4   \n",
       "77705              2017                 4              21                   4   \n",
       "89291              2017                 4              21                   4   \n",
       "113605             2017                 4              21                   4   \n",
       "139992             2017                 4              21                   4   \n",
       "153401             2017                 4              21                   4   \n",
       "168412             2017                 4              21                   4   \n",
       "168413             2017                 4              21                   4   \n",
       "187554             2017                 4              21                   4   \n",
       "204340             2017                 4              21                   4   \n",
       "228422             2017                 4              21                   4   \n",
       "228423             2017                 4              21                   4   \n",
       "233413             2017                 4              21                   4   \n",
       "237784             2017                 4              21                   4   \n",
       "247879             2017                 4              21                   4   \n",
       "258883             2017                 4              21                   4   \n",
       "258884             2017                 4              21                   4   \n",
       "293497             2017                 4              21                   4   \n",
       "300930             2017                 4              21                   4   \n",
       "302205             2017                 4              21                   4   \n",
       "\n",
       "        registered_week  reward_std  difficulty  duration     offer_type  \\\n",
       "55972                16         0.0         0.0       3.0  informational   \n",
       "77705                16         0.0         0.0       3.0  informational   \n",
       "89291                16         NaN         NaN       NaN            NaN   \n",
       "113605               16         0.0         0.0       4.0  informational   \n",
       "139992               16         0.0         0.0       4.0  informational   \n",
       "153401               16         5.0         5.0       5.0           bogo   \n",
       "168412               16         NaN         NaN       NaN            NaN   \n",
       "168413               16         5.0         5.0       5.0           bogo   \n",
       "187554               16         5.0         5.0       5.0           bogo   \n",
       "204340               16         2.0        10.0      10.0       discount   \n",
       "228422               16         NaN         NaN       NaN            NaN   \n",
       "228423               16         2.0        10.0      10.0       discount   \n",
       "233413               16         2.0        10.0      10.0       discount   \n",
       "237784               16         NaN         NaN       NaN            NaN   \n",
       "247879               16         2.0        10.0       7.0       discount   \n",
       "258883               16         NaN         NaN       NaN            NaN   \n",
       "258884               16         2.0        10.0       7.0       discount   \n",
       "293497               16         NaN         NaN       NaN            NaN   \n",
       "300930               16         NaN         NaN       NaN            NaN   \n",
       "302205               16         NaN         NaN       NaN            NaN   \n",
       "\n",
       "        email  mobile  social  web  \n",
       "55972     1.0     1.0     1.0  0.0  \n",
       "77705     1.0     1.0     1.0  0.0  \n",
       "89291     NaN     NaN     NaN  NaN  \n",
       "113605    1.0     1.0     0.0  1.0  \n",
       "139992    1.0     1.0     0.0  1.0  \n",
       "153401    1.0     1.0     1.0  1.0  \n",
       "168412    NaN     NaN     NaN  NaN  \n",
       "168413    1.0     1.0     1.0  1.0  \n",
       "187554    1.0     1.0     1.0  1.0  \n",
       "204340    1.0     1.0     1.0  1.0  \n",
       "228422    NaN     NaN     NaN  NaN  \n",
       "228423    1.0     1.0     1.0  1.0  \n",
       "233413    1.0     1.0     1.0  1.0  \n",
       "237784    NaN     NaN     NaN  NaN  \n",
       "247879    1.0     1.0     0.0  1.0  \n",
       "258883    NaN     NaN     NaN  NaN  \n",
       "258884    1.0     1.0     0.0  1.0  \n",
       "293497    NaN     NaN     NaN  NaN  \n",
       "300930    NaN     NaN     NaN  NaN  \n",
       "302205    NaN     NaN     NaN  NaN  "
      ]
     },
     "metadata": {},
     "output_type": "display_data"
    }
   ],
   "source": [
    "display_all(df.head(20), 'column')"
   ]
  },
  {
   "cell_type": "code",
   "execution_count": null,
   "metadata": {
    "hidden": true,
    "id": "4B3FIJiz7vDA",
    "outputId": "7a2c00ba-0184-4ac4-cc61-86d9fd931cc2"
   },
   "outputs": [
    {
     "data": {
      "text/plain": [
       "(306534, 22)"
      ]
     },
     "execution_count": 140,
     "metadata": {},
     "output_type": "execute_result"
    }
   ],
   "source": [
    "df.shape"
   ]
  },
  {
   "cell_type": "code",
   "execution_count": null,
   "metadata": {
    "hidden": true,
    "id": "q2gehjay7vDB",
    "outputId": "70474b64-810f-4703-e24e-1849a8ada2d9",
    "scrolled": true
   },
   "outputs": [
    {
     "name": "stdout",
     "output_type": "stream",
     "text": [
      "Saved successfully!\n"
     ]
    }
   ],
   "source": [
    "# save the final result\n",
    "df.to_csv('data/joint_data.csv', index=False)\n",
    "print(\"Saved successfully!\")"
   ]
  },
  {
   "cell_type": "markdown",
   "metadata": {
    "heading_collapsed": true,
    "id": "cr-Jv4y97vDB"
   },
   "source": [
    "# Preprocessing"
   ]
  },
  {
   "cell_type": "code",
   "execution_count": null,
   "metadata": {
    "hidden": true,
    "id": "KpXrZdN67vDB"
   },
   "outputs": [],
   "source": [
    "# load clean data\n",
    "df = pd.read_csv('data/joint_data.csv')"
   ]
  },
  {
   "cell_type": "code",
   "execution_count": null,
   "metadata": {
    "hidden": true,
    "id": "PFDeOCDE7vDB",
    "outputId": "1cd60dcf-b912-4f14-ec69-edfc8e7c1a77",
    "scrolled": false
   },
   "outputs": [
    {
     "data": {
      "text/html": [
       "<div>\n",
       "<style scoped>\n",
       "    .dataframe tbody tr th:only-of-type {\n",
       "        vertical-align: middle;\n",
       "    }\n",
       "\n",
       "    .dataframe tbody tr th {\n",
       "        vertical-align: top;\n",
       "    }\n",
       "\n",
       "    .dataframe thead th {\n",
       "        text-align: right;\n",
       "    }\n",
       "</style>\n",
       "<table border=\"1\" class=\"dataframe\">\n",
       "  <thead>\n",
       "    <tr style=\"text-align: right;\">\n",
       "      <th></th>\n",
       "      <th>customer_id</th>\n",
       "      <th>event</th>\n",
       "      <th>time</th>\n",
       "      <th>offer_id</th>\n",
       "      <th>amount</th>\n",
       "      <th>reward</th>\n",
       "      <th>gender</th>\n",
       "      <th>age</th>\n",
       "      <th>income</th>\n",
       "      <th>registered_year</th>\n",
       "      <th>registered_month</th>\n",
       "      <th>registered_day</th>\n",
       "      <th>registered_weekday</th>\n",
       "      <th>registered_week</th>\n",
       "      <th>reward_std</th>\n",
       "      <th>difficulty</th>\n",
       "      <th>duration</th>\n",
       "      <th>offer_type</th>\n",
       "      <th>email</th>\n",
       "      <th>mobile</th>\n",
       "      <th>social</th>\n",
       "      <th>web</th>\n",
       "    </tr>\n",
       "  </thead>\n",
       "  <tbody>\n",
       "    <tr>\n",
       "      <th>count</th>\n",
       "      <td>306534</td>\n",
       "      <td>306534</td>\n",
       "      <td>306534.000000</td>\n",
       "      <td>167581</td>\n",
       "      <td>138953.000000</td>\n",
       "      <td>33579.000000</td>\n",
       "      <td>272762</td>\n",
       "      <td>306534.000000</td>\n",
       "      <td>272762.000000</td>\n",
       "      <td>306534.000000</td>\n",
       "      <td>306534.000000</td>\n",
       "      <td>306534.000000</td>\n",
       "      <td>306534.000000</td>\n",
       "      <td>306534.000000</td>\n",
       "      <td>167581.00000</td>\n",
       "      <td>167581.000000</td>\n",
       "      <td>167581.000000</td>\n",
       "      <td>167581</td>\n",
       "      <td>167581.0</td>\n",
       "      <td>167581.000000</td>\n",
       "      <td>167581.000000</td>\n",
       "      <td>167581.000000</td>\n",
       "    </tr>\n",
       "    <tr>\n",
       "      <th>unique</th>\n",
       "      <td>17000</td>\n",
       "      <td>4</td>\n",
       "      <td>NaN</td>\n",
       "      <td>10</td>\n",
       "      <td>NaN</td>\n",
       "      <td>NaN</td>\n",
       "      <td>3</td>\n",
       "      <td>NaN</td>\n",
       "      <td>NaN</td>\n",
       "      <td>NaN</td>\n",
       "      <td>NaN</td>\n",
       "      <td>NaN</td>\n",
       "      <td>NaN</td>\n",
       "      <td>NaN</td>\n",
       "      <td>NaN</td>\n",
       "      <td>NaN</td>\n",
       "      <td>NaN</td>\n",
       "      <td>3</td>\n",
       "      <td>NaN</td>\n",
       "      <td>NaN</td>\n",
       "      <td>NaN</td>\n",
       "      <td>NaN</td>\n",
       "    </tr>\n",
       "    <tr>\n",
       "      <th>top</th>\n",
       "      <td>94de646f7b6041228ca7dec82adb97d2</td>\n",
       "      <td>transaction</td>\n",
       "      <td>NaN</td>\n",
       "      <td>fafdcd668e3743c1bb461111dcafc2a4</td>\n",
       "      <td>NaN</td>\n",
       "      <td>NaN</td>\n",
       "      <td>M</td>\n",
       "      <td>NaN</td>\n",
       "      <td>NaN</td>\n",
       "      <td>NaN</td>\n",
       "      <td>NaN</td>\n",
       "      <td>NaN</td>\n",
       "      <td>NaN</td>\n",
       "      <td>NaN</td>\n",
       "      <td>NaN</td>\n",
       "      <td>NaN</td>\n",
       "      <td>NaN</td>\n",
       "      <td>bogo</td>\n",
       "      <td>NaN</td>\n",
       "      <td>NaN</td>\n",
       "      <td>NaN</td>\n",
       "      <td>NaN</td>\n",
       "    </tr>\n",
       "    <tr>\n",
       "      <th>freq</th>\n",
       "      <td>51</td>\n",
       "      <td>138953</td>\n",
       "      <td>NaN</td>\n",
       "      <td>20241</td>\n",
       "      <td>NaN</td>\n",
       "      <td>NaN</td>\n",
       "      <td>155690</td>\n",
       "      <td>NaN</td>\n",
       "      <td>NaN</td>\n",
       "      <td>NaN</td>\n",
       "      <td>NaN</td>\n",
       "      <td>NaN</td>\n",
       "      <td>NaN</td>\n",
       "      <td>NaN</td>\n",
       "      <td>NaN</td>\n",
       "      <td>NaN</td>\n",
       "      <td>NaN</td>\n",
       "      <td>71617</td>\n",
       "      <td>NaN</td>\n",
       "      <td>NaN</td>\n",
       "      <td>NaN</td>\n",
       "      <td>NaN</td>\n",
       "    </tr>\n",
       "    <tr>\n",
       "      <th>mean</th>\n",
       "      <td>NaN</td>\n",
       "      <td>NaN</td>\n",
       "      <td>366.382940</td>\n",
       "      <td>NaN</td>\n",
       "      <td>12.777356</td>\n",
       "      <td>4.904137</td>\n",
       "      <td>NaN</td>\n",
       "      <td>60.909367</td>\n",
       "      <td>64337.000755</td>\n",
       "      <td>2016.476032</td>\n",
       "      <td>6.701710</td>\n",
       "      <td>15.886153</td>\n",
       "      <td>3.029527</td>\n",
       "      <td>27.399486</td>\n",
       "      <td>4.41991</td>\n",
       "      <td>7.850401</td>\n",
       "      <td>6.610737</td>\n",
       "      <td>NaN</td>\n",
       "      <td>1.0</td>\n",
       "      <td>0.917944</td>\n",
       "      <td>0.656996</td>\n",
       "      <td>0.806858</td>\n",
       "    </tr>\n",
       "    <tr>\n",
       "      <th>std</th>\n",
       "      <td>NaN</td>\n",
       "      <td>NaN</td>\n",
       "      <td>200.326314</td>\n",
       "      <td>NaN</td>\n",
       "      <td>30.250529</td>\n",
       "      <td>2.886647</td>\n",
       "      <td>NaN</td>\n",
       "      <td>26.032030</td>\n",
       "      <td>21243.762941</td>\n",
       "      <td>1.199589</td>\n",
       "      <td>3.500048</td>\n",
       "      <td>8.765044</td>\n",
       "      <td>2.006800</td>\n",
       "      <td>15.294352</td>\n",
       "      <td>3.37336</td>\n",
       "      <td>5.048944</td>\n",
       "      <td>2.136130</td>\n",
       "      <td>NaN</td>\n",
       "      <td>0.0</td>\n",
       "      <td>0.274451</td>\n",
       "      <td>0.474714</td>\n",
       "      <td>0.394765</td>\n",
       "    </tr>\n",
       "    <tr>\n",
       "      <th>min</th>\n",
       "      <td>NaN</td>\n",
       "      <td>NaN</td>\n",
       "      <td>0.000000</td>\n",
       "      <td>NaN</td>\n",
       "      <td>0.050000</td>\n",
       "      <td>2.000000</td>\n",
       "      <td>NaN</td>\n",
       "      <td>18.000000</td>\n",
       "      <td>30000.000000</td>\n",
       "      <td>2013.000000</td>\n",
       "      <td>1.000000</td>\n",
       "      <td>1.000000</td>\n",
       "      <td>0.000000</td>\n",
       "      <td>1.000000</td>\n",
       "      <td>0.00000</td>\n",
       "      <td>0.000000</td>\n",
       "      <td>3.000000</td>\n",
       "      <td>NaN</td>\n",
       "      <td>1.0</td>\n",
       "      <td>0.000000</td>\n",
       "      <td>0.000000</td>\n",
       "      <td>0.000000</td>\n",
       "    </tr>\n",
       "    <tr>\n",
       "      <th>25%</th>\n",
       "      <td>NaN</td>\n",
       "      <td>NaN</td>\n",
       "      <td>186.000000</td>\n",
       "      <td>NaN</td>\n",
       "      <td>2.780000</td>\n",
       "      <td>2.000000</td>\n",
       "      <td>NaN</td>\n",
       "      <td>43.000000</td>\n",
       "      <td>48000.000000</td>\n",
       "      <td>2016.000000</td>\n",
       "      <td>4.000000</td>\n",
       "      <td>8.000000</td>\n",
       "      <td>1.000000</td>\n",
       "      <td>14.000000</td>\n",
       "      <td>2.00000</td>\n",
       "      <td>5.000000</td>\n",
       "      <td>5.000000</td>\n",
       "      <td>NaN</td>\n",
       "      <td>1.0</td>\n",
       "      <td>1.000000</td>\n",
       "      <td>0.000000</td>\n",
       "      <td>1.000000</td>\n",
       "    </tr>\n",
       "    <tr>\n",
       "      <th>50%</th>\n",
       "      <td>NaN</td>\n",
       "      <td>NaN</td>\n",
       "      <td>408.000000</td>\n",
       "      <td>NaN</td>\n",
       "      <td>8.890000</td>\n",
       "      <td>5.000000</td>\n",
       "      <td>NaN</td>\n",
       "      <td>57.000000</td>\n",
       "      <td>62000.000000</td>\n",
       "      <td>2017.000000</td>\n",
       "      <td>7.000000</td>\n",
       "      <td>16.000000</td>\n",
       "      <td>3.000000</td>\n",
       "      <td>29.000000</td>\n",
       "      <td>5.00000</td>\n",
       "      <td>10.000000</td>\n",
       "      <td>7.000000</td>\n",
       "      <td>NaN</td>\n",
       "      <td>1.0</td>\n",
       "      <td>1.000000</td>\n",
       "      <td>1.000000</td>\n",
       "      <td>1.000000</td>\n",
       "    </tr>\n",
       "    <tr>\n",
       "      <th>75%</th>\n",
       "      <td>NaN</td>\n",
       "      <td>NaN</td>\n",
       "      <td>528.000000</td>\n",
       "      <td>NaN</td>\n",
       "      <td>18.070000</td>\n",
       "      <td>5.000000</td>\n",
       "      <td>NaN</td>\n",
       "      <td>72.000000</td>\n",
       "      <td>78000.000000</td>\n",
       "      <td>2017.000000</td>\n",
       "      <td>10.000000</td>\n",
       "      <td>24.000000</td>\n",
       "      <td>5.000000</td>\n",
       "      <td>41.000000</td>\n",
       "      <td>5.00000</td>\n",
       "      <td>10.000000</td>\n",
       "      <td>7.000000</td>\n",
       "      <td>NaN</td>\n",
       "      <td>1.0</td>\n",
       "      <td>1.000000</td>\n",
       "      <td>1.000000</td>\n",
       "      <td>1.000000</td>\n",
       "    </tr>\n",
       "    <tr>\n",
       "      <th>max</th>\n",
       "      <td>NaN</td>\n",
       "      <td>NaN</td>\n",
       "      <td>714.000000</td>\n",
       "      <td>NaN</td>\n",
       "      <td>1062.280000</td>\n",
       "      <td>10.000000</td>\n",
       "      <td>NaN</td>\n",
       "      <td>118.000000</td>\n",
       "      <td>120000.000000</td>\n",
       "      <td>2018.000000</td>\n",
       "      <td>12.000000</td>\n",
       "      <td>31.000000</td>\n",
       "      <td>6.000000</td>\n",
       "      <td>53.000000</td>\n",
       "      <td>10.00000</td>\n",
       "      <td>20.000000</td>\n",
       "      <td>10.000000</td>\n",
       "      <td>NaN</td>\n",
       "      <td>1.0</td>\n",
       "      <td>1.000000</td>\n",
       "      <td>1.000000</td>\n",
       "      <td>1.000000</td>\n",
       "    </tr>\n",
       "  </tbody>\n",
       "</table>\n",
       "</div>"
      ],
      "text/plain": [
       "                             customer_id        event           time  \\\n",
       "count                             306534       306534  306534.000000   \n",
       "unique                             17000            4            NaN   \n",
       "top     94de646f7b6041228ca7dec82adb97d2  transaction            NaN   \n",
       "freq                                  51       138953            NaN   \n",
       "mean                                 NaN          NaN     366.382940   \n",
       "std                                  NaN          NaN     200.326314   \n",
       "min                                  NaN          NaN       0.000000   \n",
       "25%                                  NaN          NaN     186.000000   \n",
       "50%                                  NaN          NaN     408.000000   \n",
       "75%                                  NaN          NaN     528.000000   \n",
       "max                                  NaN          NaN     714.000000   \n",
       "\n",
       "                                offer_id         amount        reward  gender  \\\n",
       "count                             167581  138953.000000  33579.000000  272762   \n",
       "unique                                10            NaN           NaN       3   \n",
       "top     fafdcd668e3743c1bb461111dcafc2a4            NaN           NaN       M   \n",
       "freq                               20241            NaN           NaN  155690   \n",
       "mean                                 NaN      12.777356      4.904137     NaN   \n",
       "std                                  NaN      30.250529      2.886647     NaN   \n",
       "min                                  NaN       0.050000      2.000000     NaN   \n",
       "25%                                  NaN       2.780000      2.000000     NaN   \n",
       "50%                                  NaN       8.890000      5.000000     NaN   \n",
       "75%                                  NaN      18.070000      5.000000     NaN   \n",
       "max                                  NaN    1062.280000     10.000000     NaN   \n",
       "\n",
       "                  age         income  registered_year  registered_month  \\\n",
       "count   306534.000000  272762.000000    306534.000000     306534.000000   \n",
       "unique            NaN            NaN              NaN               NaN   \n",
       "top               NaN            NaN              NaN               NaN   \n",
       "freq              NaN            NaN              NaN               NaN   \n",
       "mean        60.909367   64337.000755      2016.476032          6.701710   \n",
       "std         26.032030   21243.762941         1.199589          3.500048   \n",
       "min         18.000000   30000.000000      2013.000000          1.000000   \n",
       "25%         43.000000   48000.000000      2016.000000          4.000000   \n",
       "50%         57.000000   62000.000000      2017.000000          7.000000   \n",
       "75%         72.000000   78000.000000      2017.000000         10.000000   \n",
       "max        118.000000  120000.000000      2018.000000         12.000000   \n",
       "\n",
       "        registered_day  registered_weekday  registered_week    reward_std  \\\n",
       "count    306534.000000       306534.000000    306534.000000  167581.00000   \n",
       "unique             NaN                 NaN              NaN           NaN   \n",
       "top                NaN                 NaN              NaN           NaN   \n",
       "freq               NaN                 NaN              NaN           NaN   \n",
       "mean         15.886153            3.029527        27.399486       4.41991   \n",
       "std           8.765044            2.006800        15.294352       3.37336   \n",
       "min           1.000000            0.000000         1.000000       0.00000   \n",
       "25%           8.000000            1.000000        14.000000       2.00000   \n",
       "50%          16.000000            3.000000        29.000000       5.00000   \n",
       "75%          24.000000            5.000000        41.000000       5.00000   \n",
       "max          31.000000            6.000000        53.000000      10.00000   \n",
       "\n",
       "           difficulty       duration offer_type     email         mobile  \\\n",
       "count   167581.000000  167581.000000     167581  167581.0  167581.000000   \n",
       "unique            NaN            NaN          3       NaN            NaN   \n",
       "top               NaN            NaN       bogo       NaN            NaN   \n",
       "freq              NaN            NaN      71617       NaN            NaN   \n",
       "mean         7.850401       6.610737        NaN       1.0       0.917944   \n",
       "std          5.048944       2.136130        NaN       0.0       0.274451   \n",
       "min          0.000000       3.000000        NaN       1.0       0.000000   \n",
       "25%          5.000000       5.000000        NaN       1.0       1.000000   \n",
       "50%         10.000000       7.000000        NaN       1.0       1.000000   \n",
       "75%         10.000000       7.000000        NaN       1.0       1.000000   \n",
       "max         20.000000      10.000000        NaN       1.0       1.000000   \n",
       "\n",
       "               social            web  \n",
       "count   167581.000000  167581.000000  \n",
       "unique            NaN            NaN  \n",
       "top               NaN            NaN  \n",
       "freq              NaN            NaN  \n",
       "mean         0.656996       0.806858  \n",
       "std          0.474714       0.394765  \n",
       "min          0.000000       0.000000  \n",
       "25%          0.000000       1.000000  \n",
       "50%          1.000000       1.000000  \n",
       "75%          1.000000       1.000000  \n",
       "max          1.000000       1.000000  "
      ]
     },
     "metadata": {},
     "output_type": "display_data"
    }
   ],
   "source": [
    "# see the descriptive statistics\n",
    "display_all(df.describe(include='all'), 'column')"
   ]
  },
  {
   "cell_type": "markdown",
   "metadata": {
    "hidden": true,
    "id": "AjnxrFsn7vDB"
   },
   "source": [
    "As explained earlier, we assume that the age equal to 118 means default value for unavailable data. Therefore, we're going to remove those ages."
   ]
  },
  {
   "cell_type": "code",
   "execution_count": null,
   "metadata": {
    "hidden": true,
    "id": "mrplWcNc7vDC"
   },
   "outputs": [],
   "source": [
    "# remove incomplete age data\n",
    "df = df[df.age < 118]"
   ]
  },
  {
   "cell_type": "code",
   "execution_count": null,
   "metadata": {
    "hidden": true,
    "id": "P6Lnm-lU7vDC",
    "outputId": "cfef1720-12c0-486b-8708-70b25858723c"
   },
   "outputs": [
    {
     "data": {
      "text/plain": [
       "Text(0.5, 0, 'Age')"
      ]
     },
     "execution_count": 33,
     "metadata": {},
     "output_type": "execute_result"
    },
    {
     "data": {
      "image/png": "[encoded data removed]",
      "text/plain": [
       "<Figure size 432x288 with 1 Axes>"
      ]
     },
     "metadata": {
      "needs_background": "light"
     },
     "output_type": "display_data"
    }
   ],
   "source": [
    "df.age.plot(kind='hist', bins=20)\n",
    "plt.grid()\n",
    "plt.xlabel('Age')"
   ]
  },
  {
   "cell_type": "code",
   "execution_count": null,
   "metadata": {
    "hidden": true,
    "id": "niYoG9fT7vDC",
    "outputId": "e948ced6-5d94-444b-e34a-edeb6d766e96",
    "scrolled": true
   },
   "outputs": [
    {
     "data": {
      "image/png": "[encoded data removed]",
      "text/plain": [
       "<Figure size 432x288 with 1 Axes>"
      ]
     },
     "metadata": {
      "needs_background": "light"
     },
     "output_type": "display_data"
    }
   ],
   "source": [
    "# check the distribution for 'age' col\n",
    "df.gender.value_counts().plot(kind='bar')\n",
    "plt.grid()\n",
    "plt.xlabel('Gender')\n",
    "plt.ylabel('Counts')\n",
    "plt.xticks(rotation=0);"
   ]
  },
  {
   "cell_type": "code",
   "execution_count": null,
   "metadata": {
    "hidden": true,
    "id": "6s22s24V7vDD",
    "outputId": "f5bdef4c-2f50-4257-94d8-9da9e53e6490"
   },
   "outputs": [
    {
     "data": {
      "text/html": [
       "<div>\n",
       "<style scoped>\n",
       "    .dataframe tbody tr th:only-of-type {\n",
       "        vertical-align: middle;\n",
       "    }\n",
       "\n",
       "    .dataframe tbody tr th {\n",
       "        vertical-align: top;\n",
       "    }\n",
       "\n",
       "    .dataframe thead th {\n",
       "        text-align: right;\n",
       "    }\n",
       "</style>\n",
       "<table border=\"1\" class=\"dataframe\">\n",
       "  <thead>\n",
       "    <tr style=\"text-align: right;\">\n",
       "      <th></th>\n",
       "      <th>customer_id</th>\n",
       "      <th>event</th>\n",
       "      <th>time</th>\n",
       "      <th>offer_id</th>\n",
       "      <th>amount</th>\n",
       "      <th>reward</th>\n",
       "      <th>gender</th>\n",
       "      <th>age</th>\n",
       "      <th>income</th>\n",
       "      <th>registered_year</th>\n",
       "      <th>...</th>\n",
       "      <th>registered_weekday</th>\n",
       "      <th>registered_week</th>\n",
       "      <th>reward_std</th>\n",
       "      <th>difficulty</th>\n",
       "      <th>duration</th>\n",
       "      <th>offer_type</th>\n",
       "      <th>email</th>\n",
       "      <th>mobile</th>\n",
       "      <th>social</th>\n",
       "      <th>web</th>\n",
       "    </tr>\n",
       "  </thead>\n",
       "  <tbody>\n",
       "    <tr>\n",
       "      <th>55972</th>\n",
       "      <td>0009655768c64bdeb2e877511632db8f</td>\n",
       "      <td>offer received</td>\n",
       "      <td>168</td>\n",
       "      <td>5a8bc65990b245e5a138643cd4eb9837</td>\n",
       "      <td>NaN</td>\n",
       "      <td>NaN</td>\n",
       "      <td>M</td>\n",
       "      <td>33</td>\n",
       "      <td>72000.0</td>\n",
       "      <td>2017</td>\n",
       "      <td>...</td>\n",
       "      <td>4</td>\n",
       "      <td>16</td>\n",
       "      <td>0.0</td>\n",
       "      <td>0.0</td>\n",
       "      <td>3.0</td>\n",
       "      <td>informational</td>\n",
       "      <td>1.0</td>\n",
       "      <td>1.0</td>\n",
       "      <td>1.0</td>\n",
       "      <td>0.0</td>\n",
       "    </tr>\n",
       "    <tr>\n",
       "      <th>77705</th>\n",
       "      <td>0009655768c64bdeb2e877511632db8f</td>\n",
       "      <td>offer viewed</td>\n",
       "      <td>192</td>\n",
       "      <td>5a8bc65990b245e5a138643cd4eb9837</td>\n",
       "      <td>NaN</td>\n",
       "      <td>NaN</td>\n",
       "      <td>M</td>\n",
       "      <td>33</td>\n",
       "      <td>72000.0</td>\n",
       "      <td>2017</td>\n",
       "      <td>...</td>\n",
       "      <td>4</td>\n",
       "      <td>16</td>\n",
       "      <td>0.0</td>\n",
       "      <td>0.0</td>\n",
       "      <td>3.0</td>\n",
       "      <td>informational</td>\n",
       "      <td>1.0</td>\n",
       "      <td>1.0</td>\n",
       "      <td>1.0</td>\n",
       "      <td>0.0</td>\n",
       "    </tr>\n",
       "    <tr>\n",
       "      <th>89291</th>\n",
       "      <td>0009655768c64bdeb2e877511632db8f</td>\n",
       "      <td>transaction</td>\n",
       "      <td>228</td>\n",
       "      <td>NaN</td>\n",
       "      <td>22.16</td>\n",
       "      <td>NaN</td>\n",
       "      <td>M</td>\n",
       "      <td>33</td>\n",
       "      <td>72000.0</td>\n",
       "      <td>2017</td>\n",
       "      <td>...</td>\n",
       "      <td>4</td>\n",
       "      <td>16</td>\n",
       "      <td>NaN</td>\n",
       "      <td>NaN</td>\n",
       "      <td>NaN</td>\n",
       "      <td>NaN</td>\n",
       "      <td>NaN</td>\n",
       "      <td>NaN</td>\n",
       "      <td>NaN</td>\n",
       "      <td>NaN</td>\n",
       "    </tr>\n",
       "    <tr>\n",
       "      <th>113605</th>\n",
       "      <td>0009655768c64bdeb2e877511632db8f</td>\n",
       "      <td>offer received</td>\n",
       "      <td>336</td>\n",
       "      <td>3f207df678b143eea3cee63160fa8bed</td>\n",
       "      <td>NaN</td>\n",
       "      <td>NaN</td>\n",
       "      <td>M</td>\n",
       "      <td>33</td>\n",
       "      <td>72000.0</td>\n",
       "      <td>2017</td>\n",
       "      <td>...</td>\n",
       "      <td>4</td>\n",
       "      <td>16</td>\n",
       "      <td>0.0</td>\n",
       "      <td>0.0</td>\n",
       "      <td>4.0</td>\n",
       "      <td>informational</td>\n",
       "      <td>1.0</td>\n",
       "      <td>1.0</td>\n",
       "      <td>0.0</td>\n",
       "      <td>1.0</td>\n",
       "    </tr>\n",
       "    <tr>\n",
       "      <th>139992</th>\n",
       "      <td>0009655768c64bdeb2e877511632db8f</td>\n",
       "      <td>offer viewed</td>\n",
       "      <td>372</td>\n",
       "      <td>3f207df678b143eea3cee63160fa8bed</td>\n",
       "      <td>NaN</td>\n",
       "      <td>NaN</td>\n",
       "      <td>M</td>\n",
       "      <td>33</td>\n",
       "      <td>72000.0</td>\n",
       "      <td>2017</td>\n",
       "      <td>...</td>\n",
       "      <td>4</td>\n",
       "      <td>16</td>\n",
       "      <td>0.0</td>\n",
       "      <td>0.0</td>\n",
       "      <td>4.0</td>\n",
       "      <td>informational</td>\n",
       "      <td>1.0</td>\n",
       "      <td>1.0</td>\n",
       "      <td>0.0</td>\n",
       "      <td>1.0</td>\n",
       "    </tr>\n",
       "  </tbody>\n",
       "</table>\n",
       "<p>5 rows × 22 columns</p>\n",
       "</div>"
      ],
      "text/plain": [
       "                             customer_id           event  time  \\\n",
       "55972   0009655768c64bdeb2e877511632db8f  offer received   168   \n",
       "77705   0009655768c64bdeb2e877511632db8f    offer viewed   192   \n",
       "89291   0009655768c64bdeb2e877511632db8f     transaction   228   \n",
       "113605  0009655768c64bdeb2e877511632db8f  offer received   336   \n",
       "139992  0009655768c64bdeb2e877511632db8f    offer viewed   372   \n",
       "\n",
       "                                offer_id  amount  reward gender  age   income  \\\n",
       "55972   5a8bc65990b245e5a138643cd4eb9837     NaN     NaN      M   33  72000.0   \n",
       "77705   5a8bc65990b245e5a138643cd4eb9837     NaN     NaN      M   33  72000.0   \n",
       "89291                                NaN   22.16     NaN      M   33  72000.0   \n",
       "113605  3f207df678b143eea3cee63160fa8bed     NaN     NaN      M   33  72000.0   \n",
       "139992  3f207df678b143eea3cee63160fa8bed     NaN     NaN      M   33  72000.0   \n",
       "\n",
       "        registered_year  ...  registered_weekday  registered_week  reward_std  \\\n",
       "55972              2017  ...                   4               16         0.0   \n",
       "77705              2017  ...                   4               16         0.0   \n",
       "89291              2017  ...                   4               16         NaN   \n",
       "113605             2017  ...                   4               16         0.0   \n",
       "139992             2017  ...                   4               16         0.0   \n",
       "\n",
       "        difficulty  duration     offer_type  email mobile  social  web  \n",
       "55972          0.0       3.0  informational    1.0    1.0     1.0  0.0  \n",
       "77705          0.0       3.0  informational    1.0    1.0     1.0  0.0  \n",
       "89291          NaN       NaN            NaN    NaN    NaN     NaN  NaN  \n",
       "113605         0.0       4.0  informational    1.0    1.0     0.0  1.0  \n",
       "139992         0.0       4.0  informational    1.0    1.0     0.0  1.0  \n",
       "\n",
       "[5 rows x 22 columns]"
      ]
     },
     "execution_count": 166,
     "metadata": {},
     "output_type": "execute_result"
    }
   ],
   "source": [
    "df.head()"
   ]
  },
  {
   "cell_type": "markdown",
   "metadata": {
    "hidden": true,
    "id": "9KjXNgxe7vDD"
   },
   "source": [
    "Next, we're going to transform the categorical columns. We will implement two kinds of categorical encoding, i.e. the label encoding and one-hot encoding. Our strategy is as follows:\n",
    "\n",
    "**label encoding:** `event` and `offer_type` cols<br>\n",
    "**one-hot encoding:** `gender` col\n",
    "\n",
    "The description about when we should use either of them over the other is explained clearly in this [analyticsvidhya article](https://www.analyticsvidhya.com/blog/2020/03/one-hot-encoding-vs-label-encoding-using-scikit-learn/)."
   ]
  },
  {
   "cell_type": "code",
   "execution_count": null,
   "metadata": {
    "hidden": true,
    "id": "1WxUzb477vDD",
    "outputId": "5666aef3-ae2b-4611-c5d4-d8f064b1cc57"
   },
   "outputs": [
    {
     "data": {
      "text/plain": [
       "array(['informational', nan, 'bogo', 'discount'], dtype=object)"
      ]
     },
     "execution_count": 34,
     "metadata": {},
     "output_type": "execute_result"
    }
   ],
   "source": [
    "# see the unique values\n",
    "df.offer_type.unique()"
   ]
  },
  {
   "cell_type": "markdown",
   "metadata": {
    "hidden": true,
    "id": "GTkIdP1UTq6K"
   },
   "source": [
    "The main reason why we implement label encoding to the `offer_type` column is because as explained in the beginning, the most offer is BOGO; the least one is informational; while the `NaNs` values indicate offers for the transaction event. Therefore, we have the ordinal numbers here:<br>\n",
    "- high: `BOGO`\n",
    "- medium: `discount`\n",
    "- low: `informational`\n",
    "- unwanted: `NaN`"
   ]
  },
  {
   "cell_type": "code",
   "execution_count": null,
   "metadata": {
    "hidden": true,
    "id": "Lqck8qd87vDE"
   },
   "outputs": [],
   "source": [
    "# create the encode/decode dict\n",
    "offer_type_dict_encode = {np.nan: 0,\n",
    "                          'informational': 1,\n",
    "                          'discount': 2,\n",
    "                          'bogo': 3}\n",
    "offer_type_dict_decode = {v: k for k, v in offer_type_dict_encode.items()}"
   ]
  },
  {
   "cell_type": "markdown",
   "metadata": {
    "hidden": true,
    "id": "frxvMm_GTq6K"
   },
   "source": [
    "For the `event` column, we're going to implement the same as the `offer_type` column. The right order descendingly would be `offer completed`, `transaction`, `offer viewed`, and `offer received`."
   ]
  },
  {
   "cell_type": "code",
   "execution_count": null,
   "metadata": {
    "hidden": true,
    "id": "G2f9Jcj97vDE",
    "outputId": "411b8df4-2048-47a2-8903-9016fd0a4d18"
   },
   "outputs": [
    {
     "data": {
      "text/plain": [
       "0     offer received\n",
       "1       offer viewed\n",
       "2        transaction\n",
       "3    offer completed\n",
       "dtype: object"
      ]
     },
     "execution_count": 37,
     "metadata": {},
     "output_type": "execute_result"
    }
   ],
   "source": [
    "pd.Series(df.event.unique())"
   ]
  },
  {
   "cell_type": "code",
   "execution_count": null,
   "metadata": {
    "hidden": true,
    "id": "AmBMTJGl7vDE"
   },
   "outputs": [],
   "source": [
    "# create the encode/decode dict\n",
    "event_dict_decode = pd.Series(df.event.unique()).to_dict()\n",
    "event_dict_encode = {v: k for k, v in event_dict_decode.items()}"
   ]
  },
  {
   "cell_type": "markdown",
   "metadata": {
    "hidden": true,
    "id": "NjFola2ETq6L"
   },
   "source": [
    "From now on, we will transform the `df` into a different dataframe for preparing the dataset for modelling. Therefore, we will make a copy `df`."
   ]
  },
  {
   "cell_type": "code",
   "execution_count": null,
   "metadata": {
    "hidden": true,
    "id": "PlwpP6rq7vDE"
   },
   "outputs": [],
   "source": [
    "XY = df.copy()\n",
    "\n",
    "# implement label encoding\n",
    "XY['offer_type'] = XY.offer_type.map(offer_type_dict_encode)\n",
    "XY['event'] = XY.event.map(event_dict_encode)"
   ]
  },
  {
   "cell_type": "code",
   "execution_count": null,
   "metadata": {
    "hidden": true,
    "id": "9s5VKhaM7vDF"
   },
   "outputs": [],
   "source": [
    "# one hot encoding\n",
    "XY = pd.concat([XY, pd.get_dummies(XY.gender)], axis=1) \\\n",
    "        .drop(columns='gender')"
   ]
  },
  {
   "cell_type": "code",
   "execution_count": null,
   "metadata": {
    "hidden": true,
    "id": "KOu2mtQw7vDF",
    "outputId": "b7247b90-b878-420e-d026-5eec0e8db6a5"
   },
   "outputs": [
    {
     "data": {
      "text/html": [
       "<div>\n",
       "<style scoped>\n",
       "    .dataframe tbody tr th:only-of-type {\n",
       "        vertical-align: middle;\n",
       "    }\n",
       "\n",
       "    .dataframe tbody tr th {\n",
       "        vertical-align: top;\n",
       "    }\n",
       "\n",
       "    .dataframe thead th {\n",
       "        text-align: right;\n",
       "    }\n",
       "</style>\n",
       "<table border=\"1\" class=\"dataframe\">\n",
       "  <thead>\n",
       "    <tr style=\"text-align: right;\">\n",
       "      <th></th>\n",
       "      <th>customer_id</th>\n",
       "      <th>event</th>\n",
       "      <th>time</th>\n",
       "      <th>offer_id</th>\n",
       "      <th>amount</th>\n",
       "      <th>reward</th>\n",
       "      <th>age</th>\n",
       "      <th>income</th>\n",
       "      <th>registered_year</th>\n",
       "      <th>registered_month</th>\n",
       "      <th>...</th>\n",
       "      <th>difficulty</th>\n",
       "      <th>duration</th>\n",
       "      <th>offer_type</th>\n",
       "      <th>email</th>\n",
       "      <th>mobile</th>\n",
       "      <th>social</th>\n",
       "      <th>web</th>\n",
       "      <th>F</th>\n",
       "      <th>M</th>\n",
       "      <th>O</th>\n",
       "    </tr>\n",
       "  </thead>\n",
       "  <tbody>\n",
       "    <tr>\n",
       "      <th>0</th>\n",
       "      <td>0009655768c64bdeb2e877511632db8f</td>\n",
       "      <td>0</td>\n",
       "      <td>168</td>\n",
       "      <td>5a8bc65990b245e5a138643cd4eb9837</td>\n",
       "      <td>NaN</td>\n",
       "      <td>NaN</td>\n",
       "      <td>33</td>\n",
       "      <td>72000.0</td>\n",
       "      <td>2017</td>\n",
       "      <td>4</td>\n",
       "      <td>...</td>\n",
       "      <td>0.0</td>\n",
       "      <td>3.0</td>\n",
       "      <td>1</td>\n",
       "      <td>1.0</td>\n",
       "      <td>1.0</td>\n",
       "      <td>1.0</td>\n",
       "      <td>0.0</td>\n",
       "      <td>0</td>\n",
       "      <td>1</td>\n",
       "      <td>0</td>\n",
       "    </tr>\n",
       "    <tr>\n",
       "      <th>1</th>\n",
       "      <td>0009655768c64bdeb2e877511632db8f</td>\n",
       "      <td>1</td>\n",
       "      <td>192</td>\n",
       "      <td>5a8bc65990b245e5a138643cd4eb9837</td>\n",
       "      <td>NaN</td>\n",
       "      <td>NaN</td>\n",
       "      <td>33</td>\n",
       "      <td>72000.0</td>\n",
       "      <td>2017</td>\n",
       "      <td>4</td>\n",
       "      <td>...</td>\n",
       "      <td>0.0</td>\n",
       "      <td>3.0</td>\n",
       "      <td>1</td>\n",
       "      <td>1.0</td>\n",
       "      <td>1.0</td>\n",
       "      <td>1.0</td>\n",
       "      <td>0.0</td>\n",
       "      <td>0</td>\n",
       "      <td>1</td>\n",
       "      <td>0</td>\n",
       "    </tr>\n",
       "    <tr>\n",
       "      <th>2</th>\n",
       "      <td>0009655768c64bdeb2e877511632db8f</td>\n",
       "      <td>2</td>\n",
       "      <td>228</td>\n",
       "      <td>NaN</td>\n",
       "      <td>22.16</td>\n",
       "      <td>NaN</td>\n",
       "      <td>33</td>\n",
       "      <td>72000.0</td>\n",
       "      <td>2017</td>\n",
       "      <td>4</td>\n",
       "      <td>...</td>\n",
       "      <td>NaN</td>\n",
       "      <td>NaN</td>\n",
       "      <td>0</td>\n",
       "      <td>NaN</td>\n",
       "      <td>NaN</td>\n",
       "      <td>NaN</td>\n",
       "      <td>NaN</td>\n",
       "      <td>0</td>\n",
       "      <td>1</td>\n",
       "      <td>0</td>\n",
       "    </tr>\n",
       "    <tr>\n",
       "      <th>3</th>\n",
       "      <td>0009655768c64bdeb2e877511632db8f</td>\n",
       "      <td>0</td>\n",
       "      <td>336</td>\n",
       "      <td>3f207df678b143eea3cee63160fa8bed</td>\n",
       "      <td>NaN</td>\n",
       "      <td>NaN</td>\n",
       "      <td>33</td>\n",
       "      <td>72000.0</td>\n",
       "      <td>2017</td>\n",
       "      <td>4</td>\n",
       "      <td>...</td>\n",
       "      <td>0.0</td>\n",
       "      <td>4.0</td>\n",
       "      <td>1</td>\n",
       "      <td>1.0</td>\n",
       "      <td>1.0</td>\n",
       "      <td>0.0</td>\n",
       "      <td>1.0</td>\n",
       "      <td>0</td>\n",
       "      <td>1</td>\n",
       "      <td>0</td>\n",
       "    </tr>\n",
       "    <tr>\n",
       "      <th>4</th>\n",
       "      <td>0009655768c64bdeb2e877511632db8f</td>\n",
       "      <td>1</td>\n",
       "      <td>372</td>\n",
       "      <td>3f207df678b143eea3cee63160fa8bed</td>\n",
       "      <td>NaN</td>\n",
       "      <td>NaN</td>\n",
       "      <td>33</td>\n",
       "      <td>72000.0</td>\n",
       "      <td>2017</td>\n",
       "      <td>4</td>\n",
       "      <td>...</td>\n",
       "      <td>0.0</td>\n",
       "      <td>4.0</td>\n",
       "      <td>1</td>\n",
       "      <td>1.0</td>\n",
       "      <td>1.0</td>\n",
       "      <td>0.0</td>\n",
       "      <td>1.0</td>\n",
       "      <td>0</td>\n",
       "      <td>1</td>\n",
       "      <td>0</td>\n",
       "    </tr>\n",
       "  </tbody>\n",
       "</table>\n",
       "<p>5 rows × 24 columns</p>\n",
       "</div>"
      ],
      "text/plain": [
       "                        customer_id  event  time  \\\n",
       "0  0009655768c64bdeb2e877511632db8f      0   168   \n",
       "1  0009655768c64bdeb2e877511632db8f      1   192   \n",
       "2  0009655768c64bdeb2e877511632db8f      2   228   \n",
       "3  0009655768c64bdeb2e877511632db8f      0   336   \n",
       "4  0009655768c64bdeb2e877511632db8f      1   372   \n",
       "\n",
       "                           offer_id  amount  reward  age   income  \\\n",
       "0  5a8bc65990b245e5a138643cd4eb9837     NaN     NaN   33  72000.0   \n",
       "1  5a8bc65990b245e5a138643cd4eb9837     NaN     NaN   33  72000.0   \n",
       "2                               NaN   22.16     NaN   33  72000.0   \n",
       "3  3f207df678b143eea3cee63160fa8bed     NaN     NaN   33  72000.0   \n",
       "4  3f207df678b143eea3cee63160fa8bed     NaN     NaN   33  72000.0   \n",
       "\n",
       "   registered_year  registered_month  ...  difficulty  duration  offer_type  \\\n",
       "0             2017                 4  ...         0.0       3.0           1   \n",
       "1             2017                 4  ...         0.0       3.0           1   \n",
       "2             2017                 4  ...         NaN       NaN           0   \n",
       "3             2017                 4  ...         0.0       4.0           1   \n",
       "4             2017                 4  ...         0.0       4.0           1   \n",
       "\n",
       "   email  mobile  social  web  F  M  O  \n",
       "0    1.0     1.0     1.0  0.0  0  1  0  \n",
       "1    1.0     1.0     1.0  0.0  0  1  0  \n",
       "2    NaN     NaN     NaN  NaN  0  1  0  \n",
       "3    1.0     1.0     0.0  1.0  0  1  0  \n",
       "4    1.0     1.0     0.0  1.0  0  1  0  \n",
       "\n",
       "[5 rows x 24 columns]"
      ]
     },
     "execution_count": 79,
     "metadata": {},
     "output_type": "execute_result"
    }
   ],
   "source": [
    "XY.head()"
   ]
  },
  {
   "cell_type": "code",
   "execution_count": null,
   "metadata": {
    "hidden": true,
    "id": "Kfaq8cqo7vDF"
   },
   "outputs": [],
   "source": [
    "# for modelling, we dont need identification cols as they cause bias\n",
    "cols2drop = ['customer_id', 'offer_id', 'reward_std']\n",
    "XY.drop(columns=cols2drop, inplace=True)"
   ]
  },
  {
   "cell_type": "code",
   "execution_count": null,
   "metadata": {
    "hidden": true,
    "id": "tVnTw6cI7vDF",
    "outputId": "9ea5f43e-b2cb-472e-a84a-4ddcb72a2ca9",
    "scrolled": true
   },
   "outputs": [
    {
     "data": {
      "text/plain": [
       "event                   int64\n",
       "time                    int64\n",
       "amount                float64\n",
       "reward                float64\n",
       "age                     int64\n",
       "income                float64\n",
       "registered_year         int64\n",
       "registered_month        int64\n",
       "registered_day          int64\n",
       "registered_weekday      int64\n",
       "registered_week         int64\n",
       "difficulty            float64\n",
       "duration              float64\n",
       "offer_type              int64\n",
       "email                 float64\n",
       "mobile                float64\n",
       "social                float64\n",
       "web                   float64\n",
       "F                       uint8\n",
       "M                       uint8\n",
       "O                       uint8\n",
       "dtype: object"
      ]
     },
     "execution_count": 216,
     "metadata": {},
     "output_type": "execute_result"
    }
   ],
   "source": [
    "XY.dtypes"
   ]
  },
  {
   "cell_type": "code",
   "execution_count": null,
   "metadata": {
    "hidden": true,
    "id": "taFqNq-D7vDG",
    "outputId": "4de5fed2-c5c3-4556-a6d4-5cb0aebfac3e",
    "scrolled": true
   },
   "outputs": [
    {
     "name": "stdout",
     "output_type": "stream",
     "text": [
      "<class 'pandas.core.frame.DataFrame'>\n",
      "Int64Index: 123957 entries, 2 to 306533\n",
      "Data columns (total 21 columns):\n",
      " #   Column              Non-Null Count   Dtype  \n",
      "---  ------              --------------   -----  \n",
      " 0   event               123957 non-null  int64  \n",
      " 1   time                123957 non-null  int64  \n",
      " 2   amount              123957 non-null  float64\n",
      " 3   reward              0 non-null       float64\n",
      " 4   age                 123957 non-null  int64  \n",
      " 5   income              123957 non-null  float64\n",
      " 6   registered_year     123957 non-null  int64  \n",
      " 7   registered_month    123957 non-null  int64  \n",
      " 8   registered_day      123957 non-null  int64  \n",
      " 9   registered_weekday  123957 non-null  int64  \n",
      " 10  registered_week     123957 non-null  int64  \n",
      " 11  difficulty          0 non-null       float64\n",
      " 12  duration            0 non-null       float64\n",
      " 13  offer_type          123957 non-null  int64  \n",
      " 14  email               0 non-null       float64\n",
      " 15  mobile              0 non-null       float64\n",
      " 16  social              0 non-null       float64\n",
      " 17  web                 0 non-null       float64\n",
      " 18  F                   123957 non-null  uint8  \n",
      " 19  M                   123957 non-null  uint8  \n",
      " 20  O                   123957 non-null  uint8  \n",
      "dtypes: float64(9), int64(9), uint8(3)\n",
      "memory usage: 18.3 MB\n"
     ]
    }
   ],
   "source": [
    "XY.info()"
   ]
  },
  {
   "cell_type": "markdown",
   "metadata": {
    "hidden": true,
    "id": "7ljqQiRPTq6R"
   },
   "source": [
    "Our target for modelling will be the `amount' column. As such a column still has missing values, we're going to remove them."
   ]
  },
  {
   "cell_type": "code",
   "execution_count": null,
   "metadata": {
    "hidden": true,
    "id": "MSlMP8Ab7vDG",
    "scrolled": true
   },
   "outputs": [],
   "source": [
    "# remove missing values\n",
    "XY = XY[XY.amount.notnull()]"
   ]
  },
  {
   "cell_type": "markdown",
   "metadata": {
    "hidden": true,
    "id": "4lpcfG1h7vDG"
   },
   "source": [
    "For the remaining columns that still have `NaNs`, we're going to check the number of unique values of each. If any column has only one unique value, we will drop the column."
   ]
  },
  {
   "cell_type": "code",
   "execution_count": null,
   "metadata": {
    "hidden": true,
    "id": "ywZ3oZao7vDG",
    "outputId": "98c5f311-8a59-4d33-b121-72f8304ec38b",
    "scrolled": true
   },
   "outputs": [
    {
     "name": "stdout",
     "output_type": "stream",
     "text": [
      "event [2]\n",
      "time 120\n",
      "amount 5036\n",
      "reward [nan]\n",
      "age 84\n",
      "income 91\n",
      "registered_year 6\n",
      "registered_month 12\n",
      "registered_day 31\n",
      "registered_weekday 7\n",
      "registered_week 53\n",
      "difficulty [nan]\n",
      "duration [nan]\n",
      "offer_type [0]\n",
      "email [nan]\n",
      "mobile [nan]\n",
      "social [nan]\n",
      "web [nan]\n",
      "F 2\n",
      "M 2\n",
      "O 2\n"
     ]
    }
   ],
   "source": [
    "unimportant_cols = []\n",
    "for col in XY.columns:\n",
    "    # if only 1 unique value\n",
    "    if XY[col].nunique() < 2:\n",
    "        print(col, XY[col].unique())\n",
    "        unimportant_cols.append(col)\n",
    "    else: # if >= 2 unique values\n",
    "        print(col, XY[col].nunique())"
   ]
  },
  {
   "cell_type": "markdown",
   "metadata": {
    "hidden": true,
    "id": "G7G9QVszTq6S"
   },
   "source": [
    "As seen above, we don't need `event`, `reward`, `difficulty`, `offer_type`, `email`, `mobile`, `social`, and `web` columns.\n"
   ]
  },
  {
   "cell_type": "code",
   "execution_count": null,
   "metadata": {
    "hidden": true,
    "id": "3Tbb7hw77vDG"
   },
   "outputs": [],
   "source": [
    "XY.drop(columns=unimportant_cols, inplace=True)"
   ]
  },
  {
   "cell_type": "code",
   "execution_count": null,
   "metadata": {
    "hidden": true,
    "id": "Srm9xipr7vDH",
    "outputId": "704f8b3b-f00d-4af4-da4f-9c45c25eb9ef"
   },
   "outputs": [
    {
     "data": {
      "text/plain": [
       "time                  0\n",
       "amount                0\n",
       "age                   0\n",
       "income                0\n",
       "registered_year       0\n",
       "registered_month      0\n",
       "registered_day        0\n",
       "registered_weekday    0\n",
       "registered_week       0\n",
       "F                     0\n",
       "M                     0\n",
       "O                     0\n",
       "dtype: int64"
      ]
     },
     "execution_count": 83,
     "metadata": {},
     "output_type": "execute_result"
    }
   ],
   "source": [
    "XY.isnull().sum()"
   ]
  },
  {
   "cell_type": "code",
   "execution_count": null,
   "metadata": {
    "hidden": true,
    "id": "a2Nk7nbC7vDH",
    "outputId": "29441233-f13b-4b65-f766-6001ea61d751",
    "scrolled": true
   },
   "outputs": [
    {
     "data": {
      "text/html": [
       "<div>\n",
       "<style scoped>\n",
       "    .dataframe tbody tr th:only-of-type {\n",
       "        vertical-align: middle;\n",
       "    }\n",
       "\n",
       "    .dataframe tbody tr th {\n",
       "        vertical-align: top;\n",
       "    }\n",
       "\n",
       "    .dataframe thead th {\n",
       "        text-align: right;\n",
       "    }\n",
       "</style>\n",
       "<table border=\"1\" class=\"dataframe\">\n",
       "  <thead>\n",
       "    <tr style=\"text-align: right;\">\n",
       "      <th></th>\n",
       "      <th>time</th>\n",
       "      <th>amount</th>\n",
       "      <th>age</th>\n",
       "      <th>income</th>\n",
       "      <th>registered_year</th>\n",
       "      <th>registered_month</th>\n",
       "      <th>registered_day</th>\n",
       "      <th>registered_weekday</th>\n",
       "      <th>registered_week</th>\n",
       "      <th>F</th>\n",
       "      <th>M</th>\n",
       "      <th>O</th>\n",
       "    </tr>\n",
       "  </thead>\n",
       "  <tbody>\n",
       "    <tr>\n",
       "      <th>2</th>\n",
       "      <td>228</td>\n",
       "      <td>22.16</td>\n",
       "      <td>33</td>\n",
       "      <td>72000.0</td>\n",
       "      <td>2017</td>\n",
       "      <td>4</td>\n",
       "      <td>21</td>\n",
       "      <td>4</td>\n",
       "      <td>16</td>\n",
       "      <td>0</td>\n",
       "      <td>1</td>\n",
       "      <td>0</td>\n",
       "    </tr>\n",
       "    <tr>\n",
       "      <th>6</th>\n",
       "      <td>414</td>\n",
       "      <td>8.57</td>\n",
       "      <td>33</td>\n",
       "      <td>72000.0</td>\n",
       "      <td>2017</td>\n",
       "      <td>4</td>\n",
       "      <td>21</td>\n",
       "      <td>4</td>\n",
       "      <td>16</td>\n",
       "      <td>0</td>\n",
       "      <td>1</td>\n",
       "      <td>0</td>\n",
       "    </tr>\n",
       "    <tr>\n",
       "      <th>10</th>\n",
       "      <td>528</td>\n",
       "      <td>14.11</td>\n",
       "      <td>33</td>\n",
       "      <td>72000.0</td>\n",
       "      <td>2017</td>\n",
       "      <td>4</td>\n",
       "      <td>21</td>\n",
       "      <td>4</td>\n",
       "      <td>16</td>\n",
       "      <td>0</td>\n",
       "      <td>1</td>\n",
       "      <td>0</td>\n",
       "    </tr>\n",
       "    <tr>\n",
       "      <th>13</th>\n",
       "      <td>552</td>\n",
       "      <td>13.56</td>\n",
       "      <td>33</td>\n",
       "      <td>72000.0</td>\n",
       "      <td>2017</td>\n",
       "      <td>4</td>\n",
       "      <td>21</td>\n",
       "      <td>4</td>\n",
       "      <td>16</td>\n",
       "      <td>0</td>\n",
       "      <td>1</td>\n",
       "      <td>0</td>\n",
       "    </tr>\n",
       "    <tr>\n",
       "      <th>15</th>\n",
       "      <td>576</td>\n",
       "      <td>10.27</td>\n",
       "      <td>33</td>\n",
       "      <td>72000.0</td>\n",
       "      <td>2017</td>\n",
       "      <td>4</td>\n",
       "      <td>21</td>\n",
       "      <td>4</td>\n",
       "      <td>16</td>\n",
       "      <td>0</td>\n",
       "      <td>1</td>\n",
       "      <td>0</td>\n",
       "    </tr>\n",
       "  </tbody>\n",
       "</table>\n",
       "</div>"
      ],
      "text/plain": [
       "    time  amount  age   income  registered_year  registered_month  \\\n",
       "2    228   22.16   33  72000.0             2017                 4   \n",
       "6    414    8.57   33  72000.0             2017                 4   \n",
       "10   528   14.11   33  72000.0             2017                 4   \n",
       "13   552   13.56   33  72000.0             2017                 4   \n",
       "15   576   10.27   33  72000.0             2017                 4   \n",
       "\n",
       "    registered_day  registered_weekday  registered_week  F  M  O  \n",
       "2               21                   4               16  0  1  0  \n",
       "6               21                   4               16  0  1  0  \n",
       "10              21                   4               16  0  1  0  \n",
       "13              21                   4               16  0  1  0  \n",
       "15              21                   4               16  0  1  0  "
      ]
     },
     "metadata": {},
     "output_type": "display_data"
    }
   ],
   "source": [
    "display_all(XY.head(), 'column')"
   ]
  },
  {
   "cell_type": "code",
   "execution_count": null,
   "metadata": {
    "hidden": true,
    "id": "0WYfNwi17vDH",
    "outputId": "baeed97c-bab7-4b2a-8afd-2d001687ec43"
   },
   "outputs": [
    {
     "name": "stdout",
     "output_type": "stream",
     "text": [
      "Saved successfully!\n"
     ]
    }
   ],
   "source": [
    "# save the prepared dataset for modelling\n",
    "XY.to_csv('data/model_dataset.csv', index=False)\n",
    "print('Saved successfully!')"
   ]
  },
  {
   "cell_type": "markdown",
   "metadata": {
    "id": "n6ej1bXj7vDI"
   },
   "source": [
    "# Modelling"
   ]
  },
  {
   "cell_type": "markdown",
   "metadata": {
    "id": "Ge4_kWA3Tq6U"
   },
   "source": [
    "## Preparing"
   ]
  },
  {
   "cell_type": "code",
   "execution_count": null,
   "metadata": {
    "id": "bzbnTBPU7vDI"
   },
   "outputs": [],
   "source": [
    "# load dataset\n",
    "XY = pd.read_csv('data/model_dataset.csv')"
   ]
  },
  {
   "cell_type": "code",
   "execution_count": null,
   "metadata": {
    "id": "wqASunii7vDJ",
    "outputId": "66e4d14c-a60b-40bb-cc2c-a97eab1657e4",
    "scrolled": true
   },
   "outputs": [
    {
     "data": {
      "text/plain": [
       "<AxesSubplot:>"
      ]
     },
     "execution_count": 85,
     "metadata": {},
     "output_type": "execute_result"
    },
    {
     "data": {
      "image/png": "[encoded data removed]",
      "text/plain": [
       "<Figure size 432x288 with 1 Axes>"
      ]
     },
     "metadata": {},
     "output_type": "display_data"
    }
   ],
   "source": [
    "# see the distribution of target col\n",
    "XY.amount.hist()"
   ]
  },
  {
   "cell_type": "markdown",
   "metadata": {
    "id": "VNTLN0aqTq6V"
   },
   "source": [
    "There's a huge gap in the distribution. Let's see it in boxplot"
   ]
  },
  {
   "cell_type": "code",
   "execution_count": null,
   "metadata": {
    "id": "KWskUBeE7vDJ",
    "outputId": "a2ff75e4-74cb-4acd-c00d-779a51c2f917"
   },
   "outputs": [
    {
     "data": {
      "text/plain": [
       "<AxesSubplot:xlabel='amount'>"
      ]
     },
     "execution_count": 86,
     "metadata": {},
     "output_type": "execute_result"
    },
    {
     "data": {
      "image/png": "[encoded data removed]",
      "text/plain": [
       "<Figure size 1008x288 with 1 Axes>"
      ]
     },
     "metadata": {},
     "output_type": "display_data"
    }
   ],
   "source": [
    "plt.figure(figsize=(14, 4))\n",
    "sns.set_theme(style=\"whitegrid\")\n",
    "sns.boxplot(x=XY.amount)"
   ]
  },
  {
   "cell_type": "markdown",
   "metadata": {
    "id": "iDR1OQ3fTq6V"
   },
   "source": [
    "A lot of outliers identified. We can also see them by using the quantiles. There's a big gap between the median and the max value. Let's remove those outliers."
   ]
  },
  {
   "cell_type": "code",
   "execution_count": null,
   "metadata": {
    "id": "tbt5CVT67vDJ",
    "outputId": "408a1224-031c-4b7f-b1c5-d724c958776d",
    "scrolled": false
   },
   "outputs": [
    {
     "data": {
      "text/plain": [
       "count    123957.000000\n",
       "mean         13.996325\n",
       "std          31.749420\n",
       "min           0.050000\n",
       "25%           3.660000\n",
       "50%          10.800000\n",
       "75%          19.130000\n",
       "max        1062.280000\n",
       "Name: amount, dtype: float64"
      ]
     },
     "execution_count": 87,
     "metadata": {},
     "output_type": "execute_result"
    }
   ],
   "source": [
    "XY.amount.describe()"
   ]
  },
  {
   "cell_type": "code",
   "execution_count": null,
   "metadata": {
    "id": "a9QnpKXp7vDJ",
    "outputId": "e3708048-4b92-428e-97cd-04ba37b7dafd"
   },
   "outputs": [
    {
     "data": {
      "text/plain": [
       "42.334999999999994"
      ]
     },
     "execution_count": 88,
     "metadata": {},
     "output_type": "execute_result"
    }
   ],
   "source": [
    "# set the upper value of IQR\n",
    "Q3 = XY.amount.describe()['75%']\n",
    "Q1 = XY.amount.describe()['25%']\n",
    "IQR = Q3 - Q1\n",
    "upper = Q3 + (1.5*IQR)\n",
    "upper"
   ]
  },
  {
   "cell_type": "code",
   "execution_count": null,
   "metadata": {
    "id": "Kl5l9pTZ7vDK",
    "outputId": "34254c56-aa38-4cc8-ec37-2bb242029100"
   },
   "outputs": [
    {
     "data": {
      "text/plain": [
       "0.8075380978887841"
      ]
     },
     "execution_count": 89,
     "metadata": {},
     "output_type": "execute_result"
    }
   ],
   "source": [
    "# see the proportion of outliers\n",
    "XY[XY.amount > upper].amount.shape[0] / XY.shape[0] * 100"
   ]
  },
  {
   "cell_type": "code",
   "execution_count": null,
   "metadata": {
    "id": "zSqX9VmZ7vDK"
   },
   "outputs": [],
   "source": [
    "# remove outliers\n",
    "XY = XY[XY.amount <= upper]"
   ]
  },
  {
   "cell_type": "code",
   "execution_count": null,
   "metadata": {
    "id": "r05UHrks7vDK",
    "outputId": "faa47e57-3258-4e24-e548-533347f1b7b8"
   },
   "outputs": [
    {
     "data": {
      "text/plain": [
       "<AxesSubplot:>"
      ]
     },
     "execution_count": 91,
     "metadata": {},
     "output_type": "execute_result"
    },
    {
     "data": {
      "image/png": "[encoded data removed]",
      "text/plain": [
       "<Figure size 432x288 with 1 Axes>"
      ]
     },
     "metadata": {},
     "output_type": "display_data"
    }
   ],
   "source": [
    "# see the distribution after removing outliers\n",
    "XY.amount.hist(bins=40)"
   ]
  },
  {
   "cell_type": "markdown",
   "metadata": {
    "id": "MLvs9oJRTq6X"
   },
   "source": [
    "Now, it's much better.\n",
    "\n",
    "Next, let's see the correlation among all features."
   ]
  },
  {
   "cell_type": "code",
   "execution_count": null,
   "metadata": {
    "id": "fO5i_A8Q7vDK",
    "outputId": "e331ffdb-b29b-44e8-936e-a4de46b79e88",
    "scrolled": false
   },
   "outputs": [
    {
     "data": {
      "text/plain": [
       "<AxesSubplot:>"
      ]
     },
     "execution_count": 94,
     "metadata": {},
     "output_type": "execute_result"
    },
    {
     "data": {
      "image/png": "[encoded data removed]",
      "text/plain": [
       "<Figure size 792x648 with 2 Axes>"
      ]
     },
     "metadata": {},
     "output_type": "display_data"
    }
   ],
   "source": [
    "# Generate a mask for the upper triangle\n",
    "XY_corr = XY.corr()\n",
    "mask = np.triu(np.ones_like(XY_corr, dtype=bool))\n",
    "\n",
    "# Set up the matplotlib figure\n",
    "f, ax = plt.subplots(figsize=(11, 9))\n",
    "\n",
    "# Generate a custom diverging colormap\n",
    "cmap = sns.diverging_palette(230, 20, as_cmap=True)\n",
    "\n",
    "# Draw the heatmap with the mask and correct aspect ratio\n",
    "sns.heatmap(XY_corr, mask=mask, cmap=cmap, vmax=.3, center=0,\n",
    "            square=True, linewidths=.5, cbar_kws={\"shrink\": .5})"
   ]
  },
  {
   "cell_type": "markdown",
   "metadata": {
    "id": "-hLP0JpuTq6X"
   },
   "source": [
    "Nice. No multicollinearity found in the dataset, except the correlation between `M` and `F`. This occurs since both share the same value, i.e. either 0 or 1.\n",
    "\n",
    "However, what makes challenging here is that each correlation between `amount` and other columns doesn't have strong value. This will make our models struggling to find accurate prediction."
   ]
  },
  {
   "cell_type": "code",
   "execution_count": null,
   "metadata": {
    "id": "gnrv4Jm_7vDL",
    "outputId": "1b3aedf3-9e34-4221-ddcb-96d4ce93721e",
    "scrolled": false
   },
   "outputs": [
    {
     "data": {
      "text/html": [
       "<div>\n",
       "<style scoped>\n",
       "    .dataframe tbody tr th:only-of-type {\n",
       "        vertical-align: middle;\n",
       "    }\n",
       "\n",
       "    .dataframe tbody tr th {\n",
       "        vertical-align: top;\n",
       "    }\n",
       "\n",
       "    .dataframe thead th {\n",
       "        text-align: right;\n",
       "    }\n",
       "</style>\n",
       "<table border=\"1\" class=\"dataframe\">\n",
       "  <thead>\n",
       "    <tr style=\"text-align: right;\">\n",
       "      <th></th>\n",
       "      <th>time</th>\n",
       "      <th>amount</th>\n",
       "      <th>age</th>\n",
       "      <th>income</th>\n",
       "      <th>registered_year</th>\n",
       "      <th>registered_month</th>\n",
       "      <th>registered_day</th>\n",
       "      <th>registered_weekday</th>\n",
       "      <th>registered_week</th>\n",
       "      <th>F</th>\n",
       "      <th>M</th>\n",
       "      <th>O</th>\n",
       "    </tr>\n",
       "  </thead>\n",
       "  <tbody>\n",
       "    <tr>\n",
       "      <th>2</th>\n",
       "      <td>228</td>\n",
       "      <td>22.16</td>\n",
       "      <td>33</td>\n",
       "      <td>72000.0</td>\n",
       "      <td>2017</td>\n",
       "      <td>4</td>\n",
       "      <td>21</td>\n",
       "      <td>4</td>\n",
       "      <td>16</td>\n",
       "      <td>0</td>\n",
       "      <td>1</td>\n",
       "      <td>0</td>\n",
       "    </tr>\n",
       "    <tr>\n",
       "      <th>6</th>\n",
       "      <td>414</td>\n",
       "      <td>8.57</td>\n",
       "      <td>33</td>\n",
       "      <td>72000.0</td>\n",
       "      <td>2017</td>\n",
       "      <td>4</td>\n",
       "      <td>21</td>\n",
       "      <td>4</td>\n",
       "      <td>16</td>\n",
       "      <td>0</td>\n",
       "      <td>1</td>\n",
       "      <td>0</td>\n",
       "    </tr>\n",
       "    <tr>\n",
       "      <th>10</th>\n",
       "      <td>528</td>\n",
       "      <td>14.11</td>\n",
       "      <td>33</td>\n",
       "      <td>72000.0</td>\n",
       "      <td>2017</td>\n",
       "      <td>4</td>\n",
       "      <td>21</td>\n",
       "      <td>4</td>\n",
       "      <td>16</td>\n",
       "      <td>0</td>\n",
       "      <td>1</td>\n",
       "      <td>0</td>\n",
       "    </tr>\n",
       "    <tr>\n",
       "      <th>13</th>\n",
       "      <td>552</td>\n",
       "      <td>13.56</td>\n",
       "      <td>33</td>\n",
       "      <td>72000.0</td>\n",
       "      <td>2017</td>\n",
       "      <td>4</td>\n",
       "      <td>21</td>\n",
       "      <td>4</td>\n",
       "      <td>16</td>\n",
       "      <td>0</td>\n",
       "      <td>1</td>\n",
       "      <td>0</td>\n",
       "    </tr>\n",
       "    <tr>\n",
       "      <th>15</th>\n",
       "      <td>576</td>\n",
       "      <td>10.27</td>\n",
       "      <td>33</td>\n",
       "      <td>72000.0</td>\n",
       "      <td>2017</td>\n",
       "      <td>4</td>\n",
       "      <td>21</td>\n",
       "      <td>4</td>\n",
       "      <td>16</td>\n",
       "      <td>0</td>\n",
       "      <td>1</td>\n",
       "      <td>0</td>\n",
       "    </tr>\n",
       "  </tbody>\n",
       "</table>\n",
       "</div>"
      ],
      "text/plain": [
       "    time  amount  age   income  registered_year  registered_month  \\\n",
       "2    228   22.16   33  72000.0             2017                 4   \n",
       "6    414    8.57   33  72000.0             2017                 4   \n",
       "10   528   14.11   33  72000.0             2017                 4   \n",
       "13   552   13.56   33  72000.0             2017                 4   \n",
       "15   576   10.27   33  72000.0             2017                 4   \n",
       "\n",
       "    registered_day  registered_weekday  registered_week  F  M  O  \n",
       "2               21                   4               16  0  1  0  \n",
       "6               21                   4               16  0  1  0  \n",
       "10              21                   4               16  0  1  0  \n",
       "13              21                   4               16  0  1  0  \n",
       "15              21                   4               16  0  1  0  "
      ]
     },
     "metadata": {},
     "output_type": "display_data"
    }
   ],
   "source": [
    "display_all(XY.head(), 'column')"
   ]
  },
  {
   "cell_type": "code",
   "execution_count": null,
   "metadata": {
    "id": "_h824aF67vDL",
    "outputId": "dd9659f3-5dc1-4485-f419-a50a8281a9d0",
    "scrolled": true
   },
   "outputs": [
    {
     "data": {
      "text/plain": [
       "(122956, 12)"
      ]
     },
     "execution_count": 5,
     "metadata": {},
     "output_type": "execute_result"
    }
   ],
   "source": [
    "XY.shape"
   ]
  },
  {
   "cell_type": "markdown",
   "metadata": {
    "id": "X5qMArm-Tq6Y"
   },
   "source": [
    "Divide the final dataset into the input features and target label. Then, split those into train set and test set."
   ]
  },
  {
   "cell_type": "code",
   "execution_count": null,
   "metadata": {
    "id": "dDZaX9k97vDL"
   },
   "outputs": [],
   "source": [
    "X = XY.drop(columns='amount').values\n",
    "y = XY.amount.values\n",
    "\n",
    "X_train, X_test, y_train, y_test = train_test_split(X, y,\n",
    "                                                    test_size=0.075,\n",
    "                                                    random_state=0)"
   ]
  },
  {
   "cell_type": "code",
   "execution_count": null,
   "metadata": {
    "id": "TDSXrSC57vDL",
    "outputId": "63045bf0-1be7-4d25-d8a2-af3f877af672"
   },
   "outputs": [
    {
     "name": "stdout",
     "output_type": "stream",
     "text": [
      "(113734, 11) (9222, 11)\n",
      "(113734,) (9222,)\n"
     ]
    }
   ],
   "source": [
    "# check the proportion\n",
    "print(X_train.shape, X_test.shape)\n",
    "print(y_train.shape, y_test.shape)"
   ]
  },
  {
   "cell_type": "code",
   "execution_count": null,
   "metadata": {
    "id": "6k3CJhbD7vDL"
   },
   "outputs": [],
   "source": [
    "# scale the X datasets\n",
    "scaler = StandardScaler()\n",
    "X_train_scaled = scaler.fit_transform(X_train)\n",
    "X_test_scaled = scaler.transform(X_test)"
   ]
  },
  {
   "cell_type": "code",
   "execution_count": null,
   "metadata": {
    "id": "GC0Umt3Y7vDM"
   },
   "outputs": [],
   "source": [
    "# to make it easier for later modelling, let's save the datsets\n",
    "np.save('data/X_train_scaled.npy', X_train_scaled)\n",
    "np.save('data/X_test_scaled.npy', X_test_scaled)\n",
    "np.save('data/y_train.npy', y_train)\n",
    "np.save('data/y_test.npy', y_test)"
   ]
  },
  {
   "cell_type": "code",
   "execution_count": 2,
   "metadata": {
    "executionInfo": {
     "elapsed": 4713,
     "status": "ok",
     "timestamp": 1638775771017,
     "user": {
      "displayName": "Reza Dwi Utomo",
      "photoUrl": "https://lh3.googleusercontent.com/a-/AOh14GjuLhy_JmgD4iWFIjOE-G6ClGlqtizVTS9lhAZQ=s64",
      "userId": "08330585941225764736"
     },
     "user_tz": -420
    },
    "id": "hJQjQpDr7vDM",
    "scrolled": true
   },
   "outputs": [],
   "source": [
    "# load the datasets\n",
    "X_train_scaled = np.load('data/X_train_scaled.npy')\n",
    "X_test_scaled = np.load('data/X_test_scaled.npy')\n",
    "y_train = np.load('data/y_train.npy')\n",
    "y_test = np.load('data/y_test.npy')"
   ]
  },
  {
   "cell_type": "markdown",
   "metadata": {
    "heading_collapsed": true,
    "id": "D1Dl_oAj7vDM"
   },
   "source": [
    "## Build models"
   ]
  },
  {
   "cell_type": "markdown",
   "metadata": {
    "hidden": true,
    "id": "BuDn7_kNTq6a"
   },
   "source": [
    "We will use 4 types of models, i.e. Random Forest, Gradient Boosing, Auto Sklearn, and Neural Network. For the first two models, we're going to use `scikit-learn` library. For the third one, `Auto Sklearn` library will be used. This library will automate many algorithms from `scikit-learn` in order to find the best composed algorithm for your problem. Finally, we will implement a neural network with middle-deep network. The library used will be `PyTorch`."
   ]
  },
  {
   "cell_type": "markdown",
   "metadata": {
    "hidden": true,
    "id": "z0Lkl0PL7vDN"
   },
   "source": [
    "### Random Forest"
   ]
  },
  {
   "cell_type": "code",
   "execution_count": null,
   "metadata": {
    "hidden": true,
    "id": "ZuSvJmi57vDN",
    "outputId": "58ed8f3e-10f6-4ef8-975d-5128f4aff7e5",
    "scrolled": false
   },
   "outputs": [
    {
     "data": {
      "text/plain": [
       "RandomForestRegressor(random_state=0)"
      ]
     },
     "execution_count": 103,
     "metadata": {},
     "output_type": "execute_result"
    }
   ],
   "source": [
    "# instantiate the model. just use the default parameters\n",
    "regressor = RandomForestRegressor(random_state=0)\n",
    "regressor.fit(X_train_scaled, y_train) # train the model"
   ]
  },
  {
   "cell_type": "markdown",
   "metadata": {
    "hidden": true,
    "id": "Qy9afbrs7vDN"
   },
   "source": [
    "### Gradient Boosting"
   ]
  },
  {
   "cell_type": "code",
   "execution_count": null,
   "metadata": {
    "hidden": true,
    "id": "HKVJGxLp7vDO",
    "outputId": "44910cb7-92b1-43c9-fe34-88b2e40ee472"
   },
   "outputs": [
    {
     "data": {
      "text/plain": [
       "GradientBoostingRegressor(random_state=0)"
      ]
     },
     "execution_count": 111,
     "metadata": {},
     "output_type": "execute_result"
    }
   ],
   "source": [
    "# instantiate the model. just use the default parameters\n",
    "regressor_GB = GradientBoostingRegressor(random_state=0)\n",
    "regressor_GB.fit(X_train_scaled, y_train) # train the model"
   ]
  },
  {
   "cell_type": "markdown",
   "metadata": {
    "hidden": true,
    "id": "z1QSRDio7vDM"
   },
   "source": [
    "### Auto Sklearn"
   ]
  },
  {
   "cell_type": "markdown",
   "metadata": {
    "hidden": true,
    "id": "WNKQKMqOTq6c"
   },
   "source": [
    "For more detail about how to use this library, you can read it [here](https://automl.github.io/auto-sklearn/master/api.html#regression)."
   ]
  },
  {
   "cell_type": "code",
   "execution_count": null,
   "metadata": {
    "hidden": true,
    "id": "kh3WnBn87vDM"
   },
   "outputs": [],
   "source": [
    "automl = AutoSklearnRegressor(time_left_for_this_task=3600,\n",
    "                              per_run_time_limit=600,\n",
    "                              # n_jobs=-1, # in case you wanna use multiprocess\n",
    "                              resampling_strategy='cv',\n",
    "                              resampling_strategy_arguments={'folds': 4},\n",
    "                              seed=0,\n",
    "                              tmp_folder='/tmp/autosklearn_regression_tmp')"
   ]
  },
  {
   "cell_type": "code",
   "execution_count": null,
   "metadata": {
    "hidden": true,
    "id": "8s3sHCCK7vDM",
    "outputId": "2aaf640a-55f6-4e7d-f586-5978690d146f",
    "scrolled": true
   },
   "outputs": [
    {
     "data": {
      "text/plain": [
       "AutoSklearnRegressor(per_run_time_limit=600, resampling_strategy='cv',\n",
       "                     resampling_strategy_arguments={'folds': 4}, seed=0,\n",
       "                     tmp_folder='/tmp/autosklearn_regression_tmp')"
      ]
     },
     "execution_count": 101,
     "metadata": {},
     "output_type": "execute_result"
    }
   ],
   "source": [
    "# this will take up to 1 hour as time_left_for_this_task equal to 3600\n",
    "automl.fit(X_train_scaled, y_train, dataset_name='starbucks_predict_amount')"
   ]
  },
  {
   "cell_type": "markdown",
   "metadata": {
    "hidden": true,
    "id": "GJ1ELNLuTq6d"
   },
   "source": [
    "Afterwards, we can see the best model found by `Auto Sklearn`."
   ]
  },
  {
   "cell_type": "code",
   "execution_count": null,
   "metadata": {
    "hidden": true,
    "id": "XdpUvcOL7vDN",
    "outputId": "f1e8bd83-60fd-42a6-f3f9-db69b8ee38f8",
    "scrolled": true
   },
   "outputs": [
    {
     "name": "stdout",
     "output_type": "stream",
     "text": [
      "          rank  ensemble_weight            type      cost   duration\n",
      "model_id                                                            \n",
      "4            1              1.0  ard_regression  0.472278  16.586985\n"
     ]
    }
   ],
   "source": [
    "print(automl.leaderboard())"
   ]
  },
  {
   "cell_type": "markdown",
   "metadata": {
    "hidden": true,
    "id": "LmihVV9OTq6e"
   },
   "source": [
    "Unfortunately, `Auto Sklearn` just found 1 best model. If you want `Auto Sklearn` to find other best model possibilites, you could tune the arguments in the `AutoSklearnRegressor()` class above."
   ]
  },
  {
   "cell_type": "markdown",
   "metadata": {
    "hidden": true,
    "id": "VnqLr5kG7vDO"
   },
   "source": [
    "### Neural Nets"
   ]
  },
  {
   "cell_type": "markdown",
   "metadata": {
    "hidden": true,
    "id": "wgCfHFdETq6e"
   },
   "source": [
    "In order to use `PyTorch` NN model, we should tune many things. If you want to train the NN model using GPU, but you maybe don't have a CUDA GPU installed on your local computer, then you could use [Google Colab](https://research.google.com/colaboratory/) as I did."
   ]
  },
  {
   "cell_type": "code",
   "execution_count": null,
   "metadata": {
    "hidden": true,
    "id": "r-h4V2PQ7vDO"
   },
   "outputs": [],
   "source": [
    "# Convert the numpy arrays to tensors\n",
    "X_train = torch.from_numpy(X_train_scaled.astype(np.float32)).to(device='cuda') #.view(-1,1)\n",
    "y_train = torch.from_numpy(y_train.astype(np.float32)).view(-1,1).to(device='cuda')\n",
    "\n",
    "X_val = torch.from_numpy(X_test_scaled.astype(np.float32)).to(device='cuda') #.view(-1,1)\n",
    "y_val = torch.from_numpy(y_test.astype(np.float32)).view(-1,1).to(device='cuda')"
   ]
  },
  {
   "cell_type": "code",
   "execution_count": null,
   "metadata": {
    "hidden": true,
    "id": "53pQu_937vDO"
   },
   "outputs": [],
   "source": [
    "#Create dataset loaders\n",
    "batch_size = 128\n",
    "train_dataset = torch.utils.data.TensorDataset(X_train, y_train)\n",
    "train_loader = torch.utils.data.DataLoader(train_dataset,\n",
    "                                           batch_size=batch_size,\n",
    "                                           shuffle=True)\n",
    "\n",
    "val_dataset = torch.utils.data.TensorDataset(X_val, y_val)\n",
    "val_loader = torch.utils.data.DataLoader(val_dataset,\n",
    "                                         batch_size=batch_size,\n",
    "                                         shuffle=False)"
   ]
  },
  {
   "cell_type": "markdown",
   "metadata": {
    "hidden": true,
    "id": "jjcW0wuMTq6f"
   },
   "source": [
    "We're going use an NN model with architecture as follows:\n",
    "- ReLU(n_input, 16)\n",
    "- ReLU(16, 64)\n",
    "- ReLU(64, 8)\n",
    "- Linear(8, n_output)\n",
    "\n",
    "This architecture is merely arbitrary. You could define better architecture if you want to."
   ]
  },
  {
   "cell_type": "code",
   "execution_count": null,
   "metadata": {
    "hidden": true,
    "id": "Bcuk0hMk7vDO"
   },
   "outputs": [],
   "source": [
    "# define layer\n",
    "class LinearRegression(nn.Module):\n",
    "\n",
    "    def __init__(self, n_feature:int, n_output:int):\n",
    "        super(LinearRegression, self).__init__()\n",
    "        self.hidden1 = torch.nn.Linear(n_feature, 16)   # hidden layer 1\n",
    "        self.hidden2 = torch.nn.Linear(16, 64)   # hidden layer 2\n",
    "        self.hidden3 = torch.nn.Linear(64, 8)   # hidden layer 3\n",
    "        self.predict = torch.nn.Linear(8, n_output)   # output layer\n",
    "\n",
    "    def forward(self, x):\n",
    "        # set activation function for hidden layers\n",
    "        x = nn.functional.relu(self.hidden1(x))\n",
    "        x = nn.functional.relu(self.hidden2(x))\n",
    "        x = nn.functional.relu(self.hidden3(x))\n",
    "\n",
    "        y_pred = self.predict(x) # linear output\n",
    "        return y_pred"
   ]
  },
  {
   "cell_type": "code",
   "execution_count": null,
   "metadata": {
    "hidden": true,
    "id": "Ta7njg9T7vDP"
   },
   "outputs": [],
   "source": [
    "#Training loop\n",
    "def train(model: nn.Module,\n",
    "          train_loader: torch.utils.data.DataLoader,\n",
    "          val_loader: torch.utils.data.DataLoader,\n",
    "          n_epochs: int,\n",
    "          lr: float) -> nn.Module:\n",
    "    \n",
    "    #Loss and optimizer\n",
    "    criterion = nn.MSELoss(reduction='mean')\n",
    "    optimizer = torch.optim.Adam(model.parameters(), lr=lr)\n",
    "\n",
    "    #Train weigths\n",
    "    for epoch in range(n_epochs):\n",
    "        for inputs, labels in train_loader:\n",
    "            #Zero the parameter gradients\n",
    "            optimizer.zero_grad()\n",
    "\n",
    "            #Forward propagation\n",
    "            pred_y = model(inputs)\n",
    "\n",
    "            #Compute loss\n",
    "            loss = criterion(pred_y,labels)\n",
    "\n",
    "            #Backward propagration to compute gradient\n",
    "            loss.backward()\n",
    "\n",
    "            #Update parameters\n",
    "            optimizer.step()\n",
    "\n",
    "        # Evaluate model on validation data\n",
    "        mse_val = 0\n",
    "        for inputs, labels in val_loader:\n",
    "            mse_val += torch.sum(torch.pow(labels - model(inputs), 2)).item()\n",
    "\n",
    "        mse_val /= len(val_loader.dataset)\n",
    "\n",
    "        print(f'Epoch: {epoch + 1}: Val MSE: {mse_val}')\n",
    "\n",
    "    return model"
   ]
  },
  {
   "cell_type": "code",
   "execution_count": null,
   "metadata": {
    "hidden": true,
    "id": "COwgQZfS8krP"
   },
   "outputs": [],
   "source": [
    "# set the GPU device\n",
    "device = torch.device(\"cuda:0\" if torch.cuda.is_available() else \"cpu\")"
   ]
  },
  {
   "cell_type": "code",
   "execution_count": null,
   "metadata": {
    "colab": {
     "base_uri": "https://localhost:8080/"
    },
    "executionInfo": {
     "elapsed": 442,
     "status": "ok",
     "timestamp": 1638697377477,
     "user": {
      "displayName": "Reza Dwi Utomo",
      "photoUrl": "https://lh3.googleusercontent.com/a-/AOh14GjuLhy_JmgD4iWFIjOE-G6ClGlqtizVTS9lhAZQ=s64",
      "userId": "08330585941225764736"
     },
     "user_tz": -420
    },
    "hidden": true,
    "id": "48z0NHEK7vDP",
    "outputId": "371298c0-a3a2-4c97-b571-94150f3ae414",
    "scrolled": true
   },
   "outputs": [
    {
     "name": "stdout",
     "output_type": "stream",
     "text": [
      "LinearRegression(\n",
      "  (hidden1): Linear(in_features=11, out_features=16, bias=True)\n",
      "  (hidden2): Linear(in_features=16, out_features=64, bias=True)\n",
      "  (hidden3): Linear(in_features=64, out_features=8, bias=True)\n",
      "  (predict): Linear(in_features=8, out_features=1, bias=True)\n",
      ")\n"
     ]
    }
   ],
   "source": [
    "#Initialize mmodel\n",
    "\n",
    "n_features = X_train.shape[1]\n",
    "n_output = y_train.shape[1]\n",
    "\n",
    "model = LinearRegression(n_features, n_output)\n",
    "model.to(device)\n",
    "\n",
    "print(model)"
   ]
  },
  {
   "cell_type": "code",
   "execution_count": null,
   "metadata": {
    "colab": {
     "base_uri": "https://localhost:8080/"
    },
    "executionInfo": {
     "elapsed": 621579,
     "status": "ok",
     "timestamp": 1638698002370,
     "user": {
      "displayName": "Reza Dwi Utomo",
      "photoUrl": "https://lh3.googleusercontent.com/a-/AOh14GjuLhy_JmgD4iWFIjOE-G6ClGlqtizVTS9lhAZQ=s64",
      "userId": "08330585941225764736"
     },
     "user_tz": -420
    },
    "hidden": true,
    "id": "aF_mZMGp9fzQ",
    "outputId": "a8d7568f-b396-4c70-84ab-08f1bf6a0934"
   },
   "outputs": [
    {
     "name": "stdout",
     "output_type": "stream",
     "text": [
      "Epoch: 1: Val MSE: 62.88089407542553\n",
      "Epoch: 2: Val MSE: 49.800009908450704\n",
      "Epoch: 3: Val MSE: 46.626468348208384\n",
      "Epoch: 4: Val MSE: 45.6697479095823\n",
      "Epoch: 5: Val MSE: 45.06635710485223\n",
      "Epoch: 6: Val MSE: 44.56061029775467\n",
      "Epoch: 7: Val MSE: 44.178059664188304\n",
      "Epoch: 8: Val MSE: 43.81400991525445\n",
      "Epoch: 9: Val MSE: 43.53632945927537\n",
      "Epoch: 10: Val MSE: 43.33712027456051\n",
      "Epoch: 11: Val MSE: 43.13052555796537\n",
      "Epoch: 12: Val MSE: 42.95350293548525\n",
      "Epoch: 13: Val MSE: 42.82298607413615\n",
      "Epoch: 14: Val MSE: 42.736269240833316\n",
      "Epoch: 15: Val MSE: 42.58080854810931\n",
      "Epoch: 16: Val MSE: 42.486284784214845\n",
      "Epoch: 17: Val MSE: 42.37160716308117\n",
      "Epoch: 18: Val MSE: 42.29720411629513\n",
      "Epoch: 19: Val MSE: 42.20240974964017\n",
      "Epoch: 20: Val MSE: 42.11778063537293\n",
      "Epoch: 21: Val MSE: 42.012093986820645\n",
      "Epoch: 22: Val MSE: 41.99873411285725\n",
      "Epoch: 23: Val MSE: 41.871654622184046\n",
      "Epoch: 24: Val MSE: 41.83653500850018\n",
      "Epoch: 25: Val MSE: 41.774574162308035\n",
      "Epoch: 26: Val MSE: 41.71011805239636\n",
      "Epoch: 27: Val MSE: 41.65758866339282\n",
      "Epoch: 28: Val MSE: 41.60090589223418\n",
      "Epoch: 29: Val MSE: 41.565670973927304\n",
      "Epoch: 30: Val MSE: 41.49693605765891\n",
      "Epoch: 31: Val MSE: 41.449612736831234\n",
      "Epoch: 32: Val MSE: 41.43278114419779\n",
      "Epoch: 33: Val MSE: 41.36540589821724\n",
      "Epoch: 34: Val MSE: 41.32966942209092\n",
      "Epoch: 35: Val MSE: 41.326715054467556\n",
      "Epoch: 36: Val MSE: 41.28511061592904\n",
      "Epoch: 37: Val MSE: 41.26182558468794\n",
      "Epoch: 38: Val MSE: 41.22584101177043\n",
      "Epoch: 39: Val MSE: 41.17254568351062\n",
      "Epoch: 40: Val MSE: 41.18294496687238\n",
      "Epoch: 41: Val MSE: 41.115538740023645\n",
      "Epoch: 42: Val MSE: 41.08573122837362\n",
      "Epoch: 43: Val MSE: 41.06660708955042\n",
      "Epoch: 44: Val MSE: 41.0751322190122\n",
      "Epoch: 45: Val MSE: 41.02681370811487\n",
      "Epoch: 46: Val MSE: 40.997935920339735\n",
      "Epoch: 47: Val MSE: 41.00444013388341\n",
      "Epoch: 48: Val MSE: 41.01236750169008\n",
      "Epoch: 49: Val MSE: 40.938429981993636\n",
      "Epoch: 50: Val MSE: 40.9146348071755\n",
      "Epoch: 51: Val MSE: 40.86552594659955\n",
      "Epoch: 52: Val MSE: 40.860367820671904\n",
      "Epoch: 53: Val MSE: 40.835281410126285\n",
      "Epoch: 54: Val MSE: 40.836192448520265\n",
      "Epoch: 55: Val MSE: 40.81412531088087\n",
      "Epoch: 56: Val MSE: 40.81910485420897\n",
      "Epoch: 57: Val MSE: 40.79169393459594\n",
      "Epoch: 58: Val MSE: 40.7179866154575\n",
      "Epoch: 59: Val MSE: 40.70598585583387\n",
      "Epoch: 60: Val MSE: 40.68521137688429\n",
      "Epoch: 61: Val MSE: 40.6508953431195\n",
      "Epoch: 62: Val MSE: 40.67934988067766\n",
      "Epoch: 63: Val MSE: 40.62071977068095\n",
      "Epoch: 64: Val MSE: 40.63748811263889\n",
      "Epoch: 65: Val MSE: 40.57249612173272\n",
      "Epoch: 66: Val MSE: 40.607342864189405\n",
      "Epoch: 67: Val MSE: 40.54279264352038\n",
      "Epoch: 68: Val MSE: 40.550689893336596\n",
      "Epoch: 69: Val MSE: 40.52037132062976\n",
      "Epoch: 70: Val MSE: 40.4964680321122\n",
      "Epoch: 71: Val MSE: 40.495504431806246\n",
      "Epoch: 72: Val MSE: 40.4996987472928\n",
      "Epoch: 73: Val MSE: 40.498686521385785\n",
      "Epoch: 74: Val MSE: 40.46472353946617\n",
      "Epoch: 75: Val MSE: 40.419864721552614\n",
      "Epoch: 76: Val MSE: 40.416899825662625\n",
      "Epoch: 77: Val MSE: 40.40773062539499\n",
      "Epoch: 78: Val MSE: 40.42105891704042\n",
      "Epoch: 79: Val MSE: 40.369224134688004\n",
      "Epoch: 80: Val MSE: 40.41059941589845\n",
      "Epoch: 81: Val MSE: 40.36161792286046\n",
      "Epoch: 82: Val MSE: 40.38206357672581\n",
      "Epoch: 83: Val MSE: 40.43381205393109\n",
      "Epoch: 84: Val MSE: 40.31050647941594\n",
      "Epoch: 85: Val MSE: 40.31740235424021\n",
      "Epoch: 86: Val MSE: 40.28123444172701\n",
      "Epoch: 87: Val MSE: 40.2726294625687\n",
      "Epoch: 88: Val MSE: 40.24983645860866\n",
      "Epoch: 89: Val MSE: 40.22443176944611\n",
      "Epoch: 90: Val MSE: 40.22345278625554\n",
      "Epoch: 91: Val MSE: 40.2418958953083\n",
      "Epoch: 92: Val MSE: 40.2086535991337\n",
      "Epoch: 93: Val MSE: 40.183566753426334\n",
      "Epoch: 94: Val MSE: 40.18075299599093\n",
      "Epoch: 95: Val MSE: 40.185675655572645\n",
      "Epoch: 96: Val MSE: 40.19439644069998\n",
      "Epoch: 97: Val MSE: 40.155334244320436\n",
      "Epoch: 98: Val MSE: 40.16233467792022\n",
      "Epoch: 99: Val MSE: 40.14402969548977\n",
      "Epoch: 100: Val MSE: 40.143310723917985\n",
      "Epoch: 101: Val MSE: 40.11039188859055\n",
      "Epoch: 102: Val MSE: 40.11405417500853\n",
      "Epoch: 103: Val MSE: 40.086235911746364\n",
      "Epoch: 104: Val MSE: 40.10474870789726\n",
      "Epoch: 105: Val MSE: 40.104808786690455\n",
      "Epoch: 106: Val MSE: 40.1024345525354\n",
      "Epoch: 107: Val MSE: 40.06406507903649\n",
      "Epoch: 108: Val MSE: 40.05005355699283\n",
      "Epoch: 109: Val MSE: 40.042186661775915\n",
      "Epoch: 110: Val MSE: 40.06144777809661\n",
      "Epoch: 111: Val MSE: 40.03332256779601\n",
      "Epoch: 112: Val MSE: 40.01890962063374\n",
      "Epoch: 113: Val MSE: 40.01930862257988\n",
      "Epoch: 114: Val MSE: 40.020035622306565\n",
      "Epoch: 115: Val MSE: 40.02489996856114\n",
      "Epoch: 116: Val MSE: 40.00052650185268\n",
      "Epoch: 117: Val MSE: 39.99818381195962\n",
      "Epoch: 118: Val MSE: 39.995812268196126\n",
      "Epoch: 119: Val MSE: 39.9916489873525\n",
      "Epoch: 120: Val MSE: 39.98015694420706\n",
      "Epoch: 121: Val MSE: 39.97384682603421\n",
      "Epoch: 122: Val MSE: 39.96459763542842\n",
      "Epoch: 123: Val MSE: 39.95996498963342\n",
      "Epoch: 124: Val MSE: 39.94163860320218\n",
      "Epoch: 125: Val MSE: 39.93244435052452\n",
      "Epoch: 126: Val MSE: 39.922701431701306\n",
      "Epoch: 127: Val MSE: 39.9531315886465\n",
      "Epoch: 128: Val MSE: 39.922683032467475\n",
      "Epoch: 129: Val MSE: 39.9266736525513\n",
      "Epoch: 130: Val MSE: 39.9204660985248\n",
      "Epoch: 131: Val MSE: 39.91124122899257\n",
      "Epoch: 132: Val MSE: 39.90412296087513\n",
      "Epoch: 133: Val MSE: 39.88283332488822\n",
      "Epoch: 134: Val MSE: 39.88263770066019\n",
      "Epoch: 135: Val MSE: 39.88571879797038\n",
      "Epoch: 136: Val MSE: 39.87193493914434\n",
      "Epoch: 137: Val MSE: 39.87040244842708\n",
      "Epoch: 138: Val MSE: 39.90702343959143\n",
      "Epoch: 139: Val MSE: 39.86009351159093\n",
      "Epoch: 140: Val MSE: 39.87511780473473\n",
      "Epoch: 141: Val MSE: 39.843834967397086\n",
      "Epoch: 142: Val MSE: 39.84013313420862\n",
      "Epoch: 143: Val MSE: 39.85892583697718\n",
      "Epoch: 144: Val MSE: 39.83470033022257\n",
      "Epoch: 145: Val MSE: 39.87502058827936\n",
      "Epoch: 146: Val MSE: 39.822496083676754\n",
      "Epoch: 147: Val MSE: 39.86072734368646\n",
      "Epoch: 148: Val MSE: 39.86122490066531\n",
      "Epoch: 149: Val MSE: 39.821329021267715\n",
      "Epoch: 150: Val MSE: 39.81566714682049\n",
      "Epoch: 151: Val MSE: 39.811203357015664\n",
      "Epoch: 152: Val MSE: 39.81313032432793\n",
      "Epoch: 153: Val MSE: 39.87180224046147\n",
      "Epoch: 154: Val MSE: 39.790989518605095\n",
      "Epoch: 155: Val MSE: 39.93294370937078\n",
      "Epoch: 156: Val MSE: 39.85640777276824\n",
      "Epoch: 157: Val MSE: 39.7865802613496\n",
      "Epoch: 158: Val MSE: 39.796623364003665\n",
      "Epoch: 159: Val MSE: 39.815997045744886\n",
      "Epoch: 160: Val MSE: 39.78341459705731\n",
      "Epoch: 161: Val MSE: 39.804042472831085\n",
      "Epoch: 162: Val MSE: 39.80843758815748\n",
      "Epoch: 163: Val MSE: 39.78011255671729\n",
      "Epoch: 164: Val MSE: 39.79255097487877\n",
      "Epoch: 165: Val MSE: 39.78763596371957\n",
      "Epoch: 166: Val MSE: 39.777437751553265\n",
      "Epoch: 167: Val MSE: 39.75705574629649\n",
      "Epoch: 168: Val MSE: 39.73540292978545\n",
      "Epoch: 169: Val MSE: 39.736309998776385\n",
      "Epoch: 170: Val MSE: 39.72896131003816\n",
      "Epoch: 171: Val MSE: 39.7255091968107\n",
      "Epoch: 172: Val MSE: 39.72221908288053\n",
      "Epoch: 173: Val MSE: 39.71501833258625\n",
      "Epoch: 174: Val MSE: 39.751761289822824\n",
      "Epoch: 175: Val MSE: 39.72366908645713\n",
      "Epoch: 176: Val MSE: 39.70662756716965\n",
      "Epoch: 177: Val MSE: 39.714798893594505\n",
      "Epoch: 178: Val MSE: 39.755288614055075\n",
      "Epoch: 179: Val MSE: 39.725234854637584\n",
      "Epoch: 180: Val MSE: 39.730763408269574\n",
      "Epoch: 181: Val MSE: 39.71355627519504\n",
      "Epoch: 182: Val MSE: 39.70727039288347\n",
      "Epoch: 183: Val MSE: 39.69048419853944\n",
      "Epoch: 184: Val MSE: 39.75430686601561\n",
      "Epoch: 185: Val MSE: 39.696186694424625\n",
      "Epoch: 186: Val MSE: 39.754830239005784\n",
      "Epoch: 187: Val MSE: 39.69279701201473\n",
      "Epoch: 188: Val MSE: 39.734412432182275\n",
      "Epoch: 189: Val MSE: 39.69532067376035\n",
      "Epoch: 190: Val MSE: 39.76959279891184\n",
      "Epoch: 191: Val MSE: 39.68016811214489\n",
      "Epoch: 192: Val MSE: 39.67388779841439\n",
      "Epoch: 193: Val MSE: 39.66931583203506\n",
      "Epoch: 194: Val MSE: 39.689037356917495\n",
      "Epoch: 195: Val MSE: 39.6951018850293\n",
      "Epoch: 196: Val MSE: 39.71324854304542\n",
      "Epoch: 197: Val MSE: 39.67310912447259\n",
      "Epoch: 198: Val MSE: 39.65932475685479\n",
      "Epoch: 199: Val MSE: 39.66553711420645\n",
      "Epoch: 200: Val MSE: 39.65373127063891\n"
     ]
    }
   ],
   "source": [
    "#Train model\n",
    "\n",
    "n_epochs = 200\n",
    "lr = 0.0001\n",
    "\n",
    "model = train(model, train_loader, val_loader, n_epochs, lr)"
   ]
  },
  {
   "cell_type": "markdown",
   "metadata": {
    "heading_collapsed": true,
    "id": "Y5KnmCX9Tq6h"
   },
   "source": [
    "## Model Evaluation"
   ]
  },
  {
   "cell_type": "code",
   "execution_count": null,
   "metadata": {
    "hidden": true,
    "id": "Qg1egLog7vDQ",
    "outputId": "0dcc95b7-35e3-474f-a392-eecff62bd30b"
   },
   "outputs": [
    {
     "name": "stdout",
     "output_type": "stream",
     "text": [
      "Random Forest results:\n",
      "Test MAE score: 4.01857752295236\n",
      "Test MSE score: 29.039960015361302\n",
      "Test RMSE score: 5.388873724198898\n",
      "Test R2 score: 0.6752137388815952\n"
     ]
    }
   ],
   "source": [
    "preds = regressor.predict(X_test_scaled)\n",
    "\n",
    "print('Random Forest results:')\n",
    "print(\"Test MAE score:\", mean_absolute_error(y_test, preds))\n",
    "print(\"Test MSE score:\", mean_squared_error(y_test, preds))\n",
    "print(\"Test RMSE score:\", mean_squared_error(y_test, preds, squared=False))\n",
    "print(\"Test R2 score:\", r2_score(y_test, preds))"
   ]
  },
  {
   "cell_type": "code",
   "execution_count": null,
   "metadata": {
    "hidden": true,
    "id": "jvR_MsCD7vDQ",
    "outputId": "381348c9-d61e-446f-af49-5bb051b88e92",
    "scrolled": true
   },
   "outputs": [
    {
     "name": "stdout",
     "output_type": "stream",
     "text": [
      "Gradient Boosting results:\n",
      "Test MAE score: 4.9411972143356895\n",
      "Test MSE score: 39.37320803447824\n",
      "Test RMSE score: 6.274807410150389\n",
      "Test R2 score: 0.5596455016125743\n"
     ]
    }
   ],
   "source": [
    "preds_GB = regressor_GB.predict(X_test_scaled)\n",
    "\n",
    "print('Gradient Boosting results:')\n",
    "print(\"Test MAE score:\", mean_absolute_error(y_test, preds_GB))\n",
    "print(\"Test MSE score:\", mean_squared_error(y_test, preds_GB))\n",
    "print(\"Test RMSE score:\", mean_squared_error(y_test, preds_GB, squared=False))\n",
    "print(\"Test R2 score:\", r2_score(y_test, preds_GB))"
   ]
  },
  {
   "cell_type": "code",
   "execution_count": null,
   "metadata": {
    "hidden": true,
    "id": "vlesaOIw7vDQ",
    "outputId": "efd098c0-907c-4218-8c0e-64bb9588de09"
   },
   "outputs": [
    {
     "name": "stdout",
     "output_type": "stream",
     "text": [
      "Auto-Sklearn results:\n",
      "Test MAE score: 5.166066412663035\n",
      "Test MSE score: 42.61109913388565\n",
      "Test RMSE score: 6.527717758442506\n",
      "Test R2 score: 0.5234325542280458\n"
     ]
    }
   ],
   "source": [
    "test_predictions = automl.predict(X_test_scaled)\n",
    "print('Auto-Sklearn results:')\n",
    "print(\"Test MAE score:\", mean_absolute_error(y_test, test_predictions))\n",
    "print(\"Test MSE score:\", mean_squared_error(y_test, test_predictions))\n",
    "print(\"Test RMSE score:\", mean_squared_error(y_test, test_predictions, squared=False))\n",
    "print(\"Test R2 score:\", r2_score(y_test, test_predictions))"
   ]
  },
  {
   "cell_type": "code",
   "execution_count": null,
   "metadata": {
    "colab": {
     "base_uri": "https://localhost:8080/"
    },
    "executionInfo": {
     "elapsed": 476,
     "status": "ok",
     "timestamp": 1638699148299,
     "user": {
      "displayName": "Reza Dwi Utomo",
      "photoUrl": "https://lh3.googleusercontent.com/a-/AOh14GjuLhy_JmgD4iWFIjOE-G6ClGlqtizVTS9lhAZQ=s64",
      "userId": "08330585941225764736"
     },
     "user_tz": -420
    },
    "hidden": true,
    "id": "X8C9omXC7vDP",
    "outputId": "af1d9b36-378e-456f-92db-ce13092b8461"
   },
   "outputs": [
    {
     "name": "stdout",
     "output_type": "stream",
     "text": [
      "Neural Networks results:\n",
      "Test MAE score: 4.938259281524995\n",
      "Test MSE score: 39.653731068212814\n",
      "Test RMSE score: 6.297120855455517\n",
      "Test R2 score: 0.5565080996589887\n"
     ]
    }
   ],
   "source": [
    "ann_preds = model(X_val)\n",
    "ann_preds_arr = ann_preds.detach().cpu().numpy()\n",
    "\n",
    "print('Neural Networks results:')\n",
    "print(\"Test MAE score:\", mean_absolute_error(y_test, ann_preds_arr))\n",
    "print(\"Test MSE score:\", mean_squared_error(y_test, ann_preds_arr))\n",
    "print(\"Test RMSE score:\", mean_squared_error(y_test, ann_preds_arr, squared=False))\n",
    "print(\"Test R2 score:\", r2_score(y_test, ann_preds_arr))"
   ]
  },
  {
   "cell_type": "markdown",
   "metadata": {
    "id": "xmFgAv1JZN6u"
   },
   "source": [
    "## Model Improvement"
   ]
  },
  {
   "cell_type": "markdown",
   "metadata": {},
   "source": [
    "As Random Forest performs the best so far, it is chosen for model improvement. We're going to use `scikit-learn`'s `GridSearchCV()` class. Fortunately, the parameters of the estimator used to apply this methods are [optimized by cross-validated grid-search](https://scikit-learn.org/stable/modules/generated/sklearn.model_selection.GridSearchCV.html) over a parameter grid.\n",
    "\n",
    "In this case, I only specify combinations for 2 hyperparameters, i.e. `n_estimators` and `bootstrap`. Actually, I've tried several times the grid search trainings with the combinations of three, five, and six hyperparameters. But, my local computer always hangs every time I run a lot of grid search parameters combinations. I have tried a few solutions for this issue, i.e. [this solution](https://stackoverflow.com/a/47929603/12311481), [this solution](https://stackoverflow.com/a/43195753/12311481), and [this solution](https://stackoverflow.com/a/52686503/12311481). I also have reduced the `n_jobs` argument in `GridSearchCV()` to only 1. But, the issue resists so that I decide to reduce the number of hyperparameters to only two. Thankfully, the issue is solved when I only use combinations for 2 hyperparameters with only 1 `n_jobs`.\n",
    "\n",
    "If you have a machine with more computing resources, you could run much more hyperparameter combinations, and even more regressors."
   ]
  },
  {
   "cell_type": "code",
   "execution_count": 6,
   "metadata": {
    "executionInfo": {
     "elapsed": 712,
     "status": "ok",
     "timestamp": 1638775969199,
     "user": {
      "displayName": "Reza Dwi Utomo",
      "photoUrl": "https://lh3.googleusercontent.com/a-/AOh14GjuLhy_JmgD4iWFIjOE-G6ClGlqtizVTS9lhAZQ=s64",
      "userId": "08330585941225764736"
     },
     "user_tz": -420
    },
    "id": "aPnu3Ij4ZD4x",
    "scrolled": true
   },
   "outputs": [],
   "source": [
    "# instatantiate model\n",
    "random_forest = RandomForestRegressor(random_state=1)\n",
    "\n",
    "class DummyEstimator(BaseEstimator):\n",
    "    def fit(self): pass\n",
    "    def score(self): pass\n",
    "\n",
    "pipeline = Pipeline([\n",
    "    ('regressor', DummyEstimator())\n",
    "])\n",
    "\n",
    "# set parameter grid\n",
    "parameters = {'regressor': [random_forest],\n",
    "              'regressor__bootstrap': (True, False),\n",
    "              'regressor__n_estimators': (100, 150),\n",
    "#               'regressor__criterion': (\"mse\", \"mae\"),\n",
    "#               'regressor__max_depth': (16, 32, None),\n",
    "#               'regressor__min_samples_split': (2, 4),\n",
    "#               'regressor__max_features': ('auto', 'sqrt', 'log2')\n",
    "             }\n",
    "\n",
    "# instantiate grid search\n",
    "cv = GridSearchCV(pipeline, param_grid=parameters, verbose=2) #, n_jobs=5)"
   ]
  },
  {
   "cell_type": "code",
   "execution_count": 7,
   "metadata": {
    "colab": {
     "base_uri": "https://localhost:8080/"
    },
    "executionInfo": {
     "elapsed": 10,
     "status": "ok",
     "timestamp": 1638775972554,
     "user": {
      "displayName": "Reza Dwi Utomo",
      "photoUrl": "https://lh3.googleusercontent.com/a-/AOh14GjuLhy_JmgD4iWFIjOE-G6ClGlqtizVTS9lhAZQ=s64",
      "userId": "08330585941225764736"
     },
     "user_tz": -420
    },
    "id": "vBsH7OTLcgV9",
    "outputId": "97a60fa7-ba0b-430d-ef35-d483cd53cde2",
    "scrolled": false
   },
   "outputs": [
    {
     "data": {
      "text/plain": [
       "{'scoring': None,\n",
       " 'estimator': Pipeline(steps=[('regressor', DummyEstimator())]),\n",
       " 'n_jobs': None,\n",
       " 'iid': 'deprecated',\n",
       " 'refit': True,\n",
       " 'cv': None,\n",
       " 'verbose': 2,\n",
       " 'pre_dispatch': '2*n_jobs',\n",
       " 'error_score': nan,\n",
       " 'return_train_score': False,\n",
       " 'param_grid': {'regressor': [RandomForestRegressor(random_state=1)],\n",
       "  'regressor__bootstrap': (True, False),\n",
       "  'regressor__n_estimators': (100, 150)}}"
      ]
     },
     "execution_count": 7,
     "metadata": {},
     "output_type": "execute_result"
    }
   ],
   "source": [
    "# see all parameters defined\n",
    "cv.__dict__"
   ]
  },
  {
   "cell_type": "code",
   "execution_count": 8,
   "metadata": {
    "colab": {
     "base_uri": "https://localhost:8080/",
     "height": 382
    },
    "executionInfo": {
     "elapsed": 274053,
     "status": "error",
     "timestamp": 1638776249759,
     "user": {
      "displayName": "Reza Dwi Utomo",
      "photoUrl": "https://lh3.googleusercontent.com/a-/AOh14GjuLhy_JmgD4iWFIjOE-G6ClGlqtizVTS9lhAZQ=s64",
      "userId": "08330585941225764736"
     },
     "user_tz": -420
    },
    "id": "qBUVJAamccV3",
    "outputId": "9c57b1cc-fe9f-456b-8054-def65dbdb4d6",
    "scrolled": true
   },
   "outputs": [
    {
     "name": "stdout",
     "output_type": "stream",
     "text": [
      "Fitting 5 folds for each of 4 candidates, totalling 20 fits\n",
      "[CV] regressor=RandomForestRegressor(random_state=1), regressor__bootstrap=True, regressor__n_estimators=100 \n"
     ]
    },
    {
     "name": "stderr",
     "output_type": "stream",
     "text": [
      "[Parallel(n_jobs=1)]: Using backend SequentialBackend with 1 concurrent workers.\n"
     ]
    },
    {
     "name": "stdout",
     "output_type": "stream",
     "text": [
      "[CV]  regressor=RandomForestRegressor(random_state=1), regressor__bootstrap=True, regressor__n_estimators=100, total=  35.4s\n",
      "[CV] regressor=RandomForestRegressor(random_state=1), regressor__bootstrap=True, regressor__n_estimators=100 \n"
     ]
    },
    {
     "name": "stderr",
     "output_type": "stream",
     "text": [
      "[Parallel(n_jobs=1)]: Done   1 out of   1 | elapsed:   35.3s remaining:    0.0s\n"
     ]
    },
    {
     "name": "stdout",
     "output_type": "stream",
     "text": [
      "[CV]  regressor=RandomForestRegressor(random_state=1), regressor__bootstrap=True, regressor__n_estimators=100, total=  35.9s\n",
      "[CV] regressor=RandomForestRegressor(random_state=1), regressor__bootstrap=True, regressor__n_estimators=100 \n",
      "[CV]  regressor=RandomForestRegressor(random_state=1), regressor__bootstrap=True, regressor__n_estimators=100, total=  37.3s\n",
      "[CV] regressor=RandomForestRegressor(random_state=1), regressor__bootstrap=True, regressor__n_estimators=100 \n",
      "[CV]  regressor=RandomForestRegressor(random_state=1), regressor__bootstrap=True, regressor__n_estimators=100, total=  38.1s\n",
      "[CV] regressor=RandomForestRegressor(random_state=1), regressor__bootstrap=True, regressor__n_estimators=100 \n",
      "[CV]  regressor=RandomForestRegressor(random_state=1), regressor__bootstrap=True, regressor__n_estimators=100, total=  35.8s\n",
      "[CV] regressor=RandomForestRegressor(random_state=1), regressor__bootstrap=True, regressor__n_estimators=150 \n",
      "[CV]  regressor=RandomForestRegressor(random_state=1), regressor__bootstrap=True, regressor__n_estimators=150, total=  57.2s\n",
      "[CV] regressor=RandomForestRegressor(random_state=1), regressor__bootstrap=True, regressor__n_estimators=150 \n",
      "[CV]  regressor=RandomForestRegressor(random_state=1), regressor__bootstrap=True, regressor__n_estimators=150, total=  53.8s\n",
      "[CV] regressor=RandomForestRegressor(random_state=1), regressor__bootstrap=True, regressor__n_estimators=150 \n",
      "[CV]  regressor=RandomForestRegressor(random_state=1), regressor__bootstrap=True, regressor__n_estimators=150, total=  55.1s\n",
      "[CV] regressor=RandomForestRegressor(random_state=1), regressor__bootstrap=True, regressor__n_estimators=150 \n",
      "[CV]  regressor=RandomForestRegressor(random_state=1), regressor__bootstrap=True, regressor__n_estimators=150, total=  58.6s\n",
      "[CV] regressor=RandomForestRegressor(random_state=1), regressor__bootstrap=True, regressor__n_estimators=150 \n",
      "[CV]  regressor=RandomForestRegressor(random_state=1), regressor__bootstrap=True, regressor__n_estimators=150, total=  54.4s\n",
      "[CV] regressor=RandomForestRegressor(random_state=1), regressor__bootstrap=False, regressor__n_estimators=100 \n",
      "[CV]  regressor=RandomForestRegressor(random_state=1), regressor__bootstrap=False, regressor__n_estimators=100, total=  57.4s\n",
      "[CV] regressor=RandomForestRegressor(random_state=1), regressor__bootstrap=False, regressor__n_estimators=100 \n",
      "[CV]  regressor=RandomForestRegressor(random_state=1), regressor__bootstrap=False, regressor__n_estimators=100, total=  57.3s\n",
      "[CV] regressor=RandomForestRegressor(random_state=1), regressor__bootstrap=False, regressor__n_estimators=100 \n",
      "[CV]  regressor=RandomForestRegressor(random_state=1), regressor__bootstrap=False, regressor__n_estimators=100, total=  56.9s\n",
      "[CV] regressor=RandomForestRegressor(random_state=1), regressor__bootstrap=False, regressor__n_estimators=100 \n",
      "[CV]  regressor=RandomForestRegressor(random_state=1), regressor__bootstrap=False, regressor__n_estimators=100, total=  55.0s\n",
      "[CV] regressor=RandomForestRegressor(random_state=1), regressor__bootstrap=False, regressor__n_estimators=100 \n",
      "[CV]  regressor=RandomForestRegressor(random_state=1), regressor__bootstrap=False, regressor__n_estimators=100, total=  56.9s\n",
      "[CV] regressor=RandomForestRegressor(random_state=1), regressor__bootstrap=False, regressor__n_estimators=150 \n",
      "[CV]  regressor=RandomForestRegressor(random_state=1), regressor__bootstrap=False, regressor__n_estimators=150, total= 1.6min\n",
      "[CV] regressor=RandomForestRegressor(random_state=1), regressor__bootstrap=False, regressor__n_estimators=150 \n",
      "[CV]  regressor=RandomForestRegressor(random_state=1), regressor__bootstrap=False, regressor__n_estimators=150, total= 1.6min\n",
      "[CV] regressor=RandomForestRegressor(random_state=1), regressor__bootstrap=False, regressor__n_estimators=150 \n",
      "[CV]  regressor=RandomForestRegressor(random_state=1), regressor__bootstrap=False, regressor__n_estimators=150, total= 1.6min\n",
      "[CV] regressor=RandomForestRegressor(random_state=1), regressor__bootstrap=False, regressor__n_estimators=150 \n",
      "[CV]  regressor=RandomForestRegressor(random_state=1), regressor__bootstrap=False, regressor__n_estimators=150, total= 1.7min\n",
      "[CV] regressor=RandomForestRegressor(random_state=1), regressor__bootstrap=False, regressor__n_estimators=150 \n",
      "[CV]  regressor=RandomForestRegressor(random_state=1), regressor__bootstrap=False, regressor__n_estimators=150, total= 1.5min\n"
     ]
    },
    {
     "name": "stderr",
     "output_type": "stream",
     "text": [
      "[Parallel(n_jobs=1)]: Done  20 out of  20 | elapsed: 20.5min finished\n"
     ]
    },
    {
     "data": {
      "text/plain": [
       "GridSearchCV(estimator=Pipeline(steps=[('regressor', DummyEstimator())]),\n",
       "             param_grid={'regressor': [RandomForestRegressor(n_estimators=150,\n",
       "                                                             random_state=1)],\n",
       "                         'regressor__bootstrap': (True, False),\n",
       "                         'regressor__n_estimators': (100, 150)},\n",
       "             verbose=2)"
      ]
     },
     "execution_count": 8,
     "metadata": {},
     "output_type": "execute_result"
    }
   ],
   "source": [
    "# train the model\n",
    "# be aware, in my local computer, this takes around 1 hour to train the model\n",
    "cv.fit(X_train_scaled, y_train)"
   ]
  },
  {
   "cell_type": "code",
   "execution_count": 21,
   "metadata": {},
   "outputs": [
    {
     "data": {
      "text/plain": [
       "['model/random_forest_cv_best.pkl']"
      ]
     },
     "execution_count": 21,
     "metadata": {},
     "output_type": "execute_result"
    }
   ],
   "source": [
    "import joblib\n",
    "\n",
    "# save all models from grid search\n",
    "joblib.dump(cv, 'model/random_forest_cv.pkl')\n",
    "\n",
    "# or just save the best model\n",
    "joblib.dump(cv.best_estimator_,\n",
    "            'model/random_forest_cv_best.pkl',\n",
    "            compress = 1)\n",
    "\n",
    "# load model for further usage\n",
    "# joblib.load(\"model/random_forest_cv.pkl\")\n",
    "# joblib.load(\"model/random_forest_cv_best.pkl\")"
   ]
  },
  {
   "cell_type": "markdown",
   "metadata": {},
   "source": [
    "The GridSearchCV is trained on the train set. As mentioned by the training result above, there are 20 fits executed in which the number comes from 4 model candidates times 5 folds. Let's see the grid search results. The results are ranked from the best to the worst."
   ]
  },
  {
   "cell_type": "code",
   "execution_count": 10,
   "metadata": {
    "scrolled": true
   },
   "outputs": [
    {
     "data": {
      "text/html": [
       "<div>\n",
       "<style scoped>\n",
       "    .dataframe tbody tr th:only-of-type {\n",
       "        vertical-align: middle;\n",
       "    }\n",
       "\n",
       "    .dataframe tbody tr th {\n",
       "        vertical-align: top;\n",
       "    }\n",
       "\n",
       "    .dataframe thead th {\n",
       "        text-align: right;\n",
       "    }\n",
       "</style>\n",
       "<table border=\"1\" class=\"dataframe\">\n",
       "  <thead>\n",
       "    <tr style=\"text-align: right;\">\n",
       "      <th></th>\n",
       "      <th>mean_fit_time</th>\n",
       "      <th>std_fit_time</th>\n",
       "      <th>mean_score_time</th>\n",
       "      <th>std_score_time</th>\n",
       "      <th>param_regressor</th>\n",
       "      <th>param_regressor__bootstrap</th>\n",
       "      <th>param_regressor__n_estimators</th>\n",
       "      <th>params</th>\n",
       "      <th>split0_test_score</th>\n",
       "      <th>split1_test_score</th>\n",
       "      <th>split2_test_score</th>\n",
       "      <th>split3_test_score</th>\n",
       "      <th>split4_test_score</th>\n",
       "      <th>mean_test_score</th>\n",
       "      <th>std_test_score</th>\n",
       "      <th>rank_test_score</th>\n",
       "    </tr>\n",
       "  </thead>\n",
       "  <tbody>\n",
       "    <tr>\n",
       "      <th>0</th>\n",
       "      <td>54.529981</td>\n",
       "      <td>1.801157</td>\n",
       "      <td>1.250979</td>\n",
       "      <td>0.092244</td>\n",
       "      <td>RandomForestRegressor(n_estimators=150, random...</td>\n",
       "      <td>True</td>\n",
       "      <td>150</td>\n",
       "      <td>{'regressor': RandomForestRegressor(n_estimato...</td>\n",
       "      <td>0.673344</td>\n",
       "      <td>0.675615</td>\n",
       "      <td>0.684226</td>\n",
       "      <td>0.679782</td>\n",
       "      <td>0.680973</td>\n",
       "      <td>0.678788</td>\n",
       "      <td>0.003874</td>\n",
       "      <td>1</td>\n",
       "    </tr>\n",
       "    <tr>\n",
       "      <th>1</th>\n",
       "      <td>35.672614</td>\n",
       "      <td>0.989614</td>\n",
       "      <td>0.830134</td>\n",
       "      <td>0.072640</td>\n",
       "      <td>RandomForestRegressor(n_estimators=150, random...</td>\n",
       "      <td>True</td>\n",
       "      <td>100</td>\n",
       "      <td>{'regressor': RandomForestRegressor(n_estimato...</td>\n",
       "      <td>0.672104</td>\n",
       "      <td>0.674852</td>\n",
       "      <td>0.683133</td>\n",
       "      <td>0.678727</td>\n",
       "      <td>0.680102</td>\n",
       "      <td>0.677784</td>\n",
       "      <td>0.003892</td>\n",
       "      <td>2</td>\n",
       "    </tr>\n",
       "    <tr>\n",
       "      <th>2</th>\n",
       "      <td>94.650032</td>\n",
       "      <td>3.195302</td>\n",
       "      <td>1.569572</td>\n",
       "      <td>0.104199</td>\n",
       "      <td>RandomForestRegressor(n_estimators=150, random...</td>\n",
       "      <td>False</td>\n",
       "      <td>150</td>\n",
       "      <td>{'regressor': RandomForestRegressor(n_estimato...</td>\n",
       "      <td>0.449470</td>\n",
       "      <td>0.456676</td>\n",
       "      <td>0.475503</td>\n",
       "      <td>0.462111</td>\n",
       "      <td>0.460983</td>\n",
       "      <td>0.460949</td>\n",
       "      <td>0.008523</td>\n",
       "      <td>3</td>\n",
       "    </tr>\n",
       "    <tr>\n",
       "      <th>3</th>\n",
       "      <td>55.752678</td>\n",
       "      <td>0.871721</td>\n",
       "      <td>0.947497</td>\n",
       "      <td>0.047821</td>\n",
       "      <td>RandomForestRegressor(n_estimators=150, random...</td>\n",
       "      <td>False</td>\n",
       "      <td>100</td>\n",
       "      <td>{'regressor': RandomForestRegressor(n_estimato...</td>\n",
       "      <td>0.449479</td>\n",
       "      <td>0.456608</td>\n",
       "      <td>0.475476</td>\n",
       "      <td>0.461964</td>\n",
       "      <td>0.461032</td>\n",
       "      <td>0.460912</td>\n",
       "      <td>0.008514</td>\n",
       "      <td>4</td>\n",
       "    </tr>\n",
       "  </tbody>\n",
       "</table>\n",
       "</div>"
      ],
      "text/plain": [
       "   mean_fit_time  std_fit_time  mean_score_time  std_score_time  \\\n",
       "0      54.529981      1.801157         1.250979        0.092244   \n",
       "1      35.672614      0.989614         0.830134        0.072640   \n",
       "2      94.650032      3.195302         1.569572        0.104199   \n",
       "3      55.752678      0.871721         0.947497        0.047821   \n",
       "\n",
       "                                     param_regressor  \\\n",
       "0  RandomForestRegressor(n_estimators=150, random...   \n",
       "1  RandomForestRegressor(n_estimators=150, random...   \n",
       "2  RandomForestRegressor(n_estimators=150, random...   \n",
       "3  RandomForestRegressor(n_estimators=150, random...   \n",
       "\n",
       "  param_regressor__bootstrap param_regressor__n_estimators  \\\n",
       "0                       True                           150   \n",
       "1                       True                           100   \n",
       "2                      False                           150   \n",
       "3                      False                           100   \n",
       "\n",
       "                                              params  split0_test_score  \\\n",
       "0  {'regressor': RandomForestRegressor(n_estimato...           0.673344   \n",
       "1  {'regressor': RandomForestRegressor(n_estimato...           0.672104   \n",
       "2  {'regressor': RandomForestRegressor(n_estimato...           0.449470   \n",
       "3  {'regressor': RandomForestRegressor(n_estimato...           0.449479   \n",
       "\n",
       "   split1_test_score  split2_test_score  split3_test_score  split4_test_score  \\\n",
       "0           0.675615           0.684226           0.679782           0.680973   \n",
       "1           0.674852           0.683133           0.678727           0.680102   \n",
       "2           0.456676           0.475503           0.462111           0.460983   \n",
       "3           0.456608           0.475476           0.461964           0.461032   \n",
       "\n",
       "   mean_test_score  std_test_score  rank_test_score  \n",
       "0         0.678788        0.003874                1  \n",
       "1         0.677784        0.003892                2  \n",
       "2         0.460949        0.008523                3  \n",
       "3         0.460912        0.008514                4  "
      ]
     },
     "execution_count": 10,
     "metadata": {},
     "output_type": "execute_result"
    }
   ],
   "source": [
    "cv_results = pd.DataFrame(cv.cv_results_)\n",
    "cv_results = cv_results.sort_values('rank_test_score') \\\n",
    "                .reset_index(drop=True)\n",
    "\n",
    "# see top 5 model\n",
    "cv_results"
   ]
  },
  {
   "cell_type": "code",
   "execution_count": 16,
   "metadata": {
    "scrolled": false
   },
   "outputs": [
    {
     "name": "stdout",
     "output_type": "stream",
     "text": [
      "Best Random Forest by GridSearchCV:\n",
      "\n",
      "mean_fit_time: 54.52998065948486\n",
      "std_fit_time: 1.8011565878631346\n",
      "mean_score_time: 1.2509790420532227\n",
      "std_score_time: 0.09224405935467567\n",
      "param_regressor: RandomForestRegressor(n_estimators=150, random_state=1)\n",
      "param_regressor__bootstrap: True\n",
      "param_regressor__n_estimators: 150\n",
      "split0_test_score: 0.6733440090880394\n",
      "split1_test_score: 0.6756150618444681\n",
      "split2_test_score: 0.6842256125426528\n",
      "split3_test_score: 0.67978155710127\n",
      "split4_test_score: 0.6809727172793605\n",
      "mean_test_score: 0.6787877915711582\n",
      "std_test_score: 0.003873818499603785\n",
      "rank_test_score: 1\n"
     ]
    }
   ],
   "source": [
    "print('Best Random Forest by GridSearchCV:', end='\\n\\n')\n",
    "\n",
    "best_one = cv_results.loc[0, :]\n",
    "for col, val in best_one.iteritems():\n",
    "    if isinstance(val, dict):\n",
    "        continue\n",
    "    else:\n",
    "        print(f\"{col}: {val}\")"
   ]
  },
  {
   "cell_type": "code",
   "execution_count": 12,
   "metadata": {},
   "outputs": [
    {
     "name": "stdout",
     "output_type": "stream",
     "text": [
      "Grid Search CV results:\n",
      "Test MAE score: 4.007854061543652\n",
      "Test MSE score: 28.859437861418773\n",
      "Test RMSE score: 5.372098087471856\n",
      "Test R2 score: 0.6772327194654879\n"
     ]
    }
   ],
   "source": [
    "# test the model on test set\n",
    "cv_preds = cv.predict(X_test_scaled)\n",
    "\n",
    "print('Grid Search CV results:')\n",
    "print(\"Test MAE score:\", mean_absolute_error(y_test, cv_preds))\n",
    "print(\"Test MSE score:\", mean_squared_error(y_test, cv_preds))\n",
    "print(\"Test RMSE score:\", mean_squared_error(y_test, cv_preds, squared=False))\n",
    "print(\"Test R2 score:\", r2_score(y_test, cv_preds))"
   ]
  },
  {
   "cell_type": "markdown",
   "metadata": {
    "id": "Ix4WFmyx7vDS"
   },
   "source": [
    "## Take away points"
   ]
  },
  {
   "cell_type": "markdown",
   "metadata": {
    "id": "1wwAxC2wTq6k"
   },
   "source": [
    "From all models, we can see that each model performs standard results. Random Forest provides the best performance in this case. Even, the NN model which should give better performance is unable to deliver best performance. After we improve the Random Forest model by using Grid Search backed by 5-fold Cross Validation, it is expected the model would have much better performance. However, sadly, its performance just improves slightly."
   ]
  },
  {
   "cell_type": "markdown",
   "metadata": {
    "id": "XSgg5QtuTq6k"
   },
   "source": [
    "# Conclusions"
   ]
  },
  {
   "cell_type": "markdown",
   "metadata": {
    "id": "TCSz8oCTTq6k"
   },
   "source": [
    "## Reflection"
   ]
  },
  {
   "cell_type": "markdown",
   "metadata": {
    "id": "X0C3t3yDTq6k"
   },
   "source": [
    "I found this project challenging, mainly due to the structure of the data in the `transcript` dataset. My goal is to predict the amount will spent by a customer. So, the decision makers would now how customers behave in purchasing Starbucks products. Therefore, I need all rows with amount existing, i.e. the rows with `event` col equal to `transaction`. However, using only this subset of dataset, in fact, the models I've implemented can't give good performance. Even, by checking the correlations among all columns, we are unable to capture any strong relationship between amount and other columns.\n",
    "\n",
    "Perhaps, in order to get broader factors, we should consider the other events, i.e. `offer received`, `offer viewed`, and `offer completed`. But, if we include the three, we will have many missing values. This is contradictory."
   ]
  },
  {
   "cell_type": "markdown",
   "metadata": {
    "id": "_42Pa5QRTq6k"
   },
   "source": [
    "## Potential improvements"
   ]
  },
  {
   "cell_type": "markdown",
   "metadata": {
    "id": "5MSQcY32Tq6l"
   },
   "source": [
    "Due to time reasons, I don't have a chance to perform enhancement on data or model tuning. For example, I could do more experiments on feature engineering to see if adding/substracting features can improve the model; or I could try other combinations of model hyperparameters to see if this will affect the model performance.\n",
    "\n",
    "In addition, the analysis and modelling should also consider the condition of customers who don't make any transaction as such a condition also provide more insight.\n",
    "\n",
    "Last but not least, the computing resources should also be considered. In my case, where I need GPU computing, I have to go to Google Colab. But unfortunately, when I need more CPU computings for Grid Search, I 've found Google Colab doesn't provide multiprocessing. Likewise, my local computer also doesn't give sufficient multprocessing computing performance for the case. I think, for handling real world data for enterprises or startups, it wouldn't be excessive to rent any cloud computing."
   ]
  },
  {
   "cell_type": "code",
   "execution_count": null,
   "metadata": {
    "id": "hZn6QLpcTq6l"
   },
   "outputs": [],
   "source": []
  }
 ],
 "metadata": {
  "accelerator": "GPU",
  "colab": {
   "collapsed_sections": [
    "0PPzrD577vCh",
    "iFtM6Kmd7vCs",
    "efhoMIkT8Cqq",
    "zzrBbb3V7vCw",
    "ydX8nmay7vCz",
    "UQ8ukYDd7vC1",
    "U2PHxeqb7vC6",
    "VOGAzBQW7vC-",
    "cr-Jv4y97vDB"
   ],
   "name": "Starbucks_Capstone_notebook.ipynb",
   "provenance": []
  },
  "kernelspec": {
   "display_name": "Python 3",
   "language": "python",
   "name": "python3"
  },
  "language_info": {
   "codemirror_mode": {
    "name": "ipython",
    "version": 3
   },
   "file_extension": ".py",
   "mimetype": "text/x-python",
   "name": "python",
   "nbconvert_exporter": "python",
   "pygments_lexer": "ipython3",
   "version": "3.8.3"
  }
 },
 "nbformat": 4,
 "nbformat_minor": 1
}
